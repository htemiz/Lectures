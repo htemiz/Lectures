{
  "nbformat": 4,
  "nbformat_minor": 0,
  "metadata": {
    "colab": {
      "provenance": [],
      "collapsed_sections": [
        "m4CgE3tvld4N",
        "a42VxmZG1lTm",
        "114PrQD-1YaJ",
        "ZRhz4FFd0CVx",
        "2wuPn0dcS0TA",
        "k5NAjDDXS0TJ",
        "I4gT_M9Ck_51",
        "yZ3rbUHnS0z9",
        "Ge6GIiJ6S0z-",
        "NEB3s33ezc1I",
        "2QV4nJzfS8Rj",
        "mdKmwlu8S8Rj",
        "-ArurJZEzc6T",
        "4rO6YFdJS7_Y",
        "iJZ4zuhpS7_Z",
        "VWSQ9epkzc9f",
        "tXcGTUygS7yz",
        "p8QlAAaVS7y0",
        "iHXkaK_Kzc_t",
        "iJPMbQlZS7Wn",
        "9AENqBnjS7Wo",
        "cjgnQRdYzdB5",
        "lnVOApf-S7NN",
        "j4LEKo0hS7NN",
        "AaSY2yYZzdEX",
        "Tjlkav0_S7B1",
        "SJptOEQoS7B2",
        "-IEXAWaOzdHB",
        "tMrMSXjyS64_",
        "1MZK_fEYS65A",
        "sYZSvd5nzdJL",
        "xfocYhiiS6ZR",
        "SvPSz2VXS6ZS",
        "Jq2waUYTzdN5",
        "ZZ9H86t1S6NH",
        "ECyszN4ZS6NI",
        "FNinazTrzdQk",
        "cQdFzp50S6BA",
        "8nfMwTHUS6BB",
        "OcwZsm9PzdTL",
        "4m2L5XlyS5pB",
        "JqEmfMe8S5pB",
        "XePyRKg7zdVt",
        "4sgtVZpXS5YP",
        "A3cb8R0wS5YQ",
        "LiHyLPzQzdYC",
        "TDYJGanqS47K",
        "gYdkO_v0S47S",
        "pEHx_x6mzdav",
        "ZwyQJaHqS3ws",
        "pUa8AC5OS3ws",
        "Iz92hkchzddX",
        "4PUoB_XaS3Lu",
        "Sca2TlpXS3Lv",
        "uU8_Mo_8zuag",
        "cWhlHI5YS20g",
        "dprhVF9OS20h",
        "TwGPANlTzuzB",
        "8gjnWKI_S2WB",
        "9qu9QfmrS2WM",
        "Gavx--VO3dfT"
      ],
      "authorship_tag": "ABX9TyMBa3J8AkQC+Pan5xqGtyw/",
      "include_colab_link": true
    },
    "kernelspec": {
      "name": "python3",
      "display_name": "Python 3"
    },
    "language_info": {
      "name": "python"
    }
  },
  "cells": [
    {
      "cell_type": "markdown",
      "metadata": {
        "id": "view-in-github",
        "colab_type": "text"
      },
      "source": [
        "<a href=\"https://colab.research.google.com/github/htemiz/Lectures/blob/main/Exercises_Pythona_Giris.ipynb\" target=\"_parent\"><img src=\"https://colab.research.google.com/assets/colab-badge.svg\" alt=\"Open In Colab\"/></a>"
      ]
    },
    {
      "cell_type": "markdown",
      "source": [
        "### &#x3010;01&#x3011;Aşağıdaki ifadelerin sonuna, değişken isimlendirmesi doğru ise \"Doğru\", yanlış ise \"Yanlış\" yorumu ekleyiniz?\n",
        "\n",
        "a) adı. = \"Ayşe\"\n",
        "\n",
        "b) 111.adı =\"Zehra\"\n",
        "\n",
        "c) sayi    = 1.\n",
        "\n",
        "d) 1.sayı  = 1\n",
        "\n",
        "e) harf_2  = \"h\"\n"
      ],
      "metadata": {
        "id": "m4CgE3tvld4N"
      }
    },
    {
      "cell_type": "markdown",
      "source": [
        "#### &#x1f589; Yanıt"
      ],
      "metadata": {
        "id": "a42VxmZG1lTm"
      }
    },
    {
      "cell_type": "code",
      "source": [],
      "metadata": {
        "id": "Zyveg0kI3IF-"
      },
      "execution_count": null,
      "outputs": []
    },
    {
      "cell_type": "markdown",
      "source": [
        "#### &#x270e; Çözüm"
      ],
      "metadata": {
        "id": "114PrQD-1YaJ"
      }
    },
    {
      "cell_type": "code",
      "source": [
        "a) adı. = \"Ayşe\"  # Yanlış\n",
        "\n",
        "b) 111.adı =\"Zehra\" # Yanlış\n",
        "\n",
        "c) sayi    = 1.  # Doğru\n",
        "\n",
        "d) 1.sayı  = 1 # Yanlış\n",
        "\n",
        "e) harf_2  = \"h\"  # Doğru"
      ],
      "metadata": {
        "id": "KWBaycel2EIw"
      },
      "execution_count": null,
      "outputs": []
    },
    {
      "cell_type": "markdown",
      "source": [
        "### &#x3010;02&#x3011;Aşağıdaki ifadelerin sonuna, değişken isimlendirmesi doğru ise \"Doğru\", yanlış ise \"Yanlış\" yorumu ekleyiniz?\n",
        "\n",
        "a) harf1   = \"D\"\n",
        "\n",
        "b) _      = 123\n",
        "\n",
        "c) z      = \"a\"\n",
        "\n",
        "d) z_harfi= 3\n",
        "\n",
        "e) 1harf   = \"E\""
      ],
      "metadata": {
        "id": "ZRhz4FFd0CVx"
      }
    },
    {
      "cell_type": "markdown",
      "source": [
        "#### &#x1f589; Yanıt"
      ],
      "metadata": {
        "id": "2wuPn0dcS0TA"
      }
    },
    {
      "cell_type": "code",
      "source": [],
      "metadata": {
        "id": "9udA4jdrS0TJ"
      },
      "execution_count": null,
      "outputs": []
    },
    {
      "cell_type": "markdown",
      "source": [
        "#### &#x270e; Çözüm"
      ],
      "metadata": {
        "id": "k5NAjDDXS0TJ"
      }
    },
    {
      "cell_type": "code",
      "source": [
        "a) harf1   = \"D\" # Doğru\n",
        "\n",
        "b) _      = 123 # Doğru\n",
        "\n",
        "c) z      = \"a\" # Doğru\n",
        "\n",
        "d) z_harfi= 3 # Doğru\n",
        "\n",
        "e) 1harf   = \"E\" # Yanlış"
      ],
      "metadata": {
        "id": "hbdkBIr0S0TJ"
      },
      "execution_count": null,
      "outputs": []
    },
    {
      "cell_type": "markdown",
      "source": [
        "### &#x3010;03&#x3011;Tek satırda ve ardışık şekilde a, b ve c değişkenlerinin üçüne de 2 değerini vererek tanımlayınız. Sonucu ekrana yazdırınız?"
      ],
      "metadata": {
        "id": "I4gT_M9Ck_51"
      }
    },
    {
      "cell_type": "markdown",
      "source": [
        "#### &#x1f589; Yanıt"
      ],
      "metadata": {
        "id": "yZ3rbUHnS0z9"
      }
    },
    {
      "cell_type": "code",
      "source": [],
      "metadata": {
        "id": "LIpJZYFrS0z-"
      },
      "execution_count": null,
      "outputs": []
    },
    {
      "cell_type": "markdown",
      "source": [
        "#### &#x270e; Çözüm"
      ],
      "metadata": {
        "id": "Ge6GIiJ6S0z-"
      }
    },
    {
      "cell_type": "code",
      "source": [
        "a = b = c = 2\n",
        "print( a, b, c)"
      ],
      "metadata": {
        "id": "lJMLJKrnS0z-",
        "colab": {
          "base_uri": "https://localhost:8080/"
        },
        "outputId": "1f56442c-365b-4630-eeff-7b43ef536a40"
      },
      "execution_count": null,
      "outputs": [
        {
          "output_type": "stream",
          "name": "stdout",
          "text": [
            "2 2 2\n"
          ]
        }
      ]
    },
    {
      "cell_type": "markdown",
      "source": [
        "### &#x3010;04&#x3011;Tek satırda ve ardışık şekilde a, b ve c değişkenlerine 3, 4, 5 değerleri vererek tanımlayınız. Sonucu ekrana yazdırınız."
      ],
      "metadata": {
        "id": "NEB3s33ezc1I"
      }
    },
    {
      "cell_type": "markdown",
      "source": [
        "#### &#x1f589; Yanıt"
      ],
      "metadata": {
        "id": "2QV4nJzfS8Rj"
      }
    },
    {
      "cell_type": "code",
      "source": [],
      "metadata": {
        "id": "GDQdjjAcS8Rj"
      },
      "execution_count": null,
      "outputs": []
    },
    {
      "cell_type": "markdown",
      "source": [
        "#### &#x270e; Çözüm"
      ],
      "metadata": {
        "id": "mdKmwlu8S8Rj"
      }
    },
    {
      "cell_type": "code",
      "source": [
        "a, b, c = 3, 4, 5\n",
        "print( a, b, c)"
      ],
      "metadata": {
        "id": "LTRloeICS8Rj"
      },
      "execution_count": null,
      "outputs": []
    },
    {
      "cell_type": "markdown",
      "source": [
        "### &#x3010;05&#x3011;Aşağıdaki ifadelerin sonuna, değişken isimlendirmesi doğru ise \"Doğru\", yanlış ise \"Yanlış\" yorumu ekleyiniz?\n",
        "\n",
        "a) dfafa  = 83.3245\n",
        "\n",
        "b) a&b    = 452.23\n",
        "\n",
        "c) a ile b= \"a ile b\"\n",
        "\n",
        "d) AAA    = 2.777\n",
        "\n",
        "e) if = \"eğer\""
      ],
      "metadata": {
        "id": "-ArurJZEzc6T"
      }
    },
    {
      "cell_type": "markdown",
      "source": [
        "#### &#x1f589; Yanıt"
      ],
      "metadata": {
        "id": "4rO6YFdJS7_Y"
      }
    },
    {
      "cell_type": "code",
      "source": [],
      "metadata": {
        "id": "NuCl9DWHS7_Z"
      },
      "execution_count": null,
      "outputs": []
    },
    {
      "cell_type": "markdown",
      "source": [
        "#### &#x270e; Çözüm"
      ],
      "metadata": {
        "id": "iJZ4zuhpS7_Z"
      }
    },
    {
      "cell_type": "code",
      "source": [
        "a) dfafa  = 83.3245  # Doğru\n",
        "\n",
        "b) a&b    = 452.23 # Yanlış\n",
        "\n",
        "c) a ile b= \"a ile b\" # Yanlış\n",
        "\n",
        "d) AAA    = 2.777 # Doğru\n",
        "\n",
        "e) if = \"eğer\" # Yanlış"
      ],
      "metadata": {
        "id": "Zxj1r2bQS7_Z"
      },
      "execution_count": null,
      "outputs": []
    },
    {
      "cell_type": "markdown",
      "source": [
        "### &#x3010;06&#x3011;3+4∗5  ifadesinin sonucu nedir? Hesaplatınız."
      ],
      "metadata": {
        "id": "VWSQ9epkzc9f"
      }
    },
    {
      "cell_type": "markdown",
      "source": [
        "#### &#x1f589; Yanıt"
      ],
      "metadata": {
        "id": "tXcGTUygS7yz"
      }
    },
    {
      "cell_type": "code",
      "source": [],
      "metadata": {
        "id": "WrLSP3rsS7yz"
      },
      "execution_count": null,
      "outputs": []
    },
    {
      "cell_type": "markdown",
      "source": [
        "#### &#x270e; Çözüm"
      ],
      "metadata": {
        "id": "p8QlAAaVS7y0"
      }
    },
    {
      "cell_type": "code",
      "source": [
        " print(3 + 4 * 5)  # önce çarpım sonra toplam"
      ],
      "metadata": {
        "id": "G0tLVqf2S7y0",
        "colab": {
          "base_uri": "https://localhost:8080/"
        },
        "outputId": "a082e8e1-1e8d-46bf-fbc9-3ec158c3befb"
      },
      "execution_count": null,
      "outputs": [
        {
          "output_type": "stream",
          "name": "stdout",
          "text": [
            "23\n"
          ]
        }
      ]
    },
    {
      "cell_type": "markdown",
      "source": [
        "### &#x3010;07&#x3011;3 + 4 *5 ifadesinde değerleri değiştirmeden, operatör önceliklerini değiştirerek, sonucu 35 yapan düzenlemeyi yazınız."
      ],
      "metadata": {
        "id": "iHXkaK_Kzc_t"
      }
    },
    {
      "cell_type": "markdown",
      "source": [
        "#### &#x1f589; Yanıt"
      ],
      "metadata": {
        "id": "iJPMbQlZS7Wn"
      }
    },
    {
      "cell_type": "code",
      "source": [],
      "metadata": {
        "id": "iMbEjWkWS7Wo"
      },
      "execution_count": null,
      "outputs": []
    },
    {
      "cell_type": "markdown",
      "source": [
        "#### &#x270e; Çözüm"
      ],
      "metadata": {
        "id": "9AENqBnjS7Wo"
      }
    },
    {
      "cell_type": "code",
      "source": [
        "# 3+4 parantez içine alınırsa, öncelikli olarak bu toplam,\n",
        "# sonra 5 ile çarpım yapılır\n",
        "(3 + 4) * 5"
      ],
      "metadata": {
        "id": "R8u9-ChRS7Wo",
        "colab": {
          "base_uri": "https://localhost:8080/"
        },
        "outputId": "3b5620e2-5c34-46da-c7bb-6a6f0d09229f"
      },
      "execution_count": null,
      "outputs": [
        {
          "output_type": "execute_result",
          "data": {
            "text/plain": [
              "35"
            ]
          },
          "metadata": {},
          "execution_count": 3
        }
      ]
    },
    {
      "cell_type": "markdown",
      "source": [
        "### &#x3010;08&#x3011;9 * 3 / 6 / 2 * 8 ifadesinin sonucu nedir? Önce sözlü cevaplayınız, ardından Python'a hesaplatınız?"
      ],
      "metadata": {
        "id": "cjgnQRdYzdB5"
      }
    },
    {
      "cell_type": "markdown",
      "source": [
        "#### &#x1f589; Yanıt"
      ],
      "metadata": {
        "id": "lnVOApf-S7NN"
      }
    },
    {
      "cell_type": "code",
      "source": [],
      "metadata": {
        "id": "F9hJ9WUiS7NN"
      },
      "execution_count": null,
      "outputs": []
    },
    {
      "cell_type": "markdown",
      "source": [
        "#### &#x270e; Çözüm"
      ],
      "metadata": {
        "id": "j4LEKo0hS7NN"
      }
    },
    {
      "cell_type": "markdown",
      "source": [
        "Bu tür bir durumda, parantezler kullanılarak işlem öncelik sıralaması netleşleştirilmelidir. İfadedeki işlemlerin yorumlanma sıraları dilden dile farklı olabileceğinden, sonuç tam olarak kestirilemez."
      ],
      "metadata": {
        "id": "o1ONwcfi7TL7"
      }
    },
    {
      "cell_type": "code",
      "source": [
        "9 * 3 / 6 / 2 * 8"
      ],
      "metadata": {
        "id": "xmeSPGGwS7NO",
        "colab": {
          "base_uri": "https://localhost:8080/"
        },
        "outputId": "a647b99c-6ea9-4a85-f60b-440d348a9910"
      },
      "execution_count": null,
      "outputs": [
        {
          "output_type": "execute_result",
          "data": {
            "text/plain": [
              "18.0"
            ]
          },
          "metadata": {},
          "execution_count": 4
        }
      ]
    },
    {
      "cell_type": "markdown",
      "source": [
        "### &#x3010;09&#x3011;$ A = 2\\pi r^2 -3$   ifadesini Python dilinde yazınız ve r=4 için işlem sonucunu hesaplatınız. Sonucun hangi veri tipinde olduğunu söyleyiniz?"
      ],
      "metadata": {
        "id": "AaSY2yYZzdEX"
      }
    },
    {
      "cell_type": "markdown",
      "source": [
        "#### &#x1f589; Yanıt"
      ],
      "metadata": {
        "id": "Tjlkav0_S7B1"
      }
    },
    {
      "cell_type": "code",
      "source": [],
      "metadata": {
        "id": "5fWHb2TUS7B2"
      },
      "execution_count": null,
      "outputs": []
    },
    {
      "cell_type": "markdown",
      "source": [
        "#### &#x270e; Çözüm"
      ],
      "metadata": {
        "id": "SJptOEQoS7B2"
      }
    },
    {
      "cell_type": "code",
      "source": [
        "pi = 3.1415\n",
        "r = 4\n",
        "A = 2*pi * r**2 -3\n",
        "print(\"A'nın değeri: \", A)  # sonuç float (gerçel sayı) tipindedir.\n",
        "\n",
        "# tipini öğrenelim\n",
        "print(\"Tipi: \" + str(type(A)))"
      ],
      "metadata": {
        "id": "P8jCu2-jS7B2",
        "colab": {
          "base_uri": "https://localhost:8080/"
        },
        "outputId": "c51bf886-f305-480f-d4b8-d6c077fb071e"
      },
      "execution_count": null,
      "outputs": [
        {
          "output_type": "stream",
          "name": "stdout",
          "text": [
            "A'nın değeri:  97.528\n",
            "Tipi: <class 'float'>\n"
          ]
        }
      ]
    },
    {
      "cell_type": "markdown",
      "source": [
        "### &#x3010;10&#x3011;Çoklu satıra yazılması gereken uzun bir yorum için # sembolü kullanmak yerine nasıl bir yol izlersiniz?"
      ],
      "metadata": {
        "id": "-IEXAWaOzdHB"
      }
    },
    {
      "cell_type": "markdown",
      "source": [
        "#### &#x1f589; Yanıt"
      ],
      "metadata": {
        "id": "tMrMSXjyS64_"
      }
    },
    {
      "cell_type": "code",
      "source": [],
      "metadata": {
        "id": "TztiWyK4S65A"
      },
      "execution_count": null,
      "outputs": []
    },
    {
      "cell_type": "markdown",
      "source": [
        "#### &#x270e; Çözüm"
      ],
      "metadata": {
        "id": "1MZK_fEYS65A"
      }
    },
    {
      "cell_type": "markdown",
      "source": [
        "Çok satırlı yorum eklemek için yorumun ilk satırında \"\"\" sembollerini ve son satırdan sonra tekrar \"\"\" sembolleri koyarak istenildiği kadar çok satırlı yorum alan eklenebilir.Örnek,\n",
        "```python\n",
        "\"\"\"\n",
        "bu 1. satır yorumudur.\n",
        "bu 2. satır yorumudur.\n",
        "bu 3. satır yorumudur.\n",
        "\"\"\"\n",
        "```"
      ],
      "metadata": {
        "id": "v5cGdi655GqD"
      }
    },
    {
      "cell_type": "markdown",
      "source": [
        "###&#x3010;11&#x3011;$ x = \\frac{-b + \\sqrt{b^2-4ac}}{2a} $ ifadesini Python dilinde yazınız ve a=2, b=4, c=2 için x değerini hesaplatınız."
      ],
      "metadata": {
        "id": "sYZSvd5nzdJL"
      }
    },
    {
      "cell_type": "markdown",
      "source": [
        "#### &#x1f589; Yanıt"
      ],
      "metadata": {
        "id": "xfocYhiiS6ZR"
      }
    },
    {
      "cell_type": "code",
      "source": [],
      "metadata": {
        "id": "zhnTWd95S6ZR"
      },
      "execution_count": null,
      "outputs": []
    },
    {
      "cell_type": "markdown",
      "source": [
        "#### &#x270e; Çözüm"
      ],
      "metadata": {
        "id": "SvPSz2VXS6ZS"
      }
    },
    {
      "cell_type": "code",
      "source": [
        "a = 2\n",
        "b = 4\n",
        "c = 2\n",
        "\n",
        "x = (-b + (b**2 -4*a*c)**(0.5) ) / (2*a)\n",
        "x"
      ],
      "metadata": {
        "id": "u7Ca0uwaS6ZS",
        "colab": {
          "base_uri": "https://localhost:8080/"
        },
        "outputId": "91103ce9-4600-4111-c8a2-7cad0d37f56e"
      },
      "execution_count": null,
      "outputs": [
        {
          "output_type": "execute_result",
          "data": {
            "text/plain": [
              "-1.0"
            ]
          },
          "metadata": {},
          "execution_count": 2
        }
      ]
    },
    {
      "cell_type": "markdown",
      "source": [
        "### &#x3010;12&#x3011;Aşağıdaki ifadelerin sonuçları (True/False) ne olur?\n",
        "```python\n",
        "a)False and True?\n",
        "b)not (False and not not not True)?\n",
        "c)True and True?\n",
        "d)False and False\n",
        "e)True and False\n",
        "```"
      ],
      "metadata": {
        "id": "Jq2waUYTzdN5"
      }
    },
    {
      "cell_type": "markdown",
      "source": [
        "#### &#x1f589; Yanıt"
      ],
      "metadata": {
        "id": "ZZ9H86t1S6NH"
      }
    },
    {
      "cell_type": "code",
      "source": [],
      "metadata": {
        "id": "bw_PQhk_S6NI"
      },
      "execution_count": null,
      "outputs": []
    },
    {
      "cell_type": "markdown",
      "source": [
        "#### &#x270e; Çözüm"
      ],
      "metadata": {
        "id": "ECyszN4ZS6NI"
      }
    },
    {
      "cell_type": "code",
      "source": [
        "print(False and True)\n",
        "print(not (False and not not not True))\n",
        "print(True and True)\n",
        "print(False and False)\n",
        "print(True and False)"
      ],
      "metadata": {
        "id": "uBUJ8z__S6NI",
        "colab": {
          "base_uri": "https://localhost:8080/"
        },
        "outputId": "4a9752ba-c60a-4360-93fe-b3aed433d7d2"
      },
      "execution_count": null,
      "outputs": [
        {
          "output_type": "stream",
          "name": "stdout",
          "text": [
            "False\n",
            "True\n",
            "True\n",
            "False\n",
            "False\n"
          ]
        }
      ]
    },
    {
      "cell_type": "code",
      "source": [],
      "metadata": {
        "id": "QtTwzukI-Rn8",
        "outputId": "1f43f6b6-31f3-4ff7-d57a-b207ae69bbbf",
        "colab": {
          "base_uri": "https://localhost:8080/"
        }
      },
      "execution_count": null,
      "outputs": [
        {
          "output_type": "execute_result",
          "data": {
            "text/plain": [
              "False"
            ]
          },
          "metadata": {},
          "execution_count": 6
        }
      ]
    },
    {
      "cell_type": "markdown",
      "source": [
        "### &#x3010;13&#x3011;sayi= 1 ve Sayi =2 için, sayi == Sayi ifadesinin sonucu ne olur?"
      ],
      "metadata": {
        "id": "FNinazTrzdQk"
      }
    },
    {
      "cell_type": "markdown",
      "source": [
        "#### &#x1f589; Yanıt"
      ],
      "metadata": {
        "id": "cQdFzp50S6BA"
      }
    },
    {
      "cell_type": "code",
      "source": [],
      "metadata": {
        "id": "JinA1MM5S6BB"
      },
      "execution_count": null,
      "outputs": []
    },
    {
      "cell_type": "markdown",
      "source": [
        "#### &#x270e; Çözüm"
      ],
      "metadata": {
        "id": "8nfMwTHUS6BB"
      }
    },
    {
      "cell_type": "code",
      "source": [
        "sayi = 1\n",
        "Sayi = 2\n",
        "print( sayi == Sayi)"
      ],
      "metadata": {
        "id": "lyUdHf1KS6BB",
        "colab": {
          "base_uri": "https://localhost:8080/"
        },
        "outputId": "15bcaee0-62d8-4e58-b599-539af881ba55"
      },
      "execution_count": null,
      "outputs": [
        {
          "output_type": "stream",
          "name": "stdout",
          "text": [
            "False\n"
          ]
        }
      ]
    },
    {
      "cell_type": "markdown",
      "source": [
        "### &#x3010;14&#x3011;Aşağıdaki ifadelerin sonuçları ne olur?\n",
        "\n",
        "a) 2 == 3\n",
        "\n",
        "b) 2 <= 3\n",
        "\n",
        "c) 2 != -1\n",
        "\n",
        "d) 2 >= -2\n",
        "\n",
        "e) 2 > 2\n",
        "\n",
        "f) 2 < 2\n",
        "\n",
        "g) 2 == 2"
      ],
      "metadata": {
        "id": "OcwZsm9PzdTL"
      }
    },
    {
      "cell_type": "markdown",
      "source": [
        "#### &#x1f589; Yanıt"
      ],
      "metadata": {
        "id": "4m2L5XlyS5pB"
      }
    },
    {
      "cell_type": "code",
      "source": [],
      "metadata": {
        "id": "ogRjSgXDS5pB"
      },
      "execution_count": null,
      "outputs": []
    },
    {
      "cell_type": "markdown",
      "source": [
        "#### &#x270e; Çözüm"
      ],
      "metadata": {
        "id": "JqEmfMe8S5pB"
      }
    },
    {
      "cell_type": "code",
      "source": [
        "print(2 == 3)\n",
        "print(2 <= 3)\n",
        "print(2 != -1)\n",
        "print(2 >= -2)\n",
        "print(2 > 2)\n",
        "print(2 < 2)\n",
        "print(2 == 2)"
      ],
      "metadata": {
        "id": "7-PzzJdzS5pB",
        "colab": {
          "base_uri": "https://localhost:8080/"
        },
        "outputId": "67c33798-6985-4b09-82fa-180e796458cc"
      },
      "execution_count": null,
      "outputs": [
        {
          "output_type": "stream",
          "name": "stdout",
          "text": [
            "False\n",
            "True\n",
            "True\n",
            "True\n",
            "False\n",
            "False\n",
            "True\n"
          ]
        }
      ]
    },
    {
      "cell_type": "markdown",
      "source": [
        "### &#x3010;15&#x3011;Aşağıdaki ifadelerin sonuçları ne olur?\n",
        "\n",
        "a) 'ali gel' == 'ali gel'\n",
        "\n",
        "b) 'ali gel' == 'Ali gel'\n",
        "\n",
        "c) 'ali gel' <= 'Ali gel'\n",
        "\n",
        "d) 'ali gel' >= 'Ali gel'\n",
        "\n",
        "e) 'ali gel' == 'ali git'\n",
        "\n",
        "f) 'ali gel' <= 'ali git'\n",
        "\n",
        "g) 'ali gel' >= 'ali git'"
      ],
      "metadata": {
        "id": "XePyRKg7zdVt"
      }
    },
    {
      "cell_type": "markdown",
      "source": [
        "#### &#x1f589; Yanıt"
      ],
      "metadata": {
        "id": "4sgtVZpXS5YP"
      }
    },
    {
      "cell_type": "code",
      "source": [],
      "metadata": {
        "id": "9ovx_uEPS5YQ"
      },
      "execution_count": null,
      "outputs": []
    },
    {
      "cell_type": "markdown",
      "source": [
        "#### &#x270e; Çözüm"
      ],
      "metadata": {
        "id": "A3cb8R0wS5YQ"
      }
    },
    {
      "cell_type": "code",
      "source": [
        "print(\"a) 'ali gel' == 'ali gel' =>\", 'ali gel' == 'ali gel')\n",
        "print(\"b) 'ali gel' == 'Ali gel' =>\", 'ali gel' == 'Ali gel')\n",
        "print(\"c) 'ali gel' <= 'Ali gel' =>\", 'ali gel' <= 'Ali gel')\n",
        "print(\"d) 'ali gel' >= 'Ali gel' =>\", 'ali gel' >= 'Ali gel')\n",
        "print(\"e) 'ali gel' == 'ali git' =>\", 'ali gel' == 'ali git')\n",
        "print(\"f) 'ali gel' <= 'ali git' =>\", 'ali gel' <= 'ali git')\n",
        "print(\"g) 'ali gel' >= 'ali git' =>\", 'ali gel' >= 'ali git')"
      ],
      "metadata": {
        "id": "zZmc2oO3S5YQ",
        "colab": {
          "base_uri": "https://localhost:8080/"
        },
        "outputId": "31fae745-3428-4707-eaa7-8768301e03d3"
      },
      "execution_count": null,
      "outputs": [
        {
          "output_type": "stream",
          "name": "stdout",
          "text": [
            "a) 'ali gel' == 'ali gel' => True\n",
            "b) 'ali gel' == 'Ali gel' => False\n",
            "c) 'ali gel' <= 'Ali gel' => False\n",
            "d) 'ali gel' >= 'Ali gel' => True\n",
            "e) 'ali gel' == 'ali git' => False\n",
            "f) 'ali gel' <= 'ali git' => True\n",
            "g) 'ali gel' >= 'ali git' => False\n"
          ]
        }
      ]
    },
    {
      "cell_type": "markdown",
      "source": [
        "### &#x3010;16&#x3011; True ve False 'un ```and``` ve ```or``` operatörleriyle yazılabilecek tüm karşılaştırma kombinasyonlarını (```True and True```, ```True or False```, ..., gibi) ```print()``` fonksiyonu ile yazdırınız."
      ],
      "metadata": {
        "id": "LiHyLPzQzdYC"
      }
    },
    {
      "cell_type": "markdown",
      "source": [
        "#### &#x1f589; Yanıt"
      ],
      "metadata": {
        "id": "TDYJGanqS47K"
      }
    },
    {
      "cell_type": "code",
      "source": [],
      "metadata": {
        "id": "Fy3p9HWlS47S"
      },
      "execution_count": null,
      "outputs": []
    },
    {
      "cell_type": "markdown",
      "source": [
        "#### &#x270e; Çözüm"
      ],
      "metadata": {
        "id": "gYdkO_v0S47S"
      }
    },
    {
      "cell_type": "code",
      "source": [
        "print(\"OR operatörü:\")\n",
        "print(\"True or True:\\t\", True or True)\n",
        "print(\"True or False:\\t\", True or False)\n",
        "print(\"False or False:\\t\", False or True)\n",
        "print(\"False or False:\\t\", False or False)\n",
        "\n",
        "print(\"\\n\")\n",
        "print(\"AND operatörü:\\t\")\n",
        "print(\"True and True:\\t\", True and True)\n",
        "print(\"True and False:\\t\", True and False)\n",
        "print('False and True:\\t', False and True)\n",
        "print(\"False and False:\", False and False)"
      ],
      "metadata": {
        "id": "EdENCzHwS47T"
      },
      "execution_count": null,
      "outputs": []
    },
    {
      "cell_type": "markdown",
      "source": [
        "### &#x3010;17&#x3011;Aşağıdaki işlemlerin sonuçları ne olur?\n",
        "```python\n",
        "(1, 2, 3)              < (1, 2, 4)\n",
        "[1, 2, 3]              < [1, 2, 4]\n",
        "'ABC' < 'C' < 'Pascal' < 'Python'\n",
        "(1, 2, 3, 4)           < (1, 2, 4)\n",
        "(1, 2)                 < (1, 2, -1)\n",
        "(1, 2, 3)             == (1.0, 2.0, 3.0)\n",
        "(1, 2, ('aa', 'ab'))   < (1, 2, ('abc', 'a'), 4)\n",
        "```\n"
      ],
      "metadata": {
        "id": "pEHx_x6mzdav"
      }
    },
    {
      "cell_type": "markdown",
      "source": [
        "#### &#x1f589; Yanıt"
      ],
      "metadata": {
        "id": "ZwyQJaHqS3ws"
      }
    },
    {
      "cell_type": "code",
      "source": [],
      "metadata": {
        "id": "rMiQlY99S3ws"
      },
      "execution_count": null,
      "outputs": []
    },
    {
      "cell_type": "markdown",
      "source": [
        "#### &#x270e; Çözüm"
      ],
      "metadata": {
        "id": "pUa8AC5OS3ws"
      }
    },
    {
      "cell_type": "code",
      "source": [
        "print((1, 2, 3)              < (1, 2, 4))\n",
        "print([1, 2, 3]              < [1, 2, 4])\n",
        "print('ABC' < 'C' < 'Pascal' < 'Python')\n",
        "print((1, 2, 3, 4)           < (1, 2, 4))\n",
        "print((1, 2)                 < (1, 2, -1))\n",
        "print((1, 2, 3)             == (1.0, 2.0, 3.0))\n",
        "print((1, 2, ('aa', 'ab'))   < (1, 2, ('abc', 'a'), 4))"
      ],
      "metadata": {
        "id": "9Eh5BsZpS3ws"
      },
      "execution_count": null,
      "outputs": []
    },
    {
      "cell_type": "markdown",
      "source": [
        "### &#x3010;18&#x3011;"
      ],
      "metadata": {
        "id": "Iz92hkchzddX"
      }
    },
    {
      "cell_type": "markdown",
      "source": [
        "#### &#x1f589; Yanıt"
      ],
      "metadata": {
        "id": "4PUoB_XaS3Lu"
      }
    },
    {
      "cell_type": "code",
      "source": [],
      "metadata": {
        "id": "BZItqS2AS3Lu"
      },
      "execution_count": null,
      "outputs": []
    },
    {
      "cell_type": "markdown",
      "source": [
        "#### &#x270e; Çözüm"
      ],
      "metadata": {
        "id": "Sca2TlpXS3Lv"
      }
    },
    {
      "cell_type": "code",
      "source": [],
      "metadata": {
        "id": "S50EYGeBS3Lv"
      },
      "execution_count": null,
      "outputs": []
    },
    {
      "cell_type": "markdown",
      "source": [
        "### &#x3010;19&#x3011;"
      ],
      "metadata": {
        "id": "uU8_Mo_8zuag"
      }
    },
    {
      "cell_type": "markdown",
      "source": [
        "#### &#x1f589; Yanıt"
      ],
      "metadata": {
        "id": "cWhlHI5YS20g"
      }
    },
    {
      "cell_type": "code",
      "source": [],
      "metadata": {
        "id": "7c4QaNyxS20h"
      },
      "execution_count": null,
      "outputs": []
    },
    {
      "cell_type": "markdown",
      "source": [
        "#### &#x270e; Çözüm"
      ],
      "metadata": {
        "id": "dprhVF9OS20h"
      }
    },
    {
      "cell_type": "code",
      "source": [],
      "metadata": {
        "id": "vN_PKFHAS20h"
      },
      "execution_count": null,
      "outputs": []
    },
    {
      "cell_type": "markdown",
      "source": [
        "### &#x3010;20&#x3011;"
      ],
      "metadata": {
        "id": "TwGPANlTzuzB"
      }
    },
    {
      "cell_type": "markdown",
      "source": [
        "#### &#x1f589; Yanıt"
      ],
      "metadata": {
        "id": "8gjnWKI_S2WB"
      }
    },
    {
      "cell_type": "code",
      "source": [],
      "metadata": {
        "id": "1BsNVaapS2WM"
      },
      "execution_count": null,
      "outputs": []
    },
    {
      "cell_type": "markdown",
      "source": [
        "#### &#x270e; Çözüm"
      ],
      "metadata": {
        "id": "9qu9QfmrS2WM"
      }
    },
    {
      "cell_type": "code",
      "source": [],
      "metadata": {
        "id": "abOMCJlyS2WM"
      },
      "execution_count": null,
      "outputs": []
    },
    {
      "cell_type": "markdown",
      "source": [
        "### &#x3010;21&#x3011;"
      ],
      "metadata": {
        "id": "Gavx--VO3dfT"
      }
    },
    {
      "cell_type": "markdown",
      "source": [
        "---"
      ],
      "metadata": {
        "id": "DJhdENLa3i_V"
      }
    },
    {
      "cell_type": "markdown",
      "source": [
        "\n",
        "\n",
        "a)\n",
        "\n",
        "b)\n",
        "\n",
        "c)\n",
        "\n",
        "d)"
      ],
      "metadata": {
        "id": "zqPP5dM7lyky"
      }
    }
  ]
}