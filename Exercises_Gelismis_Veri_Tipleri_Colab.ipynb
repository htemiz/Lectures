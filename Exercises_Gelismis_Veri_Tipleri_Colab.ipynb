{
  "nbformat": 4,
  "nbformat_minor": 0,
  "metadata": {
    "colab": {
      "provenance": [],
      "authorship_tag": "ABX9TyNlvoXdDT4m6KdT1Ifk72Yx",
      "include_colab_link": true
    },
    "kernelspec": {
      "name": "python3",
      "display_name": "Python 3"
    },
    "language_info": {
      "name": "python"
    }
  },
  "cells": [
    {
      "cell_type": "markdown",
      "metadata": {
        "id": "view-in-github",
        "colab_type": "text"
      },
      "source": [
        "<a href=\"https://colab.research.google.com/github/htemiz/Lectures/blob/main/Exercises_Gelismis_Veri_Tipleri_Colab.ipynb\" target=\"_parent\"><img src=\"https://colab.research.google.com/assets/colab-badge.svg\" alt=\"Open In Colab\"/></a>"
      ]
    },
    {
      "cell_type": "markdown",
      "source": [
        "### &#x3010;01&#x3011; Aşağıdakileri yapınız?\n",
        "\n",
        "a) Elemanları \"Pazartesi\", \"Salı\", \"Çarşamba\", 'Perşembe' olan gunler_liste listesini ve gunler_tuple demetini oluşturunuz?\n",
        "\n",
        "b) Ardından, gunler_liste listesinin ilk elemanını veren (indeksleyen) kodu yazınız?\n",
        "\n",
        "c) gunler_liste'nin eleman sayısını veren kodu yazınız?\n",
        "\n",
        "d) gunler_tuple dizisinin 2. elemanından başlayarak her 2. elemanını indeksleyen kodu yazınız?"
      ],
      "metadata": {
        "id": "ZRhz4FFd0CVx"
      }
    },
    {
      "cell_type": "markdown",
      "source": [
        "#### &#x1f589; Yanıt"
      ],
      "metadata": {
        "id": "2wuPn0dcS0TA"
      }
    },
    {
      "cell_type": "code",
      "source": [],
      "metadata": {
        "id": "9udA4jdrS0TJ"
      },
      "execution_count": null,
      "outputs": []
    },
    {
      "cell_type": "markdown",
      "source": [
        "### &#x3010;02&#x3011;Elemanları \"Pazartesi\", \"Salı\", \"Çarşamba\", 'Perşembe', [1,2,3] ve (10, ['a', 'b'], 11,12,14) olan \"karma\" adlı bir liste oluşturunuz?"
      ],
      "metadata": {
        "id": "I4gT_M9Ck_51"
      }
    },
    {
      "cell_type": "markdown",
      "source": [
        "#### &#x1f589; Yanıt"
      ],
      "metadata": {
        "id": "yZ3rbUHnS0z9"
      }
    },
    {
      "cell_type": "code",
      "source": [],
      "metadata": {
        "id": "LIpJZYFrS0z-"
      },
      "execution_count": null,
      "outputs": []
    },
    {
      "cell_type": "markdown",
      "source": [
        "### &#x3010;03&#x3011;Bir aracın marka, renk ve model bilgilerinin saklandığı bir sözlük tanımlayınız ve değerleri kendiniz veriniz? Ardından,\n",
        "\n",
        "a) yıl bilgisini aynı sözlüğe ekleyiniz?\n",
        "\n",
        "b) arac1 ve arac2 isimli iki araç daha tanımlayınız?\n",
        "\n",
        "c) bu iki aracı bir kapsayıcı üst sözlük (araclar_dict isimli) içerisinde saklayınız?\n",
        "\n",
        "d) araclar_dict'de saklanan arac1'in rengini değiştiriniz?\n",
        "\n",
        "e) araçları araclar isimli bir liste içerisinde saklayınız ve yeni bir aracı, dinamik olarak listeye (değişkene atamadan) ekleyiniz?\n",
        "\n",
        "f) araclar listesindeki 3. aracın marka bilgisini veren kodu yazınız?\n"
      ],
      "metadata": {
        "id": "NEB3s33ezc1I"
      }
    },
    {
      "cell_type": "markdown",
      "source": [
        "#### &#x1f589; Yanıt"
      ],
      "metadata": {
        "id": "2QV4nJzfS8Rj"
      }
    },
    {
      "cell_type": "code",
      "source": [],
      "metadata": {
        "id": "GDQdjjAcS8Rj"
      },
      "execution_count": null,
      "outputs": []
    },
    {
      "cell_type": "markdown",
      "source": [
        "### &#x3010;04&#x3011; karma listesini şu şekilde tanımlayınız?\n",
        "\n",
        "[\"Pazartesi\", \"Salı\", \"Çarşamba\", 'Perşembe', [1,2,3], (10, ['a', 'b'], 11,12,14)]\n",
        "\n",
        "Ardından,\n",
        "\n",
        "a) pop metodu ile bir eleman listeden çıkarınız?\n",
        "\n",
        "b) tekrar bir eleman çıkarınız?\n",
        "\n",
        "her seferinde listenin önceki ve işlem sonrası durumunu yazdırınız?"
      ],
      "metadata": {
        "id": "-ArurJZEzc6T"
      }
    },
    {
      "cell_type": "markdown",
      "source": [
        "#### &#x1f589; Yanıt"
      ],
      "metadata": {
        "id": "4rO6YFdJS7_Y"
      }
    },
    {
      "cell_type": "code",
      "source": [],
      "metadata": {
        "id": "NuCl9DWHS7_Z"
      },
      "execution_count": null,
      "outputs": []
    },
    {
      "cell_type": "markdown",
      "source": [
        "### &#x3010;05&#x3011; 'Merhaba Dünya!' metninden (tüm metin bir bütün olarak) meydana gelen bir küme tanımlaması yapınız? Ardından, kümeye \"Merhaba Mars!\" string'ini ekleyiniz?"
      ],
      "metadata": {
        "id": "VWSQ9epkzc9f"
      }
    },
    {
      "cell_type": "markdown",
      "source": [
        "#### &#x1f589; Yanıt"
      ],
      "metadata": {
        "id": "tXcGTUygS7yz"
      }
    },
    {
      "cell_type": "code",
      "source": [],
      "metadata": {
        "id": "WrLSP3rsS7yz"
      },
      "execution_count": null,
      "outputs": []
    },
    {
      "cell_type": "markdown",
      "source": [
        "### &#x3010;06&#x3011;Bir metindeki her bir karakterden kaç tane olduğunu veren bir kodu sözlük yapısı kullanarak yazınız?"
      ],
      "metadata": {
        "id": "iHXkaK_Kzc_t"
      }
    },
    {
      "cell_type": "markdown",
      "source": [
        "#### &#x1f589; Yanıt"
      ],
      "metadata": {
        "id": "iJPMbQlZS7Wn"
      }
    },
    {
      "cell_type": "code",
      "source": [],
      "metadata": {
        "id": "iMbEjWkWS7Wo"
      },
      "execution_count": null,
      "outputs": []
    }
  ]
}