{
  "nbformat": 4,
  "nbformat_minor": 0,
  "metadata": {
    "colab": {
      "provenance": [],
      "collapsed_sections": [
        "m4CgE3tvld4N",
        "ZRhz4FFd0CVx",
        "2wuPn0dcS0TA",
        "k5NAjDDXS0TJ",
        "I4gT_M9Ck_51",
        "NEB3s33ezc1I",
        "-ArurJZEzc6T",
        "VWSQ9epkzc9f",
        "iHXkaK_Kzc_t",
        "cjgnQRdYzdB5",
        "AaSY2yYZzdEX",
        "-IEXAWaOzdHB",
        "1MZK_fEYS65A",
        "XePyRKg7zdVt",
        "LiHyLPzQzdYC",
        "pEHx_x6mzdav",
        "Iz92hkchzddX",
        "uU8_Mo_8zuag",
        "TwGPANlTzuzB"
      ],
      "authorship_tag": "ABX9TyOLjf2+hkROX/Z2xWpT9uV4",
      "include_colab_link": true
    },
    "kernelspec": {
      "name": "python3",
      "display_name": "Python 3"
    },
    "language_info": {
      "name": "python"
    }
  },
  "cells": [
    {
      "cell_type": "markdown",
      "metadata": {
        "id": "view-in-github",
        "colab_type": "text"
      },
      "source": [
        "<a href=\"https://colab.research.google.com/github/htemiz/Lectures/blob/main/Exercises_Fonksiyonlar_Colab.ipynb\" target=\"_parent\"><img src=\"https://colab.research.google.com/assets/colab-badge.svg\" alt=\"Open In Colab\"/></a>"
      ]
    },
    {
      "cell_type": "markdown",
      "source": [
        "### &#x3010;01&#x3011;Verilen sayı tek ise True, aksi halde False veren \"sayi_tek\" isimli fonksiyonu yazınız?"
      ],
      "metadata": {
        "id": "m4CgE3tvld4N"
      }
    },
    {
      "cell_type": "markdown",
      "source": [
        "#### &#x1f589; Yanıt"
      ],
      "metadata": {
        "id": "a42VxmZG1lTm"
      }
    },
    {
      "cell_type": "code",
      "source": [],
      "metadata": {
        "id": "Zyveg0kI3IF-"
      },
      "execution_count": null,
      "outputs": []
    },
    {
      "cell_type": "markdown",
      "source": [
        "### &#x3010;02&#x3011;Verilen iki sayının birbirine bölümünden kalanı veren \"kalan\" fonksiyonu\n",
        "\n",
        "Verilen iki sayının birbirine bölümündeki bölümü veren \"bolum\" fonksiyonu\n",
        "\n",
        "Verilen sayı 0'dan büyük ise True, değilse False değerini veren \"pozitif\" fonksiyonu\n",
        "\n",
        "Yukarıdaki fonksiyonları kullanarak, verilen iki sayı (örneğin x ve y) için;\n",
        "\n",
        "\"x sayısı pozitif (veya tersi) , y sayısı negatif (veya tersi); x in y'ye bölümünden kalan <kalan değer>, bölüm <bolum fonksiyonundan elde edilen değer> dir\"\n",
        "\n",
        "gibi bir mesajı ekrana yazan \"Ana_Fonksiyon\" isimli fonksiyonu yazınız"
      ],
      "metadata": {
        "id": "ZRhz4FFd0CVx"
      }
    },
    {
      "cell_type": "markdown",
      "source": [
        "#### &#x1f589; Yanıt"
      ],
      "metadata": {
        "id": "2wuPn0dcS0TA"
      }
    },
    {
      "cell_type": "code",
      "source": [],
      "metadata": {
        "id": "9udA4jdrS0TJ"
      },
      "execution_count": null,
      "outputs": []
    },
    {
      "cell_type": "markdown",
      "source": [
        "### &#x3010;03&#x3011;Bir metin içerisindeki sesli harfleri metinden atan bir fonksiyon yazınız?"
      ],
      "metadata": {
        "id": "I4gT_M9Ck_51"
      }
    },
    {
      "cell_type": "markdown",
      "source": [
        "#### &#x1f589; Yanıt"
      ],
      "metadata": {
        "id": "yZ3rbUHnS0z9"
      }
    },
    {
      "cell_type": "code",
      "source": [],
      "metadata": {
        "id": "LIpJZYFrS0z-"
      },
      "execution_count": null,
      "outputs": []
    },
    {
      "cell_type": "markdown",
      "source": [
        "### &#x3010;04&#x3011;Aşağıdaki fonksiyon ne iş yapar?\n",
        "```python\n",
        "def bir_fonksyion(metin, y):\n",
        "    for i, h in enumerate(metin):\n",
        "        if h == y:\n",
        "            return i\n",
        "    return -1\n",
        "```"
      ],
      "metadata": {
        "id": "NEB3s33ezc1I"
      }
    },
    {
      "cell_type": "markdown",
      "source": [
        "#### &#x1f589; Yanıt"
      ],
      "metadata": {
        "id": "2QV4nJzfS8Rj"
      }
    },
    {
      "cell_type": "code",
      "source": [],
      "metadata": {
        "id": "GDQdjjAcS8Rj"
      },
      "execution_count": null,
      "outputs": []
    },
    {
      "cell_type": "markdown",
      "source": [
        "### &#x3010;05&#x3011;Aşağıdaki fonksiyon ne iş yapar?\n",
        "\n",
        "```python\n",
        " def count_a(text):\n",
        "    count = 0\n",
        "    for letter in text:\n",
        "        if letter == \"a\":\n",
        "            count += 1\n",
        "    return(count)\n",
        "```"
      ],
      "metadata": {
        "id": "-ArurJZEzc6T"
      }
    },
    {
      "cell_type": "markdown",
      "source": [
        "#### &#x1f589; Yanıt"
      ],
      "metadata": {
        "id": "4rO6YFdJS7_Y"
      }
    },
    {
      "cell_type": "code",
      "source": [],
      "metadata": {
        "id": "NuCl9DWHS7_Z"
      },
      "execution_count": null,
      "outputs": []
    },
    {
      "cell_type": "markdown",
      "source": [
        "### &#x3010;06&#x3011;Taban ve yüksekliği verilen üçgenin alanını hesaplayan bir fonksiyon yazınız? Taban ve yükseklik için sırasıyla 2 ve 3 değerlerini varsayılan olarak tanımlayınız?"
      ],
      "metadata": {
        "id": "VWSQ9epkzc9f"
      }
    },
    {
      "cell_type": "markdown",
      "source": [
        "#### &#x1f589; Yanıt"
      ],
      "metadata": {
        "id": "tXcGTUygS7yz"
      }
    },
    {
      "cell_type": "code",
      "source": [],
      "metadata": {
        "id": "WrLSP3rsS7yz"
      },
      "execution_count": null,
      "outputs": []
    },
    {
      "cell_type": "code",
      "source": [
        "ucgen_alani(yukseklik=5, taban=4)"
      ],
      "metadata": {
        "id": "G0tLVqf2S7y0"
      },
      "execution_count": null,
      "outputs": []
    },
    {
      "cell_type": "markdown",
      "source": [
        "### &#x3010;07&#x3011;$ax^2 + 4x - 16$ denklemini hesaplayan fonksiyon"
      ],
      "metadata": {
        "id": "iHXkaK_Kzc_t"
      }
    },
    {
      "cell_type": "markdown",
      "source": [
        "#### &#x1f589; Yanıt"
      ],
      "metadata": {
        "id": "iJPMbQlZS7Wn"
      }
    },
    {
      "cell_type": "code",
      "source": [],
      "metadata": {
        "id": "iMbEjWkWS7Wo"
      },
      "execution_count": null,
      "outputs": []
    },
    {
      "cell_type": "markdown",
      "source": [
        "### &#x3010;08&#x3011;$ax^2 + y^3 + 8xy^2 - 8bx$ denklemini hesaplayan fonksiyon"
      ],
      "metadata": {
        "id": "cjgnQRdYzdB5"
      }
    },
    {
      "cell_type": "markdown",
      "source": [
        "#### &#x1f589; Yanıt"
      ],
      "metadata": {
        "id": "lnVOApf-S7NN"
      }
    },
    {
      "cell_type": "code",
      "source": [],
      "metadata": {
        "id": "F9hJ9WUiS7NN"
      },
      "execution_count": null,
      "outputs": []
    },
    {
      "cell_type": "markdown",
      "source": [
        "### &#x3010;09&#x3011;Verilen metinde, her bir karakterden kaç tane olduğunu sayan bir fonksiyon yazınız"
      ],
      "metadata": {
        "id": "AaSY2yYZzdEX"
      }
    },
    {
      "cell_type": "markdown",
      "source": [
        "#### &#x1f589; Yanıt"
      ],
      "metadata": {
        "id": "Tjlkav0_S7B1"
      }
    },
    {
      "cell_type": "code",
      "source": [],
      "metadata": {
        "id": "5fWHb2TUS7B2"
      },
      "execution_count": null,
      "outputs": []
    },
    {
      "cell_type": "markdown",
      "source": [
        "### &#x3010;10&#x3011;Verilen sayısal notu aşağıdaki kriterlere göre Harf notu olarak veren bir fonksiyon yazınız\n",
        "\n",
        "* 90 ve üzeri A\n",
        "* 80 ve üzeri B\n",
        "* 65 ve üzeri C\n",
        "* 50 ile 64 arası (dahil) D\n",
        "* 30 - 49 arası (dahil) E\n",
        "* 30 altı F"
      ],
      "metadata": {
        "id": "-IEXAWaOzdHB"
      }
    },
    {
      "cell_type": "markdown",
      "source": [
        "#### &#x1f589; Yanıt"
      ],
      "metadata": {
        "id": "tMrMSXjyS64_"
      }
    },
    {
      "cell_type": "code",
      "source": [],
      "metadata": {
        "id": "TztiWyK4S65A"
      },
      "execution_count": null,
      "outputs": []
    },
    {
      "cell_type": "markdown",
      "source": [
        "### &#x3010;11&#x3011; $ax^2 + bx + c$ şeklindeki denklemin determinantını bulan fonksiyonu yazınız? Fonksiyon tanımında, b'nin varsayılan değerini 9 olarak tanımlayınız? $3x^2 + 21x - 5$ denkleminin determinantını hesaplatınız?"
      ],
      "metadata": {
        "id": "sYZSvd5nzdJL"
      }
    },
    {
      "cell_type": "markdown",
      "source": [
        "#### &#x1f589; Yanıt"
      ],
      "metadata": {
        "id": "xfocYhiiS6ZR"
      }
    },
    {
      "cell_type": "code",
      "source": [],
      "metadata": {
        "id": "zhnTWd95S6ZR"
      },
      "execution_count": null,
      "outputs": []
    },
    {
      "cell_type": "markdown",
      "source": [
        "### &#x3010;12&#x3011;Bir koleksiyon (list, tuple vb.) verisindeki en büyük sayısal değerli elemanı ve konumunu (indeks) veren bir fonksiyon yazınız?"
      ],
      "metadata": {
        "id": "Jq2waUYTzdN5"
      }
    },
    {
      "cell_type": "markdown",
      "source": [
        "#### &#x1f589; Yanıt"
      ],
      "metadata": {
        "id": "ZZ9H86t1S6NH"
      }
    },
    {
      "cell_type": "code",
      "source": [],
      "metadata": {
        "id": "bw_PQhk_S6NI"
      },
      "execution_count": null,
      "outputs": []
    },
    {
      "cell_type": "markdown",
      "source": [
        "### &#x3010;13&#x3011;Geometrik ortalama ${\\displaystyle \\sqrt[n]{\\prod_{i=1}^{n} x_{i}}}$ formülü ile hesaplanır. Bir koleksiyondaki sayısal değerlerin geometrik ortalamasını hesaplayan fonksiyonu yazınız?"
      ],
      "metadata": {
        "id": "FNinazTrzdQk"
      }
    },
    {
      "cell_type": "markdown",
      "source": [
        "#### &#x1f589; Yanıt"
      ],
      "metadata": {
        "id": "cQdFzp50S6BA"
      }
    },
    {
      "cell_type": "code",
      "source": [],
      "metadata": {
        "id": "JinA1MM5S6BB"
      },
      "execution_count": null,
      "outputs": []
    },
    {
      "cell_type": "markdown",
      "source": [
        "### &#x3010;14&#x3011;İki vektörün çarpımını veren bir fonksiyon yazınız?"
      ],
      "metadata": {
        "id": "OcwZsm9PzdTL"
      }
    },
    {
      "cell_type": "markdown",
      "source": [
        "#### &#x1f589; Yanıt"
      ],
      "metadata": {
        "id": "4m2L5XlyS5pB"
      }
    },
    {
      "cell_type": "code",
      "source": [],
      "metadata": {
        "id": "ogRjSgXDS5pB"
      },
      "execution_count": null,
      "outputs": []
    },
    {
      "cell_type": "markdown",
      "source": [
        "### &#x3010;15&#x3011;Fonksiyonlarda yerel (local) ve evrensel (global) değişken ve ilave olarak referans veri tipinin kullanımına bir örnek veriniz?"
      ],
      "metadata": {
        "id": "XePyRKg7zdVt"
      }
    },
    {
      "cell_type": "markdown",
      "source": [
        "#### &#x1f589; Yanıt"
      ],
      "metadata": {
        "id": "4sgtVZpXS5YP"
      }
    },
    {
      "cell_type": "code",
      "source": [],
      "metadata": {
        "id": "9ovx_uEPS5YQ"
      },
      "execution_count": null,
      "outputs": []
    },
    {
      "cell_type": "markdown",
      "source": [
        "### &#x3010;16&#x3011;Bir metindeki her bir karakterden kaç tane olduğunu veren bir fonksiyon yazınız? Fonksiyon, karakterleri bir listede, karakterlerin frekansını ayrı bir listede olacak şekilde frekans bilgilerini saklasın ve sonuç olarak versin. Örneğin, karakterler listesindeki ilk elemanın frekans bilgisi (adet), frekanslar listesinin ilk elemanında saklansın?"
      ],
      "metadata": {
        "id": "LiHyLPzQzdYC"
      }
    },
    {
      "cell_type": "markdown",
      "source": [
        "#### &#x1f589; Yanıt"
      ],
      "metadata": {
        "id": "TDYJGanqS47K"
      }
    },
    {
      "cell_type": "code",
      "source": [],
      "metadata": {
        "id": "Fy3p9HWlS47S"
      },
      "execution_count": null,
      "outputs": []
    },
    {
      "cell_type": "markdown",
      "source": [
        "### &#x3010;17&#x3011;Verilen 4 basamaklı ve rakamları birbirinden farklı sayı ile başlayıp Kaprekar sabitini (**6174**) bulunca duran bir fonksiyon yazınız?\n",
        "\n",
        "Kaprekar sabitine bir örnek verelim:\n",
        "\n",
        "Diyelim ki tuttuğunuz sayı 4564. Belirlediğimiz en büyük ve en küçük sayı ise sırasıyla 6544 ve 4456. Şimdi büyük sayıdan küçük sayıyı çıkaralım: 6544 – 4456 = 2088. Sonrasında da elde ettiğimiz sayıyı kullanarak aynı işlemleri tekrar­layalım: 8820 – 0288 = 8532 ve 8532 – 2358 =6174. Er ya da geç ulaşacağınız sayı 6174 olacaktır. Bu sayıya ulaştığımızda işlem kendini tekrar eder ve her seferinde **6174**’e döner. Başka bir örnek de aşağıda yer alıyor.\n",
        "\n",
        "5200 – 0025 = 5175\n",
        "\n",
        "7551 – 1557 = 5994\n",
        "\n",
        "9954 – 4599 = 5355\n",
        "\n",
        "5553 – 3555 = 1998\n",
        "\n",
        "9981 – 1899 = 8082\n",
        "\n",
        "8820 – 0288 = 8532\n",
        "\n",
        "8532 – 2358 = 6174\n",
        "\n",
        "7641 – 1467 = 6174\n",
        "\n",
        "Kaprekar sabitini bulma işini 1000 kez tekrarlayaın bir üst fonksiyon yazınız? Fonksiyon şunları gerçekleştirsin:\n",
        "\n",
        "a) En fazla kaç iterasyon sonucunda kaprekar sayısına ulaşıldı?\n",
        "\n",
        "b) En az kaç iterasyon sonucunda kaprekar sayısına ulaşıldı?\n",
        "\n",
        "c) Kaprekar sayısına ortalama erişim (iterasyon) sayısı?\n"
      ],
      "metadata": {
        "id": "pEHx_x6mzdav"
      }
    },
    {
      "cell_type": "markdown",
      "source": [
        "#### &#x1f589; Yanıt"
      ],
      "metadata": {
        "id": "ZwyQJaHqS3ws"
      }
    },
    {
      "cell_type": "code",
      "source": [],
      "metadata": {
        "id": "rMiQlY99S3ws"
      },
      "execution_count": null,
      "outputs": []
    }
  ]
}