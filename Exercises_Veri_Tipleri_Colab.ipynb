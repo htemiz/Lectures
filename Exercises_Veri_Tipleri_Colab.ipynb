{
  "nbformat": 4,
  "nbformat_minor": 0,
  "metadata": {
    "colab": {
      "provenance": [],
      "authorship_tag": "ABX9TyP/WMr05p3XwHx2itLDJFsG",
      "include_colab_link": true
    },
    "kernelspec": {
      "name": "python3",
      "display_name": "Python 3"
    },
    "language_info": {
      "name": "python"
    }
  },
  "cells": [
    {
      "cell_type": "markdown",
      "metadata": {
        "id": "view-in-github",
        "colab_type": "text"
      },
      "source": [
        "<a href=\"https://colab.research.google.com/github/htemiz/Lectures/blob/main/Exercises_Veri_Tipleri_Colab.ipynb\" target=\"_parent\"><img src=\"https://colab.research.google.com/assets/colab-badge.svg\" alt=\"Open In Colab\"/></a>"
      ]
    },
    {
      "cell_type": "markdown",
      "source": [
        "### &#x3010;01&#x3011;a=100, b=\"45\" olmak üzere, ```\"a'nın karesi : (a karenin değeri), (a) %% (b)\"\"``` şeklinde bir metni ekrana yazdıran kodu yazınız?"
      ],
      "metadata": {
        "id": "m4CgE3tvld4N"
      }
    },
    {
      "cell_type": "markdown",
      "source": [
        "#### &#x1f589; Yanıt"
      ],
      "metadata": {
        "id": "a42VxmZG1lTm"
      }
    },
    {
      "cell_type": "code",
      "source": [],
      "metadata": {
        "id": "Zyveg0kI3IF-"
      },
      "execution_count": null,
      "outputs": []
    },
    {
      "cell_type": "markdown",
      "source": [
        "### &#x3010;02&#x3011;x=\"3\" ifadesinde, x değişkeni hangi veri tipindedir? integer'a nasıl dönüştürülür?\n"
      ],
      "metadata": {
        "id": "ZRhz4FFd0CVx"
      }
    },
    {
      "cell_type": "markdown",
      "source": [
        "#### &#x1f589; Yanıt"
      ],
      "metadata": {
        "id": "2wuPn0dcS0TA"
      }
    },
    {
      "cell_type": "code",
      "source": [],
      "metadata": {
        "id": "9udA4jdrS0TJ"
      },
      "execution_count": null,
      "outputs": []
    },
    {
      "cell_type": "markdown",
      "source": [
        "### &#x3010;03&#x3011;\"1234.56789\" ifadesindeki ne tür bir veri tipidir? İfadedeki sayısal değer, sayısal olarak hangi veri tipine, nasıl dönüştürülür?"
      ],
      "metadata": {
        "id": "I4gT_M9Ck_51"
      }
    },
    {
      "cell_type": "markdown",
      "source": [
        "#### &#x1f589; Yanıt"
      ],
      "metadata": {
        "id": "yZ3rbUHnS0z9"
      }
    },
    {
      "cell_type": "code",
      "source": [],
      "metadata": {
        "id": "LIpJZYFrS0z-"
      },
      "execution_count": null,
      "outputs": []
    },
    {
      "cell_type": "markdown",
      "source": [
        "### &#x3010;04&#x3011;x=\"5.5\" ve y=\"3.1415\" olmak üzere, değişkenlerde saklanan değerleri sayısal olarak nasıl toplarız?"
      ],
      "metadata": {
        "id": "NEB3s33ezc1I"
      }
    },
    {
      "cell_type": "markdown",
      "source": [
        "#### &#x1f589; Yanıt"
      ],
      "metadata": {
        "id": "2QV4nJzfS8Rj"
      }
    },
    {
      "cell_type": "code",
      "source": [],
      "metadata": {
        "id": "GDQdjjAcS8Rj"
      },
      "execution_count": null,
      "outputs": []
    },
    {
      "cell_type": "markdown",
      "source": [
        "### &#x3010;05&#x3011;**$ x = \\frac{9+5}{2}$**  ifadesini Python dilinde yazınız ve işlem sonucunu hesaplatınız. Sonuç hangi veri tipindedir?"
      ],
      "metadata": {
        "id": "-ArurJZEzc6T"
      }
    },
    {
      "cell_type": "markdown",
      "source": [
        "#### &#x1f589; Yanıt"
      ],
      "metadata": {
        "id": "4rO6YFdJS7_Y"
      }
    },
    {
      "cell_type": "code",
      "source": [],
      "metadata": {
        "id": "NuCl9DWHS7_Z"
      },
      "execution_count": null,
      "outputs": []
    },
    {
      "cell_type": "markdown",
      "source": [
        "### &#x3010;06&#x3011;Bir değerin veya değişkenin veri tipini nasıl öğreniriz?"
      ],
      "metadata": {
        "id": "VWSQ9epkzc9f"
      }
    },
    {
      "cell_type": "markdown",
      "source": [
        "#### &#x1f589; Yanıt"
      ],
      "metadata": {
        "id": "tXcGTUygS7yz"
      }
    },
    {
      "cell_type": "code",
      "source": [],
      "metadata": {
        "id": "WrLSP3rsS7yz"
      },
      "execution_count": null,
      "outputs": []
    },
    {
      "cell_type": "markdown",
      "source": [
        "### &#x3010;07&#x3011;\n",
        "\n",
        "Bir araca ait,\n",
        "\n",
        "* marka\n",
        "* model\n",
        "* yıl\n",
        "* tip\n",
        "* renk\n",
        "\n",
        "\n",
        "1. verilerini saklayan bir yapı tasarlayınız ve değerleri kendiniz veriniz?\n",
        "\n",
        "2. marka'yı \"tofaş\" şeklinde değiştiriniz\n",
        "\n",
        "2. rengini \"mavi\" yapınız"
      ],
      "metadata": {
        "id": "iHXkaK_Kzc_t"
      }
    },
    {
      "cell_type": "markdown",
      "source": [
        "#### &#x1f589; Yanıt"
      ],
      "metadata": {
        "id": "iJPMbQlZS7Wn"
      }
    },
    {
      "cell_type": "code",
      "source": [],
      "metadata": {
        "id": "iMbEjWkWS7Wo"
      },
      "execution_count": null,
      "outputs": []
    },
    {
      "cell_type": "markdown",
      "source": [
        "### &#x3010;08&#x3011;\n",
        "\n",
        "Elemanları \"Pazartesi\", \"Salı\", \"Çarşamba\", 'Perşembe' olan liste ve demet oluşturunuz"
      ],
      "metadata": {
        "id": "cjgnQRdYzdB5"
      }
    },
    {
      "cell_type": "markdown",
      "source": [
        "#### &#x1f589; Yanıt"
      ],
      "metadata": {
        "id": "lnVOApf-S7NN"
      }
    },
    {
      "cell_type": "code",
      "source": [],
      "metadata": {
        "id": "F9hJ9WUiS7NN"
      },
      "execution_count": null,
      "outputs": []
    },
    {
      "cell_type": "markdown",
      "source": [
        "### &#x3010;09&#x3011;\n",
        "\n",
        "Elemanları \"Pazartesi\", \"Salı\", \"Çarşamba\", 'Perşembe', [1,2,3] ve (10, ['a', 'b'], 11,12,14) olan bir liste oluşturunuz"
      ],
      "metadata": {
        "id": "AaSY2yYZzdEX"
      }
    },
    {
      "cell_type": "markdown",
      "source": [
        "#### &#x1f589; Yanıt"
      ],
      "metadata": {
        "id": "Tjlkav0_S7B1"
      }
    },
    {
      "cell_type": "code",
      "source": [],
      "metadata": {
        "id": "p1yIcG4aTtYQ"
      },
      "execution_count": null,
      "outputs": []
    }
  ]
}