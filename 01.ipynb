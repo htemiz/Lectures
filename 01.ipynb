{
  "cells": [
    {
      "cell_type": "markdown",
      "metadata": {
        "id": "view-in-github",
        "colab_type": "text"
      },
      "source": [
        "<a href=\"https://colab.research.google.com/github/htemiz/Lectures/blob/main/01.ipynb\" target=\"_parent\"><img src=\"https://colab.research.google.com/assets/colab-badge.svg\" alt=\"Open In Colab\"/></a>"
      ]
    },
    {
      "cell_type": "markdown",
      "metadata": {
        "id": "l6dDuAkTtOvU"
      },
      "source": [
        "## Giriş"
      ]
    },
    {
      "cell_type": "code",
      "source": [
        "from numpy.random import randint\n",
        "\n",
        "liste = [randint(1,100) for x in range(10)] #\n",
        "liste"
      ],
      "metadata": {
        "colab": {
          "base_uri": "https://localhost:8080/"
        },
        "id": "IC08RqRBlScx",
        "outputId": "2924b99d-db87-4b4e-f31f-f15581a159cf"
      },
      "execution_count": null,
      "outputs": [
        {
          "output_type": "execute_result",
          "data": {
            "text/plain": [
              "[30, 49, 95, 98, 66, 53, 70, 42, 49, 97]"
            ]
          },
          "metadata": {},
          "execution_count": 2
        }
      ]
    },
    {
      "cell_type": "markdown",
      "source": [
        "### Yazım"
      ],
      "metadata": {
        "id": "vwZrbM5e7JaU"
      }
    },
    {
      "cell_type": "markdown",
      "metadata": {
        "id": "s3RzZDAytOvp"
      },
      "source": [
        "#### Soru\n",
        "Python'da yorum eklemek için hangi sembol kullanılır?"
      ]
    },
    {
      "cell_type": "markdown",
      "metadata": {
        "id": "WM5hdcDNtOvq"
      },
      "source": [
        "$#$ sembolü yorum eklemek için kullanılır."
      ]
    },
    {
      "cell_type": "markdown",
      "metadata": {
        "id": "NV_1J4bLtOvr"
      },
      "source": [
        "#### Soru\n",
        "Bir satırdan daha çok satıra yazılması gereken uzun bir yorum için # sembolü haricinde nasıl bir yol izlersiniz?"
      ]
    },
    {
      "cell_type": "markdown",
      "metadata": {
        "id": "eR3pmwALtOvs"
      },
      "source": [
        "Çok satırlı yorum eklemek için yorumun ilk satırında \"\"\" sembollerini ve son satırdan sonra tekrar \"\"\" sembolleri koyarak istenildiği kadar çok satırlı yorum alan eklenebilir.Örnek,\n",
        "```python\n",
        "\"\"\"\n",
        "bu 1. satır yorumudur.\n",
        "bu 2. satır yorumudur.\n",
        "bu 3. satır yorumudur.\n",
        "\"\"\"\n",
        "```"
      ]
    },
    {
      "cell_type": "markdown",
      "metadata": {
        "id": "Nf9wXjvkUsKN"
      },
      "source": [
        "#### Örnekler"
      ]
    },
    {
      "cell_type": "code",
      "execution_count": null,
      "metadata": {
        "id": "sSYzzzpFtOva",
        "colab": {
          "base_uri": "https://localhost:8080/"
        },
        "outputId": "63423e76-1f86-4c80-a2b2-bb52edd6f1cf"
      },
      "outputs": [
        {
          "output_type": "stream",
          "name": "stdout",
          "text": [
            "<class 'int'>\n"
          ]
        }
      ],
      "source": [
        "a = 3 # integer (int) veri tipi\n",
        "b = 4 # integer (int) veri tipi\n",
        "\n",
        "c= a / b # float veri tipi -> 0.75\n",
        "isim ='Ali'\n",
        "soyisim = 'Yılmaz'\n",
        "isimsoyisim = isim + \" \" + soyisim\n",
        "merhaba = 'merhaba dünya'\n",
        "isim = merhaba\n",
        "\n",
        "x = \"3\"\n",
        "y = 10\n",
        "print(type(int(x)))"
      ]
    },
    {
      "cell_type": "code",
      "execution_count": null,
      "metadata": {
        "id": "GBiDnCactOvh",
        "outputId": "31cdadc7-36b2-4f17-ac84-1ace2213ad44",
        "colab": {
          "base_uri": "https://localhost:8080/",
          "height": 36
        }
      },
      "outputs": [
        {
          "output_type": "execute_result",
          "data": {
            "text/plain": [
              "'Ali Yılmaz'"
            ],
            "application/vnd.google.colaboratory.intrinsic+json": {
              "type": "string"
            }
          },
          "metadata": {},
          "execution_count": 2
        }
      ],
      "source": [
        "isimsoyisim"
      ]
    },
    {
      "cell_type": "markdown",
      "metadata": {
        "id": "SQY4EoyAtOvu"
      },
      "source": [
        "#### Soru\n",
        " Aşağıdaki değişken isimlerinden hangisi / hangileri yanlıştır?\n",
        "degişken= \"ahmet\"\n",
        "```python\n",
        "1) adı     = \"Ayşe\"\n",
        "2) 111.adı =\"Zehra\"\n",
        "3) sayi    = 1\n",
        "4) 1.sayı  = 1\n",
        "5) 1harf   = \"E\"\n",
        "6) harf1   = \"D\"\n",
        "7) harf_2  = \"h\"\n",
        "8) _harf  = \"k\"\n",
        "9) _      = 123\n",
        "10) z      = \"a\"\n",
        "11) a harfi= \"a\"\n",
        "12) z_harfi= 3\n",
        "13) dfafa  = 83.3245\n",
        "14) a&b    = 452.23\n",
        "15) a ile b= \"a ile b\"\n",
        "16) AAA    = 2.777\n",
        "17) if = \"eğer\"\n",
        "```"
      ]
    },
    {
      "cell_type": "markdown",
      "metadata": {
        "id": "IUdNswF8tOvv"
      },
      "source": [
        "```python\n",
        "1) isim rakam ile başlayamaz. İlave olarak, noktalama işareti olamaz.\n",
        "4) 1. maddedeki aynı gerekçe.\n",
        "5) 1. maddedeki aynı gerekçe.\n",
        "11) Değişken ismi boşluk karakteri olamaz, içeremez, ayrı iki kelime olamaz.\n",
        "14) Değişken ismi içerisinde özel karakterler olamaz.\n",
        "15) 11. maddedeki gerekçe.\n",
        "17) Değişken ismi Python diline ait özel kelime olamaz.\n",
        "```"
      ]
    },
    {
      "cell_type": "markdown",
      "source": [
        "### Operatörler"
      ],
      "metadata": {
        "id": "Jik-yHza7LkL"
      }
    },
    {
      "cell_type": "code",
      "execution_count": null,
      "metadata": {
        "id": "8Eu_ELRctOvn",
        "outputId": "7e939301-0a95-48f7-8863-aae1adee32b9"
      },
      "outputs": [
        {
          "name": "stdout",
          "output_type": "stream",
          "text": [
            "a'nın karesi : 10000, 100.0 %% 45\n"
          ]
        }
      ],
      "source": [
        "a = 100.\n",
        "b = '45'\n",
        "# a'nın karesi : (a karenin değeri), (a) %% (b)\n",
        "# ifadesini ekranda yazdıran kodu yazınız\n",
        "metin = \"a'nın karesi : \" + str(int(a**2)) + \", \" + str(a) + \" %% \" + str(b)\n",
        "print(metin)"
      ]
    },
    {
      "cell_type": "markdown",
      "metadata": {
        "id": "FuaAdZ-ktOv7"
      },
      "source": [
        "### İfadeler"
      ]
    },
    {
      "cell_type": "code",
      "execution_count": null,
      "metadata": {
        "id": "HotGGg5ztOv7"
      },
      "outputs": [],
      "source": []
    },
    {
      "cell_type": "markdown",
      "metadata": {
        "id": "WdilJaJYtOv7"
      },
      "source": [
        "#### Soru\n",
        "Tek satırda ve ardışık şekilde a, b ve c değişkenlerinin üçüne de 2 değerini vererek tanımlayınız. Sonucu ekrana yazdırınız."
      ]
    },
    {
      "cell_type": "code",
      "execution_count": null,
      "metadata": {
        "id": "d4g97XTitOv8"
      },
      "outputs": [],
      "source": [
        "a = b = c = 2\n",
        "print( a, b, c)"
      ]
    },
    {
      "cell_type": "markdown",
      "metadata": {
        "id": "wT7f_AiCtOv8"
      },
      "source": [
        "#### Soru\n",
        "Tek satırda ve ardışık şekilde a, b ve c değişkenlerine 3, 4, 5 değerleri vererek tanımlayınız. Sonucu ekrana yazdırınız."
      ]
    },
    {
      "cell_type": "code",
      "execution_count": null,
      "metadata": {
        "id": "YxJA2sootOv8"
      },
      "outputs": [],
      "source": [
        "a, b, c = 3, 4, 5\n",
        "print( a, b, c)"
      ]
    },
    {
      "cell_type": "markdown",
      "metadata": {
        "id": "9kooXJ1AtOv9"
      },
      "source": [
        "#### Soru\n",
        " $ 3 + 4 *5$ ifadesinin sonucu nedir? Hesaplatınız."
      ]
    },
    {
      "cell_type": "code",
      "execution_count": null,
      "metadata": {
        "id": "YipN8OV-tOv9"
      },
      "outputs": [],
      "source": [
        "print(3 + 4 * 5)"
      ]
    },
    {
      "cell_type": "markdown",
      "metadata": {
        "id": "8araEV0WtOv9"
      },
      "source": [
        "#### Soru\n",
        " $ 3 + 4 *5$ ifadesinde değerleri değiştirmeden, operatör önceliklerini değiştirerek, sonucu 35 yapan düzenlemeyi yazınız."
      ]
    },
    {
      "cell_type": "code",
      "execution_count": null,
      "metadata": {
        "id": "Yn10EbPjtOv-"
      },
      "outputs": [],
      "source": [
        "print( (3 + 4) * 5)"
      ]
    },
    {
      "cell_type": "markdown",
      "metadata": {
        "heading_collapsed": "true",
        "id": "d-tOguY7tOv-"
      },
      "source": [
        "#### Soru\n",
        "9 * 3 / 6 / 2 * 8 ifadesinin sonucu nedir? Önce düşünüp cevaplayınız; ardından Python'a hesaplatınız."
      ]
    },
    {
      "cell_type": "markdown",
      "metadata": {
        "id": "UaZm7vUotOv_"
      },
      "source": [
        "Aynı önceliğe sahip operatörler soldan sağa doğru sıra ile işleme alınır."
      ]
    },
    {
      "cell_type": "code",
      "execution_count": null,
      "metadata": {
        "id": "YtnB1ZXxtOv_",
        "outputId": "09aaf809-aa32-42fe-b41a-f2dca0503c30",
        "colab": {
          "base_uri": "https://localhost:8080/"
        }
      },
      "outputs": [
        {
          "output_type": "stream",
          "name": "stdout",
          "text": [
            "18.0\n"
          ]
        }
      ],
      "source": [
        "print(9 * 3 / 6 / 2 * 8 )"
      ]
    },
    {
      "cell_type": "markdown",
      "metadata": {
        "id": "CZTQc-HJtOv_"
      },
      "source": [
        "Önce çarpma işlemleri, sonra da bölme işlemleri yapılıyor olsaydı sonuç:"
      ]
    },
    {
      "cell_type": "code",
      "execution_count": null,
      "metadata": {
        "id": "vAFH0ZWLtOv_",
        "outputId": "dfc251de-76cc-4231-d08a-b032fbdb2c0b"
      },
      "outputs": [
        {
          "name": "stdout",
          "output_type": "stream",
          "text": [
            "0.28125\n"
          ]
        }
      ],
      "source": [
        "print( (9 * 3) / 6 / (2 * 8))"
      ]
    },
    {
      "cell_type": "markdown",
      "metadata": {
        "id": "96HvQGH1tOwA"
      },
      "source": [
        "Önce bölme işlemlerini, sonra da çarpma işlemleri yapılıyor olsaydı sonuç:"
      ]
    },
    {
      "cell_type": "code",
      "execution_count": null,
      "metadata": {
        "id": "3Gq3BKfltOwA"
      },
      "outputs": [],
      "source": [
        "print( 9 * ((3 / 6) / 2) * 8)"
      ]
    },
    {
      "cell_type": "markdown",
      "metadata": {
        "heading_collapsed": "true",
        "id": "zqd-hQkltOwA"
      },
      "source": [
        "#### Soru\n",
        "**$ x = \\frac{9+5}{2}$**  ifadesini Python dilinde yazınız ve işlem sonucunu hesaplatınız. Sonuç Hangi veri tipindedir?"
      ]
    },
    {
      "cell_type": "code",
      "execution_count": null,
      "metadata": {
        "id": "Uu3E_kiftOwA"
      },
      "outputs": [],
      "source": [
        "x = ( 9 + 5) / 2\n",
        "print(x)"
      ]
    },
    {
      "cell_type": "markdown",
      "metadata": {
        "id": "CQPO07J-tOwB"
      },
      "source": [
        "#### Soru\n",
        "a ve b kenarları sırasıyla 5 ve 8 değerlerine sahip olan dik üçgenin c kenarının uzunluğunu ve üçgenin alanını bulunuz. Sonuçları ekrana yazdırınız."
      ]
    },
    {
      "cell_type": "code",
      "execution_count": null,
      "metadata": {
        "id": "GjaCpJ5jtOwB"
      },
      "outputs": [],
      "source": [
        "a = 5\n",
        "b = 8\n",
        "c = (a**2 + b**2)**0.5\n",
        "alan = a * b / 2\n",
        "\n",
        "print(\"c kenarı \", c, \" uzunluğundadır.\")\n",
        "print(\"üçgenin alanı %f %s\" % (alan, \"'dir.\" )) # %f gerçel sayı, %s metin"
      ]
    },
    {
      "cell_type": "markdown",
      "metadata": {
        "heading_collapsed": "true",
        "id": "1Fqv8gpztOwB"
      },
      "source": [
        "#### Soru\n",
        "**$ A = \\pi r^2$**   ifadesini Python dilinde yazınız ve r=4 için işlem sonucunu hesaplatınız. Sonuç hangi veri tipindedir?"
      ]
    },
    {
      "cell_type": "code",
      "execution_count": null,
      "metadata": {
        "id": "k2P7XbjotOwC"
      },
      "outputs": [],
      "source": [
        "pi = 3.1415\n",
        "r = 4\n",
        "A = pi * r**2\n",
        "print(\"A'nın değeri: \", A)  # sonuç float (gerçel sayı) tipindedir.\n",
        "\n",
        "# tipini öğrenelim\n",
        "print(\"Tipi: \" + str(type(A)))"
      ]
    },
    {
      "cell_type": "markdown",
      "metadata": {
        "id": "ixOoOSgktOwH"
      },
      "source": [
        "#### Soru\n",
        "$ x = \\frac{-b + \\sqrt{b^2-4ac}}{2a} $\n",
        "\n",
        "ifadesini Python dilinde yazınız ve a=2, b=4, c=2 için x değerini hesaplatınız."
      ]
    },
    {
      "cell_type": "code",
      "execution_count": null,
      "metadata": {
        "id": "nCH3GZRFtOwI"
      },
      "outputs": [],
      "source": [
        "a = 2\n",
        "b = 4\n",
        "c = 2\n",
        "\n",
        "x = (-b + (b**2 -4*a*c)**(0.5) ) / (2*a)\n",
        "print(x)"
      ]
    },
    {
      "cell_type": "code",
      "execution_count": null,
      "metadata": {
        "id": "3w2Iyln6tOwI"
      },
      "outputs": [],
      "source": []
    },
    {
      "cell_type": "markdown",
      "source": [
        "### Karşılaştırma Operatörleri"
      ],
      "metadata": {
        "id": "rD0_HHwS7QSs"
      }
    },
    {
      "cell_type": "code",
      "source": [
        "print('False and True =>',  not (False and not not not True) )\n",
        "\n",
        "print('True and True =>',  True and True)\n",
        "\n",
        "print('False and False =>',  False and False)\n",
        "\n",
        "print('True and False =>',  True and False )\n"
      ],
      "metadata": {
        "colab": {
          "base_uri": "https://localhost:8080/"
        },
        "id": "13nswZvZPoW1",
        "outputId": "c203b6ed-3be0-44ab-bb8e-7722a7f180b3"
      },
      "execution_count": null,
      "outputs": [
        {
          "output_type": "stream",
          "name": "stdout",
          "text": [
            "False and True => True\n",
            "True and True => True\n",
            "False and False => False\n",
            "True and False => False\n"
          ]
        }
      ]
    },
    {
      "cell_type": "code",
      "source": [
        "\"Ali\" == \"ali\"\n"
      ],
      "metadata": {
        "colab": {
          "base_uri": "https://localhost:8080/"
        },
        "id": "JdsMJvz5OpAv",
        "outputId": "fc614a30-17b2-4cea-d7bc-b89ad71e307d"
      },
      "execution_count": null,
      "outputs": [
        {
          "output_type": "execute_result",
          "data": {
            "text/plain": [
              "False"
            ]
          },
          "metadata": {},
          "execution_count": 1
        }
      ]
    },
    {
      "cell_type": "markdown",
      "source": [
        "### Temel Veri Yapıları"
      ],
      "metadata": {
        "id": "2YJIUI-q6tiw"
      }
    },
    {
      "cell_type": "code",
      "execution_count": null,
      "metadata": {
        "id": "J0RqcFm_tOvd",
        "outputId": "4ca07ce2-9670-4423-e69c-56616f419268"
      },
      "outputs": [
        {
          "data": {
            "text/plain": [
              "3"
            ]
          },
          "execution_count": 39,
          "metadata": {},
          "output_type": "execute_result"
        }
      ],
      "source": [
        "x = \"3\" #string tipinde\n",
        "int(x) # string verisini integer'a dönüştürdük"
      ]
    },
    {
      "cell_type": "code",
      "execution_count": null,
      "metadata": {
        "id": "-BfUPlPqtOvf",
        "outputId": "18639953-10cd-422a-d00b-fd906a40b12b"
      },
      "outputs": [
        {
          "data": {
            "text/plain": [
              "6.141500000000001"
            ]
          },
          "execution_count": 45,
          "metadata": {},
          "output_type": "execute_result"
        }
      ],
      "source": [
        "int(x) + float('3.1415')"
      ]
    },
    {
      "cell_type": "code",
      "execution_count": null,
      "metadata": {
        "id": "sDI0FThKtOvg",
        "outputId": "4d7675e1-5a6e-4290-98f0-21fa5043be32"
      },
      "outputs": [
        {
          "data": {
            "text/plain": [
              "13"
            ]
          },
          "execution_count": 44,
          "metadata": {},
          "output_type": "execute_result"
        }
      ],
      "source": [
        "int(x) + y"
      ]
    },
    {
      "cell_type": "code",
      "execution_count": null,
      "metadata": {
        "id": "G6HJXLc7tOvh",
        "outputId": "f0138009-04de-45ae-ad48-3ac91e2eeee8"
      },
      "outputs": [
        {
          "data": {
            "text/plain": [
              "'310'"
            ]
          },
          "execution_count": 42,
          "metadata": {},
          "output_type": "execute_result"
        }
      ],
      "source": [
        "x + str(y)"
      ]
    },
    {
      "cell_type": "code",
      "execution_count": null,
      "metadata": {
        "id": "dBBsyfmUtOvj",
        "outputId": "a316f3b5-0d85-43bc-c5f4-e8b0c44cb4be"
      },
      "outputs": [
        {
          "name": "stdout",
          "output_type": "stream",
          "text": [
            "isim değişkeninin tipi: <class 'str'>\n"
          ]
        }
      ],
      "source": [
        "print(\"isim değişkeninin tipi:\", type(isim) )"
      ]
    },
    {
      "cell_type": "code",
      "execution_count": null,
      "metadata": {
        "id": "X1AGXL1itOvk",
        "outputId": "86719ac9-2949-4036-dd25-e534b7abc9ce"
      },
      "outputs": [
        {
          "data": {
            "text/plain": [
              "float"
            ]
          },
          "execution_count": 14,
          "metadata": {},
          "output_type": "execute_result"
        }
      ],
      "source": [
        "type(a + c)"
      ]
    },
    {
      "cell_type": "code",
      "execution_count": null,
      "metadata": {
        "id": "ZkFbHfG_tOvm",
        "outputId": "5b37e758-a2db-4a81-cfb8-c98f49bdbff7"
      },
      "outputs": [
        {
          "data": {
            "text/plain": [
              "2.2222222222222223"
            ]
          },
          "execution_count": 47,
          "metadata": {},
          "output_type": "execute_result"
        }
      ],
      "source": [
        "a = 100.\n",
        "b = '45'\n",
        "\n",
        "a / float(b)"
      ]
    },
    {
      "cell_type": "markdown",
      "source": [
        "## Döngüler"
      ],
      "metadata": {
        "id": "y2AzBN8s6tfo"
      }
    },
    {
      "cell_type": "markdown",
      "source": [
        "### Range"
      ],
      "metadata": {
        "id": "ISUWn7KqgbWE"
      }
    },
    {
      "cell_type": "code",
      "source": [
        "# range() aralık\n",
        "\n",
        "# range(<başlama> =0, <bitiş (hariç)>, <adım> =0 )\n",
        "\n",
        "# range(100)\n",
        "\n",
        "range(0, 101, 1)\n",
        "\n",
        "\n",
        "list(range(0,101,1))\n",
        "\n",
        "\n",
        "range(5,101,) # 5'ten 100'e\n",
        "\n",
        "range(101) # 0'dan 100'e\n",
        "\n",
        "range(0,101, 2) # 0 'dan 2 şer 100'e\n"
      ],
      "metadata": {
        "colab": {
          "base_uri": "https://localhost:8080/"
        },
        "id": "VlrPzt9UHGMZ",
        "outputId": "e371b0fe-f4b6-4d9a-d186-0ab96f89ad9c"
      },
      "execution_count": null,
      "outputs": [
        {
          "output_type": "execute_result",
          "data": {
            "text/plain": [
              "range(0, 101, 2)"
            ]
          },
          "metadata": {},
          "execution_count": 1
        }
      ]
    },
    {
      "cell_type": "markdown",
      "source": [
        "### For Döngüsü"
      ],
      "metadata": {
        "id": "BBCn9bWQgfFt"
      }
    },
    {
      "cell_type": "code",
      "source": [],
      "metadata": {
        "id": "62apGGvV42lu"
      },
      "execution_count": null,
      "outputs": []
    },
    {
      "cell_type": "markdown",
      "metadata": {
        "id": "JbnbFYE8XZeS"
      },
      "source": [
        "#### Soru\n",
        "100'e dek 3'ün katlarını yazdıran programı yazınız"
      ]
    },
    {
      "cell_type": "code",
      "source": [
        "# 100'e dek olan 3'ün katları\n",
        "toplam = 0 # toplamları tutmak için\n",
        "\n",
        "for sayi in range(3,100,3):\n",
        "  print(sayi, end=', ') # end=', ' ifadesi aynı satırda aralara virgül koyarak yazdırmak için"
      ],
      "metadata": {
        "colab": {
          "base_uri": "https://localhost:8080/"
        },
        "id": "xTJj7BcHMzNa",
        "outputId": "535b0a58-0f33-4f56-e7ee-777cb213d11b"
      },
      "execution_count": null,
      "outputs": [
        {
          "output_type": "stream",
          "name": "stdout",
          "text": [
            "3, 6, 9, 12, 15, 18, 21, 24, 27, 30, 33, 36, 39, 42, 45, 48, 51, 54, 57, 60, 63, 66, 69, 72, 75, 78, 81, 84, 87, 90, 93, 96, 99, "
          ]
        }
      ]
    },
    {
      "cell_type": "markdown",
      "source": [
        "#### Soru\n",
        "100'e dek 3'ün katlarının toplamını veren kodu yazınız?"
      ],
      "metadata": {
        "id": "l3Wxmng1pn7J"
      }
    },
    {
      "cell_type": "code",
      "source": [
        "# 100'e dek olan 3'ün katları\n",
        "toplam =0\n",
        "for ucun_kati in range(3,100,3):\n",
        "\n",
        "  toplam = ucun_kati + toplam"
      ],
      "metadata": {
        "id": "PdLNSEBnIW2p"
      },
      "execution_count": null,
      "outputs": []
    },
    {
      "cell_type": "markdown",
      "metadata": {
        "id": "K3xnczzstOxb"
      },
      "source": [
        "#### Soru\n",
        "\"Şu yoğurdu sarımsaklasak da mı saklasak, sarımsaklamasak da mı saklasak?\" tekerlemesinin harflerini **for** döngüsü ile yazdırınız?"
      ]
    },
    {
      "cell_type": "code",
      "execution_count": null,
      "metadata": {
        "id": "iM88LX12tOxb",
        "outputId": "fb198636-7f70-4e22-c49d-df3a42c3a34f",
        "colab": {
          "base_uri": "https://localhost:8080/"
        }
      },
      "outputs": [
        {
          "output_type": "stream",
          "name": "stdout",
          "text": [
            "Ş\n",
            "u\n",
            " \n",
            "y\n",
            "o\n",
            "ğ\n",
            "u\n",
            "r\n",
            "d\n",
            "u\n",
            " \n",
            "s\n",
            "a\n",
            "r\n",
            "ı\n",
            "m\n",
            "s\n",
            "a\n",
            "k\n",
            "l\n",
            "a\n",
            "s\n",
            "a\n",
            "k\n",
            " \n",
            "d\n",
            "a\n",
            " \n",
            "m\n",
            "ı\n",
            " \n",
            "s\n",
            "a\n",
            "k\n",
            "l\n",
            "a\n",
            "s\n",
            "a\n",
            "k\n",
            ",\n",
            " \n",
            "s\n",
            "a\n",
            "r\n",
            "ı\n",
            "m\n",
            "s\n",
            "a\n",
            "k\n",
            "l\n",
            "a\n",
            "m\n",
            "a\n",
            "s\n",
            "a\n",
            "k\n",
            " \n",
            "d\n",
            "a\n",
            " \n",
            "m\n",
            "ı\n",
            " \n",
            "s\n",
            "a\n",
            "k\n",
            "l\n",
            "a\n",
            "s\n",
            "a\n",
            "k\n",
            "?\n"
          ]
        }
      ],
      "source": [
        "tekerleme = \"Şu yoğurdu sarımsaklasak da mı saklasak, sarımsaklamasak da mı saklasak?\"\n",
        "\n",
        "for harf in range(len(tekerleme)):\n",
        "    print(tekerleme[harf])"
      ]
    },
    {
      "cell_type": "markdown",
      "metadata": {
        "heading_collapsed": "true",
        "id": "RXdPAgpQtOxc"
      },
      "source": [
        "##### Cevap 2"
      ]
    },
    {
      "cell_type": "code",
      "execution_count": null,
      "metadata": {
        "id": "P-HvhWestOxc",
        "outputId": "3167c2c0-0df5-4a99-f321-2a66c00fd32d",
        "colab": {
          "base_uri": "https://localhost:8080/"
        }
      },
      "outputs": [
        {
          "output_type": "stream",
          "name": "stdout",
          "text": [
            "Ş\n",
            "u\n",
            " \n",
            "y\n",
            "o\n",
            "ğ\n",
            "u\n",
            "r\n",
            "d\n",
            "u\n",
            " \n",
            "s\n",
            "a\n",
            "r\n",
            "ı\n",
            "m\n",
            "s\n",
            "a\n",
            "k\n",
            "l\n",
            "a\n",
            "s\n",
            "a\n",
            "k\n",
            " \n",
            "d\n",
            "a\n",
            " \n",
            "m\n",
            "ı\n",
            " \n",
            "s\n",
            "a\n",
            "k\n",
            "l\n",
            "a\n",
            "s\n",
            "a\n",
            "k\n",
            ",\n",
            " \n",
            "s\n",
            "a\n",
            "r\n",
            "ı\n",
            "m\n",
            "s\n",
            "a\n",
            "k\n",
            "l\n",
            "a\n",
            "m\n",
            "a\n",
            "s\n",
            "a\n",
            "k\n",
            " \n",
            "d\n",
            "a\n",
            " \n",
            "m\n",
            "ı\n",
            " \n",
            "s\n",
            "a\n",
            "k\n",
            "l\n",
            "a\n",
            "s\n",
            "a\n",
            "k\n",
            "?\n"
          ]
        }
      ],
      "source": [
        "tekerleme = \"Şu yoğurdu sarımsaklasak da mı saklasak, sarımsaklamasak da mı saklasak?\"\n",
        "\n",
        "for harf in tekerleme:\n",
        "    print(harf)"
      ]
    },
    {
      "cell_type": "markdown",
      "metadata": {
        "id": "hdmxtHz9tOxJ"
      },
      "source": [
        "#### Soru\n",
        "1000'e kadar 7'nin katlarını hesaplayan ve bu sayıların ortalamasını veren programı yazınız"
      ]
    },
    {
      "cell_type": "code",
      "execution_count": null,
      "metadata": {
        "id": "jNveodp0tOxJ",
        "colab": {
          "base_uri": "https://localhost:8080/"
        },
        "outputId": "904ce1e9-6080-41a3-ba8d-73faab9755aa"
      },
      "outputs": [
        {
          "output_type": "stream",
          "name": "stdout",
          "text": [
            "Genel Toplam:  71071\n",
            "Ortalama:  500.5\n"
          ]
        }
      ],
      "source": [
        "aralik = range(7,1000,7)\n",
        "toplam = 0 # toplamları tutmak için\n",
        "\n",
        "for sayi in aralik:\n",
        "\n",
        "  toplam = sayi + toplam\n",
        "\n",
        "  # print(\"Döngü içinde: üçün_katı:\", _not, \"\\tToplam: \", toplam)\n",
        "  # time.sleep(1.5)\n",
        "\n",
        "print(\"Genel Toplam: \", toplam)\n",
        "ortalama = toplam / len(aralik)\n",
        "print('Ortalama: ', ortalama)"
      ]
    },
    {
      "cell_type": "markdown",
      "source": [
        "####Soru\n",
        "Bir harfin bir metinde kaç defa geçtiğini bulan bir fonksiyon yazınız?"
      ],
      "metadata": {
        "id": "Iudx3Vyyq6td"
      }
    },
    {
      "cell_type": "code",
      "execution_count": null,
      "metadata": {
        "id": "OfvEl_cztOxY",
        "outputId": "fab95b04-8da2-4e88-d11c-30ea66c21e50",
        "colab": {
          "base_uri": "https://localhost:8080/"
        }
      },
      "outputs": [
        {
          "output_type": "stream",
          "name": "stdout",
          "text": [
            "' a ' metinde 3  tane var.\n"
          ]
        },
        {
          "output_type": "execute_result",
          "data": {
            "text/plain": [
              "3"
            ]
          },
          "metadata": {},
          "execution_count": 7
        }
      ],
      "source": [
        "metin = \"Merhaba Dünya\"\n",
        "aranan= \"a\"\n",
        "\n",
        "def kac_defa_var(metin, aranan):\n",
        "  adet=0\n",
        "\n",
        "  for harf in metin:\n",
        "      if harf == aranan:\n",
        "          adet = adet + 1\n",
        "\n",
        "  if adet == 0:\n",
        "      print(\"'\" , aranan, \"'\", \" bu metinde hiç yok\")\n",
        "  else:\n",
        "      print(\"'\" , aranan, \"'\", \"metinde\" , adet, \" tane var.\")\n",
        "\n",
        "  return adet\n",
        "\n",
        "kac_defa_var(metin, aranan)"
      ]
    },
    {
      "cell_type": "markdown",
      "source": [
        "#### Soru\n",
        "1000'e kadar 7'nin katlarını hesaplayan ve bu sayıların ortalamasını veren programı bu kez range() fonksiyonunda ilk değer 1 ve adımı da 1 olacak şekilde (döngüde her seferinde sayı 1 artsın) yapınız?"
      ],
      "metadata": {
        "id": "kdTik4NUeCW_"
      }
    },
    {
      "cell_type": "code",
      "source": [
        "aralik = range(1,1000,1)\n",
        "toplam = 0 # toplamları tutmak için\n",
        "\n",
        "for sayi in aralik:\n",
        "  if sayi % 7 ==0:\n",
        "    toplam = sayi + toplam\n",
        "\n",
        "  # print(\"Döngü içinde: üçün_katı:\", _not, \"\\tToplam: \", toplam)\n",
        "  # time.sleep(1.5)\n",
        "\n",
        "print(\"Genel Toplam: \", toplam)\n",
        "ortalama = toplam / len(aralik)\n",
        "print('Ortalama: ', ortalama)"
      ],
      "metadata": {
        "id": "wL7eDTnVeaUw",
        "colab": {
          "base_uri": "https://localhost:8080/"
        },
        "outputId": "a6b3c6c8-f342-4ad9-e89c-cff7b8c93d8b"
      },
      "execution_count": null,
      "outputs": [
        {
          "output_type": "stream",
          "name": "stdout",
          "text": [
            "Genel Toplam:  71071\n",
            "Ortalama:  71.14214214214215\n"
          ]
        }
      ]
    },
    {
      "cell_type": "code",
      "source": [
        "\n",
        "aralik = range(1,1000,1) #\n",
        "yedi_katlari= list() #\n",
        "yedi_kat_kareleri= list() #\n",
        "\n",
        "for sayi in aralik:\n",
        "  if sayi % 7 ==0:\n",
        "    yedi_katlari.append(sayi)\n",
        "\n",
        "#\n",
        "for i in yedi_katlari:\n",
        "    yedi_kat_kareleri.append(i**2)\n",
        "\n",
        "len(yedi_katlari), len(yedi_kat_kareleri)\n"
      ],
      "metadata": {
        "colab": {
          "base_uri": "https://localhost:8080/"
        },
        "id": "lMmH3c9zDXWE",
        "outputId": "3b6f084e-ba70-46a0-8665-7dc93d95c712"
      },
      "execution_count": null,
      "outputs": [
        {
          "output_type": "execute_result",
          "data": {
            "text/plain": [
              "(142, 142)"
            ]
          },
          "metadata": {},
          "execution_count": 9
        }
      ]
    },
    {
      "cell_type": "markdown",
      "source": [
        "#### Soru\n",
        "sayilar = {\"bir\":1, \"iki\":2, \"üç\":3, \"dört\":4, \"beş\":5} sözlüğünün anahtar ve değerlerini for döngüsü ile alarak; anahtar ve değerleri yazdırınız?"
      ],
      "metadata": {
        "id": "FNZHbuE7a4m0"
      }
    },
    {
      "cell_type": "code",
      "source": [
        "sayilar = {\"bir\":1, \"iki\":2, \"üç\":3, \"dört\":4, \"beş\":5}\n",
        "\n",
        "for key in sayilar.keys():\n",
        "  print(key, sayilar[key])"
      ],
      "metadata": {
        "colab": {
          "base_uri": "https://localhost:8080/"
        },
        "id": "gXN4-_lIbGsK",
        "outputId": "d9c1f4e7-db47-412e-c6fe-25366baddb8e"
      },
      "execution_count": null,
      "outputs": [
        {
          "output_type": "stream",
          "name": "stdout",
          "text": [
            "bir 1\n",
            "iki 2\n",
            "üç 3\n",
            "dört 4\n",
            "beş 5\n"
          ]
        }
      ]
    },
    {
      "cell_type": "markdown",
      "source": [
        "##### ikinci yol"
      ],
      "metadata": {
        "id": "OF7LQaUAIU3d"
      }
    },
    {
      "cell_type": "code",
      "source": [
        "sayilar = {\"bir\":1, \"iki\":2, \"üç\":3, \"dört\":4, \"beş\":5}\n",
        "\n",
        "for key, value in sayilar.items():\n",
        "  print(key, value)\n",
        "\n",
        "  # (anahtar, değer)"
      ],
      "metadata": {
        "colab": {
          "base_uri": "https://localhost:8080/"
        },
        "id": "gcti-KXbH4jG",
        "outputId": "d0480109-47ca-4cdb-a8d5-3f963e22b316"
      },
      "execution_count": null,
      "outputs": [
        {
          "output_type": "stream",
          "name": "stdout",
          "text": [
            "bir 1\n",
            "iki 2\n",
            "üç 3\n",
            "dört 4\n",
            "beş 5\n"
          ]
        }
      ]
    },
    {
      "cell_type": "markdown",
      "source": [
        "#### Soru\n",
        "y = ax$^2$+bx+c denklemini a=2, b=3, c=-4 olacak şekilde, x'in -100'den 100'e (dahil) kadar aralığı için hesaplayan bir fonksiyon yazınız?"
      ],
      "metadata": {
        "id": "NmG_i26jYcun"
      }
    },
    {
      "cell_type": "code",
      "source": [
        "def parabol(a, b, c, x, ):\n",
        "  \"\"\"\n",
        "  ax^2 + bx + c fonksiyonunu verilen değerler için hesaplar\n",
        "  params:\n",
        "  a: float. ilk param...\n",
        "  b:\n",
        "  c:\n",
        "  x: liste.\n",
        "  \"\"\"\n",
        "  yler=list() # []\n",
        "\n",
        "  for i in x:\n",
        "    y = a*i**2 + b*i + c\n",
        "    yler.append(y)\n",
        "  return yler\n",
        "\n",
        "x=range(-100,101)\n",
        "y = parabol(2, 3, -4, x) # sonuç bir listedir."
      ],
      "metadata": {
        "id": "2VSXvhfUY2in"
      },
      "execution_count": null,
      "outputs": []
    },
    {
      "cell_type": "markdown",
      "source": [
        "###### bu parabolü pyplot ile çizdiriniz?"
      ],
      "metadata": {
        "id": "TmLxsZMVZg4n"
      }
    },
    {
      "cell_type": "code",
      "source": [
        "from matplotlib import pyplot as plt\n",
        "\n",
        "plt.plot(x,y)\n",
        "plt.xlabel('X değeri')\n",
        "plt.ylabel('Y değeri')\n",
        "plt.show()"
      ],
      "metadata": {
        "colab": {
          "base_uri": "https://localhost:8080/"
        },
        "id": "0WVM5jwjZmSj",
        "outputId": "4b4a1b49-3328-4ebb-ee93-044bb5ced96a"
      },
      "execution_count": null,
      "outputs": [
        {
          "output_type": "display_data",
          "data": {
            "text/plain": [
              "<Figure size 640x480 with 1 Axes>"
            ],
            "image/png": "[encoded data removed]"
          },
          "metadata": {}
        }
      ]
    },
    {
      "cell_type": "code",
      "source": [
        "from matplotlib import pyplot as plt\n",
        "\n",
        "plt.bar(x,y)\n",
        "plt.xlabel('X değeri')\n",
        "plt.ylabel('Y değeri')\n",
        "plt.show()"
      ],
      "metadata": {
        "colab": {
          "base_uri": "https://localhost:8080/"
        },
        "id": "ej8wNRaiLWzL",
        "outputId": "3d7bf5e4-1402-45e5-d8e7-9e7e62f7b24d"
      },
      "execution_count": null,
      "outputs": [
        {
          "output_type": "display_data",
          "data": {
            "text/plain": [
              "<Figure size 640x480 with 1 Axes>"
            ],
            "image/png": "[encoded data removed]"
          },
          "metadata": {}
        }
      ]
    },
    {
      "cell_type": "markdown",
      "source": [
        "#### Soru\n",
        "'elma', 'armut', 'karpuz', 'mandalina' meyvelerini bir tuple içerisinde tanımlayınız. 'pırasa', 'ıspanak', 'brokoli' sebzelerini de diğer bir listede olacak şekilde tanımlayınız. Ardından, iki dizideki elemanları (<meyvenin bir elemanı>, <sebzenin elemanı>) şeklinde, tüm elemanlar kartezyen çarpım olacak şekilde bir liste içerisine kayıt ediniz?\n",
        "Örnek;\n",
        "\n",
        "('elma', 'pırasa')\n",
        "\n",
        "('elma', 'brokoli')\n",
        "\n",
        "..."
      ],
      "metadata": {
        "id": "OpqmzmEbbz19"
      }
    },
    {
      "cell_type": "code",
      "source": [
        "meyveler= ('elma', 'armut', 'karpuz', 'mandalina') # bir tuple\n",
        "sebzeler = 'pırasa', 'ıspanak', 'brokoli' # bir tuple\n",
        "\n",
        "kartezyen_liste= list() # ya da = []\n",
        "\n",
        "for meyve in meyveler:\n",
        "  for sebze in sebzeler:\n",
        "    kartezyen_liste.append((meyve, sebze))\n",
        "\n",
        "kartezyen_liste"
      ],
      "metadata": {
        "colab": {
          "base_uri": "https://localhost:8080/"
        },
        "id": "QxaJiXWeckch",
        "outputId": "b9cb1974-b45c-45bd-b3c8-91a7be52e3e4"
      },
      "execution_count": null,
      "outputs": [
        {
          "output_type": "execute_result",
          "data": {
            "text/plain": [
              "[('elma', 'pırasa'),\n",
              " ('elma', 'ıspanak'),\n",
              " ('elma', 'brokoli'),\n",
              " ('armut', 'pırasa'),\n",
              " ('armut', 'ıspanak'),\n",
              " ('armut', 'brokoli'),\n",
              " ('karpuz', 'pırasa'),\n",
              " ('karpuz', 'ıspanak'),\n",
              " ('karpuz', 'brokoli'),\n",
              " ('mandalina', 'pırasa'),\n",
              " ('mandalina', 'ıspanak'),\n",
              " ('mandalina', 'brokoli')]"
            ]
          },
          "metadata": {},
          "execution_count": 15
        }
      ]
    },
    {
      "cell_type": "markdown",
      "source": [
        "Bir metnin içinde diğer metnin varlığını sorgulayan fonksiyon\n",
        "\n",
        "tekerleme = \"Bir bbberber bir berbere bire berber gel beraber bir berber dükkânı açalım demiş\"\n",
        "\n",
        "aranan = 'berber'"
      ],
      "metadata": {
        "id": "MviVL-jIRHe-"
      }
    },
    {
      "cell_type": "code",
      "source": [
        "def alt_metni_bul(ana_metin, aranan_metin):\n",
        "  n_ana_metin = len(ana_metin)\n",
        "\n",
        "  for idx in range(n_ana_metin):\n",
        "    if ana_metin[idx] == aranan_metin[0]:\n",
        "      bulundu = True\n",
        "      n_aranan_metin = len(aranan_metin)\n",
        "      for j in range(1, n_aranan_metin):\n",
        "        if ana_metin[idx + j] != aranan_metin[j]:\n",
        "          bulundu = False\n",
        "          break\n",
        "\n",
        "      if bulundu:\n",
        "        return idx\n",
        "\n",
        "  return -1\n",
        "\n",
        "\n",
        "tekerleme = \"Bir berber bir berbere bire berber gel beraber bir berber dükkânı açalım demiş\"\n",
        "aranan = 'berber'\n",
        "\n",
        "def tum_alt_metni_bul(ana_metin, aranan_metin):\n",
        "  n_ana_metin = len(ana_metin)\n",
        "  idxs = list()\n",
        "\n",
        "  for idx in range(n_ana_metin):\n",
        "    if ana_metin[idx] == aranan_metin[0]:\n",
        "      bulundu = True\n",
        "      n_aranan_metin = len(aranan_metin)\n",
        "      for j in range(1, n_aranan_metin):\n",
        "        if ana_metin[idx + j] != aranan_metin[j]:\n",
        "          bulundu = False\n",
        "          break\n",
        "\n",
        "      if bulundu:\n",
        "        idxs.append(idx)\n",
        "        idx += n_aranan_metin\n",
        "\n",
        "  if len(idxs) ==0:\n",
        "    return -1\n",
        "  else:\n",
        "    return idxs\n",
        "\n",
        "\n",
        "\n",
        "\n",
        "def tum_alt_metni_bul_tersten(ana_metin, aranan_metin):\n",
        "  n_ana_metin = len(ana_metin)\n",
        "  idxs = list()\n",
        "\n",
        "  for idx in range(n_ana_metin):\n",
        "    if ana_metin[idx] == aranan_metin[0]:\n",
        "      bulundu = True\n",
        "      n_aranan_metin = len(aranan_metin)\n",
        "      for j in range(n_aranan_metin -1, 0, -1):\n",
        "        if ana_metin[idx + j] != aranan_metin[j]:\n",
        "          bulundu = False\n",
        "          break\n",
        "\n",
        "      if bulundu:\n",
        "        idxs.append(idx)\n",
        "        idx += n_aranan_metin\n",
        "\n",
        "  if len(idxs) ==0:\n",
        "    return -1\n",
        "  else:\n",
        "    return idxs\n"
      ],
      "metadata": {
        "id": "Xc91CmtiRCQg"
      },
      "execution_count": null,
      "outputs": []
    },
    {
      "cell_type": "code",
      "source": [
        "for i in tum_alt_metni_bul(tekerleme, aranan):\n",
        "  print(tekerleme[i:i+len(aranan)])\n",
        "print()\n",
        "for i in tum_alt_metni_bul_tersten(tekerleme, aranan):\n",
        "  print(tekerleme[i:i+len(aranan)])"
      ],
      "metadata": {
        "colab": {
          "base_uri": "https://localhost:8080/"
        },
        "id": "Jaq6s2gUjoYN",
        "outputId": "89228593-a0c2-486e-a734-822a4c464c13"
      },
      "execution_count": null,
      "outputs": [
        {
          "output_type": "stream",
          "name": "stdout",
          "text": [
            "berber\n",
            "berber\n",
            "berber\n",
            "berber\n",
            "\n",
            "berber\n",
            "berber\n",
            "berber\n",
            "berber\n"
          ]
        }
      ]
    },
    {
      "cell_type": "code",
      "source": [
        "import time\n",
        "\n",
        "start = time.time()\n",
        "for i in range(1000_000):\n",
        "  tum_alt_metni_bul(tekerleme, aranan)\n",
        "stop = time.time()\n",
        "ileri_zaman = stop - start\n",
        "\n",
        "start =time.time()\n",
        "for i in range(1000_000):\n",
        " tum_alt_metni_bul_tersten(tekerleme, aranan)\n",
        "\n",
        "stop= time.time()\n",
        "geri_zaman= stop - start\n",
        "\n",
        "ileri_zaman, geri_zaman\n"
      ],
      "metadata": {
        "colab": {
          "base_uri": "https://localhost:8080/",
          "height": 366
        },
        "id": "BCDDutW9dyEg",
        "outputId": "eb858417-6d0b-483d-a3c0-e9d8e6b98374"
      },
      "execution_count": null,
      "outputs": [
        {
          "output_type": "error",
          "ename": "KeyboardInterrupt",
          "evalue": "ignored",
          "traceback": [
            "\u001b[0;31m---------------------------------------------------------------------------\u001b[0m",
            "\u001b[0;31mKeyboardInterrupt\u001b[0m                         Traceback (most recent call last)",
            "\u001b[0;32m<ipython-input-18-f6cbd5213032>\u001b[0m in \u001b[0;36m<cell line: 4>\u001b[0;34m()\u001b[0m\n\u001b[1;32m      3\u001b[0m \u001b[0mstart\u001b[0m \u001b[0;34m=\u001b[0m \u001b[0mtime\u001b[0m\u001b[0;34m.\u001b[0m\u001b[0mtime\u001b[0m\u001b[0;34m(\u001b[0m\u001b[0;34m)\u001b[0m\u001b[0;34m\u001b[0m\u001b[0;34m\u001b[0m\u001b[0m\n\u001b[1;32m      4\u001b[0m \u001b[0;32mfor\u001b[0m \u001b[0mi\u001b[0m \u001b[0;32min\u001b[0m \u001b[0mrange\u001b[0m\u001b[0;34m(\u001b[0m\u001b[0;36m1000_000\u001b[0m\u001b[0;34m)\u001b[0m\u001b[0;34m:\u001b[0m\u001b[0;34m\u001b[0m\u001b[0;34m\u001b[0m\u001b[0m\n\u001b[0;32m----> 5\u001b[0;31m   \u001b[0mtum_alt_metni_bul\u001b[0m\u001b[0;34m(\u001b[0m\u001b[0mtekerleme\u001b[0m\u001b[0;34m,\u001b[0m \u001b[0maranan\u001b[0m\u001b[0;34m)\u001b[0m\u001b[0;34m\u001b[0m\u001b[0;34m\u001b[0m\u001b[0m\n\u001b[0m\u001b[1;32m      6\u001b[0m \u001b[0mstop\u001b[0m \u001b[0;34m=\u001b[0m \u001b[0mtime\u001b[0m\u001b[0;34m.\u001b[0m\u001b[0mtime\u001b[0m\u001b[0;34m(\u001b[0m\u001b[0;34m)\u001b[0m\u001b[0;34m\u001b[0m\u001b[0;34m\u001b[0m\u001b[0m\n\u001b[1;32m      7\u001b[0m \u001b[0mileri_zaman\u001b[0m \u001b[0;34m=\u001b[0m \u001b[0mstop\u001b[0m \u001b[0;34m-\u001b[0m \u001b[0mstart\u001b[0m\u001b[0;34m\u001b[0m\u001b[0;34m\u001b[0m\u001b[0m\n",
            "\u001b[0;32m<ipython-input-16-e4c34c41d9f3>\u001b[0m in \u001b[0;36mtum_alt_metni_bul\u001b[0;34m(ana_metin, aranan_metin)\u001b[0m\n\u001b[1;32m     33\u001b[0m           \u001b[0;32mbreak\u001b[0m\u001b[0;34m\u001b[0m\u001b[0;34m\u001b[0m\u001b[0m\n\u001b[1;32m     34\u001b[0m \u001b[0;34m\u001b[0m\u001b[0m\n\u001b[0;32m---> 35\u001b[0;31m       \u001b[0;32mif\u001b[0m \u001b[0mbulundu\u001b[0m\u001b[0;34m:\u001b[0m\u001b[0;34m\u001b[0m\u001b[0;34m\u001b[0m\u001b[0m\n\u001b[0m\u001b[1;32m     36\u001b[0m         \u001b[0midxs\u001b[0m\u001b[0;34m.\u001b[0m\u001b[0mappend\u001b[0m\u001b[0;34m(\u001b[0m\u001b[0midx\u001b[0m\u001b[0;34m)\u001b[0m\u001b[0;34m\u001b[0m\u001b[0;34m\u001b[0m\u001b[0m\n\u001b[1;32m     37\u001b[0m         \u001b[0midx\u001b[0m \u001b[0;34m+=\u001b[0m \u001b[0mn_aranan_metin\u001b[0m\u001b[0;34m\u001b[0m\u001b[0;34m\u001b[0m\u001b[0m\n",
            "\u001b[0;31mKeyboardInterrupt\u001b[0m: "
          ]
        }
      ]
    },
    {
      "cell_type": "markdown",
      "source": [
        "\n",
        "\n",
        "\n",
        "\n",
        "\n",
        "\n",
        "\n",
        "\n",
        "\n",
        "\n",
        "\n",
        "\n",
        "\n",
        "\n",
        "\n",
        "\n",
        "\n",
        "\n",
        "\n",
        "\n"
      ],
      "metadata": {
        "id": "cEOO1bKdRDjQ"
      }
    },
    {
      "cell_type": "markdown",
      "metadata": {
        "id": "S5xA1YO6tOxc"
      },
      "source": [
        "#### Soru\n",
        "\"Bir berber bir berbere bire berber gel beraber bir berber dükkânı açalım demiş\" tekerlemesinde \"berber\" kelimesinin var olup olmadığını, varsa ilk defa kaçıncı karakterden başladığını (yani, indis) bulan Python kodunu **for** döngüsü ile yazınız?"
      ]
    },
    {
      "cell_type": "code",
      "execution_count": null,
      "metadata": {
        "id": "21B3j9pUtOxd"
      },
      "outputs": [],
      "source": [
        "tekerleme = \"Bir berber bir berbere bire berber gel beraber bir berber dükkânı açalım demiş\"\n",
        "aranan = 'berber'\n",
        "\n",
        "poz = -1 # bulunamadı anlamında\n",
        "\n",
        "bulundu = False # aranan metin bulununca True olacak\n",
        "\n",
        "for indeks in range(len(tekerleme) - len(aranan)):\n",
        "    poz = indeks -1\n",
        "\n",
        "    if bulundu:# metin bulundu, aramayı sonlandır\n",
        "        break\n",
        "\n",
        "    for i in range(len(aranan)):\n",
        "\n",
        "        if tekerleme[indeks + i] != aranan[i]:\n",
        "            # karakterler eşleşmiyor, devam etme!\n",
        "            bulundu =False\n",
        "            break\n",
        "        else:\n",
        "            # buraya geldiyse, karakterler eşleşiyor\n",
        "             bulundu =True\n",
        "\n",
        "print(poz)"
      ]
    },
    {
      "cell_type": "markdown",
      "metadata": {
        "id": "KS1kdd57tOxd"
      },
      "source": [
        "#### Soru\n",
        "\"Bir berber bir berbere bire berber gel beraber bir berber dükkânı açalım demiş\" tekerlemesinde \"berber\" kelimesinin var olup olmadığını, varsa, geçtiği tüm yerlerde kaçıncı karakterden (yani, indis) başladığını bulup, tüm başlangıç pozisyonlarını bir liste ile veren Python kodunu **for** döngüsü ile yazınız?"
      ]
    },
    {
      "cell_type": "code",
      "execution_count": null,
      "metadata": {
        "id": "xh6JkKNmtOxe"
      },
      "outputs": [],
      "source": [
        "tekerleme = \"Bir berber bir berbere bire berber gel beraber bir berber dükkânı açalım demiş\"\n",
        "aranan = 'berber'\n",
        "\n",
        "pozlar = [] # bulunamadı anlamında\n",
        "\n",
        "bulundu = False # aranan metnin bulununca True olacak\n",
        "\n",
        "for indeks in range(len(tekerleme) - len(aranan)):\n",
        "    poz = indeks -1\n",
        "\n",
        "    if indeks == len(tekerleme) -1:  # metin sonu\n",
        "        break\n",
        "\n",
        "    if bulundu: # metin bulundu, listeye ekle\n",
        "        pozlar.append(poz)\n",
        "\n",
        "        # aramaya aranan metnin uzunluğu kadar ileriden\n",
        "        # devam et\n",
        "        indeks += len(aranan)\n",
        "\n",
        "    for i in range(len(aranan)):\n",
        "        if tekerleme[indeks + i] != aranan[i]:\n",
        "            bulundu =False\n",
        "            break # karakterler eşleşmiyor, devam etme!\n",
        "        else:\n",
        "            # buraya geldiyse, karakterler eşleşiyor\n",
        "             bulundu =True\n",
        "\n",
        "print(pozlar)"
      ]
    },
    {
      "cell_type": "markdown",
      "metadata": {
        "id": "x4GnzSCftOxe"
      },
      "source": [
        "#### Soru\n",
        " n pozitif tek tam sayı olmak üzere $1+3+5+⋯+n$ sayı dizisinin toplamını veren programı for döngüsü ile yazınız?"
      ]
    },
    {
      "cell_type": "code",
      "execution_count": null,
      "metadata": {
        "id": "4plfcMFKtOxe"
      },
      "outputs": [],
      "source": [
        "n = 5\n",
        "toplam = 0\n",
        "for n in range(1, n+1, 2):\n",
        "    toplam += n\n",
        "\n",
        "print(toplam)"
      ]
    },
    {
      "cell_type": "code",
      "source": [
        "# Aynı işi while ile yapınız?"
      ],
      "metadata": {
        "id": "x50-RVpGuWsG"
      },
      "execution_count": null,
      "outputs": []
    },
    {
      "cell_type": "markdown",
      "metadata": {
        "id": "9f2KxBcqtOxf"
      },
      "source": [
        "#### Soru\n",
        " n, pozitif bir tam sayı olmak üzere, $\\frac{1}{2} + \\frac{1}{4}+ \\cdots + \\frac{1}{2^n}$ dizisinin terimlerinin toplamını veren programı **for** döngüsü ile yazınız?"
      ]
    },
    {
      "cell_type": "code",
      "execution_count": null,
      "metadata": {
        "id": "_CZExdM6tOxf"
      },
      "outputs": [],
      "source": [
        "n = 10\n",
        "toplam = 0\n",
        "for n in range(1, n+1):\n",
        "    toplam += 1  / 2**n\n",
        "\n",
        "print(toplam)"
      ]
    },
    {
      "cell_type": "code",
      "source": [
        "# Aynı işi while ile yapınız?"
      ],
      "metadata": {
        "id": "gEwYoEAHubDX"
      },
      "execution_count": null,
      "outputs": []
    },
    {
      "cell_type": "markdown",
      "metadata": {
        "id": "NWRjthlBtOxf"
      },
      "source": [
        "#### Soru\n",
        " n, pozitif bir tam sayı olmak üzere, $1 + 4 + 9 + \\cdots + n^2$ dizisinin terimleri toplamını veren programı **for** döngüsü ile yazınız?"
      ]
    },
    {
      "cell_type": "code",
      "execution_count": null,
      "metadata": {
        "id": "4Z0lCD66tOxg"
      },
      "outputs": [],
      "source": [
        "n = 10\n",
        "toplam = 0\n",
        "for n in range(1, n+1):\n",
        "    toplam += n**2\n",
        "\n",
        "print(toplam)"
      ]
    },
    {
      "cell_type": "code",
      "source": [
        "# Aynı işi while ile yapınız?"
      ],
      "metadata": {
        "id": "fWAqkVZfufit"
      },
      "execution_count": null,
      "outputs": []
    },
    {
      "cell_type": "markdown",
      "metadata": {
        "id": "5CH1g1qTtOxg"
      },
      "source": [
        "#### Soru\n",
        " p ve q pozitif tam sayılar olmak üzere, $1^p + 2^p + \\cdots + q^p$ dizisinin terimleri toplamını veren fonksiyonu **for** döngüsüyle yazınız?"
      ]
    },
    {
      "cell_type": "code",
      "execution_count": null,
      "metadata": {
        "id": "EK2h4f7xtOxg"
      },
      "outputs": [],
      "source": [
        "q, p = 10, 3\n",
        "\n",
        "def ustel_toplam(bitis, us):\n",
        "  toplam = 0\n",
        "  for sayi in range(1, bitis+1):\n",
        "      toplam += sayi**us\n",
        "\n",
        "  return toplam\n",
        "\n",
        "ustel_toplam(bitis=q, us = p)"
      ]
    },
    {
      "cell_type": "code",
      "source": [
        "# Aynı işi while ile yapınız?"
      ],
      "metadata": {
        "id": "JYhuM8Z-ujVi"
      },
      "execution_count": null,
      "outputs": []
    },
    {
      "cell_type": "markdown",
      "metadata": {
        "id": "IXr158RltOxh"
      },
      "source": [
        "#### Soru\n",
        " 1'den 100'e dek (100 dahil) sayıların toplamını veren programı **for** ve **while** döngüleri ile ayrı ayrı yazınız?"
      ]
    },
    {
      "cell_type": "code",
      "execution_count": null,
      "metadata": {
        "id": "Fud7oW8HtOxi"
      },
      "outputs": [],
      "source": [
        "# for döngüsü ile\n",
        "toplam = 0\n",
        "for sayi in range(1,101):\n",
        "    toplam += sayi\n",
        "\n",
        "print(toplam)"
      ]
    },
    {
      "cell_type": "code",
      "source": [
        "# while döngüsü ile\n",
        "sayi = 1\n",
        "toplam = 0\n",
        "\n",
        "while sayi <=100:\n",
        "    toplam += sayi\n",
        "\n",
        "    # bu satırı yazmayı unutmayınız. yoksa döngüden çıkılmaz\n",
        "    sayi+=1 # sayıyı bir artır.\n",
        "\n",
        "print(toplam)"
      ],
      "metadata": {
        "id": "2ii4AXb2unU8"
      },
      "execution_count": null,
      "outputs": []
    },
    {
      "cell_type": "markdown",
      "metadata": {
        "id": "KSSanXfUtOxi"
      },
      "source": [
        "#### Soru\n",
        " Bir metnin karakterlerini 3. karakterden başlayarak, her ikinci karakteri ekrana yazdıran kodu **for** ve **while** döngüleriyle yazınız?"
      ]
    },
    {
      "cell_type": "code",
      "execution_count": null,
      "metadata": {
        "id": "soMmoFWutOxi"
      },
      "outputs": [],
      "source": [
        "metin = \"Merhaba Dünya!\"\n",
        "\n",
        "# 3. karakter 2. indeks demek.\n",
        "# range, bu nedenle 2 ile başlatıldı\n",
        "indisler = range(2, len(metin), 2)\n",
        "\n",
        "for i in indisler:\n",
        "    print(metin[i])"
      ]
    },
    {
      "cell_type": "code",
      "execution_count": null,
      "metadata": {
        "id": "qn1a7d5KtOxj"
      },
      "outputs": [],
      "source": [
        "# Aynı işi while ile yapınız?"
      ]
    },
    {
      "cell_type": "markdown",
      "metadata": {
        "id": "U2saqqMW1JGp"
      },
      "source": [
        "#### Soru\n",
        " Bir metnin karakterlerini n. karakterden başlayarak, her m'inci karakteri liste olarak döndüren fonksiyonu yazınız?"
      ]
    },
    {
      "cell_type": "code",
      "execution_count": null,
      "metadata": {
        "id": "qH54n3lo1JGr"
      },
      "outputs": [],
      "source": [
        "def dilimleyici(metin, ilk_eleman_sirasi, adim):\n",
        "  \"\"\"\n",
        "  ilk_eleman_sirasi: indekslenmeye başlanacak ilk eleman (karakter)\n",
        "  \"\"\"\n",
        "  karakterler = []\n",
        "\n",
        "  for i in range(len(metin)):\n",
        "      print('İndis: ', str(i), '\\tşu anki karakter:', metin[i])\n",
        "\n",
        "      if i> (ilk_eleman_sirasi-2) and (i == (ilk_eleman_sirasi-1) or i % ((ilk_eleman_sirasi-1)+ adim) == 0) :\n",
        "      # if i>0 and (i == (1) or i % ((1)+ adim) == 0) :\n",
        "\n",
        "        karakterler.append(metin[i])\n",
        "        print('eklenen karakter:',metin[i])\n",
        "\n",
        "  return karakterler\n",
        "\n",
        "baslangic= 2\n",
        "adim = 3\n",
        "\n",
        "dilimleyici(\"abcçdefghıijklmnoöprsştuüvyz\", baslangic, adim)"
      ]
    },
    {
      "cell_type": "code",
      "source": [
        "def dilimleyici(metin, ilk_eleman_sirasi, adim):\n",
        "  \"\"\"\n",
        "  ilk_eleman_sirasi: indekslenmeye başlanacak ilk eleman (karakter)\n",
        "  \"\"\"\n",
        "  karakterler = []\n",
        "\n",
        "  for i in range(len(metin)):\n",
        "      print('İndis: ', str(i), '\\tşu anki karakter:', metin[i])\n",
        "\n",
        "      if i>= (ilk_eleman_sirasi -1): # (ilk_eleman_sirasi -1) ifadesi aranan karakterin indisidir.\n",
        "\n",
        "        if i % ((ilk_eleman_sirasi-1)+ adim) == 0:\n",
        "          karakterler.append(metin[i])\n",
        "          print('eklenen karakter:',metin[i])\n",
        "\n",
        "        elif i == (ilk_eleman_sirasi-1) :\n",
        "          karakterler.append(metin[i])\n",
        "          print('eklenen karakter:',metin[i])\n",
        "\n",
        "  return karakterler\n",
        "\n",
        "baslangic= 2\n",
        "adim = 3\n",
        "\n",
        "dilimleyici(\"abcçdefghıijklmnoöprsştuüvyz\", baslangic, adim)"
      ],
      "metadata": {
        "id": "1U3nOBVEFvZR"
      },
      "execution_count": null,
      "outputs": []
    },
    {
      "cell_type": "code",
      "execution_count": null,
      "metadata": {
        "id": "G-VdC25Y1JGs"
      },
      "outputs": [],
      "source": [
        "# Aynı işi while ile yapınız?"
      ]
    },
    {
      "cell_type": "markdown",
      "source": [
        "#### Soru\n",
        "Verilen bir karakterin, verilen metin içerisinde kaç defa bulunduğunu veren fonksiyonu yazınız?\n"
      ],
      "metadata": {
        "id": "A5_uO7cJCsPp"
      }
    },
    {
      "cell_type": "code",
      "source": [
        "\n",
        "\n",
        "def func(metin,aranan):\n",
        "\n",
        "  sayac = 0\n",
        "  for indis in range(0,len(metin)):\n",
        "\n",
        "    if metin[indis] == aranan:\n",
        "\n",
        "      sayac += 1\n",
        "\n",
        "  return sayac\n",
        "\n",
        "func(\"ahmetcan toksoy\",\"a\")"
      ],
      "metadata": {
        "id": "_KU1ACZoFdnY"
      },
      "execution_count": null,
      "outputs": []
    },
    {
      "cell_type": "markdown",
      "metadata": {
        "id": "kqWidLU1tOxj"
      },
      "source": [
        "#### Soru\n",
        "Bir metin içerisindeki belirli bir karakterin (örneğin, 'a' harfi) kaç defa bulunduğunu hesaplayıp sonucu ekrana yazan programı **while** ve **for** döngüleri ile ayrı ayrı yazınız?"
      ]
    },
    {
      "cell_type": "code",
      "execution_count": null,
      "metadata": {
        "id": "EllDtQ4AtOxj"
      },
      "outputs": [],
      "source": [
        "metin = \"Merhaba Dünya!\"\n",
        "aranan = \"a\"\n",
        "\n",
        "# for döngüsü ile\n",
        "print(\"For döngüsü ile hesaplama:\")\n",
        "toplam = 0\n",
        "\n",
        "for harf in metin:\n",
        "    if harf == aranan:\n",
        "        toplam +=1\n",
        "\n",
        "print( metin , \"' içerisinde toplam\", toplam, \"tane\", aranan, \"karakteri bulunmaktadır.\")"
      ]
    },
    {
      "cell_type": "code",
      "source": [
        "# while döngüsü ile\n",
        "print(\"\\nWhile döngüsü ile hesaplama:\")\n",
        "toplam = 0\n",
        "metin_uzunlugu = len(metin)\n",
        "indeks = 0\n",
        "\n",
        "while indeks < metin_uzunlugu:\n",
        "    if aranan == metin[indeks]:\n",
        "        toplam +=1\n",
        "\n",
        "    indeks += 1\n",
        "\n",
        "print( metin , \"' içerisinde toplam\", toplam, \"tane\", aranan, \"karakteri bulunmaktadır.\")"
      ],
      "metadata": {
        "id": "DUTXu5i1tkkX"
      },
      "execution_count": null,
      "outputs": []
    },
    {
      "cell_type": "markdown",
      "source": [
        "#### Soru\n",
        "Bir metnin tersini veren fonksiyonu, metni tersten indeksleyerek veren bir fonksiyon yazınız\n"
      ],
      "metadata": {
        "id": "qks6LTD68TcB"
      }
    },
    {
      "cell_type": "code",
      "source": [
        "def ters(metin):\n",
        "  n = len(metin) # metnin uzunluğu\n",
        "  y_metin=\"\" # yeni metin (oluşturulacak)\n",
        "\n",
        "  for i in range(n): # metnin uzunluğu kadar döngü\n",
        "    y_metin += metin[n-1-i] # 7 - 1 - 0 -> 6. indeks\n",
        "    print('i:',i, '\\tn-1-i' , n-1-i, '\\tn-1-i. karakter:', metin[n-1-i], '\\tyeni _metin:', y_metin)\n",
        "  return y_metin\n",
        "\n",
        "ters('abcdefg')"
      ],
      "metadata": {
        "id": "mcYTJMTn8Vo4"
      },
      "execution_count": null,
      "outputs": []
    },
    {
      "cell_type": "code",
      "source": [
        "buldu = -1\n",
        "\n",
        "for i in range(n):\n",
        "  if aranan[0] == metin[i]\n",
        "  ....\n",
        "\n",
        "\n",
        "return buldu\n"
      ],
      "metadata": {
        "id": "hNShIKJ2_JQp"
      },
      "execution_count": null,
      "outputs": []
    },
    {
      "cell_type": "markdown",
      "source": [
        "#### Soru\n",
        "Bir metnin içerisinde, aranan metin varsa, aranan metnin ilk karakterini veren; yoksa -1 değeri döndüren bir fonksiyon yazınız (break, continue kullanmadan)."
      ],
      "metadata": {
        "id": "VTu3wKH9PzXR"
      }
    },
    {
      "cell_type": "code",
      "source": [
        "def bul(metin, aranan):\n",
        "  bulundu = False\n",
        "  n_metin = len(metin)\n",
        "  n_aranan = len(aranan)\n",
        "\n",
        "  for i in range(n_metin-n_aranan):\n",
        "    # print(metin[i], aranan[0])\n",
        "\n",
        "    if not bulundu and metin[i] == aranan[0]:\n",
        "      bulundu = True\n",
        "      bulunan_indeks = i\n",
        "      for j in range(1, n_aranan):\n",
        "          # print(metin[i+j] , aranan[j])\n",
        "          bulundu  = bulundu and (metin[i+j] == aranan[j])\n",
        "\n",
        "  if bulundu:\n",
        "    return bulunan_indeks\n",
        "  else:\n",
        "    return -1\n",
        "\n",
        "bul('abcdefgh', 'cdfg')"
      ],
      "metadata": {
        "id": "DUcp_zyFJfyG"
      },
      "execution_count": null,
      "outputs": []
    },
    {
      "cell_type": "markdown",
      "metadata": {
        "id": "A882t8_StOxk"
      },
      "source": [
        "#### Soru\n",
        "Çarpım tablosunu ekrana yazan programı **while** ve **for** döngüleri ile yazınız?"
      ]
    },
    {
      "cell_type": "code",
      "execution_count": null,
      "metadata": {
        "id": "j4X508WatOxk",
        "colab": {
          "base_uri": "https://localhost:8080/"
        },
        "outputId": "caa980ac-eaea-4b55-a3d0-648d7835e92b"
      },
      "outputs": [
        {
          "output_type": "stream",
          "name": "stdout",
          "text": [
            "For ile:\n",
            "         1    2    3    4    5    6    7    8    9   10 \n",
            " ------------------------------------------------------- \n",
            "   1:    1    2    3    4    5    6    7    8    9   10 \n",
            "   2:    2    4    6    8   10   12   14   16   18   20 \n",
            "   3:    3    6    9   12   15   18   21   24   27   30 \n",
            "   4:    4    8   12   16   20   24   28   32   36   40 \n",
            "   5:    5   10   15   20   25   30   35   40   45   50 \n",
            "   6:    6   12   18   24   30   36   42   48   54   60 \n",
            "   7:    7   14   21   28   35   42   49   56   63   70 \n",
            "   8:    8   16   24   32   40   48   56   64   72   80 \n",
            "   9:    9   18   27   36   45   54   63   72   81   90 \n",
            "  10:   10   20   30   40   50   60   70   80   90  100 "
          ]
        }
      ],
      "source": [
        "# FOR İLE\n",
        "# sütun başlıklarını yaz\n",
        "print(\"For ile:\\n     \", end=\" \")\n",
        "\n",
        "for sutun in range(1,11):\n",
        "    print(f\"{sutun:4d}\", sep=\"  \", end=\" \" )\n",
        "\n",
        "print(\"\\n\", \"-\" * 55, end=\" \")\n",
        "\n",
        "for satir in range(1,11):\n",
        "    print(f\"\\n{satir:4d}:\", end=\" \")\n",
        "\n",
        "    for sutun in range(1,11):\n",
        "        print(f\"{(satir * sutun):4d}\", sep=\" \",  end=\" \")\n"
      ]
    },
    {
      "cell_type": "code",
      "source": [
        "# WHILE İLE\n",
        "# sütun başlılarını yaz\n",
        "print(\"\\n\\nWhile ile:\\n\")\n",
        "print(\"     \", end=\" \")\n",
        "\n",
        "sutun = 1\n",
        "while sutun < 11:\n",
        "    print(f\"{sutun:4d}\", sep=\"  \", end=\" \" )\n",
        "    sutun +=1\n",
        "\n",
        "print(\"\\n\", \"-\" * 55, end=\" \")\n",
        "\n",
        "satir=1\n",
        "while satir < 11:\n",
        "    print(f\"\\n{satir:4d}:\", end=\" \")\n",
        "\n",
        "    sutun=1\n",
        "    while sutun < 11:\n",
        "        print(f\"{(satir * sutun):4d}\", sep=\" \",  end=\" \")\n",
        "        sutun +=1\n",
        "\n",
        "    satir +=1"
      ],
      "metadata": {
        "id": "0Tx6vc0atwON",
        "colab": {
          "base_uri": "https://localhost:8080/"
        },
        "outputId": "6ed75f30-576b-499b-c678-f5146ef62c44"
      },
      "execution_count": null,
      "outputs": [
        {
          "output_type": "stream",
          "name": "stdout",
          "text": [
            "\n",
            "\n",
            "While ile:\n",
            "\n",
            "         1    2    3    4    5    6    7    8    9   10 \n",
            " ------------------------------------------------------- \n",
            "   1:    1    2    3    4    5    6    7    8    9   10 \n",
            "   2:    2    4    6    8   10   12   14   16   18   20 \n",
            "   3:    3    6    9   12   15   18   21   24   27   30 \n",
            "   4:    4    8   12   16   20   24   28   32   36   40 \n",
            "   5:    5   10   15   20   25   30   35   40   45   50 \n",
            "   6:    6   12   18   24   30   36   42   48   54   60 \n",
            "   7:    7   14   21   28   35   42   49   56   63   70 \n",
            "   8:    8   16   24   32   40   48   56   64   72   80 \n",
            "   9:    9   18   27   36   45   54   63   72   81   90 \n",
            "  10:   10   20   30   40   50   60   70   80   90  100 "
          ]
        }
      ]
    },
    {
      "cell_type": "markdown",
      "source": [
        "### While Döngüsü"
      ],
      "metadata": {
        "id": "qQmxQWHaaSWr"
      }
    },
    {
      "cell_type": "markdown",
      "metadata": {
        "id": "Cg3a1N-atOxa"
      },
      "source": [
        "#### Soru\n",
        "\"Şu yoğurdu sarımsaklasak da mı saklasak, sarımsaklamasak da mı saklasak?\" tekerlemesinin harflerini **while** döngüsü ile yazdırınız?"
      ]
    },
    {
      "cell_type": "code",
      "execution_count": null,
      "metadata": {
        "id": "ycNYhuuCtOxb"
      },
      "outputs": [],
      "source": [
        "tekerleme = \"Şu yoğurdu sarımsaklasak da mı saklasak, sarımsaklamasak da mı saklasak?\"\n",
        "indeks = 0\n",
        "while indeks < len(tekerleme):\n",
        "    harf = tekerleme[indeks]\n",
        "    print(harf)\n",
        "    indeks += 1"
      ]
    },
    {
      "cell_type": "markdown",
      "source": [
        "#### Soru\n",
        "while döngüsü ile 1 den 100'e dek (dahil) sayıların toplamını veren programı yazınz?"
      ],
      "metadata": {
        "id": "xxiODokBqd45"
      }
    },
    {
      "cell_type": "code",
      "execution_count": null,
      "metadata": {
        "id": "Dfgy8YjJtOxZ"
      },
      "outputs": [],
      "source": [
        "# while döngüsü ile 1 den 100 (dahil) e dek sayıların toplamı\n",
        "\n",
        "sayac = 1\n",
        "\n",
        "toplam = 0\n",
        "\n",
        "while sayac <= 100:\n",
        "\n",
        "    toplam = toplam + sayac\n",
        "\n",
        "    sayac += 1\n",
        "\n",
        "\n",
        "print(\"Toplam: \", toplam)\n"
      ]
    },
    {
      "cell_type": "markdown",
      "source": [
        "#### Soru\n",
        "while döngüsü ile \"Merhaba Dünya\" metnindeki karakterleri ekrana yazdıran program?"
      ],
      "metadata": {
        "id": "MxJpuph_qTB2"
      }
    },
    {
      "cell_type": "code",
      "execution_count": null,
      "metadata": {
        "id": "02ee_xFStOxZ"
      },
      "outputs": [],
      "source": [
        "# while döngüsü ile bir metindeki karakterlerin ekrana yazılışı\n",
        "metin = \"Merhaba Dünya\"\n",
        "n_karakter = len(metin)\n",
        "\n",
        "sayac = 0\n",
        "\n",
        "while sayac < n_karakter:\n",
        "    karakter = metin[sayac]\n",
        "\n",
        "    print(karakter)\n",
        "\n",
        "    sayac +=1\n"
      ]
    },
    {
      "cell_type": "markdown",
      "source": [
        "#### Soru\n",
        "bir metnin içinde bir karakterin var olup olmadığını sorgulayan bir fonksiyon yazınız. Var ise True; yok ise False döndürsün."
      ],
      "metadata": {
        "id": "hWz1fYY1QBr-"
      }
    },
    {
      "cell_type": "code",
      "source": [
        "def var_yok(text, char):\n",
        "\n",
        "  n = len(text)\n",
        "  sayac = 0\n",
        "  varyok = False # metinde aranan karakter yok demek\n",
        "  print('ilk baştaki varyok değeri:', varyok)\n",
        "  while sayac < n:\n",
        "    print('sayaç:', sayac, 'karakter: ', text[sayac], 'istenilen:', char, end='\\t')\n",
        "    if text[sayac] == char:\n",
        "      # varyok = True\n",
        "      return True\n",
        "      print('iki karakter birbirinin aynı', end='\\t')\n",
        "\n",
        "    print('varyok değeri:' , varyok)\n",
        "    sayac +=1\n",
        "\n",
        "  return varyok\n",
        "var_yok('abcdab', 'a')"
      ],
      "metadata": {
        "id": "38SuKzcZQA2v"
      },
      "execution_count": null,
      "outputs": []
    },
    {
      "cell_type": "markdown",
      "source": [
        "#### Soru\n",
        "Bir metnin içinde bir karakterin var olup olmadığını sorgulayan bir fonksiyon yazınız. Var ise False; yok ise True döndürsün."
      ],
      "metadata": {
        "id": "KNUbVoBUeF2N"
      }
    },
    {
      "cell_type": "code",
      "source": [
        "def yok(text, char):\n",
        "\n",
        "  n = len(text)\n",
        "  sayac = 0\n",
        "  yok = True # metinde aranan karakter yok demek\n",
        "\n",
        "  print('ilk baştaki varyok değeri:', varyok)\n",
        "  while sayac < n:\n",
        "    print('sayaç:', sayac, 'karakter: ', text[sayac], 'istenilen:', char, end='\\t')\n",
        "    if text[sayac] == char:\n",
        "      yok = False\n",
        "      return False\n",
        "      print('iki karakter birbirinin aynı', end='\\t')\n",
        "\n",
        "    print('varyok değeri:' , varyok)\n",
        "    sayac +=1\n",
        "\n",
        "  return varyok\n",
        "var_yok('abcdab', 'a')"
      ],
      "metadata": {
        "id": "3-b-0ZjYc3Zq"
      },
      "execution_count": null,
      "outputs": []
    },
    {
      "cell_type": "markdown",
      "source": [
        "#### Soru\n",
        "Bir metnin içinde bir karakterin var olduğu indeksleri veren bir fonksiyon yazınız. Karakter hiç yoksa fonksiyon None değeri versin."
      ],
      "metadata": {
        "id": "O0VTSjmYeNLu"
      }
    },
    {
      "cell_type": "code",
      "source": [
        "def indeksler(text, char):\n",
        "\n",
        "  n = len(text)\n",
        "  sayac = 0\n",
        "  idxs = list()\n",
        "\n",
        "  while sayac < n:\n",
        "    if text[sayac] == char:\n",
        "      idxs.append(sayac)\n",
        "\n",
        "  if len(idxs) > 0:\n",
        "    return idxs\n",
        "  else:\n",
        "    return None"
      ],
      "metadata": {
        "id": "0c5ksJ5JeaLN"
      },
      "execution_count": null,
      "outputs": []
    },
    {
      "cell_type": "markdown",
      "source": [
        "####Soru\n",
        "y = ax 2 +bx+c denklemini a=4, b=-2, c= -4 olacak şekilde, x'in, verilen başlama ve bitiş değerleri (örneğin -100'den 100'e) kadar aralığı için while döngüsü ile hesaplayan bir fonksiyon yazınız?"
      ],
      "metadata": {
        "id": "nIwdWkRVaUeM"
      }
    },
    {
      "cell_type": "code",
      "source": [
        "def parabol(a, b, c, baslama, bitis ):\n",
        "  \"\"\"\n",
        "  ax^2 + bx + c fonksiyonunu verilen değerler için hesaplar\n",
        "  params:\n",
        "  a: float. ilk param...\n",
        "  b:\n",
        "  c:\n",
        "  baslama: x'in ilk değeri.\n",
        "  bitis: x'in son değeri.\n",
        "  \"\"\"\n",
        "\n",
        "  yler=list() # []\n",
        "  i = baslama\n",
        "\n",
        "  while i <=bitis :\n",
        "    y = a*i**2 + b*i + c\n",
        "    yler.append(y)\n",
        "    i +=1\n",
        "\n",
        "  return yler\n",
        "\n",
        "baslama = -1000\n",
        "bitis = 1000\n",
        "y = parabol(2, 3, -4, baslama, bitis ) # sonuç bir listedir."
      ],
      "metadata": {
        "id": "GqsYGXEXajh8"
      },
      "execution_count": null,
      "outputs": []
    },
    {
      "cell_type": "markdown",
      "source": [
        "##### Hesaplanan parabolü grafik olarak çizdiriniz"
      ],
      "metadata": {
        "id": "ZLPz9i9gbpOX"
      }
    },
    {
      "cell_type": "code",
      "source": [
        "from matplotlib import pyplot as plt\n",
        "\n",
        "x = range(baslama, bitis + 1)\n",
        "plt.bar(x,y)\n",
        "plt.xlabel('X değeri')\n",
        "plt.ylabel('Y değeri')\n",
        "plt.show()"
      ],
      "metadata": {
        "id": "-KEkwv6yblr3"
      },
      "execution_count": null,
      "outputs": []
    },
    {
      "cell_type": "code",
      "source": [
        "len(y), len(x)"
      ],
      "metadata": {
        "id": "VEHIgv-XcIG-"
      },
      "execution_count": null,
      "outputs": []
    },
    {
      "cell_type": "markdown",
      "source": [
        "#### Soru\n",
        "'elma', 'armut', 'karpuz', 'mandalina' meyvelerini bir tuple içerisinde tanımlayınız. 'pırasa', 'ıspanak', 'brokoli' sebzelerini de diğer bir listede olacak şekilde tanımlayınız. Ardından, iki dizideki elemanları (<meyvenin bir elemanı>, <sebzenin elemanı>) şeklinde, tüm elemanlar kartezyen çarpım olacak şekilde bir liste içerisine kayıt ediniz? Bunu yaparken **while** döngüsünü kullanınız?\n",
        "Örnek;\n",
        "\n",
        "('elma', 'pırasa')\n",
        "\n",
        "('elma', 'brokoli')\n",
        "\n",
        "...\n"
      ],
      "metadata": {
        "id": "h2hJSR9ncooi"
      }
    },
    {
      "cell_type": "code",
      "source": [
        "meyveler= ('elma', 'armut', 'karpuz', 'mandalina') # bir tuple\n",
        "sebzeler = 'pırasa', 'ıspanak', 'brokoli' # bir tuple\n",
        "\n",
        "kartezyen_liste= list() # ya da = []\n",
        "i=0\n",
        "\n",
        "while i < len(meyveler):\n",
        "\n",
        "  j = 0 # bu satır olmazsa j alttaki döngüde len(sebzeler) den daha büyük bir değer olarak kalır\n",
        "  # ve iç döngüye ilk bir kez girildikten sonra bir daha girilmez\n",
        "  while j < len(sebzeler):\n",
        "    kartezyen_liste.append((meyveler[i], sebzeler[j]))\n",
        "\n",
        "    j +=1 # j burada artmalı\n",
        "\n",
        "  i +=1 # i dış döngü için burada artmalı\n",
        "\n",
        "kartezyen_liste"
      ],
      "metadata": {
        "id": "hpWLCdYBc6Qr"
      },
      "execution_count": null,
      "outputs": []
    },
    {
      "cell_type": "markdown",
      "metadata": {
        "id": "s0DtH019tOxg"
      },
      "source": [
        "#### Soru\n",
        "Kullanıcı klavyeden **\"x\"** değerini girmediği sürece, girilen sayının karesini alan fonksiyonu **while** döngüsü ile yazınız?"
      ]
    },
    {
      "cell_type": "code",
      "execution_count": null,
      "metadata": {
        "id": "f_OnGZX4tOxh"
      },
      "outputs": [],
      "source": [
        "while True:\n",
        "    giris = input(\"Karesi alınacak sayıyı giriniz: \")\n",
        "\n",
        "    if giris == \"x\" or giris == \"X\":\n",
        "        break\n",
        "\n",
        "    print(giris, \"sayısının karesi \", int(giris)**2)\n",
        "\n",
        "print(\"Programı kullandığınız için teşekkür ederiz. İyi günler!\")"
      ]
    },
    {
      "cell_type": "code",
      "source": [
        "len(sebzeler)"
      ],
      "metadata": {
        "id": "R04BU8A9ea-d"
      },
      "execution_count": null,
      "outputs": []
    },
    {
      "cell_type": "markdown",
      "source": [
        "#### Soru\n",
        " n, pozitif bir tam sayı olmak üzere, $1 + 4 + 9 + \\cdots + n^2$ dizisinin terimleri toplamını veren fonksiyonu **while** döngüsü ile yazınız?"
      ],
      "metadata": {
        "id": "BI379XICSGN6"
      }
    },
    {
      "cell_type": "code",
      "source": [
        "def n_kare(n):\n",
        "\n",
        "  i = 1\n",
        "  toplam =0\n",
        "  while i <= n:\n",
        "    toplam += i**2\n",
        "    i +=1\n",
        "\n",
        "  return toplam\n",
        "\n",
        "n_kare(20)"
      ],
      "metadata": {
        "id": "VvgvmNRkSeCp"
      },
      "execution_count": null,
      "outputs": []
    },
    {
      "cell_type": "markdown",
      "source": [
        "#### Soru\n",
        " p ve q pozitif tam sayılar olmak üzere, $1^p + 2^p + \\cdots + q^p$ dizisinin terimleri toplamını veren fonksiyonu **while** döngüsüyle yazınız?"
      ],
      "metadata": {
        "id": "8jGNI9esSeMh"
      }
    },
    {
      "cell_type": "code",
      "source": [
        "def p_ussu_q(p, q):\n",
        "\n",
        "  i = 1\n",
        "  toplam =0\n",
        "  while i <= q:\n",
        "    toplam += i**p\n",
        "    i +=1\n",
        "\n",
        "  return toplam\n",
        "\n",
        "p_ussu_q(3, 20)"
      ],
      "metadata": {
        "id": "xEiJeWggTEgU"
      },
      "execution_count": null,
      "outputs": []
    },
    {
      "cell_type": "markdown",
      "source": [
        "#### Soru\n",
        "sayilar = {\"bir\":1, \"iki\":2, \"üç\":3, \"dört\":4, \"beş\":5} sözlüğünün anahtar ve değerlerini for döngüsü ile alarak; anahtar ve değerleri yazdırınız?"
      ],
      "metadata": {
        "id": "JNzZ18SiVKR6"
      }
    },
    {
      "cell_type": "code",
      "source": [
        "sayilar = {\"bir\":1, \"iki\":2, \"üç\":3, \"dört\":4, \"beş\":5}\n",
        "\n",
        "n_anahtar = len(sayilar.keys())\n",
        "i =0\n",
        "while i < n_anahtar:\n",
        "  anahtar = list(sayilar.keys())[i] # keys indekslenemediği için önce listeye çevirdik\n",
        "  deger = sayilar[anahtar]\n",
        "  print(anahtar, '\\t:', deger)\n",
        "  i +=1"
      ],
      "metadata": {
        "id": "m_mqKeXwVMWb"
      },
      "execution_count": null,
      "outputs": []
    },
    {
      "cell_type": "markdown",
      "source": [
        "#### Soru bir metinin içinde bir karakterin varlığını sınayan kodu **break** deyimi ile yazınız?"
      ],
      "metadata": {
        "id": "21iTgHU79wPm"
      }
    },
    {
      "cell_type": "markdown",
      "source": [
        "Kullanıcıdan şifre girmesini isteyen bir fonksiyon yazınız. Şifre doğru ise doğru şifre girildiğine dair bir uyarı mesajı verilsin ve program sonlansın. Aksi durumda, maksimum 3 defa yanlış şifre denemesine izin verilsin. 4. yanlış denemede program sonlansın."
      ],
      "metadata": {
        "id": "4fl1qxtwGbk9"
      }
    },
    {
      "cell_type": "code",
      "source": [],
      "metadata": {
        "id": "6yGcNr9_aeke"
      },
      "execution_count": null,
      "outputs": []
    },
    {
      "cell_type": "code",
      "source": [
        "\n",
        "\n",
        "\n",
        "\n",
        "\n",
        "\n",
        "\n",
        "\n",
        "\n",
        "\n",
        "\n",
        "\n",
        "\n",
        "\n",
        "\n",
        "\n"
      ],
      "metadata": {
        "id": "FeiFreqpaX-h"
      },
      "execution_count": null,
      "outputs": []
    },
    {
      "cell_type": "code",
      "source": [
        "def kimlik_dogrula():\n",
        "  sifre_dogru =False\n",
        "  max_deneme_sayisi = 3\n",
        "  deneme_sayisi= 1\n",
        "\n",
        "  while deneme_sayisi <= max_deneme_sayisi :\n",
        "    sifre = input('Şifrenizi giriniz:')\n",
        "    # print('Girdiğiniz metin: ', kar)\n",
        "\n",
        "    if sifre == '1234':\n",
        "      sifre_dogru = True\n",
        "      print('Şifre doğru.')\n",
        "      break\n",
        "    else:\n",
        "      if deneme_sayisi == max_deneme_sayisi:\n",
        "        print('Maksimum deneme sayısına eriştiniz. Program sonlanıyor')\n",
        "      else:\n",
        "        print('Girdiğiniz şifre yanlış! Lütfen tekrar deneyiniz.')\n",
        "\n",
        "    deneme_sayisi += 1\n",
        "\n",
        "  return sifre_dogru\n",
        "\n",
        "# izin_ver()\n",
        "\n",
        "def baska_bir_kod():\n",
        "  # kullanıcı doğru kişi ise\n",
        "\n",
        "  if kimlik_dogrula():\n",
        "    print('Merhaba Kullanıcı!')\n",
        "  else:\n",
        "    print('şifreniz yanlış olduğundan devam edemiyoruz.')\n",
        "\n",
        "baska_bir_kod()"
      ],
      "metadata": {
        "id": "1FE6UUB0DryS"
      },
      "execution_count": null,
      "outputs": []
    },
    {
      "cell_type": "code",
      "source": [
        "def otobus(mevcut):\n",
        "  while mevcut > 0:\n",
        "    print('şu anki yolcu sayısı: ', mevcut)\n",
        "    mevcut -=1\n",
        "\n",
        "otobus(10)"
      ],
      "metadata": {
        "id": "S2-ZbmGnC9J7"
      },
      "execution_count": null,
      "outputs": []
    },
    {
      "cell_type": "code",
      "source": [
        "\n",
        "# if metin[counter] == kar:\n",
        "# bulundu = True\n",
        "\n",
        "def var_yok(metin, kar):\n",
        "\n",
        "  # kar_adet = len(metin)\n",
        "  # counter = 0\n",
        "  # bulundu = False\n",
        "\n",
        "  anlık_mevcut = 45\n",
        "\n",
        "  while\n",
        "\n",
        "\n",
        "\n",
        "  # while  counter < kar_adet:\n",
        "  #   print('metindeki karakter:', metin[counter])\n",
        "\n",
        "  #   counter +=1\n",
        "\n",
        "var_yok('abcdefg', 'd')"
      ],
      "metadata": {
        "id": "jkRxSqDd94__"
      },
      "execution_count": null,
      "outputs": []
    },
    {
      "cell_type": "markdown",
      "metadata": {
        "id": "DKdVFfr3tOwI"
      },
      "source": [
        "## Değişkenler"
      ]
    },
    {
      "cell_type": "markdown",
      "metadata": {
        "id": "XmXFv4jotOwJ"
      },
      "source": [
        "#### Soru"
      ]
    },
    {
      "cell_type": "code",
      "execution_count": null,
      "metadata": {
        "id": "Od-TmBIetOwJ"
      },
      "outputs": [],
      "source": []
    },
    {
      "cell_type": "markdown",
      "metadata": {
        "id": "Wl_uepIrtOwJ"
      },
      "source": [
        "##### Cevap"
      ]
    },
    {
      "cell_type": "code",
      "execution_count": null,
      "metadata": {
        "id": "005kHM5OtOwJ"
      },
      "outputs": [],
      "source": []
    },
    {
      "cell_type": "markdown",
      "metadata": {
        "id": "anb2dIPYtOwJ"
      },
      "source": [
        "#### Soru"
      ]
    },
    {
      "cell_type": "markdown",
      "metadata": {
        "id": "qqC_KwwgtOwJ"
      },
      "source": []
    },
    {
      "cell_type": "markdown",
      "metadata": {
        "id": "Q_1Mu0nftOwK"
      },
      "source": [
        "##### Cevap"
      ]
    },
    {
      "cell_type": "code",
      "execution_count": null,
      "metadata": {
        "id": "CueIxpZDtOwK"
      },
      "outputs": [],
      "source": []
    },
    {
      "cell_type": "markdown",
      "metadata": {
        "id": "_3Tk3XuOtOwK"
      },
      "source": [
        "#### Soru"
      ]
    },
    {
      "cell_type": "markdown",
      "metadata": {
        "id": "jwgT8wV2tOwK"
      },
      "source": []
    },
    {
      "cell_type": "markdown",
      "metadata": {
        "id": "YMM_C5P2tOwL"
      },
      "source": [
        "##### Cevap"
      ]
    },
    {
      "cell_type": "code",
      "execution_count": null,
      "metadata": {
        "id": "gWZb39S6tOwL"
      },
      "outputs": [],
      "source": []
    },
    {
      "cell_type": "markdown",
      "metadata": {
        "id": "c1mGCUTutOwL"
      },
      "source": [
        "#### Soru"
      ]
    },
    {
      "cell_type": "markdown",
      "metadata": {
        "id": "H1pVPdQatOwL"
      },
      "source": []
    },
    {
      "cell_type": "markdown",
      "metadata": {
        "id": "Mbb7CRr5tOwL"
      },
      "source": [
        "## Veri Tipleri"
      ]
    },
    {
      "cell_type": "markdown",
      "metadata": {
        "id": "EXNTBX1NtOwL"
      },
      "source": [
        "##### Cevap"
      ]
    },
    {
      "cell_type": "code",
      "execution_count": null,
      "metadata": {
        "id": "xE6nIyK3tOwM"
      },
      "outputs": [],
      "source": [
        "sonuc = 7 + 5\n",
        "tipi = type(sonuc)\n",
        "print(tipi,  \"\\nSonucun değeri \", sonuc)"
      ]
    },
    {
      "cell_type": "code",
      "execution_count": null,
      "metadata": {
        "id": "poxOBd99tOwM"
      },
      "outputs": [],
      "source": [
        "sonuc = 7 / 5\n",
        "tipi = type(sonuc)\n",
        "print(tipi, \"\\nSonucun değeri \", sonuc)"
      ]
    },
    {
      "cell_type": "code",
      "execution_count": null,
      "metadata": {
        "id": "rCUSWWmNtOwM"
      },
      "outputs": [],
      "source": [
        "isim = 'murat'\n",
        "tipi = type(isim)\n",
        "print(tipi, \"\\nSonucun değeri \", isim)"
      ]
    },
    {
      "cell_type": "code",
      "execution_count": null,
      "metadata": {
        "id": "Sumw48fBtOwM",
        "colab": {
          "base_uri": "https://localhost:8080/"
        },
        "outputId": "14431988-d872-495d-c049-514c4f18f397"
      },
      "outputs": [
        {
          "output_type": "stream",
          "name": "stdout",
          "text": [
            "<class 'int'> \n",
            "Sonucun değeri  3\n"
          ]
        }
      ],
      "source": [
        "isim = \"3\"\n",
        "tamsayi_deger = int(isim)\n",
        "\n",
        "tip = type(tamsayi_deger)\n",
        "\n",
        "print(tip, \"\\nSonucun değeri \", tamsayi_deger)"
      ]
    },
    {
      "cell_type": "code",
      "execution_count": null,
      "metadata": {
        "id": "hKdf6obctOwN"
      },
      "outputs": [],
      "source": [
        "pi= 3.1415\n",
        "int(pi)"
      ]
    },
    {
      "cell_type": "code",
      "execution_count": null,
      "metadata": {
        "id": "EDqarjnUtOwN"
      },
      "outputs": [],
      "source": [
        "pi = 3.1415\n",
        "\n",
        "# 1. metin tipine\n",
        "# 2. float tipine  d"
      ]
    },
    {
      "cell_type": "markdown",
      "metadata": {
        "id": "Sv7Cj0o3tOwQ"
      },
      "source": [
        "##### Cevap"
      ]
    },
    {
      "cell_type": "code",
      "execution_count": null,
      "metadata": {
        "id": "gaO5Q6AOtOwQ",
        "outputId": "866ab530-9920-42eb-a5b0-f698f37c0a5d"
      },
      "outputs": [
        {
          "name": "stdout",
          "output_type": "stream",
          "text": [
            "a'nın karesi : 10000, 100.0 %% 45\n"
          ]
        }
      ],
      "source": [
        "a = 100.\n",
        "\n",
        "b = '45'\n",
        "metin = \"a'nın karesi : \" + str(int(a**2)) + \", \" + str(a) + \" %% \" + str(b)\n",
        "print(metin)"
      ]
    },
    {
      "cell_type": "markdown",
      "metadata": {
        "id": "l-kyR5aLtOwQ"
      },
      "source": [
        "#### Soru"
      ]
    },
    {
      "cell_type": "markdown",
      "metadata": {
        "id": "6dbkAk3atOwQ"
      },
      "source": []
    },
    {
      "cell_type": "markdown",
      "metadata": {
        "id": "yAy9xQ4jtOwQ"
      },
      "source": [
        "##### Cevap"
      ]
    },
    {
      "cell_type": "markdown",
      "metadata": {
        "id": "dhAjxzuVtOwR"
      },
      "source": []
    },
    {
      "cell_type": "markdown",
      "metadata": {
        "id": "uOKUrjqGtOwR"
      },
      "source": [
        "#### Soru"
      ]
    },
    {
      "cell_type": "markdown",
      "metadata": {
        "id": "4L6l5IjAtOwR"
      },
      "source": []
    },
    {
      "cell_type": "markdown",
      "metadata": {
        "id": "ykZuPDirtOwR"
      },
      "source": [
        "##### Cevap"
      ]
    },
    {
      "cell_type": "markdown",
      "metadata": {
        "id": "vRD86PGRtOwR"
      },
      "source": []
    },
    {
      "cell_type": "markdown",
      "metadata": {
        "id": "83cUokhgtOwR"
      },
      "source": [
        "#### Soru"
      ]
    },
    {
      "cell_type": "markdown",
      "metadata": {
        "id": "thENiEj_tOwS"
      },
      "source": []
    },
    {
      "cell_type": "markdown",
      "metadata": {
        "id": "iEKfLtDqtOwS"
      },
      "source": [
        "##### Cevap"
      ]
    },
    {
      "cell_type": "markdown",
      "metadata": {
        "id": "Gp0f1JdatOwT"
      },
      "source": []
    },
    {
      "cell_type": "markdown",
      "metadata": {
        "id": "g3X_a1getOwT"
      },
      "source": [
        "#### Soru"
      ]
    },
    {
      "cell_type": "markdown",
      "metadata": {
        "id": "SimNHe4ytOwT"
      },
      "source": []
    },
    {
      "cell_type": "markdown",
      "metadata": {
        "id": "9cHsmS-XtOwT"
      },
      "source": [
        "##### Cevap"
      ]
    },
    {
      "cell_type": "markdown",
      "metadata": {
        "id": "o3RfHBBmtOwT"
      },
      "source": []
    },
    {
      "cell_type": "markdown",
      "metadata": {
        "id": "9zvEcTnptOwT"
      },
      "source": [
        "#### Soru"
      ]
    },
    {
      "cell_type": "markdown",
      "metadata": {
        "id": "d8n9vb5HtOwT"
      },
      "source": []
    },
    {
      "cell_type": "markdown",
      "metadata": {
        "id": "eC4aE-A8tOwU"
      },
      "source": [
        "##### Cevap"
      ]
    },
    {
      "cell_type": "markdown",
      "metadata": {
        "id": "97WlZwqstOwU"
      },
      "source": []
    },
    {
      "cell_type": "markdown",
      "metadata": {
        "id": "hpIjqFLdtOwU"
      },
      "source": [
        "## Karar İfadeleri"
      ]
    },
    {
      "cell_type": "code",
      "source": [
        "\"\"\"\"\n",
        "85 < not <= 100 A\n",
        "60 <= not <= 85  B\n",
        "50 <= not < 60  C\n",
        "35 <= not < 50 D\n",
        "20 <= not < 35 E\n",
        "ve not <20 F\n",
        "\"\"\"\n",
        "print('1-100 arasında sayı giriniz')\n",
        "ders_notu = -100\n",
        "\n",
        "if (ders_notu <= 100) and (ders_notu > 85):\n",
        "    print('A')\n",
        "elif (ders_notu >= 60) and (ders_notu <= 85):\n",
        "    print('B')\n",
        "elif (ders_notu >= 50) and (ders_notu < 60):\n",
        "    print('C')\n",
        "elif (ders_notu >= 35) and (ders_notu < 50):\n",
        "    print('D')\n",
        "elif (ders_notu >= 20) and (ders_notu < 35):\n",
        "    print('E')\n",
        "elif ders_notu >= 0 and ders_notu < 20:\n",
        "    print('F')\n",
        "else :#  ders_notu < 0:\n",
        "    print('Geçersiz sayı')"
      ],
      "metadata": {
        "colab": {
          "base_uri": "https://localhost:8080/"
        },
        "id": "SSPNDn2zQVCf",
        "outputId": "4d786b6a-2c77-450c-87c0-953d0aa146bc"
      },
      "execution_count": null,
      "outputs": [
        {
          "output_type": "stream",
          "name": "stdout",
          "text": [
            "1-100 arasında sayı giriniz\n",
            "Geçersiz sayı\n"
          ]
        }
      ]
    },
    {
      "cell_type": "code",
      "source": [
        "# <class 'int'>\n",
        "ders_notu = -100\n",
        "type(ders_notu)"
      ],
      "metadata": {
        "colab": {
          "base_uri": "https://localhost:8080/"
        },
        "id": "YBFbvtCNbEsL",
        "outputId": "7005106a-62bd-444f-a970-45e020ed4e7c"
      },
      "execution_count": null,
      "outputs": [
        {
          "output_type": "execute_result",
          "data": {
            "text/plain": [
              "int"
            ]
          },
          "metadata": {},
          "execution_count": 9
        }
      ]
    },
    {
      "cell_type": "markdown",
      "metadata": {
        "id": "Jky158bctOvs"
      },
      "source": [
        "#### Soru\n",
        "sayi = 1 ve Sayi = 2 için, sayi == Sayi ifadesinin sonucu ne olur?"
      ]
    },
    {
      "cell_type": "code",
      "execution_count": null,
      "metadata": {
        "id": "nJ_s0Y9btOvu"
      },
      "outputs": [],
      "source": [
        "sayi = 1\n",
        "Sayi = 2\n",
        "print( sayi == Sayi)"
      ]
    },
    {
      "cell_type": "markdown",
      "metadata": {
        "heading_collapsed": "true",
        "id": "EBvETGG6tOvw"
      },
      "source": [
        "#### Soru\n",
        " Aşağıdaki ifadelerin sonuçları (True veya False) ne olur?\n",
        "```python\n",
        "2 == 3\n",
        "2 <= 3\n",
        "2 != -1\n",
        "2 >= -2\n",
        "2 > 2\n",
        "2 < 2\n",
        "2 == 2\n",
        "'ali gel' == 'ali gel'\n",
        "\n",
        "'ali gel' == 'Ali gel'\n",
        "'ali gel' <= 'Ali gel'\n",
        "'ali gel' >= 'Ali gel'\n",
        "\n",
        "'ali gel' == 'ali git'\n",
        "'ali gel' <= 'ali git'\n",
        "'ali gel' >= 'ali git'\n",
        "```"
      ]
    },
    {
      "cell_type": "markdown",
      "metadata": {
        "heading_collapsed": "true",
        "id": "r3IznZSMtOvw"
      },
      "source": [
        "#### Bazı Örnekler"
      ]
    },
    {
      "cell_type": "code",
      "execution_count": null,
      "metadata": {
        "id": "p55YAkMYtOvw"
      },
      "outputs": [],
      "source": [
        "1 <= 1.1 # <= operatörün sağındaki ifade solundakinden büyük veya eşit midir?\n",
        "\n",
        "1 >= 1.1 #\n",
        "\n",
        "pi = -3.1415\n",
        "pi >= 2 * pi #  -3.1415 >= -6.2830 (büyük ya da eşit değildir)\n",
        "\n",
        "\n",
        "pi != 2 * pi #  -3.1415 >= -6.2830 (eşit değildir!)\n",
        "pi != -1 * pi # -3.1415 != 3.1415\n",
        "\n",
        "1 == -1 # False (Hayır, Doğru Değil manasında)\n",
        "1 != -1 # True (Evet, Doğru manasında)\n",
        "\n",
        "True == True # True\n",
        "False == False # Önerme: \"False, False'a eşittir!\" Sonuç: True (Evet, False, False'a eşittir)\n",
        "\n",
        "True != True # Önerme: \"True, True'ya eşit değildir!\" Sonuç: False (hayır, True, True'ya eşittir)\n",
        "False != False #\n",
        "\n",
        "isim_1 = 'Metin'  # string veri tipi, str.\n",
        "ali = \"Ali\"\n",
        "\n",
        "ali == \"Ali\" #  Önerme: \"ali değişkenindeki metin eşittir 'Ali'!\" Sonç: True ()\n",
        "\"Ali\" == \"Ali\" #  Önerme: \"ali değişkenindeki metin eşittir 'Ali'!\" Sonç: True ()\n",
        "\n",
        "\n",
        "ali # ali bir değişkendir. bir veri saklar.\n",
        "\n",
        "\"Ali\" == \"ali\" ## A = 65, a = 97,  @ (64), 13\n",
        "\n",
        "'A' == 'a'\n",
        "65 == 97\n",
        "\n",
        "\"aasdf\" <= \"AASDF\" # büyük harfler 65 - 97 ; küçük harfler 97 - 122\n",
        "\"aasdf\" >= \"AASDF\" # büyük harfler 65 - 97 ; küçük harfler 97 - 122\n",
        "'k' == 'K'\n",
        "len('Mehmet ali') == len(ali)\n",
        "\n",
        "ali = \"merhaba ay\"\n",
        "len('Mehmet ali') == len(ali)  # 10 == 10\n"
      ]
    },
    {
      "cell_type": "markdown",
      "metadata": {
        "heading_collapsed": "true",
        "id": "oa1FOnNwtOvy"
      },
      "source": [
        "#### Soru\n",
        " Aşağıdaki ifadelerin sonuçları (True veya False) ne olur?\n",
        " ```python\n",
        "x = True  #  doğru veya 1\n",
        "y = False #  yanlış veya 0\n",
        "\n",
        "x and y\n",
        "x or y\n",
        "x and y and x\n",
        "not x\n",
        "not y\n",
        "not (x and y)\n",
        "not (x or y)\n",
        "x or y or y\n",
        "x or x and x\n",
        "x or x and y\n",
        "x and y and y\n",
        "y and y and y\n",
        "y and y and not y\n",
        "not 1\n",
        "not 0\n",
        "not 1234\n",
        "not -1234\n",
        "```"
      ]
    },
    {
      "cell_type": "code",
      "execution_count": null,
      "metadata": {
        "id": "Y6_-i_VutOvy"
      },
      "outputs": [],
      "source": [
        "x = True  #  doğru veya 1\n",
        "y = False #  yanlış veya 0\n",
        "\n",
        "print(\"x and y \\t\\t\", x and y)\n",
        "print(\"x or y \\t\\t\\t\", x or y)\n",
        "print(\"x and y and x \\t\\t\", x and y and x)\n",
        "print(\"not x \\t\\t\\t\", not x )\n",
        "print(\"not y \\t\\t\\t\", not y)\n",
        "print(\"not (x and y) \\t\\t\", not (x and y))\n",
        "print(\"not (x or y) \\t\\t\", not (x or y))\n",
        "print(\"x or y or y \\t\\t\", x or y or y)\n",
        "print(\"x or x and x \\t\\t\", x or x and x)\n",
        "print(\"x or x or y \\t\\t\", x or x or y)\n",
        "print(\"x or x and y \\t\\t\",x or x and y)\n",
        "print(\"x and y and y \\t\\t\", x and y and y)\n",
        "print(\"y and y and y \\t\\t\", y and y and y)\n",
        "print(\"y and y and not y \\t\", y and y and not y)\n",
        "print(\"y and y or not y \\t\", y and y or not y)\n",
        "print(\"not 1 \\t\\t\\t\", not 1)\n",
        "print(\"not 0 \\t\\t\\t\", not 0)\n",
        "print(\"not 1234 \\t\\t\", not 1234)\n",
        "print(\"not -1234 \\t\\t\", not -1234)"
      ]
    },
    {
      "cell_type": "markdown",
      "metadata": {
        "id": "OHciXy-btOv0"
      },
      "source": [
        "#### Soru\n",
        "AND ve OR mantıksal operatörlerinin True ve False 'un kombinasyonları için alacağı değerleri print() fonksiyonu ile yazdırınız."
      ]
    },
    {
      "cell_type": "code",
      "execution_count": null,
      "metadata": {
        "id": "XL03W185tOv0"
      },
      "outputs": [],
      "source": [
        "print(\"OR operatörü:\")\n",
        "print(\"True or True:\\t\", True or True)\n",
        "print(\"True or False:\\t\", True or False)\n",
        "print(\"False or False:\\t\", False or True)\n",
        "print(\"False or False:\\t\", False or False)\n",
        "\n",
        "print(\"\\n\")\n",
        "print(\"AND operatörü:\\t\")\n",
        "print(\"True and True:\\t\", True and True)\n",
        "print(\"True and False:\\t\", True and False)\n",
        "print('False and True:\\t', False and True)\n",
        "print(\"False and False:\", False and False)"
      ]
    },
    {
      "cell_type": "markdown",
      "metadata": {
        "id": "ywSrfIQvtOv1"
      },
      "source": [
        "#### Soru\n",
        "Aşağıdaki işlemlerin sonuçları ne olur?\n",
        "```python\n",
        "(1, 2, 3)              < (1, 2, 4)\n",
        "[1, 2, 3]              < [1, 2, 4]\n",
        "'ABC' < 'C' < 'Pascal' < 'Python'\n",
        "(1, 2, 3, 4)           < (1, 2, 4)\n",
        "(1, 2)                 < (1, 2, -1)\n",
        "(1, 2, 3)             == (1.0, 2.0, 3.0)\n",
        "(1, 2, ('aa', 'ab'))   < (1, 2, ('abc', 'a'), 4)\n",
        "```"
      ]
    },
    {
      "cell_type": "code",
      "execution_count": null,
      "metadata": {
        "id": "-BbJvyeptOv2"
      },
      "outputs": [],
      "source": [
        "print((1, 2, 3)              < (1, 2, 4))\n",
        "print([1, 2, 3]              < [1, 2, 4])\n",
        "print('ABC' < 'C' < 'Pascal' < 'Python')\n",
        "print((1, 2, 3, 4)           < (1, 2, 4))\n",
        "print((1, 2)                 < (1, 2, -1))\n",
        "print((1, 2, 3)             == (1.0, 2.0, 3.0))\n",
        "print((1, 2, ('aa', 'ab'))   < (1, 2, ('abc', 'a'), 4))\n"
      ]
    },
    {
      "cell_type": "code",
      "source": [
        "a = 0\n",
        "\n",
        "if (4 == 5) and (True or False): # ifadenin sonucu True ise bu kısım yürütülür\n",
        "  a = 5\n",
        "  c= 4\n",
        "  # ...\n",
        "else: # aksi her durumda bu kod bloku yürütülür\n",
        "  a = 6\n",
        "  c = 1\n",
        "\n",
        "a"
      ],
      "metadata": {
        "colab": {
          "base_uri": "https://localhost:8080/"
        },
        "id": "vr7_hvY8yuNb",
        "outputId": "e75455e3-0a3b-470a-b25f-bbc7f30df01e"
      },
      "execution_count": null,
      "outputs": [
        {
          "output_type": "execute_result",
          "data": {
            "text/plain": [
              "5"
            ]
          },
          "metadata": {},
          "execution_count": 1
        }
      ]
    },
    {
      "cell_type": "markdown",
      "metadata": {
        "id": "CfJPZCOetOwU"
      },
      "source": [
        "#### Soru\n",
        "Aşağıdaki koda göre, ekranda ne(ler) yazar?\n",
        "```python\n",
        "if 3 < 2:  # False\n",
        "    print(\"Doğru\")\n",
        "    print(\"Bu satır da gösterilecek\")\n",
        "    print(\"Bu satır da gösterilecek\")\n",
        "    print(\"Bu satır da gösterilecek\")\n",
        "    # ...\n",
        "    # ...\n",
        "else:\n",
        "    print(\"Yanlış\")\n",
        "    \n",
        "print(\"\\nBu satır koşul sonlandıktan sonra yazılacak.\")\n",
        "```"
      ]
    },
    {
      "cell_type": "code",
      "execution_count": null,
      "metadata": {
        "id": "yZF3kQYltOwV"
      },
      "outputs": [],
      "source": [
        "if 3 < 2:  # False\n",
        "    print(\"Doğru\")\n",
        "    print(\"Bu satır da gösterilecek\")\n",
        "    print(\"Bu satır da gösterilecek\")\n",
        "    print(\"Bu satır da gösterilecek\")\n",
        "    # ...\n",
        "    # ...\n",
        "else:\n",
        "    print(\"Yanlış\")\n",
        "\n",
        "print(\"\\nBu satır koşul sonlandıktan sonra yazılacak.\")"
      ]
    },
    {
      "cell_type": "markdown",
      "metadata": {
        "id": "Uhr76S8RtOwV"
      },
      "source": [
        "#### Soru\n",
        " Derslerden alınan sayısal notların harfler ile gösterilmesinin istendiğini varsayalım. 85 < not <= 100 için A; 60 <= not < 85 için B; 50 <= not < 60 için C; 35 <= not < 50 için D; ve 20 <= not < 35 için de E ve not <20 için F harfinin verilmesi istensin. Bir değişken ile tanımlanmış sayısal notu (değişkeni ve notu siz belirleyiniz) ilgili harf ile gösteren kodu yazınız. Örneğin, not 84 ise ekrana \"Harf notunuz B'dir\" şeklinde bir mesaj yazdırınız. Notun 0 - 100 aralığında olmaması durumunda ekrana \"Not değeri 0 ile 100 arasında olmalıdır\" şeklinde bir hata mesajı yazdırınız?"
      ]
    },
    {
      "cell_type": "code",
      "execution_count": null,
      "metadata": {
        "id": "ANicZ97htOwV"
      },
      "outputs": [],
      "source": [
        "_not = 35\n",
        "\n",
        "if _not <0  or _not > 100:\n",
        "    print(\"Not değeri 0 ile 100 arasında olmalıdır\")\n",
        "\n",
        "elif _not < 20:\n",
        "    print(\"Harf notunuz F'dir.\")\n",
        "\n",
        "elif _not < 35:\n",
        "    print(\"Harf notunuz E'dir.\")\n",
        "\n",
        "elif _not < 50:\n",
        "    print(\"Harf notunuz D'dir.\")\n",
        "\n",
        "elif _not < 60:\n",
        "    print(\"Harf notunuz C'dir.\")\n",
        "\n",
        "elif _not < 85:\n",
        "    print(\"Harf notunuz B'dir.\")\n",
        "\n",
        "else :\n",
        "    print(\"Harf notunuz A'dır.\")"
      ]
    },
    {
      "cell_type": "markdown",
      "metadata": {
        "id": "lTUWWRu5tOwV"
      },
      "source": [
        "#### Soru\n",
        "Aşağıdaki program sonucunda ekranda ne(ler) yazar?\n",
        "```python\n",
        "x = -10\n",
        "if x < 0: # sayı negatif ise\n",
        "    print(\"x, negatif bir sayıdır\")\n",
        "    if x <  -5:\n",
        "        print(\"x, 2'den küçüktür\")\n",
        "    if x <  -5:\n",
        "        print(\"x, 2'den küçüktür\")\n",
        "if x <  -2:\n",
        "    print(\"x, 2'den küçüktür\")\n",
        "else:\n",
        "    print(\"x, 10'dan küçüktür\")\n",
        "print(\"Bu metin if, elif, else karar mekanizması sonrasındaki ilk kod satırıdır.\")\n",
        "```"
      ]
    },
    {
      "cell_type": "code",
      "execution_count": null,
      "metadata": {
        "id": "MyN8P6h2tOwW"
      },
      "outputs": [],
      "source": [
        "x = -10\n",
        "\n",
        "if x < 0: # sayı negatif ise\n",
        "    print(\"x, negatif bir sayıdır\")\n",
        "\n",
        "    if x <  -5:\n",
        "        print(\"x, 2'den küçüktür\")\n",
        "\n",
        "    if x <  -5:\n",
        "        print(\"x, 2'den küçüktür\")\n",
        "\n",
        "\n",
        "if x <  -2:\n",
        "    print(\"x, 2'den küçüktür\")\n",
        "\n",
        "else:\n",
        "    print(\"x, 10'dan küçüktür\")\n",
        "\n",
        "print(\"Bu metin if, elif, else karar mekanizması sonrasındaki ilk kod satırıdır.\")"
      ]
    },
    {
      "cell_type": "markdown",
      "metadata": {
        "heading_collapsed": "true",
        "id": "qDevejdDtOwX"
      },
      "source": [
        "#### Soru\n",
        " Aşağıdaki program sonucunda ekranda ne(ler) yazar?\n",
        "```python\n",
        "x = -10\n",
        "if x < 0: # sayı negatif ise\n",
        "    print(\"x, negatif bir sayıdır\")  \n",
        "    if x <  -5:\n",
        "        print(\"x, 2'den küçüktür\")\n",
        "        print(\"başka bir iş\")\n",
        "if x <  -2:\n",
        "    print(\"x, 2'den küçüktür\")\n",
        "else:\n",
        "    print(\"x, 10'dan küçüktür\")\n",
        "print(\"Bu metin if, elif, else karar mekanizması sonrasındaki ilk kod satırıdır.\")\n",
        "```"
      ]
    },
    {
      "cell_type": "code",
      "execution_count": null,
      "metadata": {
        "id": "LX1uOhgutOwX"
      },
      "outputs": [],
      "source": [
        "x = -10\n",
        "\n",
        "if x < 0: # sayı negatif ise\n",
        "    print(\"x, negatif bir sayıdır\")\n",
        "\n",
        "    if x <  -5:\n",
        "        print(\"x, 2'den küçüktür\")\n",
        "        print(\"başka bir iş\")\n",
        "\n",
        "if x <  -2:\n",
        "    print(\"x, 2'den küçüktür\")\n",
        "\n",
        "else:\n",
        "    print(\"x, 10'dan küçüktür\")\n",
        "\n",
        "print(\"Bu metin if, elif, else karar mekanizması sonrasındaki ilk kod satırıdır.\")"
      ]
    },
    {
      "cell_type": "markdown",
      "metadata": {
        "heading_collapsed": "true",
        "id": "z0KHjDZjtOwX"
      },
      "source": [
        "#### Soru\n",
        "Aşağıdaki program sonucunda ekranda ne(ler) yazar?\n",
        "```python\n",
        "x = -8\n",
        "if x < 0: # sayı negatif ise\n",
        "    print(\"x, negatif bir sayıdır\")\n",
        "    if x <  -5:\n",
        "        print(\"x, 2'den küçüktür\")      \n",
        "        if x <  -8:\n",
        "            print(\"x, 2'den küçüktür\")\n",
        "        elif x > -10:\n",
        "            print(\"sadfas\")\n",
        "        else:\n",
        "            a = 5\n",
        "if x <  -2:\n",
        "    print(\"x, 2'den küçüktür\")\n",
        "else:\n",
        "    print(\"x, 10'dan küçüktür\")\n",
        "print(\"Bu metin if, elif, else karar mekanizması sonrasındaki ilk kod satırıdır.\")\n",
        "```"
      ]
    },
    {
      "cell_type": "code",
      "execution_count": null,
      "metadata": {
        "id": "AHhY_1OdtOwY",
        "outputId": "c8719029-f0a7-4397-b3a0-b63fa828287f"
      },
      "outputs": [
        {
          "name": "stdout",
          "output_type": "stream",
          "text": [
            "x, negatif bir sayıdır\n",
            "x, 2'den küçüktür\n",
            "sadfas\n",
            "x, 2'den küçüktür\n",
            "Bu metin if, elif, else karar mekanizması sonrasındaki ilk kod satırıdır.\n"
          ]
        }
      ],
      "source": [
        "x = -8\n",
        "\n",
        "if x < 0: # sayı negatif ise\n",
        "    print(\"x, negatif bir sayıdır\")\n",
        "\n",
        "    if x <  -5:\n",
        "        print(\"x, 2'den küçüktür\")\n",
        "\n",
        "        if x <  -8:\n",
        "            print(\"x, 2'den küçüktür\")\n",
        "        elif x > -10:\n",
        "            print(\"sadfas\")\n",
        "\n",
        "        else:\n",
        "            a = 5\n",
        "\n",
        "if x <  -2:\n",
        "    print(\"x, 2'den küçüktür\")\n",
        "\n",
        "else:\n",
        "    print(\"x, 10'dan küçüktür\")\n",
        "\n",
        "print(\"Bu metin if, elif, else karar mekanizması sonrasındaki ilk kod satırıdır.\")"
      ]
    },
    {
      "cell_type": "markdown",
      "metadata": {
        "id": "TvTPpKnbtOwb"
      },
      "source": [
        "#### Soru\n",
        "\n",
        "Fiyat isimli bir değişkenimiz olsun. Fiyat 50 ve üzeri ise ‘çok pahalı’ , 30 (dahil) ile 50 (hariç) arasında ise ‘fiyat normal’; 0 (hariç) ile 30 (hariç) arasında ise ‘fiyat çok düşük’ ve Fiyat bu aralıkların dışında bir değer ise ‘Hatalı bir fiyat değeri’ metnini ekrana yazdıran kodu yazınız?"
      ]
    },
    {
      "cell_type": "code",
      "execution_count": null,
      "metadata": {
        "id": "2c-KltDPtOwc"
      },
      "outputs": [],
      "source": [
        "if Fiyat >= 50:\n",
        "    print('çok pahalı')\n",
        "elif Fiyat <50 and Fiyat >=30:\n",
        "    print('fiyat normal')\n",
        "elif Fiyat > 0 and Fiyat < 30:\n",
        "    print('fiyat çok düşük')\n",
        "else:\n",
        "    print('Hatalı bir fiyat değeri')\n"
      ]
    },
    {
      "cell_type": "markdown",
      "metadata": {
        "id": "D0I8VaRHtOwc"
      },
      "source": [
        "#### Soru\n",
        "Aşağıdaki koda göre hangi mesajlar ekranda gösterilir?\n",
        "```python\n",
        "stok = 50\n",
        "if stok >= 50:\n",
        "    print('çok fazla stok var')\n",
        "    # diğer kodlar ...\n",
        "if (stok >= 30) or (stok < 50) :\n",
        "    print('stok normal')\n",
        "if (stok > 0)  and (stok < 30):\n",
        "    print('çok az stok var')\n",
        "else:\n",
        "    print('stok değeri ', stok, ' olamaz')\n",
        "```"
      ]
    },
    {
      "cell_type": "code",
      "execution_count": null,
      "metadata": {
        "id": "xqIYZFZrtOwc"
      },
      "outputs": [],
      "source": [
        "stok = 50\n",
        "\n",
        "if stok >= 50:\n",
        "    print('çok fazla stok var')\n",
        "    # diğer kodlar ...\n",
        "\n",
        "if (stok >= 30) or (stok < 50) :\n",
        "    print('stok normal')\n",
        "\n",
        "if (stok > 0)  and (stok < 30):\n",
        "    print('çok az stok var')\n",
        "else:\n",
        "    print('stok değeri ', stok, ' olamaz')"
      ]
    },
    {
      "cell_type": "markdown",
      "metadata": {
        "id": "YieLEFeptOwd"
      },
      "source": [
        "## Fonksiyonlar"
      ]
    },
    {
      "cell_type": "code",
      "execution_count": null,
      "metadata": {
        "id": "XAachQVYtOwd"
      },
      "outputs": [],
      "source": []
    },
    {
      "cell_type": "markdown",
      "source": [
        "#### Soru\n",
        "1. Verilen sayı tek ise True, aksi halde False veren \"sayi_tek\" isimli fonksiyonu\n",
        "2. Verilen sayı çift ise True, aksi halde False veren \"sayi_cift\" isimli fonksiyonu"
      ],
      "metadata": {
        "id": "yVGg2Xl0O-0R"
      }
    },
    {
      "cell_type": "code",
      "source": [
        "def sayi_tek(g):\n",
        "  if (g % 2) == 0:\n",
        "    return False\n",
        "  else:\n",
        "    return True\n",
        "\n",
        "\n",
        "def sayi_cift(a):\n",
        "  if(a % 2) == 1:\n",
        "\n",
        "    return False\n",
        "\n",
        "  else:\n",
        "    return True\n",
        "\n",
        "print(sayi_cift(10))\n",
        "\n",
        "print(sayi_tek(1))\n"
      ],
      "metadata": {
        "colab": {
          "base_uri": "https://localhost:8080/"
        },
        "id": "jFXoE_bjPVVA",
        "outputId": "53775ecb-89ce-47d0-9459-806f6eebc41c"
      },
      "execution_count": null,
      "outputs": [
        {
          "output_type": "stream",
          "name": "stdout",
          "text": [
            "True\n",
            "True\n"
          ]
        }
      ]
    },
    {
      "cell_type": "markdown",
      "source": [
        "#### Soru\n",
        "1. Verilen iki sayının birbirine bölümünden kalanı veren \"kalan\" fonksiyonu\n",
        "2. Verilen iki sayının birbirine bölümündeki bölümü veren \"bolum\" fonksiyonu\n",
        "3. Verilen sayı 0'dan büyük ise True, değilse False değerini veren \"pozitif\" fonksiyonu\n",
        "\n",
        "4. Yukarıdaki fonksiyonları kullanarak, verilen iki sayı (örneğin x ve y) için;\n",
        "\n",
        "  \"x sayısı pozitif (veya tersi) , y sayısı negatif (veya tersi); x in y'ye bölümünden kalan <kalan değer>, bölüm <bolum fonksiyonundan elde edilen değer> dir\"\n",
        "  \n",
        "   gibi bir mesajı ekrana yazan \"Ana_Fonksiyon\" isimli fonksiyonu yazınız\n"
      ],
      "metadata": {
        "id": "NeqHqbsHVZ4W"
      }
    },
    {
      "cell_type": "code",
      "source": [
        "def kalan(x,y):\n",
        "  return x % y\n",
        "\n",
        "def bolum(x,y):\n",
        "  return x // y\n",
        "\n",
        "def pozitif(x):\n",
        "    \"\"\"\n",
        "    if x > 0:\n",
        "      return True\n",
        "    else:\n",
        "      return False\n",
        "    \"\"\"\n",
        "    if x > 0:\n",
        "      return \"Poizitftir\"\n",
        "    else:\n",
        "      return \"Negatiftir\"\n",
        "\n",
        "def Ana_Fonksiyon(a, b):\n",
        "  \"\"\"\n",
        "  x in pozitif /negatif durumu\n",
        "  y in pozitif /negatif durumu\n",
        "  x // y\n",
        "  x % y\n",
        "  \"\"\"\n",
        "\n",
        "  a_durum = pozitif(a) # True ya da False\n",
        "  b_durum = pozitif(b) # True ya da False\n",
        "\n",
        "  if a_durum:\n",
        "    a_durum_text = \"Pozitiftir\"\n",
        "  else:\n",
        "    a_durum_text = \"Negatiftir\"\n",
        "\n",
        "  if b_durum:\n",
        "    b_durum_text = \"Pozitiftir\"\n",
        "  else:\n",
        "    b_durum_text = \"Negatiftir\"\n",
        "\n",
        "  a_bolu_b_bolum = bolum(a,b) # bölme işlemindeki bölüm\n",
        "  a_bolu_b_kalan = kalan(a,b)\n",
        "\n",
        "  print(a, \" sayısı\", a_durum_text, \"; \", b, \" sayısı \", b_durum_text, \";\", a ,\n",
        "        \" sayısının \", b, \" sayısına bölümü \", a_bolu_b_bolum, \" ve kalanı \",\n",
        "        a_bolu_b_kalan, \" olur.\")\n",
        "\n",
        "\n",
        "Ana_Fonksiyon(23423,10)"
      ],
      "metadata": {
        "colab": {
          "base_uri": "https://localhost:8080/"
        },
        "id": "VuL3sC4gk1xM",
        "outputId": "a851ed0b-4a5e-4a4c-acbf-7275ad109eb3"
      },
      "execution_count": null,
      "outputs": [
        {
          "output_type": "stream",
          "name": "stdout",
          "text": [
            "23423  sayısı Pozitiftir ;  10  sayısı  Pozitiftir ; 23423  sayısının  10  sayısına bölümü  2342  ve kalanı  3  olur.\n"
          ]
        }
      ]
    },
    {
      "cell_type": "markdown",
      "metadata": {
        "id": "m8KSsEwNtOwd"
      },
      "source": [
        "#### Soru\n",
        "Bir metin içerisindeki sesli harfleri metinden atan bir fonksiyon yazınız?"
      ]
    },
    {
      "cell_type": "code",
      "execution_count": null,
      "metadata": {
        "id": "AiILCHhQtOwd",
        "colab": {
          "base_uri": "https://localhost:8080/",
          "height": 35
        },
        "outputId": "60ce7eea-9517-4806-cb0b-f6bbabe9432a"
      },
      "outputs": [
        {
          "output_type": "execute_result",
          "data": {
            "text/plain": [
              "'Şms Pş psjnd ss bzşsclr'"
            ],
            "application/vnd.google.colaboratory.intrinsic+json": {
              "type": "string"
            }
          },
          "metadata": {},
          "execution_count": 1
        }
      ],
      "source": [
        "def seslileri_sil(metin):\n",
        "    sesliler = \"aeıioöuü\"\n",
        "    yeni_metin = \"\"\n",
        "    for harf in metin:\n",
        "        if harf.lower() not in sesliler:\n",
        "            yeni_metin += harf\n",
        "    return yeni_metin\n",
        "\n",
        "seslileri_sil(\"Şemsi Paşa pasajında sesi büzüşesiceler\")"
      ]
    },
    {
      "cell_type": "markdown",
      "metadata": {
        "id": "RMurtYeVtOwe"
      },
      "source": [
        "#### Soru\n",
        "Aşağıdaki fonksiyon ne iş yapar?\n",
        "\n",
        "```python\n",
        "def bir_fonksyion(metin, y):\n",
        "   \n",
        "    for i, h in enumerate(metin):\n",
        "        if h == y:\n",
        "            return i\n",
        "    return -1\n",
        "```"
      ]
    },
    {
      "cell_type": "markdown",
      "metadata": {
        "id": "yjekLzj5tOwe"
      },
      "source": [
        "Bir metin içerisinde belirli bir karakterin ilk olduğu konumun indeksini verir. Aranan karakter yoksa -1 döndürür."
      ]
    },
    {
      "cell_type": "code",
      "execution_count": null,
      "metadata": {
        "id": "7-7caTJItOwe"
      },
      "outputs": [],
      "source": [
        "def bir_fonksyion(metin, y):\n",
        "\n",
        "    for i, h in enumerate(metin):\n",
        "        if h == y:\n",
        "            return i\n",
        "    return -1\n",
        "\n",
        "bir_fonksyion(\"Şemsi Paşa pasajında sesi büzüşesiceler\", \"ş\")"
      ]
    },
    {
      "cell_type": "markdown",
      "metadata": {
        "id": "R2OYVPVAtOwf"
      },
      "source": [
        "#### Soru\n",
        "```python\n",
        " def count_a(text):\n",
        "    count = 0\n",
        "    for letter in text:\n",
        "        if letter == \"a\":\n",
        "            count += 1\n",
        "    return(count)\n",
        "```"
      ]
    },
    {
      "cell_type": "markdown",
      "metadata": {
        "id": "Ka34TaYatOwf"
      },
      "source": [
        "#### Soru"
      ]
    },
    {
      "cell_type": "code",
      "execution_count": null,
      "metadata": {
        "id": "p354N8T3tOwf"
      },
      "outputs": [],
      "source": [
        "def harf_notu(notu):\n",
        "    if notu >=50 :\n",
        "        hnotu = 'A'\n",
        "    elif notu <50 and notu >=0:\n",
        "        hnotu = 'C'\n",
        "    else:\n",
        "        print('Hatalı not değeri')\n",
        "        hnotu = None\n",
        "\n",
        "    return hnotu\n",
        "\n",
        "deger = harf_notu(45)\n",
        "\n",
        "ikinci_cagri = harf_notu(98)\n",
        "\n",
        "def bir_mesaj_yaz(mesaj):\n",
        "    print(mesaj)\n",
        "\n",
        "harf_notu(98)\n",
        "\n",
        "print(deger)\n",
        "\n",
        "bir_mesaj_yaz('Merhaba')\n"
      ]
    },
    {
      "cell_type": "markdown",
      "metadata": {
        "id": "pf8eXpoStOwf"
      },
      "source": [
        "#### Soru\n",
        "Taban ve yüksekliği verilen üçgenin alanını hesaplayan bir fonksiyon yazınız? Taban ve yükseklik için sırasıyla 2 ve 3 değerlerini varsayılan olarak tanımlayınız"
      ]
    },
    {
      "cell_type": "code",
      "execution_count": null,
      "metadata": {
        "id": "eyWFrZJ7tOwg",
        "outputId": "3260c888-a474-4a7a-cee9-56f1c814f7cf",
        "colab": {
          "base_uri": "https://localhost:8080/"
        }
      },
      "outputs": [
        {
          "output_type": "execute_result",
          "data": {
            "text/plain": [
              "(3.0, 2, 3, 9)"
            ]
          },
          "metadata": {},
          "execution_count": 15
        }
      ],
      "source": [
        "def ucgen_alani(taban=2, yukseklik=3,):\n",
        "    alan = (taban * yukseklik) / 2\n",
        "    return alan, taban, yukseklik, yukseklik**2\n",
        "\n",
        "ucgen_alani( )"
      ]
    },
    {
      "cell_type": "code",
      "execution_count": null,
      "metadata": {
        "id": "59Nkk-litOwg",
        "outputId": "0aa86039-01d6-435d-e7f3-e75917346206",
        "colab": {
          "base_uri": "https://localhost:8080/"
        }
      },
      "outputs": [
        {
          "output_type": "execute_result",
          "data": {
            "text/plain": [
              "(10.0, 4, 5, 25)"
            ]
          },
          "metadata": {},
          "execution_count": 3
        }
      ],
      "source": [
        "ucgen_alani(yukseklik=5, taban=4)"
      ]
    },
    {
      "cell_type": "code",
      "execution_count": null,
      "metadata": {
        "id": "Hd56ibD-tOwg",
        "colab": {
          "base_uri": "https://localhost:8080/"
        },
        "outputId": "d05cb4e9-f8af-4ec7-b177-07cbb1a43a2e"
      },
      "outputs": [
        {
          "output_type": "execute_result",
          "data": {
            "text/plain": [
              "(14.0, 4, 7, 49)"
            ]
          },
          "metadata": {},
          "execution_count": 4
        }
      ],
      "source": [
        "ucgen_alani(4, yukseklik=7)"
      ]
    },
    {
      "cell_type": "code",
      "execution_count": null,
      "metadata": {
        "id": "JXCxPUfltOwg",
        "outputId": "a614da80-33a6-4a48-f27f-e676fc086fba",
        "colab": {
          "base_uri": "https://localhost:8080/"
        }
      },
      "outputs": [
        {
          "output_type": "stream",
          "name": "stdout",
          "text": [
            "16\n"
          ]
        }
      ],
      "source": [
        "# ax^2 + 4x - 16 denklemini hesaplayan fonksiyon\n",
        "##\n",
        "def fonksiyon(a=1, x=4):\n",
        "    return  a*(x**2) + 4*x-16\n",
        "\n",
        "print( fonksiyon(x=4, ))"
      ]
    },
    {
      "cell_type": "code",
      "execution_count": null,
      "metadata": {
        "id": "y4Z6zwOgtOwg",
        "outputId": "8c01c726-bb3e-4356-8618-e1269c376a30",
        "colab": {
          "base_uri": "https://localhost:8080/"
        }
      },
      "outputs": [
        {
          "output_type": "stream",
          "name": "stdout",
          "text": [
            "10116.551734513878\n"
          ]
        }
      ],
      "source": [
        "# ax^2 + y^3 + 8xy^2 - 8bx denklemini hesaplayan fonksiyon\n",
        "##\n",
        "def f(a , x , y , b):\n",
        "    t= a*(x**2)*(y**3) + 8*x*(y**2) - 8*b*x\n",
        "    return t\n",
        "\n",
        "print(f(5,8,3.12315,4))\n",
        "\n",
        "# a=1, x=5, y=8, b = 9 için\n",
        "a=1\n",
        "x=5\n",
        "y=8\n",
        "b=9\n",
        "\n",
        "hesap1 = a*(x**2)*(y**3) + 8*x*(y**2) - 8*b*x\n",
        "\n",
        "# a=1.5, x=2.5, y=0.8, b = 0 için\n",
        "a=1.5\n",
        "x=2.5\n",
        "y=0.8\n",
        "b=0\n",
        "\n",
        "hesap2 = a*(x**2)*(y**3) + 8*x*(y**2) - 8*b*x\n"
      ]
    },
    {
      "cell_type": "code",
      "execution_count": null,
      "metadata": {
        "id": "J_SPmxX9tOwh",
        "outputId": "f4af9fb8-03fd-4768-98eb-ac9acc52c6ec",
        "colab": {
          "base_uri": "https://localhost:8080/"
        }
      },
      "outputs": [
        {
          "output_type": "execute_result",
          "data": {
            "text/plain": [
              "(15000, 17.6)"
            ]
          },
          "metadata": {},
          "execution_count": 7
        }
      ],
      "source": [
        "hesap1, hesap2"
      ]
    },
    {
      "cell_type": "code",
      "execution_count": null,
      "metadata": {
        "id": "I7fjWrR2tOwh"
      },
      "outputs": [],
      "source": [
        "\n",
        "hesap1= f(a=1 , x=5 , y=8 , b=9) # a=1, x=5, y=8, b = 9 için\n",
        "\n",
        "hesap2= f(a=1.5 , x=2.5 , y=0.8 , b=0) # a=1.5, x=2.5, y=0.8, b = 0 için"
      ]
    },
    {
      "cell_type": "code",
      "execution_count": null,
      "metadata": {
        "id": "OCtyAKNHtOwh",
        "outputId": "6944750f-d9bf-4696-d8fc-82d3f57c3be6",
        "colab": {
          "base_uri": "https://localhost:8080/"
        }
      },
      "outputs": [
        {
          "output_type": "execute_result",
          "data": {
            "text/plain": [
              "(15000, 17.6)"
            ]
          },
          "metadata": {},
          "execution_count": 9
        }
      ],
      "source": [
        "hesap1, hesap2"
      ]
    },
    {
      "cell_type": "code",
      "execution_count": null,
      "metadata": {
        "id": "yfNjHUCatOwh",
        "outputId": "a97e3fa6-066b-4fc9-dca0-cb45d1c918f2",
        "colab": {
          "base_uri": "https://localhost:8080/"
        }
      },
      "outputs": [
        {
          "output_type": "execute_result",
          "data": {
            "text/plain": [
              "295.92500000000007"
            ]
          },
          "metadata": {},
          "execution_count": 10
        }
      ],
      "source": [
        "def kare(k):\n",
        "    return k**2\n",
        "\n",
        "sonuc = f(a=1.5 , x=2.5 , y=0.8 , b=0) + f(a=2.5 , x=3.5 , y=1.8 , b=0) + kare(3)\n",
        "sonuc"
      ]
    },
    {
      "cell_type": "code",
      "execution_count": null,
      "metadata": {
        "id": "vcRqsxKRtOwi"
      },
      "outputs": [],
      "source": [
        "\n",
        "hesap1= f(a=1 , x=5 , y=8 , b=9) # a=1, x=5, y=8, b = 9 için"
      ]
    },
    {
      "cell_type": "markdown",
      "metadata": {
        "id": "1U7kQXxaOB4x"
      },
      "source": [
        "#### Soru\n",
        "\n",
        "1. Verilen sayının karesini alan fonksiyon -> kare\n",
        "2. kare fonksiyonunu kullanarak, iki sayının karesini toplayan fonksiyon -> kare_topla"
      ]
    },
    {
      "cell_type": "code",
      "execution_count": null,
      "metadata": {
        "colab": {
          "base_uri": "https://localhost:8080/"
        },
        "id": "SalYHNw-OB4y",
        "outputId": "fb573011-e283-442f-9544-666633c7b6bb"
      },
      "outputs": [
        {
          "output_type": "execute_result",
          "data": {
            "text/plain": [
              "(162, 1, 25, 16)"
            ]
          },
          "metadata": {},
          "execution_count": 9
        }
      ],
      "source": [
        "def kare(x):\n",
        "  return x**2\n",
        "\n",
        "def kare_topla(x, y):\n",
        "  if x > y:\n",
        "  return kare(kare(x)) + kare(y)\n",
        "\n",
        "kare_topla(1, 3)\n",
        "# a[2]"
      ]
    },
    {
      "cell_type": "code",
      "source": [],
      "metadata": {
        "id": "nSONaWcDN-V2"
      },
      "execution_count": null,
      "outputs": []
    },
    {
      "cell_type": "markdown",
      "metadata": {
        "id": "PRJ9GfiEtOwi"
      },
      "source": [
        "#### Soru"
      ]
    },
    {
      "cell_type": "code",
      "execution_count": null,
      "metadata": {
        "id": "UE2yUvzMtOwi"
      },
      "outputs": [],
      "source": [
        "def kare(k):\n",
        "    return k**2\n",
        "\n",
        "def topla(a, b, c):\n",
        "    t = a + b + c\n",
        "    c = a * b* c\n",
        "    d = kare(a+b)\n",
        "    z = kare(a+b)\n",
        "    return a, kare(a+b) , c**4, a+b+c**2\n",
        "\n",
        "l, m , n = 2, 3, 4\n",
        "\n",
        "s1, s2, s3, s4 = topla(l, m, n)\n",
        "\n",
        "print(topla(l, m, n))\n"
      ]
    },
    {
      "cell_type": "markdown",
      "metadata": {
        "id": "h7m-s-t8tOws"
      },
      "source": [
        "#### Soru\n",
        "Aşağıdaki görevleri yerine getiren fonksiyonları yazınız:\n",
        "\n",
        "Verilen x, y için\n",
        "1. fonksiyon -> negatif/pozitif\n",
        "2. fonksyion -> bölüm\n",
        "3. fonksiyon -> kalan\n",
        "4. Ana fonksiyon,*italik metin*"
      ]
    },
    {
      "cell_type": "code",
      "execution_count": null,
      "metadata": {
        "id": "wxdoLH6YtOws",
        "colab": {
          "base_uri": "https://localhost:8080/"
        },
        "outputId": "3596ab16-e61d-4faf-a635-719a160b8a56"
      },
      "outputs": [
        {
          "output_type": "stream",
          "name": "stdout",
          "text": [
            "x  pozitiftir . y  pozitiftir  x'in y'ye bölümünden kalan 1 , bölüm  0  dir.\n"
          ]
        }
      ],
      "source": [
        "# AMAÇLAR,\n",
        "# verilen x, y için\n",
        "# 1. fonksiyon -> negatif/pozitif\n",
        "# 2. fonksyion -> bölüm\n",
        "# 3. fonksiyon -> kalan\n",
        "# 4. Ana fonksyion,\n",
        "\n",
        "# 1. fonksiyon\n",
        "def pozitif_negatif(x):\n",
        "\n",
        "    if x >=0 : # x 0'dan büyükse True döndür\n",
        "        return \"pozitiftir\"\n",
        "    else: # değilse False döndür\n",
        "        return \"negatiftir\"\n",
        "\n",
        "def kalan(g,h):\n",
        "    return g%h\n",
        "\n",
        "\n",
        "def bolum(j,k):\n",
        "    return j//k\n",
        "\n",
        "\n",
        "\n",
        "def ana_fonksyion(x, y):\n",
        "\n",
        "    xd = pozitif_negatif(x) # x' in durumunu öğren (string olarak)\n",
        "\n",
        "    yd = pozitif_negatif(y) # x' in durumunu öğren (string olarak)\n",
        "\n",
        "    kal= kalan(y, x)\n",
        "\n",
        "    bol = bolum(x,y)\n",
        "\n",
        "    print(\"x \", xd, \". y \", yd, \" x'in y'ye bölümünden kalan\",\n",
        "                kal, \", bölüm \", bol , \" dir.\" )\n",
        "\n",
        "\n",
        "ana_fonksyion(4,5)"
      ]
    },
    {
      "cell_type": "markdown",
      "metadata": {
        "heading_collapsed": "true",
        "id": "8Ygfsx2GtOws"
      },
      "source": [
        "## Metin Biçimlendirme"
      ]
    },
    {
      "cell_type": "markdown",
      "metadata": {
        "id": "vq9GvPsttOwt"
      },
      "source": [
        "#### Soru\n",
        " \"Emek olmadan yemek olmaz\" cümlesinde 'ekmek' kelimesinin var olup olmadığını sorgulayan Python cümlesini yazınız?"
      ]
    },
    {
      "cell_type": "markdown",
      "metadata": {
        "heading_collapsed": "true",
        "id": "egkBff_ptOwt"
      },
      "source": [
        "##### 1. yol"
      ]
    },
    {
      "cell_type": "code",
      "execution_count": null,
      "metadata": {
        "id": "LQQEenxstOwt"
      },
      "outputs": [],
      "source": [
        "'ekmek' in 'Emek olmadan yemek olmaz'"
      ]
    },
    {
      "cell_type": "markdown",
      "metadata": {
        "heading_collapsed": "true",
        "id": "v5xQkUuItOwt"
      },
      "source": [
        "##### 2. yol"
      ]
    },
    {
      "cell_type": "code",
      "execution_count": null,
      "metadata": {
        "id": "TzVEDXdXtOwt"
      },
      "outputs": [],
      "source": [
        "'Emek olmadan yemek olmaz'.find('ekmek') # -1 yanıtı yok anlamındadır."
      ]
    },
    {
      "cell_type": "markdown",
      "metadata": {
        "heading_collapsed": "true",
        "id": "06iomhyXtOwO"
      },
      "source": [
        "#### Soru\n",
        "\"Bu metnin onbir ile 22'nci karakterini indeksleyerek alınız?"
      ]
    },
    {
      "cell_type": "code",
      "execution_count": null,
      "metadata": {
        "id": "gxAb70GntOwO",
        "outputId": "b2c4d556-4bce-4b35-ce76-3a238c57804d"
      },
      "outputs": [
        {
          "data": {
            "text/plain": [
              "'onbir ile 22'"
            ]
          },
          "execution_count": 29,
          "metadata": {},
          "output_type": "execute_result"
        }
      ],
      "source": [
        "\"Bu metnin onbir ile 22'nci karakter arasını indeksleyerek alınız?\"[10:22]"
      ]
    },
    {
      "cell_type": "markdown",
      "metadata": {
        "id": "fwVy-moxtOwz"
      },
      "source": [
        "#### Soru\n",
        "\"Tıngır mıngır\" cülesinin 7. karakterden 13. (dahil) karaktere kadar olan bölümünü indeksleyerek alınız?"
      ]
    },
    {
      "cell_type": "code",
      "execution_count": null,
      "metadata": {
        "id": "cKk9cGhztOwz"
      },
      "outputs": [],
      "source": [
        "'Tıngır mıngır'[7:13]"
      ]
    },
    {
      "cell_type": "markdown",
      "metadata": {
        "id": "EBRSV_estOwO"
      },
      "source": [
        "#### Soru\n",
        "\"Bu metnin her 7 karakterden birini indeksleyiniz?\""
      ]
    },
    {
      "cell_type": "code",
      "execution_count": null,
      "metadata": {
        "id": "YKsUiG-0tOwP",
        "outputId": "70a6bbb1-418b-4194-a8b7-7e3a48eb45e4"
      },
      "outputs": [
        {
          "data": {
            "text/plain": [
              "'Bi7tbie'"
            ]
          },
          "execution_count": 28,
          "metadata": {},
          "output_type": "execute_result"
        }
      ],
      "source": [
        "\"Bu metnin her 7 karakterden birini indeksleyiniz?\"[::7]"
      ]
    },
    {
      "cell_type": "markdown",
      "metadata": {
        "id": "BEH1HwFUtOw0"
      },
      "source": [
        "#### Soru\n",
        " \"Tıngır mıngır\" metnini [15] şeklinde indekslersek ne olur?"
      ]
    },
    {
      "cell_type": "markdown",
      "metadata": {
        "id": "KgS96rAbtOw0"
      },
      "source": [
        "'Indeks out of range' hatası alırız. Çünkü en metin toplamda 13 karakterli olduğundan, indeks en fazla 12 olabilir. 13 ncü indeks ve sonrası diye bir şey yoktur."
      ]
    },
    {
      "cell_type": "code",
      "execution_count": null,
      "metadata": {
        "id": "rtLT3g-BtOw0"
      },
      "outputs": [],
      "source": [
        "\"Tıngır mıngır\"[15]"
      ]
    },
    {
      "cell_type": "markdown",
      "metadata": {
        "id": "YPr5HF-mtOwv"
      },
      "source": [
        "#### Soru\n",
        "\"Bu kara kantar kırk kilo kara katran tartar\" tekerlemesinin tüm harflerini **büyük** yapan Python kodunu yazınız?"
      ]
    },
    {
      "cell_type": "code",
      "execution_count": null,
      "metadata": {
        "id": "_hok78QQtOww"
      },
      "outputs": [],
      "source": [
        "\"Bu kara kantar kırk kilo kara katran tartar\".upper()"
      ]
    },
    {
      "cell_type": "markdown",
      "metadata": {
        "id": "zFp-qGKKtOwu"
      },
      "source": [
        "#### Soru\n",
        "\"İşleyen demir ışıldar\" atasözünü sağa hizalı ve 45 karakter genişlikte alana, boş kalan yerlere '-' sembolü gelecek şekilde yazdıracak Python kodunu yazınız?"
      ]
    },
    {
      "cell_type": "code",
      "execution_count": null,
      "metadata": {
        "id": "o6DAiK5ntOwu"
      },
      "outputs": [],
      "source": [
        "\"İşleyen demir ışıldar\".rjust(45, \"-\")"
      ]
    },
    {
      "cell_type": "markdown",
      "metadata": {
        "id": "MA0xn8VOtOwv"
      },
      "source": [
        "#### Soru\n",
        "\"Çalışan demir pas tutmaz\" atasözünü sola hizalı ve 35 karakter genişlikte alana, boş kalan yerlere '$' sembolü gelecek şekilde yazdıracak Python kodunu yazınız?"
      ]
    },
    {
      "cell_type": "code",
      "execution_count": null,
      "metadata": {
        "id": "5iEgH4u0tOwv",
        "colab": {
          "base_uri": "https://localhost:8080/",
          "height": 36
        },
        "outputId": "72cece52-9d73-4f3b-8dfd-2752b12a7377"
      },
      "outputs": [
        {
          "output_type": "execute_result",
          "data": {
            "text/plain": [
              "'Çalışan demir pas tutmaz$$$$$$$$$$$$$$$$$$$$$'"
            ],
            "application/vnd.google.colaboratory.intrinsic+json": {
              "type": "string"
            }
          },
          "metadata": {},
          "execution_count": 3
        }
      ],
      "source": [
        "\"Çalışan demir pas tutmaz\".ljust(45, \"$\")"
      ]
    },
    {
      "cell_type": "markdown",
      "metadata": {
        "id": "-zDFc93MtOww"
      },
      "source": [
        "#### Soru\n",
        "\"Bu kara kantar kırk kilo kara katran tartar\" tekerlemesinin tüm harflerini **küçük** yapan Python kodunu yazınız?"
      ]
    },
    {
      "cell_type": "code",
      "execution_count": null,
      "metadata": {
        "id": "3qhMYqnUtOww"
      },
      "outputs": [],
      "source": [
        "\"Bu kara kantar kırk kilo kara katran tartar\".lower()"
      ]
    },
    {
      "cell_type": "markdown",
      "metadata": {
        "id": "aNnzG3kWtOwx"
      },
      "source": [
        "#### Soru\n",
        "\"Bu kara kantar kırk kilo kara katran tartar\" tekerlemesinin **büyük harflerini küçük, küçük harflerini büyük** yapan Python kodunu yazınız?"
      ]
    },
    {
      "cell_type": "code",
      "execution_count": null,
      "metadata": {
        "id": "Ksoxe_wFtOwx"
      },
      "outputs": [],
      "source": [
        "\"Bu kara kantar kırk kilo kara katran tartar\".swapcase()"
      ]
    },
    {
      "cell_type": "markdown",
      "metadata": {
        "id": "dB0NeDSktOwx"
      },
      "source": [
        "#### Soru\n",
        "\"Şemsi Paşa pasajında sesi büzüşesiceler\" metninin kaç karakter uzunluğunda olduğunu veren Python kodunu yazınız?"
      ]
    },
    {
      "cell_type": "code",
      "execution_count": null,
      "metadata": {
        "id": "PF0aDJDHtOwy"
      },
      "outputs": [],
      "source": [
        "len('Şemsi Paşa pasajında sesi büzüşesiceler')"
      ]
    },
    {
      "cell_type": "markdown",
      "metadata": {
        "id": "hFqCc5_otOwy"
      },
      "source": [
        "#### Soru\n",
        "\"Bir berber bir berbere bire berber gel beraber bir berber dükkânı açalım demiş\" tekerlemesinde \"berber\" kelimesinin var olup olmadığını, varsa ilk defa kaçıncı karakterden başladığını (yani, indis) bulan Python kodunu yazınız?"
      ]
    },
    {
      "cell_type": "code",
      "execution_count": null,
      "metadata": {
        "id": "z0qVihvJtOwz"
      },
      "outputs": [],
      "source": [
        "tekerleme ='Bir berber bir berbere bire berber gel beraber bir berber dükkânı açalım demiş'\n",
        "tekerleme.find('berber', True)"
      ]
    },
    {
      "cell_type": "markdown",
      "metadata": {
        "id": "Ui-qdFoktOw0"
      },
      "source": [
        "#### Soru\n",
        "\"Şu yoğurdu sarımsaklasak da mı saklasak, sarımsaklamasak da mı saklasak?\" tekerlemesini\n",
        "\n",
        "\"Şu yoğurdu mayalasak da mı saklasak, mayalamasak da mı saklasak?\" şeklinde değiştirecek Python kodunu yazınız?"
      ]
    },
    {
      "cell_type": "code",
      "execution_count": null,
      "metadata": {
        "id": "DiGe_s5YtOw1"
      },
      "outputs": [],
      "source": [
        "tekerleme = \"Şu yoğurdu sarımsaklasak da mı saklasak, sarımsaklamasak da mı saklasak?\"\n",
        "\n",
        "tekerleme=tekerleme.replace(\"sarımsaklasak\", \"mayalasak\")\n",
        "tekerleme=tekerleme.replace(\"sarımsaklamasak\", \"mayalamasak\")\n",
        "\n",
        "# veya tek satırda ardışık fonksiyon çağırarak;\n",
        "# tekerleme=tekerleme.replace(\"sarımsaklasak\", \"mayalasak\").replace(\"sarımsaklamasak\", \"mayalamasak\")\n",
        "\n",
        "print(tekerleme)"
      ]
    },
    {
      "cell_type": "markdown",
      "metadata": {
        "id": "hUXOoVQptOw1"
      },
      "source": [
        "#### Soru\n",
        "Aralarında boşluk olmak kaydıyla, \"Yaşa!\" kelimesini çarpım operatörü ile 5 defa yazdıran Python kodunu yazınız?"
      ]
    },
    {
      "cell_type": "code",
      "execution_count": null,
      "metadata": {
        "id": "IBO3ZOFntOw2"
      },
      "outputs": [],
      "source": [
        " print(5 * 'Yaşa! ')"
      ]
    },
    {
      "cell_type": "markdown",
      "metadata": {
        "id": "lWr8UCHutOw2"
      },
      "source": [
        "#### Soru\n",
        "Aralarında boşluk olmak kaydıyla, \"Yaşa!\" kelimesini çarpım operatörü ile, ayrı satırlarda alt alta 5 defa yazdıran Python kodunu yazınız?"
      ]
    },
    {
      "cell_type": "code",
      "execution_count": null,
      "metadata": {
        "id": "NVGkw46ItOw3"
      },
      "outputs": [],
      "source": [
        "print(5 * 'Yaşa!\\n')"
      ]
    },
    {
      "cell_type": "markdown",
      "metadata": {
        "id": "VMAEPlg1tOw3"
      },
      "source": [
        "## Gelişmiş Metin Biçimlendirme"
      ]
    },
    {
      "cell_type": "markdown",
      "metadata": {
        "id": "Ge2DlbImtOw3"
      },
      "source": [
        "#### Soru\n",
        "Değeri virgülden sonra 15 basamağa kadar 3.141592653589793 olan pi sayısını \"pi sayısının virgülden sonra 7. basamağa kadar değeri XXXX 'dir\" şeklinde metin içerisinde XXXX karakterlerinin olduğu yerde yazdıran Python kodunu yazınız."
      ]
    },
    {
      "cell_type": "code",
      "execution_count": null,
      "metadata": {
        "colab": {
          "base_uri": "https://localhost:8080/",
          "height": 36
        },
        "id": "PskfI79xtOw3",
        "outputId": "3a75e1a3-8a91-4952-d76e-28b866c0f25a"
      },
      "outputs": [
        {
          "output_type": "execute_result",
          "data": {
            "text/plain": [
              "\"pi sayısının virgülden sonra 7. basamağa kadar değeri 3.1415927 'dir\""
            ],
            "application/vnd.google.colaboratory.intrinsic+json": {
              "type": "string"
            }
          },
          "metadata": {},
          "execution_count": 1
        }
      ],
      "source": [
        "pi = 3.141592653589793\n",
        "\n",
        "\"pi sayısının virgülden sonra 7. basamağa kadar değeri {:.7f} 'dir\".format(pi)\n"
      ]
    },
    {
      "cell_type": "markdown",
      "metadata": {
        "id": "zPnbWvO1tOw4"
      },
      "source": [
        "#### Soru\n",
        " Euler sayısının (e sayısı) değeri 2.718281828459045 'dir. Bu sayıyı bilimsel gösterim şekli (notasyon) ile yazdırınız?"
      ]
    },
    {
      "cell_type": "code",
      "execution_count": null,
      "metadata": {
        "colab": {
          "base_uri": "https://localhost:8080/",
          "height": 36
        },
        "id": "limBTkXKtOw4",
        "outputId": "6c33aa57-ebfd-4851-da07-f4bbf5ef0d50"
      },
      "outputs": [
        {
          "output_type": "execute_result",
          "data": {
            "text/plain": [
              "'2.718282e+00'"
            ],
            "application/vnd.google.colaboratory.intrinsic+json": {
              "type": "string"
            }
          },
          "metadata": {},
          "execution_count": 2
        }
      ],
      "source": [
        "e = 2.718281828459045\n",
        "\"{:e}\".format(e)"
      ]
    },
    {
      "cell_type": "markdown",
      "metadata": {
        "id": "Jn4c3I7atOw4"
      },
      "source": [
        "#### Soru\n",
        "Euler sayısının (e sayısı) değeri 2.718281828459045 'dir. Bu sayıyı bilimsel gösterim şekli (notasyon) ile virgülden sonra 11 basamağa dek yazdırınız? Euler sayısının (e sayısı) değeri 2.718281828459045 'dir. Bu sayıyı bilimsel gösterim şekli (notasyon) ile virgülden sonra 11 basamağa dek yazdırınız?"
      ]
    },
    {
      "cell_type": "code",
      "execution_count": null,
      "metadata": {
        "colab": {
          "base_uri": "https://localhost:8080/",
          "height": 36
        },
        "id": "CgYSZYmEtOw5",
        "outputId": "ab3977b1-36f7-4bf2-a074-32103cb5af92"
      },
      "outputs": [
        {
          "output_type": "execute_result",
          "data": {
            "text/plain": [
              "'2.71828182846e+00'"
            ],
            "application/vnd.google.colaboratory.intrinsic+json": {
              "type": "string"
            }
          },
          "metadata": {},
          "execution_count": 3
        }
      ],
      "source": [
        "e = 2.718281828459045\n",
        "\"{:.11e}\".format(e)"
      ]
    },
    {
      "cell_type": "markdown",
      "metadata": {
        "id": "7QXsmQfttOw5"
      },
      "source": [
        "#### Soru\n",
        " e sayısını bir metin içerisinde int tipinde biçimlendirerek yazdırabilir miyiz?"
      ]
    },
    {
      "cell_type": "markdown",
      "metadata": {
        "id": "05LkREhUtOw5"
      },
      "source": [
        "Hayır. çünkü, sayı int tipinde değildir. Yazdırmaya kalkarsak aşağıdakine benzer bir hata alırız."
      ]
    },
    {
      "cell_type": "code",
      "execution_count": null,
      "metadata": {
        "colab": {
          "base_uri": "https://localhost:8080/",
          "height": 182
        },
        "id": "MlrwJRyYtOw6",
        "outputId": "d842324e-029f-431f-ff01-f79a638d82c8"
      },
      "outputs": [
        {
          "output_type": "error",
          "ename": "ValueError",
          "evalue": "ignored",
          "traceback": [
            "\u001b[0;31m---------------------------------------------------------------------------\u001b[0m",
            "\u001b[0;31mValueError\u001b[0m                                Traceback (most recent call last)",
            "\u001b[0;32m<ipython-input-4-3108659a9554>\u001b[0m in \u001b[0;36m<module>\u001b[0;34m\u001b[0m\n\u001b[1;32m      1\u001b[0m \u001b[0me\u001b[0m \u001b[0;34m=\u001b[0m \u001b[0;36m2.718281828459045\u001b[0m\u001b[0;34m\u001b[0m\u001b[0;34m\u001b[0m\u001b[0m\n\u001b[0;32m----> 2\u001b[0;31m \u001b[0;34m\"e sayısı int tipinde yazdırılınca {:d}\"\u001b[0m\u001b[0;34m.\u001b[0m\u001b[0mformat\u001b[0m\u001b[0;34m(\u001b[0m\u001b[0me\u001b[0m\u001b[0;34m)\u001b[0m\u001b[0;34m\u001b[0m\u001b[0;34m\u001b[0m\u001b[0m\n\u001b[0m",
            "\u001b[0;31mValueError\u001b[0m: Unknown format code 'd' for object of type 'float'"
          ]
        }
      ],
      "source": [
        "e = 2.718281828459045\n",
        "\"e sayısı int tipinde yazdırılınca {:d}\".format(e)"
      ]
    },
    {
      "cell_type": "markdown",
      "source": [
        "Değerin sadece tam sayı kısmını yazdırmak için, math modülündeki trunc() fonksiyonu ile küsürat kısmını atarak yazdırma yapabiliriz."
      ],
      "metadata": {
        "id": "AQi-JyV_JLmO"
      }
    },
    {
      "cell_type": "code",
      "execution_count": null,
      "metadata": {
        "id": "uQVpzBBQtOw6",
        "colab": {
          "base_uri": "https://localhost:8080/",
          "height": 36
        },
        "outputId": "9315372d-848f-4928-9e93-2a3b4581be27"
      },
      "outputs": [
        {
          "output_type": "execute_result",
          "data": {
            "text/plain": [
              "'e sayısı int tipinde yazdırılınca 2'"
            ],
            "application/vnd.google.colaboratory.intrinsic+json": {
              "type": "string"
            }
          },
          "metadata": {},
          "execution_count": 6
        }
      ],
      "source": [
        "from math import trunc\n",
        "e = 2.718281828459045\n",
        "\"e sayısı int tipinde yazdırılınca {:d}\".format(trunc(e))"
      ]
    },
    {
      "cell_type": "markdown",
      "metadata": {
        "id": "uHth6QqjtOw7"
      },
      "source": [
        "#### Soru\n",
        "Aşağıdaki ifadeye göre yazdırılacak metin ne olur?\n",
        "\n",
        "```python\n",
        "\"{:.4f}\".format(123.456789)\n",
        "```"
      ]
    },
    {
      "cell_type": "code",
      "execution_count": null,
      "metadata": {
        "id": "7BbGtNkntOw7"
      },
      "outputs": [],
      "source": [
        "\"{:.4f}\".format(123.456789)"
      ]
    },
    {
      "cell_type": "markdown",
      "metadata": {
        "id": "71ROxnMMtOw7"
      },
      "source": [
        "#### Soru\n",
        "123.456789 sayısını 20 karakterlik alanda, virgülden sonra 3 haneye yuvarlanmış metin olarak biçimlendirmek için nasıl bir ifade yazılır?"
      ]
    },
    {
      "cell_type": "code",
      "execution_count": null,
      "metadata": {
        "id": "eFWINON7tOw8"
      },
      "outputs": [],
      "source": [
        "\"{:20.3f}\".format(123.456789)"
      ]
    },
    {
      "cell_type": "markdown",
      "metadata": {
        "id": "1viiFYwctOw8"
      },
      "source": [
        "### Soru\n",
        "123.456789 sayısını 10 karakterlik alanda, virgülden sonra 3 haneye yuvarlanmış bilimsel sayı gösterim tipinde, metin olarak biçimlendirmek için nasıl bir ifade yazılır?"
      ]
    },
    {
      "cell_type": "markdown",
      "metadata": {
        "heading_collapsed": "true",
        "id": "lFX53vwTtOw9"
      },
      "source": [
        "#### Cevap"
      ]
    },
    {
      "cell_type": "code",
      "execution_count": null,
      "metadata": {
        "id": "eh9QMUM6tOw9"
      },
      "outputs": [],
      "source": [
        "\"{:15.3E}\".format(123.456789)"
      ]
    },
    {
      "cell_type": "markdown",
      "metadata": {
        "id": "4jfG3PNutOw-"
      },
      "source": [
        "### Soru\n",
        "Sayısal kodu 112 olan karakteri bir metne dönüştürüp yazdırmak için nasıl bir kod yazılır?"
      ]
    },
    {
      "cell_type": "code",
      "execution_count": null,
      "metadata": {
        "id": "NYNwfbyStOw_",
        "colab": {
          "base_uri": "https://localhost:8080/",
          "height": 36
        },
        "outputId": "062dfb2d-87d1-43dd-a81f-691d6eb4755a"
      },
      "outputs": [
        {
          "output_type": "execute_result",
          "data": {
            "text/plain": [
              "'p'"
            ],
            "application/vnd.google.colaboratory.intrinsic+json": {
              "type": "string"
            }
          },
          "metadata": {},
          "execution_count": 7
        }
      ],
      "source": [
        "\"{:c}\".format(112)"
      ]
    },
    {
      "cell_type": "markdown",
      "metadata": {
        "id": "ciJMPlGitOw_"
      },
      "source": [
        "### Soru\n",
        "0.85 sayısını metin içerisinde 85.00% şeklinde göstermek için nasıl bir ifade yazılır?"
      ]
    },
    {
      "cell_type": "code",
      "execution_count": null,
      "metadata": {
        "id": "HCvYyy5ktOw_"
      },
      "outputs": [],
      "source": [
        "\"{:.2%}\".format(0.85)"
      ]
    },
    {
      "cell_type": "markdown",
      "metadata": {
        "id": "cz7f6v34tOxA"
      },
      "source": [
        "### Soru\n",
        "Yarıçapı R olan çemberin yarı çapını ve alanını aşağıdaki cümleye benzer bir cümleyle yazdıracak kodu yazınız?\n",
        "\n",
        "```python\n",
        "'Yarıçapı RRR olan çemberin alanı AAA dır'```\n",
        "```\n",
        "RRR sembolleri yerine çemberin yarı çapı virgülden sonra 4 hane ve AAA'nın yerine de virgülden sonra 8 hane olacak şekilde alanını yazdırılsın"
      ]
    },
    {
      "cell_type": "code",
      "execution_count": null,
      "metadata": {
        "id": "7bdwrwYQtOxA"
      },
      "outputs": [],
      "source": [
        "ycap = 4.0 # yarıçap\n",
        "'Yarıçapı {:.4f} olan çemberin alanı {:.4f} dir'.format(ycap, 3.1415 * ycap**2)"
      ]
    },
    {
      "cell_type": "markdown",
      "metadata": {
        "id": "Fnnq73W8tOxA"
      },
      "source": [
        "#### Soru"
      ]
    },
    {
      "cell_type": "code",
      "execution_count": null,
      "metadata": {
        "id": "_zg3BgKqtOxI"
      },
      "outputs": [],
      "source": []
    },
    {
      "cell_type": "markdown",
      "metadata": {
        "heading_collapsed": "true",
        "id": "UKBCYJe0tOxI"
      },
      "source": [
        "## Gelişmiş Veri Tipleri"
      ]
    },
    {
      "cell_type": "markdown",
      "source": [
        "#### Soru\n",
        "Bir metindeki her bir karakterden kaç tane olduğunu veren bir fonksiyon yazınız"
      ],
      "metadata": {
        "id": "pKUC-7k4oIWM"
      }
    },
    {
      "cell_type": "code",
      "source": [
        "def frekans(metin):\n",
        "    frekanslar = {}\n",
        "\n",
        "    for i in metin:\n",
        "        if i in frekanslar:\n",
        "            frekanslar[i] += 1\n",
        "        else:\n",
        "            frekanslar[i] = 1\n",
        "    return frekanslar\n",
        "\n",
        "\n",
        "frekanslar = frekans(\"Bir berber bir berbere bire berber gel beraber bir berber dükkânı açalım demiş\")\n",
        "frekanslar"
      ],
      "metadata": {
        "colab": {
          "base_uri": "https://localhost:8080/"
        },
        "id": "6cPqkUtloPks",
        "outputId": "215a018f-0614-48fa-ff78-2cc387150d19"
      },
      "execution_count": null,
      "outputs": [
        {
          "output_type": "execute_result",
          "data": {
            "text/plain": [
              "{'B': 1,\n",
              " 'i': 5,\n",
              " 'r': 14,\n",
              " ' ': 12,\n",
              " 'b': 13,\n",
              " 'e': 14,\n",
              " 'g': 1,\n",
              " 'l': 2,\n",
              " 'a': 3,\n",
              " 'd': 2,\n",
              " 'ü': 1,\n",
              " 'k': 2,\n",
              " 'â': 1,\n",
              " 'n': 1,\n",
              " 'ı': 2,\n",
              " 'ç': 1,\n",
              " 'm': 2,\n",
              " 'ş': 1}"
            ]
          },
          "metadata": {},
          "execution_count": 2
        }
      ]
    },
    {
      "cell_type": "markdown",
      "source": [
        "#### Soru\n",
        "Elemanları \"Pazartesi\", \"Salı\", \"Çarşamba\", 'Perşembe' olan liste ve demet oluşturunuz"
      ],
      "metadata": {
        "id": "cSAQfRRQtqkF"
      }
    },
    {
      "cell_type": "code",
      "source": [
        "gunler_liste = [\"Pazartesi\", \"Salı\", \"Çarşamba\", 'Perşembe'] # list\n",
        "\n",
        "gunler_tuple = ( \"Pazartesi\", \"Salı\", \"Çarşamba\", 'Perşembe') # tuple dizisi"
      ],
      "metadata": {
        "id": "q56Gyj5Etq1e"
      },
      "execution_count": null,
      "outputs": []
    },
    {
      "cell_type": "code",
      "source": [
        "gunler_liste"
      ],
      "metadata": {
        "colab": {
          "base_uri": "https://localhost:8080/"
        },
        "id": "PKRYnJZQui-5",
        "outputId": "b234b965-7e2e-4387-883c-edbb15d9a351"
      },
      "execution_count": null,
      "outputs": [
        {
          "output_type": "execute_result",
          "data": {
            "text/plain": [
              "(['Pazartesi', 'Salı', 'Çarşamba', 'Perşembe'],\n",
              " ('Pazartesi', 'Salı', 'Çarşamba', 'Perşembe'))"
            ]
          },
          "metadata": {},
          "execution_count": 4
        }
      ]
    },
    {
      "cell_type": "code",
      "source": [
        "gunler_tuple"
      ],
      "metadata": {
        "colab": {
          "base_uri": "https://localhost:8080/"
        },
        "id": "UKhrm5i3uuyU",
        "outputId": "c288c902-c2e0-42fb-f816-27ae60d03232"
      },
      "execution_count": null,
      "outputs": [
        {
          "output_type": "execute_result",
          "data": {
            "text/plain": [
              "('Pazartesi', 'Salı', 'Çarşamba', 'Perşembe')"
            ]
          },
          "metadata": {},
          "execution_count": 5
        }
      ]
    },
    {
      "cell_type": "markdown",
      "source": [
        "#### Soru\n",
        "Elemanları \"Pazartesi\", \"Salı\", \"Çarşamba\", 'Perşembe', [1,2,3] ve (10, ['a', 'b'], 11,12,14) olan bir liste oluşturunuz"
      ],
      "metadata": {
        "id": "xhaUSaf4OQ9y"
      }
    },
    {
      "cell_type": "code",
      "source": [
        "gunler_karma = [\"Pazartesi\", \"Salı\", \"Çarşamba\", 'Perşembe', [1,2,3], (10, ['a', 'b'], 11,12,14)]"
      ],
      "metadata": {
        "id": "N_oE6rDGvZeD"
      },
      "execution_count": null,
      "outputs": []
    },
    {
      "cell_type": "markdown",
      "source": [
        "#### Soru\n",
        "günler_liste listesinin ilk elemanını veren (indeksleyen) kodu yazınız?"
      ],
      "metadata": {
        "id": "IItMZ-9NO2GT"
      }
    },
    {
      "cell_type": "code",
      "source": [
        "gunler_liste[0]"
      ],
      "metadata": {
        "colab": {
          "base_uri": "https://localhost:8080/",
          "height": 36
        },
        "id": "07Uc9ehVvmLa",
        "outputId": "622dfbe7-be9c-4bad-cebe-ea714ecc0e67"
      },
      "execution_count": null,
      "outputs": [
        {
          "output_type": "execute_result",
          "data": {
            "text/plain": [
              "'Pazartesi'"
            ],
            "application/vnd.google.colaboratory.intrinsic+json": {
              "type": "string"
            }
          },
          "metadata": {},
          "execution_count": 12
        }
      ]
    },
    {
      "cell_type": "markdown",
      "source": [
        "#### Soru\n",
        "gunler_karma listesinin 2. ve 4. elemanları arasını veren (indeksleyen) kodu yazınız?"
      ],
      "metadata": {
        "id": "ScHIVALTPNEm"
      }
    },
    {
      "cell_type": "code",
      "source": [
        "gunler_karma[1:5] # indeks 1'den indeks 4'e (dahil) demektir"
      ],
      "metadata": {
        "colab": {
          "base_uri": "https://localhost:8080/"
        },
        "id": "zt2s2AbaPip8",
        "outputId": "eaf9456d-8663-4dc1-e2a0-50ce3a0f9666"
      },
      "execution_count": null,
      "outputs": [
        {
          "output_type": "execute_result",
          "data": {
            "text/plain": [
              "['Salı', 'Çarşamba', 'Perşembe', [1, 2, 3]]"
            ]
          },
          "metadata": {},
          "execution_count": 14
        }
      ]
    },
    {
      "cell_type": "markdown",
      "source": [
        "#### Soru\n",
        "günler_liste listesinin eleman sayısını veren kodu yazınız?"
      ],
      "metadata": {
        "id": "HT1h2-3NPNuW"
      }
    },
    {
      "cell_type": "code",
      "source": [
        "len(gunler_liste)"
      ],
      "metadata": {
        "colab": {
          "base_uri": "https://localhost:8080/"
        },
        "id": "ALdngb_XPsfw",
        "outputId": "5d18a47c-3aa9-4f2d-b6d9-b9d5ecb0b443"
      },
      "execution_count": null,
      "outputs": [
        {
          "output_type": "execute_result",
          "data": {
            "text/plain": [
              "4"
            ]
          },
          "metadata": {},
          "execution_count": 15
        }
      ]
    },
    {
      "cell_type": "markdown",
      "source": [
        "##### Soru\n",
        "günler_tuple dizisinin 2. elemanından başlayarak her 2. elemanını alan kodu yazınız?"
      ],
      "metadata": {
        "id": "izvA40xFQkPj"
      }
    },
    {
      "cell_type": "code",
      "source": [
        "gunler_tuple[1::2] # 2. elemandan itibaren her 2. elemanı al"
      ],
      "metadata": {
        "colab": {
          "base_uri": "https://localhost:8080/"
        },
        "outputId": "f4c64cda-23e4-418c-e23c-303a30e07c85",
        "id": "ixcoLukzQkPk"
      },
      "execution_count": null,
      "outputs": [
        {
          "output_type": "execute_result",
          "data": {
            "text/plain": [
              "('Salı', 'Perşembe')"
            ]
          },
          "metadata": {},
          "execution_count": 16
        }
      ]
    },
    {
      "cell_type": "markdown",
      "source": [
        "##### Soru\n",
        "Bir aracın marka, renk ve model bilgilerinin saklandığı bir sözlük tanımlayınız ve değerleri kendiniz veriniz. Ardından yıl bilgisini de sözlüğe ekleyiniz"
      ],
      "metadata": {
        "id": "OGY580RBRAVQ"
      }
    },
    {
      "cell_type": "code",
      "source": [
        "araba = {'marka': 'tofaş', 'renk': 'siyah', 'model': 'şahin'}\n",
        "araba['yil'] = 1999\n",
        "araba"
      ],
      "metadata": {
        "colab": {
          "base_uri": "https://localhost:8080/"
        },
        "outputId": "298e5187-53e5-4023-f2c4-f2fcc37c516d",
        "id": "gP9G-CYjRAVR"
      },
      "execution_count": null,
      "outputs": [
        {
          "output_type": "execute_result",
          "data": {
            "text/plain": [
              "{'marka': 'tofaş', 'renk': 'siyah', 'model': 'şahin', 'yil': 1999}"
            ]
          },
          "metadata": {},
          "execution_count": 18
        }
      ]
    },
    {
      "cell_type": "markdown",
      "source": [
        "##### *İki* araç daha tanımlayınız ve araçları bir sözlükte kayıt altına alınız?"
      ],
      "metadata": {
        "id": "kxC3WuOzR4mj"
      }
    },
    {
      "cell_type": "code",
      "source": [
        "araba1 = {'marka': 'tofaş',\n",
        "         'renk': 'siyah',\n",
        "         'model': 'şahin',\n",
        "         'yil': 1999\n",
        "         }\n",
        "\n",
        "araba2= {'marka': 'togg',\n",
        "     'renk': 'beyaz',\n",
        "     'model': 'fırtına',\n",
        "     'yil': 2023\n",
        "     }\n",
        "\n",
        "\n",
        "arabalar_ust_sozluk = {1: araba1, 2 : araba2}"
      ],
      "metadata": {
        "id": "9UvZ6LCuweYj"
      },
      "execution_count": null,
      "outputs": []
    },
    {
      "cell_type": "markdown",
      "source": [
        "##### 1 nolu aracın rengini değiştiriniz?"
      ],
      "metadata": {
        "id": "Y9-hrlqGSuNc"
      }
    },
    {
      "cell_type": "code",
      "source": [
        "arabalar_ust_sozluk[1]['renk'] = 'kırmızı'\n",
        "arabalar_ust_sozluk"
      ],
      "metadata": {
        "colab": {
          "base_uri": "https://localhost:8080/"
        },
        "id": "cD00b8EUS26U",
        "outputId": "a02d03d3-e519-4c3a-d3e9-becd174a0627"
      },
      "execution_count": null,
      "outputs": [
        {
          "output_type": "execute_result",
          "data": {
            "text/plain": [
              "{1: {'marka': 'tofaş', 'renk': 'kırmızı', 'model': 'şahin', 'yil': 1999},\n",
              " 2: {'marka': 'togg', 'renk': 'beyaz', 'model': 'fırtına', 'yil': 2023}}"
            ]
          },
          "metadata": {},
          "execution_count": 22
        }
      ]
    },
    {
      "cell_type": "markdown",
      "source": [],
      "metadata": {
        "id": "E2sKiMfPm3ED"
      }
    },
    {
      "cell_type": "markdown",
      "source": [],
      "metadata": {
        "id": "VEEisrB3m3Fi"
      }
    },
    {
      "cell_type": "markdown",
      "source": [
        "##### Çeşitli örnekler"
      ],
      "metadata": {
        "id": "Mmxkzb-ASbne"
      }
    },
    {
      "cell_type": "code",
      "source": [
        "araba1 = ('tofaş', 'siyah', 'şahin', 1999)\n",
        "araba2 = ('togg', 'beyaz', 'fırtına', 2023)\n",
        "\n",
        "arabalar_liste = [ araba1, araba2]\n",
        "\n",
        "\n",
        "araba = {'marka': 'tofaş',\n",
        "         'renk': 'siyah',\n",
        "         'model': 'şahin',\n",
        "         'yil': 1999,\n",
        "         }\n",
        "\n",
        "arabalar = [araba,]\n",
        "\n",
        "arabalar_ust_sozluk = {'araba 1': arabalar}\n",
        "\n",
        "arabalar_ust_sozluk = {'araba 1': arabalar}\n",
        "\n",
        "\n",
        "arabalar.append(\n",
        "    {'marka': 'togg',\n",
        "     'renk': 'beyaz',\n",
        "     'model': 'fırtına',\n",
        "     'yil': 2023\n",
        "     }\n",
        "  )\n",
        "\n",
        "arabalar"
      ],
      "metadata": {
        "colab": {
          "base_uri": "https://localhost:8080/"
        },
        "id": "krV4_0gS4h9W",
        "outputId": "7045091d-aded-47c0-ab64-4d2ef4e9ba10"
      },
      "execution_count": null,
      "outputs": [
        {
          "output_type": "execute_result",
          "data": {
            "text/plain": [
              "[{'marka': 'tofaş', 'renk': 'siyah', 'model': 'şahin', 'yil': 1999},\n",
              " {'marka': 'togg', 'renk': 'beyaz', 'model': 'fırtına', 'yil': 2023}]"
            ]
          },
          "metadata": {},
          "execution_count": 72
        }
      ]
    },
    {
      "cell_type": "code",
      "source": [
        "arabalar[1]['marka'] # ikinci aracın markası\n",
        "arabalar[1]['marka'] # ikinci aracın markası\n"
      ],
      "metadata": {
        "colab": {
          "base_uri": "https://localhost:8080/",
          "height": 36
        },
        "id": "dXYbbrfb5nRL",
        "outputId": "c3fb6ed9-f526-4d5d-c013-1a5ca37b79b4"
      },
      "execution_count": null,
      "outputs": [
        {
          "output_type": "execute_result",
          "data": {
            "text/plain": [
              "'togg'"
            ],
            "application/vnd.google.colaboratory.intrinsic+json": {
              "type": "string"
            }
          },
          "metadata": {},
          "execution_count": 75
        }
      ]
    },
    {
      "cell_type": "code",
      "source": [
        "araba['model'], araba['renk'], araba['yil']\n",
        "\n"
      ],
      "metadata": {
        "colab": {
          "base_uri": "https://localhost:8080/"
        },
        "id": "PrAr3iCW3bN8",
        "outputId": "81c9dcf9-ebd1-41bd-8ad6-d1507383da9d"
      },
      "execution_count": null,
      "outputs": [
        {
          "output_type": "execute_result",
          "data": {
            "text/plain": [
              "('şahin', 'siyah', 1999)"
            ]
          },
          "metadata": {},
          "execution_count": 66
        }
      ]
    },
    {
      "cell_type": "markdown",
      "source": [
        "#### Soru\n",
        "2 öğrenci için, 4 dersin notlarının kayıt edildiği\n",
        "sözlükler oluşturunuz ve öğrencileri 'ogrenciler' isimli üst sözlüğe kayıt ediniz."
      ],
      "metadata": {
        "id": "xXFmkoDHTwUi"
      }
    },
    {
      "cell_type": "code",
      "source": [
        "ogrenci_1 = {'matematik': 67,\n",
        "         'türkçe': 74,\n",
        "         'ingilizce': 65,\n",
        "         'fizik': 55\n",
        "         }\n",
        "\n",
        "ogrenci_2 = {'matematik': 67,\n",
        "         'türkçe': 74,\n",
        "         'ingilizce': 65,\n",
        "         'fizik': 55\n",
        "         }\n",
        "\n",
        "ogrenciler = {'202201223': ogrenci_1, '202201221': ogrenci_2}\n",
        "ogrenciler"
      ],
      "metadata": {
        "colab": {
          "base_uri": "https://localhost:8080/"
        },
        "id": "KnVHthhQEOun",
        "outputId": "468e7ea7-a8a0-49f5-9725-aa24ede11022"
      },
      "execution_count": null,
      "outputs": [
        {
          "output_type": "execute_result",
          "data": {
            "text/plain": [
              "{'202201223': {'matematik': 67, 'türkçe': 74, 'ingilizce': 65, 'fizik': 55},\n",
              " '202201221': {'matematik': 67, 'türkçe': 74, 'ingilizce': 65, 'fizik': 55}}"
            ]
          },
          "metadata": {},
          "execution_count": 10
        }
      ]
    },
    {
      "cell_type": "markdown",
      "source": [
        "##### Öğrencinin bir dersinin notunu değiştiriniz?"
      ],
      "metadata": {
        "id": "B9vyWh5AUJKl"
      }
    },
    {
      "cell_type": "code",
      "source": [
        "ogrenciler['202201221']['felsefe'] = 45\n",
        "ogrenciler # kaydı görelim"
      ],
      "metadata": {
        "colab": {
          "base_uri": "https://localhost:8080/"
        },
        "id": "AFQxr85XUNwT",
        "outputId": "eccbca43-0352-44be-d294-a26cbe7298d3"
      },
      "execution_count": null,
      "outputs": [
        {
          "output_type": "execute_result",
          "data": {
            "text/plain": [
              "{'202201223': {'matematik': 67, 'türkçe': 74, 'ingilizce': 65, 'fizik': 55},\n",
              " '202201221': {'matematik': 67,\n",
              "  'türkçe': 74,\n",
              "  'ingilizce': 65,\n",
              "  'fizik': 55,\n",
              "  'felsefe': 45}}"
            ]
          },
          "metadata": {},
          "execution_count": 12
        }
      ]
    },
    {
      "cell_type": "markdown",
      "source": [
        "##### Bir öğrencinin bir dersine ait kaydı siliniz?"
      ],
      "metadata": {
        "id": "oV2NTe3HUfQ5"
      }
    },
    {
      "cell_type": "code",
      "source": [],
      "metadata": {
        "id": "Hg9lcFDtT4EK"
      },
      "execution_count": null,
      "outputs": []
    },
    {
      "cell_type": "code",
      "source": [
        "# del ogrenciler['202201223']\n",
        "\n",
        "del ogrenciler['202201221']['felsefe']\n",
        "ogrenciler['202201221']"
      ],
      "metadata": {
        "colab": {
          "base_uri": "https://localhost:8080/"
        },
        "id": "GI2Gs2vlGTJI",
        "outputId": "ff10fada-b340-447c-e0e6-412b36297103"
      },
      "execution_count": null,
      "outputs": [
        {
          "output_type": "execute_result",
          "data": {
            "text/plain": [
              "{'matematik': 67, 'türkçe': 74, 'ingilizce': 65, 'fizik': 55}"
            ]
          },
          "metadata": {},
          "execution_count": 13
        }
      ]
    },
    {
      "cell_type": "code",
      "source": [
        "ogrenciler"
      ],
      "metadata": {
        "colab": {
          "base_uri": "https://localhost:8080/"
        },
        "id": "SSwVYdxq1Is4",
        "outputId": "28784e1e-6b44-49be-d4b0-3c465e523bcb"
      },
      "execution_count": null,
      "outputs": [
        {
          "output_type": "execute_result",
          "data": {
            "text/plain": [
              "{'202201221': {'matematik': 67, 'türkçe': 74, 'ingilizce': 65, 'fizik': 55}}"
            ]
          },
          "metadata": {},
          "execution_count": 84
        }
      ]
    },
    {
      "cell_type": "code",
      "source": [
        "gunler_karma = [\"Pazartesi\", \"Salı\", \"Çarşamba\", 'Perşembe', [1,2,3], (10, ['a', 'b'], 11,12,14)]\n",
        "# gunler_karma = (\"Pazartesi\", \"Salı\", \"Çarşamba\", 'Perşembe', [1,2,3], (10, ['a', 'b'], 11,12,14))\n",
        "gunler_karma\n",
        "# del gunler_karma[0]\n",
        "print('Liste: ', gunler_karma)\n",
        "\n",
        "print('\\n Pop ile alınan eleman:', gunler_karma.pop(), '\\nPop sonrası listenin durumu: ', gunler_karma)\n",
        "\n",
        "\n",
        "print('\\n Pop ile alınan eleman:', gunler_karma.pop(), '\\nPop sonrası listenin durumu: ', gunler_karma)\n"
      ],
      "metadata": {
        "colab": {
          "base_uri": "https://localhost:8080/"
        },
        "id": "kmKcDOHmGhj4",
        "outputId": "f634305c-0d3e-44d1-8afa-37af91477541"
      },
      "execution_count": null,
      "outputs": [
        {
          "output_type": "stream",
          "name": "stdout",
          "text": [
            "Liste:  ['Pazartesi', 'Salı', 'Çarşamba', 'Perşembe', [1, 2, 3], (10, ['a', 'b'], 11, 12, 14)]\n",
            "\n",
            " Pop ile alınan eleman: (10, ['a', 'b'], 11, 12, 14) \n",
            "Pop sonrası listenin durumu:  ['Pazartesi', 'Salı', 'Çarşamba', 'Perşembe', [1, 2, 3]]\n",
            "\n",
            " Pop ile alınan eleman: [1, 2, 3] \n",
            "Pop sonrası listenin durumu:  ['Pazartesi', 'Salı', 'Çarşamba', 'Perşembe']\n"
          ]
        }
      ]
    },
    {
      "cell_type": "code",
      "source": [
        "\n",
        "\n",
        "a = list() # = []\n",
        "b = tuple() # = (,)\n",
        "c = dict()  # {}\n",
        "d = set()   # {}\n",
        "\n",
        "\n"
      ],
      "metadata": {
        "id": "cZESNena1eCs"
      },
      "execution_count": null,
      "outputs": []
    },
    {
      "cell_type": "markdown",
      "metadata": {
        "id": "zJN6M1PEtOxI"
      },
      "source": [
        "#### Soru"
      ]
    },
    {
      "cell_type": "markdown",
      "metadata": {
        "id": "NN0N2FPQtOxI"
      },
      "source": [
        "sözlükler"
      ]
    },
    {
      "cell_type": "code",
      "execution_count": null,
      "metadata": {
        "id": "unGx_W72tOxJ",
        "colab": {
          "base_uri": "https://localhost:8080/"
        },
        "outputId": "cd5984b9-5a72-450d-9a02-1b2df5ac23b1"
      },
      "outputs": [
        {
          "output_type": "stream",
          "name": "stdout",
          "text": [
            "{'ikinci_seviye': 'asdfa'}\n"
          ]
        }
      ],
      "source": [
        "# sozluk = {<anahat>: <veri>}\n",
        "\n",
        "canli = { 'alt_sozluk': {'ikinci_seviye': 'asdfa'},\n",
        "         'goz_rengi': 'kahve',\n",
        "         'ayak_sayisi': 2,\n",
        "          'boy': 1.69,\n",
        "          1:56\n",
        "         }\n",
        "\n",
        "\n",
        "def bir_fonksiyon(canli_nesnesi, ):\n",
        "\n",
        "  print(canli_nesnesi['alt_sozluk'])\n",
        "\n",
        "bir_fonksiyon(canli, )\n",
        "\n",
        "\n"
      ]
    },
    {
      "cell_type": "code",
      "source": [
        "canli['goz_rengi'] = \"mavi\""
      ],
      "metadata": {
        "id": "4nJaZTf6EOEP"
      },
      "execution_count": null,
      "outputs": []
    },
    {
      "cell_type": "code",
      "source": [
        "canli.values()"
      ],
      "metadata": {
        "colab": {
          "base_uri": "https://localhost:8080/"
        },
        "id": "QqD1MM6cEu3H",
        "outputId": "97ed009e-b065-4d5d-e3f5-5b2fa7515eeb"
      },
      "execution_count": null,
      "outputs": [
        {
          "output_type": "execute_result",
          "data": {
            "text/plain": [
              "dict_values([{'ikinci_seviye': 'asdfa'}, 'mavi', 2, 1.69, 56])"
            ]
          },
          "metadata": {},
          "execution_count": 13
        }
      ]
    },
    {
      "cell_type": "markdown",
      "source": [],
      "metadata": {
        "id": "Fn9uWMR0TMmp"
      }
    },
    {
      "cell_type": "code",
      "source": [
        "liste =  (1, 2, 3, 3, 2, 2, 4, 5, 5, 5, 5 )\n",
        "\n",
        "dolu_kume = set( liste)\n",
        "dolu_kume"
      ],
      "metadata": {
        "colab": {
          "base_uri": "https://localhost:8080/"
        },
        "id": "uF_Zj7DwEXdk",
        "outputId": "e494cea9-8860-48aa-aab1-45ec70d4ec73"
      },
      "execution_count": null,
      "outputs": [
        {
          "output_type": "execute_result",
          "data": {
            "text/plain": [
              "{1, 2, 3, 4, 5}"
            ]
          },
          "metadata": {},
          "execution_count": 2
        }
      ]
    },
    {
      "cell_type": "code",
      "source": [
        "len(dolu_kume)"
      ],
      "metadata": {
        "colab": {
          "base_uri": "https://localhost:8080/"
        },
        "id": "sgtXI7lkFkzA",
        "outputId": "8bd64bfc-c66e-48ce-9f29-08f1c3af5dde"
      },
      "execution_count": null,
      "outputs": [
        {
          "output_type": "execute_result",
          "data": {
            "text/plain": [
              "5"
            ]
          },
          "metadata": {},
          "execution_count": 4
        }
      ]
    },
    {
      "cell_type": "code",
      "source": [
        " k = {1, 2, 3, 3, 2, 2, 4}"
      ],
      "metadata": {
        "id": "-HXeF4OmGYKM"
      },
      "execution_count": null,
      "outputs": []
    },
    {
      "cell_type": "code",
      "source": [
        "k"
      ],
      "metadata": {
        "colab": {
          "base_uri": "https://localhost:8080/"
        },
        "id": "u2qxpAnmTgI5",
        "outputId": "42fc2283-3e01-47c1-ff68-18456f9af5e3"
      },
      "execution_count": null,
      "outputs": [
        {
          "output_type": "execute_result",
          "data": {
            "text/plain": [
              "{1, 2, 3, 4}"
            ]
          },
          "metadata": {},
          "execution_count": 7
        }
      ]
    },
    {
      "cell_type": "code",
      "source": [
        "selam_kumesi = {'Merhaba Dünya!', \"a\", \"b\" ,\"c\" }\n",
        "selam_kumesi\n"
      ],
      "metadata": {
        "id": "QMMJzr4BGjCt",
        "colab": {
          "base_uri": "https://localhost:8080/"
        },
        "outputId": "89fc2f2d-9f27-465d-ff29-67b9b3479384"
      },
      "execution_count": null,
      "outputs": [
        {
          "output_type": "execute_result",
          "data": {
            "text/plain": [
              "{'Merhaba Dünya!', 'a', 'b', 'c'}"
            ]
          },
          "metadata": {},
          "execution_count": 9
        }
      ]
    },
    {
      "cell_type": "code",
      "source": [
        "k = {1, 2, 3, 3, 2, 2, 4}\n",
        "b = {4, 5, 9, 2}\n",
        "\n",
        "b - k\n",
        "\n"
      ],
      "metadata": {
        "colab": {
          "base_uri": "https://localhost:8080/"
        },
        "id": "TDOsBp5ZGo8r",
        "outputId": "5287031d-b562-4acf-f87e-584eddf5979f"
      },
      "execution_count": null,
      "outputs": [
        {
          "output_type": "execute_result",
          "data": {
            "text/plain": [
              "{5, 9}"
            ]
          },
          "metadata": {},
          "execution_count": 23
        }
      ]
    },
    {
      "cell_type": "markdown",
      "metadata": {
        "id": "R0TgobEltOxR"
      },
      "source": [
        "## Döngüler"
      ]
    },
    {
      "cell_type": "code",
      "execution_count": null,
      "metadata": {
        "id": "d41UiportOxR"
      },
      "outputs": [],
      "source": []
    },
    {
      "cell_type": "code",
      "execution_count": null,
      "metadata": {
        "id": "g42g914PtOxW"
      },
      "outputs": [],
      "source": [
        "r = range(-555, -11101, -451)\n",
        "l = list(r)\n",
        "l"
      ]
    },
    {
      "cell_type": "code",
      "execution_count": null,
      "metadata": {
        "id": "8Mscx9ZbtOxX"
      },
      "outputs": [],
      "source": [
        "toplam = 0\n",
        "sayac = 0\n",
        "\n",
        "for _ in r:\n",
        "    sayac += 1\n",
        "    print(\"\\nToplama işleminden ÖNCE Toplam değişkeninin değeri: \", toplam)\n",
        "    print(\"Alt tire Değişkeninin Değeri: \", _)\n",
        "    toplam = toplam + _\n",
        "    print(\"Toplama işleminden SONRA Toplam değişkeninin değeri: \", toplam)\n",
        "\n",
        "    print(\"Sayaç değeri: \", sayac)\n",
        "\n",
        "print(\"DÖNGÜ BİTTİ.\")\n",
        "print(\"TOPLAM DEĞER:\", toplam)"
      ]
    },
    {
      "cell_type": "code",
      "execution_count": null,
      "metadata": {
        "id": "7tmFZbeFtOxY",
        "outputId": "6c38a1e9-3637-4d79-f956-84c7f31dbf4d"
      },
      "outputs": [
        {
          "name": "stdout",
          "output_type": "stream",
          "text": [
            "DÖNGÜ BİTTİ.\n",
            "TOPLAM DEĞER: 2500\n"
          ]
        }
      ],
      "source": [
        "toplam = 0\n",
        "sayac = 0\n",
        "\n",
        "for _ in range(1, 101, 2 ):\n",
        "    sayac += 1\n",
        "#     print(\"\\nToplama işleminden ÖNCE Toplam değişkeninin değeri: \", toplam)\n",
        "#     print(\"Alt tire Değişkeninin Değeri: \", _)\n",
        "    toplam = toplam + _\n",
        "#     print(\"Toplama işleminden SONRA Toplam değişkeninin değeri: \", toplam)\n",
        "\n",
        "#     print(\"Sayaç değeri: \", sayac)\n",
        "\n",
        "print(\"DÖNGÜ BİTTİ.\")\n",
        "print(\"TOPLAM DEĞER:\", toplam)"
      ]
    },
    {
      "cell_type": "code",
      "execution_count": null,
      "metadata": {
        "id": "L8O8dU0CtOxY",
        "outputId": "d560bad1-0932-4966-b83b-30da4e6a24b0"
      },
      "outputs": [
        {
          "name": "stdout",
          "output_type": "stream",
          "text": [
            "DÖNGÜ BİTTİ.\n",
            "TOPLAM DEĞER: 5050\n"
          ]
        }
      ],
      "source": [
        "toplam = 0\n",
        "sayac = 0\n",
        "\n",
        "for _ in range(100, 0, -1 ):\n",
        "    sayac += 1\n",
        "#     print(\"\\nToplama işleminden ÖNCE Toplam değişkeninin değeri: \", toplam)\n",
        "#     print(\"Alt tire Değişkeninin Değeri: \", _)\n",
        "    toplam = toplam + _\n",
        "#     print(\"Toplama işleminden SONRA Toplam değişkeninin değeri: \", toplam)\n",
        "\n",
        "#     print(\"Sayaç değeri: \", sayac)\n",
        "\n",
        "print(\"DÖNGÜ BİTTİ.\")\n",
        "print(\"TOPLAM DEĞER:\", toplam)"
      ]
    },
    {
      "cell_type": "code",
      "execution_count": null,
      "metadata": {
        "id": "yzYRSbcStOxY"
      },
      "outputs": [],
      "source": [
        "# -100 ile -500 arasındaki çift sayılar\n",
        "range(-100, -501, 2)"
      ]
    },
    {
      "cell_type": "code",
      "execution_count": null,
      "metadata": {
        "id": "jSa5rEKdtOxY"
      },
      "outputs": [],
      "source": [
        "toplam = 0\n",
        "yineleme = 1\n",
        "\n",
        "for d in range(1, 101,2):\n",
        "    print(\"Yineleme değeri: \", yineleme, \"Toplam: \", toplam)\n",
        "    toplam += d**2\n",
        "    print(\"sayı: \", d, \"karesi: \", d**2, \"\\n\")\n",
        "\n",
        "    yineleme += 1\n"
      ]
    },
    {
      "cell_type": "code",
      "execution_count": null,
      "metadata": {
        "id": "zrqgy8butOxZ",
        "outputId": "f68b8088-068c-46cb-b23c-8561344967e8"
      },
      "outputs": [
        {
          "data": {
            "text/plain": [
              "166650"
            ]
          },
          "execution_count": 5,
          "metadata": {},
          "output_type": "execute_result"
        }
      ],
      "source": [
        "toplam"
      ]
    },
    {
      "cell_type": "code",
      "execution_count": null,
      "metadata": {
        "id": "4H9gj7WFtOxZ"
      },
      "outputs": [],
      "source": []
    },
    {
      "cell_type": "code",
      "execution_count": null,
      "metadata": {
        "id": "vEL44jpwtOxa",
        "outputId": "9eeacc50-3a33-4813-f0aa-a180db94cb50"
      },
      "outputs": [
        {
          "ename": "IndexError",
          "evalue": "string index out of range",
          "output_type": "error",
          "traceback": [
            "\u001b[1;31m---------------------------------------------------------------------------\u001b[0m",
            "\u001b[1;31mIndexError\u001b[0m                                Traceback (most recent call last)",
            "\u001b[1;32m<ipython-input-6-4b3d371ace71>\u001b[0m in \u001b[0;36m<module>\u001b[1;34m\u001b[0m\n\u001b[0;32m      1\u001b[0m \u001b[0mmetin\u001b[0m \u001b[1;33m=\u001b[0m \u001b[1;34m\"Merhaba Dünya\"\u001b[0m\u001b[1;33m\u001b[0m\u001b[0m\n\u001b[1;32m----> 2\u001b[1;33m \u001b[0mmetin\u001b[0m\u001b[1;33m[\u001b[0m\u001b[1;36m15\u001b[0m\u001b[1;33m]\u001b[0m\u001b[1;33m\u001b[0m\u001b[0m\n\u001b[0m",
            "\u001b[1;31mIndexError\u001b[0m: string index out of range"
          ]
        }
      ],
      "source": [
        "metin = \"Merhaba Dünya\"\n",
        "metin[1]"
      ]
    },
    {
      "cell_type": "markdown",
      "metadata": {
        "id": "_sztdaVgtOxm"
      },
      "source": [
        "## yeni bölüm"
      ]
    },
    {
      "cell_type": "markdown",
      "metadata": {
        "id": "ua-i092WtOxn"
      },
      "source": [
        "#### Soru"
      ]
    },
    {
      "cell_type": "code",
      "execution_count": null,
      "metadata": {
        "id": "O5TL-wSTtOxn"
      },
      "outputs": [],
      "source": []
    },
    {
      "cell_type": "markdown",
      "metadata": {
        "id": "mvvkEu9ptOxn"
      },
      "source": []
    },
    {
      "cell_type": "markdown",
      "metadata": {
        "id": "kG8S-nHotOxr"
      },
      "source": [
        "## yeni bölüm"
      ]
    },
    {
      "cell_type": "code",
      "execution_count": null,
      "metadata": {
        "id": "QfdhNL8btOxr"
      },
      "outputs": [],
      "source": []
    },
    {
      "cell_type": "markdown",
      "metadata": {
        "id": "lFuYOxkHtOxs"
      },
      "source": [
        "#### Soru"
      ]
    },
    {
      "cell_type": "markdown",
      "metadata": {
        "id": "i9K8lzzUtOxs"
      },
      "source": []
    },
    {
      "cell_type": "markdown",
      "metadata": {
        "id": "Z9aeiwcTtOxw"
      },
      "source": [
        "## yeni bölüm"
      ]
    },
    {
      "cell_type": "markdown",
      "source": [],
      "metadata": {
        "id": "_tLwixV1vKKK"
      }
    },
    {
      "cell_type": "markdown",
      "source": [],
      "metadata": {
        "id": "igzrgvvfvKOF"
      }
    },
    {
      "cell_type": "markdown",
      "source": [],
      "metadata": {
        "id": "3m1cGaf-vKQ7"
      }
    },
    {
      "cell_type": "code",
      "source": [],
      "metadata": {
        "id": "54C4vcrYvKWI"
      },
      "execution_count": null,
      "outputs": []
    },
    {
      "cell_type": "markdown",
      "source": [
        "## Soru\n",
        "Verilen sayısal notu aşağıdaki kriterlere göre Harf notu olarak veren bir fonksiyon yazınız\n",
        "\n",
        "* 90 ve üzeri A\n",
        "* 80 ve üzeri B\n",
        "* 65 ve üzeri C\n",
        "* 50 ile 64 arası (dahil) D\n",
        "* 30 - 49 arası (dahil) F\n",
        "* 30 altı FF\n"
      ],
      "metadata": {
        "id": "fxeqP60vvLQF"
      }
    },
    {
      "cell_type": "code",
      "source": [
        "def not_harflendirme_sistemi(x):\n",
        "  if 30 < x <= 0:\n",
        "   return \"A\"\n",
        "  if 49 <= x <= 30:\n",
        "   return \"B\"\n",
        "  if 80 > x >= 65:\n",
        "   return \"C\"\n",
        "  if 64 >= x and x >= 50:\n",
        "   return \"D\"\n",
        "  if 80 <= x and x < 90:\n",
        "   return \"F\"\n",
        "  if 90 < x <= 100 :\n",
        "   return \"FF\"\n",
        "  else:\n",
        "    return \"0-100 aralığında bir sayı giriniz\"\n",
        "\n",
        "not_harflendirme_sistemi(32)\n",
        "\n"
      ],
      "metadata": {
        "colab": {
          "base_uri": "https://localhost:8080/",
          "height": 36
        },
        "id": "5lAus0hvvuuN",
        "outputId": "b51a89c1-0545-4af8-d5be-bb6d321f9fb3"
      },
      "execution_count": null,
      "outputs": [
        {
          "output_type": "execute_result",
          "data": {
            "text/plain": [
              "'F'"
            ],
            "application/vnd.google.colaboratory.intrinsic+json": {
              "type": "string"
            }
          },
          "metadata": {},
          "execution_count": 21
        }
      ]
    },
    {
      "cell_type": "code",
      "source": [],
      "metadata": {
        "id": "uklObDDE5_ub"
      },
      "execution_count": null,
      "outputs": []
    },
    {
      "cell_type": "code",
      "execution_count": null,
      "metadata": {
        "id": "XCJxI37ptOxx"
      },
      "outputs": [],
      "source": [
        "x = 11\n",
        "\n",
        "# sayı 10 dan küçük ise, sayının çift oluşuna göre (çift yaz), değilse\n",
        "# tek sayı\n",
        "\n",
        "if x < 0: # sayı negatif ise\n",
        "   print(\"x, negatif bir sayıdır\")\n",
        "elif x < 10:\n",
        "    print(\"x, 10'dan küçüktür\")\n",
        "\n",
        "    # sayı 10 dan küçük ise, sayının çift oluşuna göre (çift yaz), değilse\n",
        "    if x % 2 ==0: # sayı ikiye kalansız bölünüyorsa\n",
        "      print(\"çift\")\n",
        "\n",
        "    # sayının 7 'den küçük oluşuna göre a = sayı değilse a = sayının karesi\n",
        "    else  :\n",
        "      if x < 7: # 7 den küçük sayılar için (tek)\n",
        "        a = x\n",
        "      else: # 7, 9 için\n",
        "        a = x**2\n",
        "\n",
        "        if x > 7:\n",
        "          c = x**3\n",
        "        elif x == 9:\n",
        "          asdfasdfa\n",
        "        else:\n",
        "          asdfasdf\n",
        "\n",
        "\n",
        "\n",
        "elif x <  5:\n",
        "    print(\"x, 5'ten küçüktür\")\n",
        "elif x <  2:\n",
        "    print(\"x, 2'den küçüktür\")\n",
        "else:\n",
        "    print(\"Yukarıdakilerin hiçbiri doğru değildir.\")\n",
        "\n",
        "print(\"Bu metin if, elif, else karar mekanizması sonrasındaki ilk kod satırıdır.\")"
      ]
    },
    {
      "cell_type": "code",
      "source": [
        "Not = int(input(\"Not:\"))\n",
        "\n",
        "if 0<=Not and Not<=100:\n",
        "\n",
        "  if 90<Not and Not<=100:\n",
        "    print(\"Harf notunuz A'dır\")\n",
        "\n",
        "  if 65<=Not and Not<=90:\n",
        "    print(\"Harf notunuz B'dir\")\n",
        "\n",
        "  if 50<=Not and Not<65:\n",
        "    print(\"Harf notunuz C'dir\")\n",
        "\n",
        "  if 35<=Not and Not<50:\n",
        "    print(\"Harf notunuz D'dir\")\n",
        "\n",
        "  if 20<=Not and Not<35:\n",
        "    print(\"Harf notunuz E'dir\")\n",
        "\n",
        "  if 0<=Not and Not<20:\n",
        "    print(\"Harf notunuz F'dir\")\n",
        "\n",
        "else:\n",
        "  print(\"Not değeri 0 ile 100 arasında olmalıdır.\")"
      ],
      "metadata": {
        "colab": {
          "base_uri": "https://localhost:8080/"
        },
        "id": "ItYe6eoDFkTd",
        "outputId": "43719857-ffff-4fc6-9812-85fe1be4d802"
      },
      "execution_count": null,
      "outputs": [
        {
          "output_type": "stream",
          "name": "stdout",
          "text": [
            "Not:44\n",
            "Harf notunuz D'dir\n"
          ]
        }
      ]
    },
    {
      "cell_type": "code",
      "source": [
        "class OrnekSinif:\n",
        "    \"\"\"Basit bir sınıf örneği\"\"\"\n",
        "\n",
        "    def __init__(self):\n",
        "        self.data = [] # verinin tutulacağı liste (sınıf oluşturulduğunda boş)\n",
        "\n",
        "\n",
        "    pi = 3.1415\n",
        "\n",
        "    def merhaba(self):\n",
        "        return 'merhaba dünya'"
      ],
      "metadata": {
        "id": "dHaePUWuOGxj"
      },
      "execution_count": null,
      "outputs": []
    },
    {
      "cell_type": "code",
      "source": [
        "bir_sinif = OrnekSinif() # OrnekSinif'ın bir örneği, instance\n",
        "\n",
        "ikinci_ornek = OrnekSinif()\n"
      ],
      "metadata": {
        "id": "t4SxQFGuOG0I"
      },
      "execution_count": null,
      "outputs": []
    },
    {
      "cell_type": "code",
      "source": [
        "bir_sinif.pi"
      ],
      "metadata": {
        "colab": {
          "base_uri": "https://localhost:8080/"
        },
        "id": "UgT8Yll5OG2h",
        "outputId": "1bbc9b59-ef41-4868-8546-68470314cb9e"
      },
      "execution_count": null,
      "outputs": [
        {
          "output_type": "execute_result",
          "data": {
            "text/plain": [
              "3.1415"
            ]
          },
          "metadata": {},
          "execution_count": 4
        }
      ]
    },
    {
      "cell_type": "code",
      "source": [
        "ikinci_ornek.pi"
      ],
      "metadata": {
        "colab": {
          "base_uri": "https://localhost:8080/"
        },
        "id": "nXB1pqreOG45",
        "outputId": "769ea49a-fd6f-4a2f-d9ad-39bae5cbf288"
      },
      "execution_count": null,
      "outputs": [
        {
          "output_type": "execute_result",
          "data": {
            "text/plain": [
              "3.1415"
            ]
          },
          "metadata": {},
          "execution_count": 5
        }
      ]
    },
    {
      "cell_type": "code",
      "source": [
        "ikinci_ornek.merhaba()"
      ],
      "metadata": {
        "colab": {
          "base_uri": "https://localhost:8080/",
          "height": 36
        },
        "id": "iUyYkKiHOvH5",
        "outputId": "31cf8f22-7038-4ac2-e0b1-212077a6da5a"
      },
      "execution_count": null,
      "outputs": [
        {
          "output_type": "execute_result",
          "data": {
            "text/plain": [
              "'merhaba dünya'"
            ],
            "application/vnd.google.colaboratory.intrinsic+json": {
              "type": "string"
            }
          },
          "metadata": {},
          "execution_count": 8
        }
      ]
    },
    {
      "cell_type": "code",
      "source": [
        "class Kedi:\n",
        "    cins = 'Siyam' # her yeni kedi nesnesinin 'cins' niteliği bu değere sahiptir.\n",
        "\n",
        "    def __init__(self, isim):\n",
        "        self.isim = isim # tüm sınıf örneklerinde farklıdır ve sınıf ilk defa inşa edilirken tayin edilir.\n",
        "\n",
        "kedi_mirnav = Kedi('Mırnav') # 'Mırnav' değeri bu nesnenin isim niteliğine atanır.\n",
        "kedi_boncuk = Kedi('Boncuk') # 'Boncuk' değeri bu nesnenin isim niteliğine atanır.\n",
        "\n",
        "# Türetilen Kedi nesnelerinin 'cins' niteliğini yazdıralım\n",
        "print(kedi_mirnav.cins, kedi_boncuk.cins)\n",
        "\n"
      ],
      "metadata": {
        "colab": {
          "base_uri": "https://localhost:8080/"
        },
        "id": "RwwA4JOJPHec",
        "outputId": "1e7108ad-ab3d-4e51-bba2-862f6e74be09"
      },
      "execution_count": null,
      "outputs": [
        {
          "output_type": "stream",
          "name": "stdout",
          "text": [
            "Siyam Siyam\n"
          ]
        }
      ]
    },
    {
      "cell_type": "code",
      "source": [
        "kedi_mirnav.cins"
      ],
      "metadata": {
        "colab": {
          "base_uri": "https://localhost:8080/",
          "height": 36
        },
        "id": "UsuEHonZQB8g",
        "outputId": "25ca8556-9ae7-40ff-e932-5ac99453a740"
      },
      "execution_count": null,
      "outputs": [
        {
          "output_type": "execute_result",
          "data": {
            "text/plain": [
              "'Siyam'"
            ],
            "application/vnd.google.colaboratory.intrinsic+json": {
              "type": "string"
            }
          },
          "metadata": {},
          "execution_count": 11
        }
      ]
    },
    {
      "cell_type": "code",
      "source": [
        "kedi_boncuk.cins = 'Bengay'"
      ],
      "metadata": {
        "id": "vhHUzp1cQVnR"
      },
      "execution_count": null,
      "outputs": []
    },
    {
      "cell_type": "code",
      "source": [
        "kedi_boncuk.cins"
      ],
      "metadata": {
        "colab": {
          "base_uri": "https://localhost:8080/",
          "height": 36
        },
        "id": "e8oNkqoYQnKf",
        "outputId": "e58f66c2-9ee4-4b87-8624-9312036752af"
      },
      "execution_count": null,
      "outputs": [
        {
          "output_type": "execute_result",
          "data": {
            "text/plain": [
              "'Bengay'"
            ],
            "application/vnd.google.colaboratory.intrinsic+json": {
              "type": "string"
            }
          },
          "metadata": {},
          "execution_count": 14
        }
      ]
    },
    {
      "cell_type": "code",
      "source": [
        "kedi_mirnav.cins"
      ],
      "metadata": {
        "colab": {
          "base_uri": "https://localhost:8080/",
          "height": 36
        },
        "id": "MozKE3OfQpmt",
        "outputId": "3ec9fea5-f300-44eb-e274-a383ea4b77d4"
      },
      "execution_count": null,
      "outputs": [
        {
          "output_type": "execute_result",
          "data": {
            "text/plain": [
              "'Siyam'"
            ],
            "application/vnd.google.colaboratory.intrinsic+json": {
              "type": "string"
            }
          },
          "metadata": {},
          "execution_count": 15
        }
      ]
    },
    {
      "cell_type": "code",
      "source": [
        "class Kedi:\n",
        "\n",
        "    cins = 'Siyam' # türetilen nesneler ilk oluşturulduklarında bu değere sahip\n",
        "\n",
        "    def __init__(self, isim):\n",
        "        self.isim = isim # tüm sınıf örneklerinde farklıdır.\n",
        "        self.numaralar = [] #  türetilen tüm nesnelerde ortak kullanılır.\n",
        "\n",
        "    # nesneye yeni numaralar eklenmesini sağlayan fonksiyon\n",
        "    def numara_ekle(self, numara):\n",
        "        self.numaralar.append(numara) # sınıfın numaralar listesine ekle\n",
        "\n",
        "kedi_tekir = Kedi('Tekir') # 'Tekir' değeri bu nesnenin isim niteliğine atanır.\n",
        "kedi_minnos = Kedi('Minnoş') # 'Minnoş' değeri bu nesnenin isim niteliğine atanır.\n",
        "\n",
        "print('Kediler ilk tanımlandıklarında tanımlı numaralar:')\n",
        "print(\"Tekirin numaraları:\\n\", kedi_tekir.numaralar)\n",
        "print(\"Minnoşun numaraları:\\n\",kedi_minnos.numaralar)\n",
        "\n",
        "# Tekir kediye numaralar tanımlayalım\n",
        "kedi_tekir.numara_ekle('mırla')\n",
        "kedi_tekir.numara_ekle('ölü takliti yap')\n",
        "\n",
        "print(\"\\nTekir kediye bazı numaralar ekledikten sonra\")\n",
        "# Tekirin numarlarını yazdır.\n",
        "print(\"Tekirin numaraları:\\n\", kedi_tekir.numaralar)\n",
        "# Minnoşun numarlarını yazdır.\n",
        "print(\"Minnoşun numaraları:\\n\",kedi_minnos.numaralar)"
      ],
      "metadata": {
        "colab": {
          "base_uri": "https://localhost:8080/"
        },
        "id": "NBLxx3ypQ_Ag",
        "outputId": "62ede39c-94cd-4d74-d23c-62e8a739b39b"
      },
      "execution_count": null,
      "outputs": [
        {
          "output_type": "stream",
          "name": "stdout",
          "text": [
            "Kediler ilk tanımlandıklarında tanımlı numaralar:\n",
            "Tekirin numaraları:\n",
            " []\n",
            "Minnoşun numaraları:\n",
            " []\n",
            "\n",
            "Tekir kediye bazı numaralar ekledikten sonra\n",
            "Tekirin numaraları:\n",
            " ['mırla', 'ölü takliti yap']\n",
            "Minnoşun numaraları:\n",
            " []\n"
          ]
        }
      ]
    },
    {
      "cell_type": "code",
      "source": [
        "i = 1\n",
        "liste = []\n",
        "while i < 30:\n",
        "  if i % 2==0:\n",
        "    liste.append(i)\n",
        "    i += 3\n",
        "    continue\n",
        "  elif i %3 ==0:\n",
        "    i +=10\n",
        "    # liste.append(i)\n",
        "    continue\n",
        "  elif i > 20:\n",
        "    break\n",
        "\n",
        "  i += 1\n",
        "\n",
        "liste"
      ],
      "metadata": {
        "colab": {
          "base_uri": "https://localhost:8080/"
        },
        "id": "GijSQS2yfAcD",
        "outputId": "58f07fac-f79a-4242-9419-b2fa3a29407d"
      },
      "execution_count": null,
      "outputs": [
        {
          "output_type": "execute_result",
          "data": {
            "text/plain": [
              "[2, 6, 20]"
            ]
          },
          "metadata": {},
          "execution_count": 12
        }
      ]
    },
    {
      "cell_type": "code",
      "source": [
        "class Insan:\n",
        "  def __init__(self, isim, soyisim, dil , selam):\n",
        "    self.isim = isim\n",
        "    self.soyisim = soyisim\n",
        "    self.selam_cumleleri = dict()\n",
        "    self.ana_dil\n",
        "\n",
        "    # self.selam_cumleleri['turkce'] = 'merhaba'\n",
        "    self.selam_cumleleri= [dil] = selam\n",
        "\n",
        "  def selam_ekle(self, dil, cumle):\n",
        "    self.selam_cumleleri[dil] = cumle\n",
        "\n",
        "  def selam_ver(self,dil='türkçe'):\n",
        "    print(self.selam_cumleleri[dil])\n",
        "\n",
        "fatma = Insan('Fatma', 'Çalışkan', 'gürcüce', 'gamarcoba')\n",
        "# fatma.selam_ver('gürcüce')\n",
        "fatma.selam_ekle('arapça', 'selamünaleyküm')\n",
        "fatma.selam_ekle('ingilizce', 'hi')\n",
        "# fatma.selam_ver('arapça')\n",
        "\n",
        "ayse = Insan('Ayşe', 'Çok çalışkan', 'türkçe', 'naber')\n",
        "ayse.selam_ver()"
      ],
      "metadata": {
        "colab": {
          "base_uri": "https://localhost:8080/"
        },
        "id": "deCTzUnLYiIq",
        "outputId": "956f23f7-65f3-42ef-9917-77f36319ca6b"
      },
      "execution_count": null,
      "outputs": [
        {
          "output_type": "stream",
          "name": "stdout",
          "text": [
            "naber\n"
          ]
        }
      ]
    },
    {
      "cell_type": "code",
      "source": [
        "# TAŞ  == MAKAS => TAŞ\n",
        "# TAŞ ?? KAĞIT => KAĞIT\n",
        "# MAKAS ?? KAĞIT ->  MAKAS\n",
        "\n",
        "# 10 DEFA OYNANACAK\n",
        "# 1. BİLGİSAYAR BİRİNİ SEÇECEK\n",
        "# 2. KULLANICIDAN BİRİ İSTENECEK\n",
        "# 3. DURUMA GÖRE KİM YENERSE SAYI ONA VERİLECEK\n",
        "tas_kagit_makas = [\"taş\", \"kağıt\", \"makas\"]\n",
        "\n",
        "\n",
        "import random\n",
        "\n",
        "random.choice(tas_kagit_makas)\n",
        "\n",
        "\n",
        "bilgisayar_a['taş'] += 1\n",
        "bilgisayar_a['makas'] += 1\n",
        "bilgisayar_a['kağıt'] += 1\n",
        "\n",
        "\n"
      ],
      "metadata": {
        "colab": {
          "base_uri": "https://localhost:8080/",
          "height": 36
        },
        "id": "kCGwy2IkgPd0",
        "outputId": "08438669-04ce-4cc0-995e-94be38af0e1b"
      },
      "execution_count": null,
      "outputs": [
        {
          "output_type": "execute_result",
          "data": {
            "text/plain": [
              "'kağıt'"
            ],
            "application/vnd.google.colaboratory.intrinsic+json": {
              "type": "string"
            }
          },
          "metadata": {},
          "execution_count": 31
        }
      ]
    },
    {
      "cell_type": "code",
      "source": [
        "ins.selam_cumleleri"
      ],
      "metadata": {
        "colab": {
          "base_uri": "https://localhost:8080/"
        },
        "id": "OrBJv0IAaHOK",
        "outputId": "bd39c069-6f7e-4d50-a9f1-c69eba45a87a"
      },
      "execution_count": null,
      "outputs": [
        {
          "output_type": "execute_result",
          "data": {
            "text/plain": [
              "{'gürcüce': 'gamarcoba'}"
            ]
          },
          "metadata": {},
          "execution_count": 21
        }
      ]
    }
  ],
  "metadata": {
    "kernelspec": {
      "display_name": "Python 3",
      "language": "python",
      "name": "python3"
    },
    "language_info": {
      "codemirror_mode": {
        "name": "ipython",
        "version": 3
      },
      "file_extension": ".py",
      "mimetype": "text/x-python",
      "name": "python",
      "nbconvert_exporter": "python",
      "pygments_lexer": "ipython3",
      "version": "3.6.4"
    },
    "colab": {
      "provenance": [],
      "collapsed_sections": [
        "vwZrbM5e7JaU",
        "Jik-yHza7LkL",
        "FuaAdZ-ktOv7",
        "8araEV0WtOv9",
        "d-tOguY7tOv-",
        "zqd-hQkltOwA",
        "CQPO07J-tOwB",
        "1Fqv8gpztOwB",
        "ixOoOSgktOwH",
        "rD0_HHwS7QSs",
        "2YJIUI-q6tiw",
        "ISUWn7KqgbWE",
        "BBCn9bWQgfFt",
        "JbnbFYE8XZeS",
        "K3xnczzstOxb",
        "kdTik4NUeCW_",
        "FNZHbuE7a4m0",
        "NmG_i26jYcun",
        "S5xA1YO6tOxc",
        "KS1kdd57tOxd",
        "x4GnzSCftOxe",
        "9f2KxBcqtOxf",
        "NWRjthlBtOxf",
        "5CH1g1qTtOxg",
        "IXr158RltOxh",
        "KSSanXfUtOxi",
        "kqWidLU1tOxj",
        "A882t8_StOxk",
        "qQmxQWHaaSWr",
        "Cg3a1N-atOxa",
        "nIwdWkRVaUeM",
        "s0DtH019tOxg",
        "DKdVFfr3tOwI",
        "XmXFv4jotOwJ",
        "anb2dIPYtOwJ",
        "_3Tk3XuOtOwK",
        "c1mGCUTutOwL",
        "Mbb7CRr5tOwL",
        "l-kyR5aLtOwQ",
        "uOKUrjqGtOwR",
        "83cUokhgtOwR",
        "g3X_a1getOwT",
        "9zvEcTnptOwT",
        "EBvETGG6tOvw",
        "r3IznZSMtOvw",
        "oa1FOnNwtOvy",
        "OHciXy-btOv0",
        "ywSrfIQvtOv1",
        "Uhr76S8RtOwV",
        "lTUWWRu5tOwV",
        "qDevejdDtOwX",
        "z0KHjDZjtOwX",
        "TvTPpKnbtOwb",
        "YieLEFeptOwd",
        "RMurtYeVtOwe",
        "8Ygfsx2GtOws",
        "vq9GvPsttOwt",
        "egkBff_ptOwt",
        "v5xQkUuItOwt",
        "06iomhyXtOwO",
        "fwVy-moxtOwz",
        "EBRSV_estOwO",
        "BEH1HwFUtOw0",
        "YPr5HF-mtOwv",
        "zFp-qGKKtOwu",
        "MA0xn8VOtOwv",
        "-zDFc93MtOww",
        "aNnzG3kWtOwx",
        "dB0NeDSktOwx",
        "hFqCc5_otOwy",
        "Ui-qdFoktOw0",
        "hUXOoVQptOw1",
        "lWr8UCHutOw2",
        "VMAEPlg1tOw3",
        "zPnbWvO1tOw4",
        "Jn4c3I7atOw4",
        "7QXsmQfttOw5",
        "uHth6QqjtOw7",
        "71ROxnMMtOw7",
        "1viiFYwctOw8",
        "4jfG3PNutOw-",
        "cz7f6v34tOxA",
        "IItMZ-9NO2GT",
        "HT1h2-3NPNuW",
        "izvA40xFQkPj",
        "R0TgobEltOxR",
        "ua-i092WtOxn",
        "kG8S-nHotOxr",
        "lFuYOxkHtOxs"
      ],
      "include_colab_link": true
    }
  },
  "nbformat": 4,
  "nbformat_minor": 0
}