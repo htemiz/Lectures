{
  "nbformat": 4,
  "nbformat_minor": 0,
  "metadata": {
    "colab": {
      "provenance": [],
      "collapsed_sections": [
        "m4CgE3tvld4N",
        "114PrQD-1YaJ",
        "I4gT_M9Ck_51",
        "mdKmwlu8S8Rj",
        "-ArurJZEzc6T",
        "VWSQ9epkzc9f"
      ],
      "authorship_tag": "ABX9TyOi/rm+x43TxsPOnQnOwXwM",
      "include_colab_link": true
    },
    "kernelspec": {
      "name": "python3",
      "display_name": "Python 3"
    },
    "language_info": {
      "name": "python"
    }
  },
  "cells": [
    {
      "cell_type": "markdown",
      "metadata": {
        "id": "view-in-github",
        "colab_type": "text"
      },
      "source": [
        "<a href=\"https://colab.research.google.com/github/htemiz/Lectures/blob/main/Exercises_Karar_Ifadeleri_Colab.ipynb\" target=\"_parent\"><img src=\"https://colab.research.google.com/assets/colab-badge.svg\" alt=\"Open In Colab\"/></a>"
      ]
    },
    {
      "cell_type": "markdown",
      "source": [
        "###&#x3010;01&#x3011;Aşağıdaki koda göre, ekranda ne(ler) yazar?\n",
        "```python\n",
        "if 3 < 2:  # False\n",
        "    print(\"Doğru\")\n",
        "    print(\"Bu satır da gösterilecek\")\n",
        "    print(\"Bu satır da gösterilecek\")\n",
        "    print(\"Bu satır da gösterilecek\")\n",
        "    # ...\n",
        "    # ...\n",
        "else:\n",
        "    print(\"Yanlış\")\n",
        "\n",
        "print(\"\\nBu satır koşul sonlandıktan sonra yazılacak.\")\n",
        "```"
      ],
      "metadata": {
        "id": "m4CgE3tvld4N"
      }
    },
    {
      "cell_type": "markdown",
      "source": [
        "#### &#x1f589; Yanıt"
      ],
      "metadata": {
        "id": "a42VxmZG1lTm"
      }
    },
    {
      "cell_type": "code",
      "source": [],
      "metadata": {
        "id": "Zyveg0kI3IF-"
      },
      "execution_count": null,
      "outputs": []
    },
    {
      "cell_type": "markdown",
      "source": [
        "### &#x3010;02&#x3011;Derslerden alınan sayısal notların harfler ile gösterilmesinin istendiğini varsayalım. 85 <= not <= 100 için A; 60 <= not < 85 için B; 50 <= not < 60 için C; 35 <= not < 50 için D; ve 20 <= not < 35 için de E ve not <20 için F harfinin verilmesi istensin. Bir değişken ile tanımlanmış sayısal notu (değişkeni ve notu siz belirleyiniz) ilgili harf ile gösteren kodu yazınız. Örneğin, not 84 ise ekrana \"Harf notunuz B'dir\" şeklinde bir mesaj yazdırınız. Notun 0 - 100 aralığında olmaması durumunda ekrana \"Not değeri 0 ile 100 arasında olmalıdır\" şeklinde bir hata mesajı yazdırınız?"
      ],
      "metadata": {
        "id": "ZRhz4FFd0CVx"
      }
    },
    {
      "cell_type": "markdown",
      "source": [
        "#### &#x1f589; Yanıt"
      ],
      "metadata": {
        "id": "2wuPn0dcS0TA"
      }
    },
    {
      "cell_type": "code",
      "source": [],
      "metadata": {
        "id": "9udA4jdrS0TJ"
      },
      "execution_count": null,
      "outputs": []
    },
    {
      "cell_type": "markdown",
      "source": [
        "### &#x3010;04&#x3011;Aşağıdaki program sonucunda ekranda ne(ler) yazar?\n",
        "```python\n",
        "x = -8\n",
        "if x < 0: # sayı negatif ise\n",
        "    print(\"x, negatif bir sayıdır\")\n",
        "    if x <  -5:\n",
        "        print(\"x, 2'den küçüktür\")      \n",
        "        if x <  -8:\n",
        "            print(\"x, 2'den küçüktür\")\n",
        "        elif x > -10:\n",
        "            print(\"sadfas\")\n",
        "        else:\n",
        "            a = 5\n",
        "if x <  -2:\n",
        "    print(\"x, 2'den küçüktür\")\n",
        "else:\n",
        "    print(\"x, 10'dan küçüktür\")\n",
        "print(\"Bu metin if, elif, else karar mekanizması sonrasındaki ilk kod satırıdır.\")\n",
        "```"
      ],
      "metadata": {
        "id": "NEB3s33ezc1I"
      }
    },
    {
      "cell_type": "markdown",
      "source": [
        "#### &#x1f589; Yanıt"
      ],
      "metadata": {
        "id": "2QV4nJzfS8Rj"
      }
    },
    {
      "cell_type": "code",
      "source": [],
      "metadata": {
        "id": "GDQdjjAcS8Rj"
      },
      "execution_count": null,
      "outputs": []
    },
    {
      "cell_type": "markdown",
      "source": [
        "### &#x3010;05&#x3011;Fiyat isimli bir değişkenimiz olsun. Fiyat 50 ve üzeri ise ‘çok pahalı’ , 30 (dahil) ile 50 (hariç) arasında ise ‘fiyat normal’; 0 (hariç) ile 30 (hariç) arasında ise ‘fiyat çok düşük’ ve Fiyat bu aralıkların dışında bir değer ise ‘Hatalı bir fiyat değeri’ metnini ekrana yazdıran kodu yazınız?"
      ],
      "metadata": {
        "id": "-ArurJZEzc6T"
      }
    },
    {
      "cell_type": "markdown",
      "source": [
        "#### &#x1f589; Yanıt"
      ],
      "metadata": {
        "id": "4rO6YFdJS7_Y"
      }
    },
    {
      "cell_type": "code",
      "source": [],
      "metadata": {
        "id": "NuCl9DWHS7_Z"
      },
      "execution_count": null,
      "outputs": []
    },
    {
      "cell_type": "markdown",
      "source": [
        "### &#x3010;06&#x3011;Aşağıdaki koda göre hangi mesajlar ekranda gösterilir?\n",
        "```python\n",
        "stok = 50\n",
        "if stok >= 50:\n",
        "    print('çok fazla stok var')\n",
        "    # diğer kodlar ...\n",
        "if (stok >= 30) or (stok < 50) :\n",
        "    print('stok normal')\n",
        "if (stok > 0)  and (stok < 30):\n",
        "    print('çok az stok var')\n",
        "else:\n",
        "    print('stok değeri ', stok, ' olamaz')\n",
        "```"
      ],
      "metadata": {
        "id": "VWSQ9epkzc9f"
      }
    },
    {
      "cell_type": "markdown",
      "source": [
        "#### &#x1f589; Yanıt"
      ],
      "metadata": {
        "id": "tXcGTUygS7yz"
      }
    },
    {
      "cell_type": "code",
      "source": [],
      "metadata": {
        "id": "WrLSP3rsS7yz"
      },
      "execution_count": null,
      "outputs": []
    }
  ]
}