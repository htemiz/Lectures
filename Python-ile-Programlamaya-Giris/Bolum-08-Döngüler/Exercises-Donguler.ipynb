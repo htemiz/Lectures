{
  "nbformat": 4,
  "nbformat_minor": 0,
  "metadata": {
    "colab": {
      "provenance": [],
      "authorship_tag": "ABX9TyMVjNtXJlJy9vYBP6MQGzE0",
      "include_colab_link": true
    },
    "kernelspec": {
      "name": "python3",
      "display_name": "Python 3"
    },
    "language_info": {
      "name": "python"
    }
  },
  "cells": [
    {
      "cell_type": "markdown",
      "metadata": {
        "id": "view-in-github",
        "colab_type": "text"
      },
      "source": [
        "<a href=\"https://colab.research.google.com/github/htemiz/Lectures/blob/main/Python-ile-Programlamaya-Giris/Bolum-08-D%C3%B6ng%C3%BCler/Exercises_Donguler_Colab.ipynb\" target=\"_parent\"><img src=\"https://colab.research.google.com/assets/colab-badge.svg\" alt=\"Open In Colab\"/></a>"
      ]
    },
    {
      "cell_type": "markdown",
      "source": [
        "### &#x3010;01&#x3011;0 ile 100 arasında (dahil) sayıları üreten bir range() fonksiyonu yazınız?"
      ],
      "metadata": {
        "id": "m4CgE3tvld4N"
      }
    },
    {
      "cell_type": "markdown",
      "source": [
        "#### &#x1f589; Yanıt"
      ],
      "metadata": {
        "id": "a42VxmZG1lTm"
      }
    },
    {
      "cell_type": "code",
      "source": [],
      "metadata": {
        "id": "Zyveg0kI3IF-"
      },
      "execution_count": null,
      "outputs": []
    },
    {
      "cell_type": "markdown",
      "source": [
        "### &#x3010;02&#x3011;0 ile 100 arasında (dahil) sayıları 5'er 5'er üreten bir range() fonksiyonu yazınız? Ardından, range'deki elemanları liste olarak üretiniz?"
      ],
      "metadata": {
        "id": "ZRhz4FFd0CVx"
      }
    },
    {
      "cell_type": "markdown",
      "source": [
        "#### &#x1f589; Yanıt"
      ],
      "metadata": {
        "id": "2wuPn0dcS0TA"
      }
    },
    {
      "cell_type": "code",
      "source": [],
      "metadata": {
        "id": "9udA4jdrS0TJ"
      },
      "execution_count": null,
      "outputs": []
    },
    {
      "cell_type": "markdown",
      "source": [
        "### &#x3010;03&#x3011;0 ile 100 arasındaki (dahil) çift sayıların toplamını ```for``` döngüsü ile yazınız?"
      ],
      "metadata": {
        "id": "I4gT_M9Ck_51"
      }
    },
    {
      "cell_type": "markdown",
      "source": [
        "#### &#x1f589; Yanıt"
      ],
      "metadata": {
        "id": "yZ3rbUHnS0z9"
      }
    },
    {
      "cell_type": "code",
      "source": [],
      "metadata": {
        "id": "LIpJZYFrS0z-"
      },
      "execution_count": null,
      "outputs": []
    },
    {
      "cell_type": "markdown",
      "source": [
        "### &#x3010;04&#x3011;0'dan itibaren, n sayısına kadar tek sayıların toplamını hesaplayan kodu while ile ve range() kullanmadan yazınız. Sonlandırma için bayrak kullanınız?"
      ],
      "metadata": {
        "id": "NEB3s33ezc1I"
      }
    },
    {
      "cell_type": "markdown",
      "source": [
        "#### &#x1f589; Yanıt"
      ],
      "metadata": {
        "id": "2QV4nJzfS8Rj"
      }
    },
    {
      "cell_type": "code",
      "source": [],
      "metadata": {
        "id": "GDQdjjAcS8Rj"
      },
      "execution_count": null,
      "outputs": []
    },
    {
      "cell_type": "markdown",
      "source": [
        "### &#x3010;05&#x3011;Bir metnin karakterlerini ters sıralanmış olarak yeni bir string ile veren bir kodu while döngüsü ile yazınız?"
      ],
      "metadata": {
        "id": "-ArurJZEzc6T"
      }
    },
    {
      "cell_type": "markdown",
      "source": [
        "#### &#x1f589; Yanıt"
      ],
      "metadata": {
        "id": "4rO6YFdJS7_Y"
      }
    },
    {
      "cell_type": "code",
      "source": [],
      "metadata": {
        "id": "Zxj1r2bQS7_Z"
      },
      "execution_count": null,
      "outputs": []
    },
    {
      "cell_type": "markdown",
      "source": [
        "### &#x3010;06&#x3011;Kullanıcı klavyeden **\"x\"** değerini girmediği sürece, girilen sayının karesini alan fonksiyonu **while** döngüsü ile yazınız?"
      ],
      "metadata": {
        "id": "VWSQ9epkzc9f"
      }
    },
    {
      "cell_type": "markdown",
      "source": [
        "#### &#x1f589; Yanıt"
      ],
      "metadata": {
        "id": "tXcGTUygS7yz"
      }
    },
    {
      "cell_type": "code",
      "source": [],
      "metadata": {
        "id": "WrLSP3rsS7yz"
      },
      "execution_count": null,
      "outputs": []
    },
    {
      "cell_type": "markdown",
      "source": [
        "### &#x3010;07&#x3011;Bir metnin içinde bir karakterin var olduğu indeksleri veren bir fonksiyonu while döngüsü ile yazınız. Fonksiyon, karakter metinde yoksa ```None``` değeri versin?"
      ],
      "metadata": {
        "id": "iHXkaK_Kzc_t"
      }
    },
    {
      "cell_type": "markdown",
      "source": [
        "#### &#x1f589; Yanıt"
      ],
      "metadata": {
        "id": "iJPMbQlZS7Wn"
      }
    },
    {
      "cell_type": "code",
      "source": [],
      "metadata": {
        "id": "iMbEjWkWS7Wo"
      },
      "execution_count": null,
      "outputs": []
    },
    {
      "cell_type": "markdown",
      "source": [
        "### &#x3010;08&#x3011;p ve q pozitif tam sayılar olmak üzere,  $1^{p}+2^{p}+⋯+q^{p}$  dizisinin terimleri toplamını veren fonksiyonu while döngüsüyle yazınız?"
      ],
      "metadata": {
        "id": "cjgnQRdYzdB5"
      }
    },
    {
      "cell_type": "markdown",
      "source": [
        "#### &#x1f589; Yanıt"
      ],
      "metadata": {
        "id": "lnVOApf-S7NN"
      }
    },
    {
      "cell_type": "code",
      "source": [],
      "metadata": {
        "id": "F9hJ9WUiS7NN"
      },
      "execution_count": null,
      "outputs": []
    }
  ]
}
