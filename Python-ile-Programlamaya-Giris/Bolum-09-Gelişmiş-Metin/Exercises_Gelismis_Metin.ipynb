{
  "nbformat": 4,
  "nbformat_minor": 0,
  "metadata": {
    "colab": {
      "provenance": [],
      "authorship_tag": "ABX9TyN49O3YnOBh3Zyoa8MMaw9N",
      "include_colab_link": true
    },
    "kernelspec": {
      "name": "python3",
      "display_name": "Python 3"
    },
    "language_info": {
      "name": "python"
    }
  },
  "cells": [
    {
      "cell_type": "markdown",
      "metadata": {
        "id": "view-in-github",
        "colab_type": "text"
      },
      "source": [
        "<a href=\"https://colab.research.google.com/github/htemiz/Lectures/blob/main/Python-ile-Programlamaya-Giris/Bolum-09-Geli%C5%9Fmi%C5%9F-Metin/Exercises_Gelismis_Metin_Colab.ipynb\" target=\"_parent\"><img src=\"https://colab.research.google.com/assets/colab-badge.svg\" alt=\"Open In Colab\"/></a>"
      ]
    },
    {
      "cell_type": "markdown",
      "source": [
        "### &#x3010;01&#x3011;\"Emek olmadan yemek olmaz\" cümlesinde 'ekmek' kelimesinin var olup olmadığını sorgulayan Python ifadesini yazınız?"
      ],
      "metadata": {
        "id": "m4CgE3tvld4N"
      }
    },
    {
      "cell_type": "markdown",
      "source": [
        "#### &#x1f589; Yanıt"
      ],
      "metadata": {
        "id": "a42VxmZG1lTm"
      }
    },
    {
      "cell_type": "code",
      "source": [],
      "metadata": {
        "id": "Zyveg0kI3IF-"
      },
      "execution_count": null,
      "outputs": []
    },
    {
      "cell_type": "markdown",
      "source": [
        "### &#x3010;02&#x3011;\"Bu metnin onbir ile 22'nci karakterler arasını indeksleyerek alınız?"
      ],
      "metadata": {
        "id": "ZRhz4FFd0CVx"
      }
    },
    {
      "cell_type": "markdown",
      "source": [
        "#### &#x1f589; Yanıt"
      ],
      "metadata": {
        "id": "2wuPn0dcS0TA"
      }
    },
    {
      "cell_type": "code",
      "source": [],
      "metadata": {
        "id": "9udA4jdrS0TJ"
      },
      "execution_count": null,
      "outputs": []
    },
    {
      "cell_type": "markdown",
      "source": [
        "### &#x3010;03&#x3011;\"Tıngır mıngır\" cülesinin 7. karakterden 13. (dahil) karaktere kadar olan bölümünü indeksleyerek alınız?"
      ],
      "metadata": {
        "id": "I4gT_M9Ck_51"
      }
    },
    {
      "cell_type": "markdown",
      "source": [
        "#### &#x1f589; Yanıt"
      ],
      "metadata": {
        "id": "yZ3rbUHnS0z9"
      }
    },
    {
      "cell_type": "code",
      "source": [],
      "metadata": {
        "id": "LIpJZYFrS0z-"
      },
      "execution_count": null,
      "outputs": []
    },
    {
      "cell_type": "markdown",
      "source": [
        "### &#x3010;04&#x3011;\"Bu metnin her 7 karakterden birini indeksleyiniz?\""
      ],
      "metadata": {
        "id": "NEB3s33ezc1I"
      }
    },
    {
      "cell_type": "markdown",
      "source": [
        "#### &#x1f589; Yanıt"
      ],
      "metadata": {
        "id": "2QV4nJzfS8Rj"
      }
    },
    {
      "cell_type": "code",
      "source": [],
      "metadata": {
        "id": "GDQdjjAcS8Rj"
      },
      "execution_count": null,
      "outputs": []
    },
    {
      "cell_type": "markdown",
      "source": [
        "### &#x3010;05&#x3011;\"Tıngır mıngır\" metnini [15] şeklinde indekslersek sonuç ne olur?"
      ],
      "metadata": {
        "id": "-ArurJZEzc6T"
      }
    },
    {
      "cell_type": "markdown",
      "source": [
        "#### &#x1f589; Yanıt"
      ],
      "metadata": {
        "id": "4rO6YFdJS7_Y"
      }
    },
    {
      "cell_type": "code",
      "source": [],
      "metadata": {
        "id": "NuCl9DWHS7_Z"
      },
      "execution_count": null,
      "outputs": []
    },
    {
      "cell_type": "markdown",
      "source": [
        "### &#x3010;06&#x3011;\"Bu kara kantar kırk kilo kara katran tartar\" tekerlemesinin tüm harflerini büyük yapan Python kodunu yazınız?"
      ],
      "metadata": {
        "id": "VWSQ9epkzc9f"
      }
    },
    {
      "cell_type": "markdown",
      "source": [
        "#### &#x1f589; Yanıt"
      ],
      "metadata": {
        "id": "tXcGTUygS7yz"
      }
    },
    {
      "cell_type": "code",
      "source": [],
      "metadata": {
        "id": "WrLSP3rsS7yz"
      },
      "execution_count": null,
      "outputs": []
    },
    {
      "cell_type": "markdown",
      "source": [
        "### &#x3010;07&#x3011;\"İşleyen demir ışıldar\" atasözünü sağa hizalı ve 45 karakter genişlikte alana, boş kalan yerlere '-' sembolü gelecek şekilde yazdıracak Python kodunu yazınız?"
      ],
      "metadata": {
        "id": "iHXkaK_Kzc_t"
      }
    },
    {
      "cell_type": "markdown",
      "source": [
        "#### &#x1f589; Yanıt"
      ],
      "metadata": {
        "id": "iJPMbQlZS7Wn"
      }
    },
    {
      "cell_type": "code",
      "source": [],
      "metadata": {
        "id": "iMbEjWkWS7Wo"
      },
      "execution_count": null,
      "outputs": []
    },
    {
      "cell_type": "markdown",
      "source": [
        "### &#x3010;08&#x3011;\"Çalışan demir pas tutmaz\" atasözünü sola hizalı ve 35 karakter genişlikte alana, boş kalan yerlere '$' sembolü gelecek şekilde yazdıracak Python kodunu yazınız?"
      ],
      "metadata": {
        "id": "cjgnQRdYzdB5"
      }
    },
    {
      "cell_type": "markdown",
      "source": [
        "#### &#x1f589; Yanıt"
      ],
      "metadata": {
        "id": "lnVOApf-S7NN"
      }
    },
    {
      "cell_type": "code",
      "source": [],
      "metadata": {
        "id": "F9hJ9WUiS7NN"
      },
      "execution_count": null,
      "outputs": []
    },
    {
      "cell_type": "markdown",
      "source": [
        "### &#x3010;09&#x3011;\"Bu kara kantar kırk kilo kara katran tartar\" tekerlemesinin tüm harflerini **küçük** yapan Python kodunu yazınız?"
      ],
      "metadata": {
        "id": "AaSY2yYZzdEX"
      }
    },
    {
      "cell_type": "markdown",
      "source": [
        "#### &#x1f589; Yanıt"
      ],
      "metadata": {
        "id": "Tjlkav0_S7B1"
      }
    },
    {
      "cell_type": "code",
      "source": [],
      "metadata": {
        "id": "5fWHb2TUS7B2"
      },
      "execution_count": null,
      "outputs": []
    },
    {
      "cell_type": "markdown",
      "source": [
        "### &#x3010;10&#x3011;\"Bu kara kantar kırk kilo kara katran tartar\" tekerlemesinin **büyük harflerini küçük, küçük harflerini büyük** yapan Python kodunu yazınız?"
      ],
      "metadata": {
        "id": "-IEXAWaOzdHB"
      }
    },
    {
      "cell_type": "markdown",
      "source": [
        "#### &#x1f589; Yanıt"
      ],
      "metadata": {
        "id": "tMrMSXjyS64_"
      }
    },
    {
      "cell_type": "code",
      "source": [],
      "metadata": {
        "id": "TztiWyK4S65A"
      },
      "execution_count": null,
      "outputs": []
    },
    {
      "cell_type": "markdown",
      "source": [
        "### &#x3010;11&#x3011;\"Şemsi Paşa pasajında sesi büzüşesiceler\" metninin kaç karakter uzunluğunda olduğunu veren Python kodunu yazınız?"
      ],
      "metadata": {
        "id": "sYZSvd5nzdJL"
      }
    },
    {
      "cell_type": "markdown",
      "source": [
        "#### &#x1f589; Yanıt"
      ],
      "metadata": {
        "id": "xfocYhiiS6ZR"
      }
    },
    {
      "cell_type": "code",
      "source": [],
      "metadata": {
        "id": "zhnTWd95S6ZR"
      },
      "execution_count": null,
      "outputs": []
    },
    {
      "cell_type": "markdown",
      "source": [
        "### &#x3010;12&#x3011;\"Bir berber bir berbere bire berber gel beraber bir berber dükkânı açalım demiş\" tekerlemesinde \"berber\" kelimesinin var olup olmadığını, varsa ilk defa kaçıncı karakterden başladığını (yani, indis) bulan Python kodunu yazınız?"
      ],
      "metadata": {
        "id": "Jq2waUYTzdN5"
      }
    },
    {
      "cell_type": "markdown",
      "source": [
        "#### &#x1f589; Yanıt"
      ],
      "metadata": {
        "id": "ZZ9H86t1S6NH"
      }
    },
    {
      "cell_type": "code",
      "source": [],
      "metadata": {
        "id": "bw_PQhk_S6NI"
      },
      "execution_count": null,
      "outputs": []
    },
    {
      "cell_type": "markdown",
      "source": [
        "### &#x3010;13&#x3011;\"Şu yoğurdu sarımsaklasak da mı saklasak, sarımsaklamasak da mı saklasak?\" tekerlemesini\n",
        "\n",
        "\"Şu yoğurdu mayalasak da mı saklasak, mayalamasak da mı saklasak?\" şeklinde değiştirecek Python kodunu yazınız?"
      ],
      "metadata": {
        "id": "FNinazTrzdQk"
      }
    },
    {
      "cell_type": "markdown",
      "source": [
        "#### &#x1f589; Yanıt"
      ],
      "metadata": {
        "id": "cQdFzp50S6BA"
      }
    },
    {
      "cell_type": "code",
      "source": [],
      "metadata": {
        "id": "JinA1MM5S6BB"
      },
      "execution_count": null,
      "outputs": []
    },
    {
      "cell_type": "markdown",
      "source": [
        "### &#x3010;14&#x3011;Aralarında boşluk olmak kaydıyla, \"Yaşa!\" kelimesini çarpım operatörü ile 5 defa yazdıran Python kodunu yazınız?"
      ],
      "metadata": {
        "id": "OcwZsm9PzdTL"
      }
    },
    {
      "cell_type": "markdown",
      "source": [
        "#### &#x1f589; Yanıt"
      ],
      "metadata": {
        "id": "4m2L5XlyS5pB"
      }
    },
    {
      "cell_type": "code",
      "source": [],
      "metadata": {
        "id": "ogRjSgXDS5pB"
      },
      "execution_count": null,
      "outputs": []
    },
    {
      "cell_type": "markdown",
      "source": [
        "### &#x3010;15&#x3011;Aralarında boşluk olmak kaydıyla, \"Yaşa!\" kelimesini çarpım operatörü ile, ayrı satırlarda alt alta 5 defa yazdıran Python kodunu yazınız?"
      ],
      "metadata": {
        "id": "XePyRKg7zdVt"
      }
    },
    {
      "cell_type": "markdown",
      "source": [
        "#### &#x1f589; Yanıt"
      ],
      "metadata": {
        "id": "4sgtVZpXS5YP"
      }
    },
    {
      "cell_type": "code",
      "source": [],
      "metadata": {
        "id": "9ovx_uEPS5YQ"
      },
      "execution_count": null,
      "outputs": []
    },
    {
      "cell_type": "markdown",
      "source": [
        "### &#x3010;16&#x3011;Değeri virgülden sonra 15 basamağa kadar 3.141592653589793 olan pi sayısını \"pi sayısının virgülden sonra 7. basamağa kadar değeri XXXX 'dir\" şeklinde metin içerisinde XXXX karakterlerinin olduğu yerde yazdıran Python kodunu yazınız."
      ],
      "metadata": {
        "id": "LiHyLPzQzdYC"
      }
    },
    {
      "cell_type": "markdown",
      "source": [
        "#### &#x1f589; Yanıt"
      ],
      "metadata": {
        "id": "TDYJGanqS47K"
      }
    },
    {
      "cell_type": "code",
      "source": [],
      "metadata": {
        "id": "Fy3p9HWlS47S"
      },
      "execution_count": null,
      "outputs": []
    },
    {
      "cell_type": "markdown",
      "source": [
        "### &#x3010;17&#x3011;Euler sayısının (e sayısı) değeri 2.718281828459045 'dir. Bu sayıyı bilimsel gösterim şekli (notasyon) ile yazdırınız?"
      ],
      "metadata": {
        "id": "pEHx_x6mzdav"
      }
    },
    {
      "cell_type": "markdown",
      "source": [
        "#### &#x1f589; Yanıt"
      ],
      "metadata": {
        "id": "ZwyQJaHqS3ws"
      }
    },
    {
      "cell_type": "code",
      "source": [],
      "metadata": {
        "id": "rMiQlY99S3ws"
      },
      "execution_count": null,
      "outputs": []
    },
    {
      "cell_type": "markdown",
      "source": [
        "### &#x3010;18&#x3011;Aşağıdaki ifadeye göre yazdırılacak metin ne olur?\n",
        "```python\n",
        "\"{:.4f}\".format(123.456789)\n",
        "```"
      ],
      "metadata": {
        "id": "Iz92hkchzddX"
      }
    },
    {
      "cell_type": "markdown",
      "source": [
        "#### &#x1f589; Yanıt"
      ],
      "metadata": {
        "id": "4PUoB_XaS3Lu"
      }
    },
    {
      "cell_type": "code",
      "source": [],
      "metadata": {
        "id": "BZItqS2AS3Lu"
      },
      "execution_count": null,
      "outputs": []
    },
    {
      "cell_type": "markdown",
      "source": [
        "### &#x3010;19&#x3011;123.456789 sayısını 20 karakterlik alanda, virgülden sonra 3 haneye yuvarlanmış metin olarak biçimlendirmek için nasıl bir ifade yazılır?"
      ],
      "metadata": {
        "id": "uU8_Mo_8zuag"
      }
    },
    {
      "cell_type": "markdown",
      "source": [
        "#### &#x1f589; Yanıt"
      ],
      "metadata": {
        "id": "cWhlHI5YS20g"
      }
    },
    {
      "cell_type": "code",
      "source": [],
      "metadata": {
        "id": "7c4QaNyxS20h"
      },
      "execution_count": null,
      "outputs": []
    },
    {
      "cell_type": "markdown",
      "source": [
        "### &#x3010;20&#x3011;Sayısal kodu 112 olan karakteri bir metne dönüştürüp yazdırmak için nasıl bir kod yazılır?"
      ],
      "metadata": {
        "id": "TwGPANlTzuzB"
      }
    },
    {
      "cell_type": "markdown",
      "source": [
        "#### &#x1f589; Yanıt"
      ],
      "metadata": {
        "id": "8gjnWKI_S2WB"
      }
    },
    {
      "cell_type": "code",
      "source": [],
      "metadata": {
        "id": "1BsNVaapS2WM"
      },
      "execution_count": null,
      "outputs": []
    },
    {
      "cell_type": "markdown",
      "source": [
        "### &#x3010;22&#x3011;0.85 sayısını metin içerisinde 85.00% şeklinde göstermek için nasıl bir ifade yazılır?"
      ],
      "metadata": {
        "id": "yMBAy2gVX41P"
      }
    },
    {
      "cell_type": "markdown",
      "source": [
        "#### &#x1f589; Yanıt"
      ],
      "metadata": {
        "id": "_2oXisdTX41i"
      }
    },
    {
      "cell_type": "code",
      "source": [],
      "metadata": {
        "id": "DMXz72o4X41i"
      },
      "execution_count": null,
      "outputs": []
    },
    {
      "cell_type": "markdown",
      "source": [
        "### &#x3010;23&#x3011;Yarıçapı R olan çemberin yarı çapını ve alanını aşağıdaki cümleye benzer bir cümleyle yazdıracak kodu yazınız?\n",
        "\n",
        "```python\n",
        "Yarıçapı RRR olan çemberin alanı AAA dır\n",
        "```\n",
        "RRR sembolleri yerine çemberin yarı çapı virgülden sonra 4 hane ve AAA'nın yerine de virgülden sonra 8 hane olacak şekilde alanını yazdırılsın"
      ],
      "metadata": {
        "id": "RiQz0T5HX5f2"
      }
    },
    {
      "cell_type": "markdown",
      "source": [
        "#### &#x1f589; Yanıt"
      ],
      "metadata": {
        "id": "AxHWamMnX5gC"
      }
    },
    {
      "cell_type": "code",
      "source": [],
      "metadata": {
        "id": "CymT6TFsX5gC"
      },
      "execution_count": null,
      "outputs": []
    },
    {
      "cell_type": "markdown",
      "source": [
        "### &#x3010;24&#x3011;\"merhaba DÜNYA!\" metnindeki kelimelerin baş harflerini büyük yapan kodu yazınız?"
      ],
      "metadata": {
        "id": "fSlCmliOX6em"
      }
    },
    {
      "cell_type": "markdown",
      "source": [
        "#### &#x1f589; Yanıt"
      ],
      "metadata": {
        "id": "VG9Cb5V-X6em"
      }
    },
    {
      "cell_type": "code",
      "source": [],
      "metadata": {
        "id": "oRFLJrICX6en"
      },
      "execution_count": null,
      "outputs": []
    },
    {
      "cell_type": "markdown",
      "source": [
        "### &#x3010;25&#x3011;\"Merhaba Dünya!\" metnini, sola hizalı ve 40 karakterlik alanda olacak şekilde ve geriye kalan boş yerleri '*' sembolü ile dolduran kodu yazınız?"
      ],
      "metadata": {
        "id": "hsZdzY7_X6vm"
      }
    },
    {
      "cell_type": "markdown",
      "source": [
        "#### &#x1f589; Yanıt"
      ],
      "metadata": {
        "id": "ELeRTOowX6vm"
      }
    },
    {
      "cell_type": "code",
      "source": [],
      "metadata": {
        "id": "8N-tMBofX6vm"
      },
      "execution_count": null,
      "outputs": []
    },
    {
      "cell_type": "markdown",
      "source": [
        "### &#x3010;26&#x3011;\"Merhaba Dünya!\" metnini, sağa hizalı ve 40 karakterlik alanda olacak şekilde ve ilk başta boş kalan yerleri '*' sembolü ile dolduran kodu yazınız?"
      ],
      "metadata": {
        "id": "t6aj97ueX7Iu"
      }
    },
    {
      "cell_type": "markdown",
      "source": [
        "#### &#x1f589; Yanıt"
      ],
      "metadata": {
        "id": "3xFLBdJxX7Iv"
      }
    },
    {
      "cell_type": "code",
      "source": [],
      "metadata": {
        "id": "pV8ZgieDX7Iw"
      },
      "execution_count": null,
      "outputs": []
    },
    {
      "cell_type": "markdown",
      "source": [
        "### &#x3010;27&#x3011;\"10;20;30;40;50\" dizgesindeki sayısal değerleri bir liste halinde verecek şekilde, dizgeyi parçalara ayıran kodu yazınız?"
      ],
      "metadata": {
        "id": "SWLdpF3NX7cY"
      }
    },
    {
      "cell_type": "markdown",
      "source": [
        "#### &#x1f589; Yanıt"
      ],
      "metadata": {
        "id": "PTZMxxSwX7cZ"
      }
    },
    {
      "cell_type": "code",
      "source": [],
      "metadata": {
        "id": "g0xEogWeX7ca"
      },
      "execution_count": null,
      "outputs": []
    },
    {
      "cell_type": "markdown",
      "source": [
        "### &#x3010;28&#x3011;\"aaaaa Ali'nin yeni bir kitabı var!!!.\" dizgesinde başta ve sonda bulunan 'a', '.', '!' ve ' ' karakterlerini atarak, sonuçta \"Ali'nin yeni bir kitabı var\" dizgesini veren kodu yazınız?"
      ],
      "metadata": {
        "id": "Gavx--VO3dfT"
      }
    },
    {
      "cell_type": "markdown",
      "source": [
        "#### &#x1f589; Yanıt"
      ],
      "metadata": {
        "id": "dFb0W59aX6DS"
      }
    },
    {
      "cell_type": "code",
      "source": [],
      "metadata": {
        "id": "nbO6-dgpX6DS"
      },
      "execution_count": null,
      "outputs": []
    },
    {
      "cell_type": "markdown",
      "source": [
        "### &#x3010;29&#x3011;\"4.15\" dizgesinin toplam uzunluğu 10 karakter olacak şekilde, ifadenin önüne sıfır (0) koyan kodu yazınız?"
      ],
      "metadata": {
        "id": "tVlPKktO9ISt"
      }
    },
    {
      "cell_type": "markdown",
      "source": [
        "#### &#x1f589; Yanıt"
      ],
      "metadata": {
        "id": "Uwj6PfFK9IS0"
      }
    },
    {
      "cell_type": "code",
      "source": [],
      "metadata": {
        "id": "H6Db1cae9IS0"
      },
      "execution_count": null,
      "outputs": []
    },
    {
      "cell_type": "markdown",
      "source": [
        "### &#x3010;30&#x3011;\"Merhaba Dünya!\" dizgesini 40 karakter alanda ve ortaya hizalı gelecek ve boş kalan yerlere (hem öncesi hem sonrası) '*' sembolü koyan kodu yazınız?"
      ],
      "metadata": {
        "id": "IZ54KA-J9hpM"
      }
    },
    {
      "cell_type": "markdown",
      "source": [
        "#### &#x1f589; Yanıt"
      ],
      "metadata": {
        "id": "ZYH7D8N39hpS"
      }
    },
    {
      "cell_type": "code",
      "source": [],
      "metadata": {
        "id": "W7rxyThP9hpS"
      },
      "execution_count": null,
      "outputs": []
    },
    {
      "cell_type": "markdown",
      "source": [
        "### &#x3010;31&#x3011;Aşağıdaki değişkenlerin değerlerini aynı dizge içerisinde\n",
        "\n",
        "a) f-string kullanarak yazdırmaya (euler sayısı virgülden sonra 2 basamak)\n",
        "\n",
        "b) c tipinde (% sembolü ile) (euler sayısı virgülden sonra 3 basamak)\n",
        "\n",
        "c) string.format() metodu kullanarak (euler sayısı virgülden sonra 5 basamak)yazdırmaya\n",
        "\n",
        "bir örnek veriniz?\n",
        "```python\n",
        "pi = 3.1415\n",
        "euler = 2.7182\n",
        "ad = \"Zeynep\"\n",
        "```"
      ],
      "metadata": {
        "id": "ngjIno3a-Nmk"
      }
    },
    {
      "cell_type": "markdown",
      "source": [
        "#### &#x1f589; Yanıt"
      ],
      "metadata": {
        "id": "Yhu9ydTH-Nmy"
      }
    },
    {
      "cell_type": "code",
      "source": [],
      "metadata": {
        "id": "LJcJCWoc-Nmy"
      },
      "execution_count": null,
      "outputs": []
    },
    {
      "cell_type": "markdown",
      "source": [
        "### &#x3010;32&#x3011;print() fonksiyonunun bir sonraki çağrıda aynı satırdan yazdırmaya devam etmesi için ne yapmak gerekir? Sonrasında, tekrar tanımlandığı gibi davranması için ne yapmak gerekir?"
      ],
      "metadata": {
        "id": "nEYhZdczC4fa"
      }
    },
    {
      "cell_type": "markdown",
      "source": [
        "#### &#x1f589; Yanıt"
      ],
      "metadata": {
        "id": "z3uQ9yLJC4fa"
      }
    },
    {
      "cell_type": "code",
      "source": [],
      "metadata": {
        "id": "5gufVQKYC4fa"
      },
      "execution_count": null,
      "outputs": []
    }
  ]
}
