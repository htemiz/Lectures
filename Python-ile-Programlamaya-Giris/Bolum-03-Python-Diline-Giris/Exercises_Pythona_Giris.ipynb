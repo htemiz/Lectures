{
  "nbformat": 4,
  "nbformat_minor": 0,
  "metadata": {
    "colab": {
      "provenance": [],
      "authorship_tag": "ABX9TyOuOO/KNZX0oYVsF7Uu9PTn",
      "include_colab_link": true
    },
    "kernelspec": {
      "name": "python3",
      "display_name": "Python 3"
    },
    "language_info": {
      "name": "python"
    }
  },
  "cells": [
    {
      "cell_type": "markdown",
      "metadata": {
        "id": "view-in-github",
        "colab_type": "text"
      },
      "source": [
        "<a href=\"https://colab.research.google.com/github/htemiz/Lectures/blob/main/Exercises_Pythona_Giris.ipynb\" target=\"_parent\"><img src=\"https://colab.research.google.com/assets/colab-badge.svg\" alt=\"Open In Colab\"/></a>"
      ]
    },
    {
      "cell_type": "markdown",
      "source": [
        "### &#x3010;01&#x3011;Aşağıdaki ifadelerin sonuna, değişken isimlendirmesi doğru ise \"Doğru\", yanlış ise \"Yanlış\" yorumu ekleyiniz?\n",
        "\n",
        "a) adı. = \"Ayşe\"\n",
        "\n",
        "b) 111.adı =\"Zehra\"\n",
        "\n",
        "c) sayi    = 1.\n",
        "\n",
        "d) 1.sayı  = 1\n",
        "\n",
        "e) harf_2  = \"h\"\n"
      ],
      "metadata": {
        "id": "m4CgE3tvld4N"
      }
    },
    {
      "cell_type": "markdown",
      "source": [
        "#### &#x1f589; Yanıt"
      ],
      "metadata": {
        "id": "a42VxmZG1lTm"
      }
    },
    {
      "cell_type": "code",
      "source": [],
      "metadata": {
        "id": "Zyveg0kI3IF-"
      },
      "execution_count": null,
      "outputs": []
    },
    {
      "cell_type": "markdown",
      "source": [
        "### &#x3010;02&#x3011;Aşağıdaki ifadelerin sonuna, değişken isimlendirmesi doğru ise \"Doğru\", yanlış ise \"Yanlış\" yorumu ekleyiniz?\n",
        "\n",
        "a) harf1   = \"D\"\n",
        "\n",
        "b) _      = 123\n",
        "\n",
        "c) z      = \"a\"\n",
        "\n",
        "d) z_harfi= 3\n",
        "\n",
        "e) 1harf   = \"E\""
      ],
      "metadata": {
        "id": "ZRhz4FFd0CVx"
      }
    },
    {
      "cell_type": "markdown",
      "source": [
        "#### &#x1f589; Yanıt"
      ],
      "metadata": {
        "id": "2wuPn0dcS0TA"
      }
    },
    {
      "cell_type": "code",
      "source": [],
      "metadata": {
        "id": "9udA4jdrS0TJ"
      },
      "execution_count": null,
      "outputs": []
    },
    {
      "cell_type": "markdown",
      "source": [
        "### &#x3010;03&#x3011;Tek satırda ve ardışık şekilde a, b ve c değişkenlerinin üçüne de 2 değerini vererek tanımlayınız. Sonucu ekrana yazdırınız?"
      ],
      "metadata": {
        "id": "I4gT_M9Ck_51"
      }
    },
    {
      "cell_type": "markdown",
      "source": [
        "#### &#x1f589; Yanıt"
      ],
      "metadata": {
        "id": "yZ3rbUHnS0z9"
      }
    },
    {
      "cell_type": "code",
      "source": [],
      "metadata": {
        "id": "LIpJZYFrS0z-"
      },
      "execution_count": null,
      "outputs": []
    },
    {
      "cell_type": "markdown",
      "source": [
        "### &#x3010;04&#x3011;Tek satırda ve ardışık şekilde a, b ve c değişkenlerine 3, 4, 5 değerleri vererek tanımlayınız. Sonucu ekrana yazdırınız."
      ],
      "metadata": {
        "id": "NEB3s33ezc1I"
      }
    },
    {
      "cell_type": "markdown",
      "source": [
        "#### &#x1f589; Yanıt"
      ],
      "metadata": {
        "id": "2QV4nJzfS8Rj"
      }
    },
    {
      "cell_type": "code",
      "source": [],
      "metadata": {
        "id": "GDQdjjAcS8Rj"
      },
      "execution_count": null,
      "outputs": []
    },
    {
      "cell_type": "markdown",
      "source": [
        "### &#x3010;05&#x3011;Aşağıdaki ifadelerin sonuna, değişken isimlendirmesi doğru ise \"Doğru\", yanlış ise \"Yanlış\" yorumu ekleyiniz?\n",
        "\n",
        "a) dfafa  = 83.3245\n",
        "\n",
        "b) a&b    = 452.23\n",
        "\n",
        "c) a ile b= \"a ile b\"\n",
        "\n",
        "d) AAA    = 2.777\n",
        "\n",
        "e) if = \"eğer\""
      ],
      "metadata": {
        "id": "-ArurJZEzc6T"
      }
    },
    {
      "cell_type": "markdown",
      "source": [
        "#### &#x1f589; Yanıt"
      ],
      "metadata": {
        "id": "4rO6YFdJS7_Y"
      }
    },
    {
      "cell_type": "code",
      "source": [],
      "metadata": {
        "id": "NuCl9DWHS7_Z"
      },
      "execution_count": null,
      "outputs": []
    },
    {
      "cell_type": "markdown",
      "source": [
        "### &#x3010;06&#x3011;3+4∗5  ifadesinin sonucu nedir? Hesaplatınız."
      ],
      "metadata": {
        "id": "VWSQ9epkzc9f"
      }
    },
    {
      "cell_type": "markdown",
      "source": [
        "#### &#x1f589; Yanıt"
      ],
      "metadata": {
        "id": "tXcGTUygS7yz"
      }
    },
    {
      "cell_type": "code",
      "source": [],
      "metadata": {
        "id": "WrLSP3rsS7yz"
      },
      "execution_count": null,
      "outputs": []
    },
    {
      "cell_type": "markdown",
      "source": [
        "### &#x3010;07&#x3011;3 + 4 *5 ifadesinde değerleri değiştirmeden, operatör önceliklerini değiştirerek, sonucu 35 yapan düzenlemeyi yazınız."
      ],
      "metadata": {
        "id": "iHXkaK_Kzc_t"
      }
    },
    {
      "cell_type": "markdown",
      "source": [
        "#### &#x1f589; Yanıt"
      ],
      "metadata": {
        "id": "iJPMbQlZS7Wn"
      }
    },
    {
      "cell_type": "code",
      "source": [],
      "metadata": {
        "id": "iMbEjWkWS7Wo"
      },
      "execution_count": null,
      "outputs": []
    },
    {
      "cell_type": "markdown",
      "source": [
        "### &#x3010;08&#x3011;9 * 3 / 6 / 2 * 8 ifadesinin sonucu nedir? Önce sözlü cevaplayınız, ardından Python'a hesaplatınız?"
      ],
      "metadata": {
        "id": "cjgnQRdYzdB5"
      }
    },
    {
      "cell_type": "markdown",
      "source": [
        "#### &#x1f589; Yanıt"
      ],
      "metadata": {
        "id": "lnVOApf-S7NN"
      }
    },
    {
      "cell_type": "code",
      "source": [],
      "metadata": {
        "id": "F9hJ9WUiS7NN"
      },
      "execution_count": null,
      "outputs": []
    },
    {
      "cell_type": "markdown",
      "source": [
        "### &#x3010;09&#x3011;$ A = 2\\pi r^2 -3$   ifadesini Python dilinde yazınız ve r=4 için işlem sonucunu hesaplatınız. Sonucun hangi veri tipinde olduğunu söyleyiniz?"
      ],
      "metadata": {
        "id": "AaSY2yYZzdEX"
      }
    },
    {
      "cell_type": "markdown",
      "source": [
        "#### &#x1f589; Yanıt"
      ],
      "metadata": {
        "id": "Tjlkav0_S7B1"
      }
    },
    {
      "cell_type": "code",
      "source": [],
      "metadata": {
        "id": "5fWHb2TUS7B2"
      },
      "execution_count": null,
      "outputs": []
    },
    {
      "cell_type": "markdown",
      "source": [
        "### &#x3010;10&#x3011;Çoklu satıra yazılması gereken uzun bir yorum için # sembolü kullanmak yerine nasıl bir yol izlersiniz?"
      ],
      "metadata": {
        "id": "-IEXAWaOzdHB"
      }
    },
    {
      "cell_type": "markdown",
      "source": [
        "#### &#x1f589; Yanıt"
      ],
      "metadata": {
        "id": "tMrMSXjyS64_"
      }
    },
    {
      "cell_type": "code",
      "source": [],
      "metadata": {
        "id": "TztiWyK4S65A"
      },
      "execution_count": null,
      "outputs": []
    },
    {
      "cell_type": "markdown",
      "source": [
        "###&#x3010;11&#x3011;$ x = \\frac{-b + \\sqrt{b^2-4ac}}{2a} $ ifadesini Python dilinde yazınız ve a=2, b=4, c=2 için x değerini hesaplatınız."
      ],
      "metadata": {
        "id": "sYZSvd5nzdJL"
      }
    },
    {
      "cell_type": "markdown",
      "source": [
        "#### &#x1f589; Yanıt"
      ],
      "metadata": {
        "id": "xfocYhiiS6ZR"
      }
    },
    {
      "cell_type": "code",
      "source": [],
      "metadata": {
        "id": "zhnTWd95S6ZR"
      },
      "execution_count": null,
      "outputs": []
    },
    {
      "cell_type": "markdown",
      "source": [
        "### &#x3010;12&#x3011;Aşağıdaki ifadelerin sonuçları (True/False) ne olur?\n",
        "```python\n",
        "a)False and True?\n",
        "b)not (False and not not not True)?\n",
        "c)True and True?\n",
        "d)False and False\n",
        "e)True and False\n",
        "```"
      ],
      "metadata": {
        "id": "Jq2waUYTzdN5"
      }
    },
    {
      "cell_type": "markdown",
      "source": [
        "#### &#x1f589; Yanıt"
      ],
      "metadata": {
        "id": "ZZ9H86t1S6NH"
      }
    },
    {
      "cell_type": "code",
      "source": [],
      "metadata": {
        "id": "bw_PQhk_S6NI"
      },
      "execution_count": null,
      "outputs": []
    },
    {
      "cell_type": "code",
      "source": [],
      "metadata": {
        "id": "QtTwzukI-Rn8",
        "outputId": "1f43f6b6-31f3-4ff7-d57a-b207ae69bbbf",
        "colab": {
          "base_uri": "https://localhost:8080/"
        }
      },
      "execution_count": null,
      "outputs": [
        {
          "output_type": "execute_result",
          "data": {
            "text/plain": [
              "False"
            ]
          },
          "metadata": {},
          "execution_count": 6
        }
      ]
    },
    {
      "cell_type": "markdown",
      "source": [
        "### &#x3010;13&#x3011;sayi= 1 ve Sayi =2 için, sayi == Sayi ifadesinin sonucu ne olur?"
      ],
      "metadata": {
        "id": "FNinazTrzdQk"
      }
    },
    {
      "cell_type": "markdown",
      "source": [
        "#### &#x1f589; Yanıt"
      ],
      "metadata": {
        "id": "cQdFzp50S6BA"
      }
    },
    {
      "cell_type": "code",
      "source": [],
      "metadata": {
        "id": "JinA1MM5S6BB"
      },
      "execution_count": null,
      "outputs": []
    },
    {
      "cell_type": "markdown",
      "source": [
        "### &#x3010;14&#x3011;Aşağıdaki ifadelerin sonuçları ne olur?\n",
        "\n",
        "a) 2 == 3\n",
        "\n",
        "b) 2 <= 3\n",
        "\n",
        "c) 2 != -1\n",
        "\n",
        "d) 2 >= -2\n",
        "\n",
        "e) 2 > 2\n",
        "\n",
        "f) 2 < 2\n",
        "\n",
        "g) 2 == 2"
      ],
      "metadata": {
        "id": "OcwZsm9PzdTL"
      }
    },
    {
      "cell_type": "markdown",
      "source": [
        "#### &#x1f589; Yanıt"
      ],
      "metadata": {
        "id": "4m2L5XlyS5pB"
      }
    },
    {
      "cell_type": "code",
      "source": [],
      "metadata": {
        "id": "ogRjSgXDS5pB"
      },
      "execution_count": null,
      "outputs": []
    },
    {
      "cell_type": "markdown",
      "source": [
        "### &#x3010;15&#x3011;Aşağıdaki ifadelerin sonuçları ne olur?\n",
        "\n",
        "a) 'ali gel' == 'ali gel'\n",
        "\n",
        "b) 'ali gel' == 'Ali gel'\n",
        "\n",
        "c) 'ali gel' <= 'Ali gel'\n",
        "\n",
        "d) 'ali gel' >= 'Ali gel'\n",
        "\n",
        "e) 'ali gel' == 'ali git'\n",
        "\n",
        "f) 'ali gel' <= 'ali git'\n",
        "\n",
        "g) 'ali gel' >= 'ali git'"
      ],
      "metadata": {
        "id": "XePyRKg7zdVt"
      }
    },
    {
      "cell_type": "markdown",
      "source": [
        "#### &#x1f589; Yanıt"
      ],
      "metadata": {
        "id": "4sgtVZpXS5YP"
      }
    },
    {
      "cell_type": "code",
      "source": [],
      "metadata": {
        "id": "9ovx_uEPS5YQ"
      },
      "execution_count": null,
      "outputs": []
    },
    {
      "cell_type": "markdown",
      "source": [
        "### &#x3010;16&#x3011; True ve False 'un ```and``` ve ```or``` operatörleriyle yazılabilecek tüm karşılaştırma kombinasyonlarını (```True and True```, ```True or False```, ..., gibi) ```print()``` fonksiyonu ile yazdırınız."
      ],
      "metadata": {
        "id": "LiHyLPzQzdYC"
      }
    },
    {
      "cell_type": "markdown",
      "source": [
        "#### &#x1f589; Yanıt"
      ],
      "metadata": {
        "id": "TDYJGanqS47K"
      }
    },
    {
      "cell_type": "code",
      "source": [],
      "metadata": {
        "id": "Fy3p9HWlS47S"
      },
      "execution_count": null,
      "outputs": []
    },
    {
      "cell_type": "markdown",
      "source": [
        "### &#x3010;17&#x3011;Aşağıdaki işlemlerin sonuçları ne olur?\n",
        "```python\n",
        "(1, 2, 3)              < (1, 2, 4)\n",
        "[1, 2, 3]              < [1, 2, 4]\n",
        "'ABC' < 'C' < 'Pascal' < 'Python'\n",
        "(1, 2, 3, 4)           < (1, 2, 4)\n",
        "(1, 2)                 < (1, 2, -1)\n",
        "(1, 2, 3)             == (1.0, 2.0, 3.0)\n",
        "(1, 2, ('aa', 'ab'))   < (1, 2, ('abc', 'a'), 4)\n",
        "```\n"
      ],
      "metadata": {
        "id": "pEHx_x6mzdav"
      }
    },
    {
      "cell_type": "markdown",
      "source": [
        "#### &#x1f589; Yanıt"
      ],
      "metadata": {
        "id": "ZwyQJaHqS3ws"
      }
    },
    {
      "cell_type": "code",
      "source": [],
      "metadata": {
        "id": "rMiQlY99S3ws"
      },
      "execution_count": null,
      "outputs": []
    }
  ]
}
