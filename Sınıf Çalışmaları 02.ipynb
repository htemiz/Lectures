{
  "nbformat": 4,
  "nbformat_minor": 0,
  "metadata": {
    "colab": {
      "provenance": [],
      "toc_visible": true,
      "authorship_tag": "ABX9TyMzQsB5z29YbT0rQG/RLkHG",
      "include_colab_link": true
    },
    "kernelspec": {
      "name": "python3",
      "display_name": "Python 3"
    },
    "language_info": {
      "name": "python"
    }
  },
  "cells": [
    {
      "cell_type": "markdown",
      "metadata": {
        "id": "view-in-github",
        "colab_type": "text"
      },
      "source": [
        "<a href=\"https://colab.research.google.com/github/htemiz/Lectures/blob/main/S%C4%B1n%C4%B1f%20%C3%87al%C4%B1%C5%9Fmalar%C4%B1%2002.ipynb\" target=\"_parent\"><img src=\"https://colab.research.google.com/assets/colab-badge.svg\" alt=\"Open In Colab\"/></a>"
      ]
    },
    {
      "cell_type": "code",
      "execution_count": null,
      "metadata": {
        "id": "JhOiDZCuSEdO"
      },
      "outputs": [],
      "source": []
    },
    {
      "cell_type": "markdown",
      "source": [
        "#### Soru\n",
        "\n",
        "Fiyat isimli bir değişkenimiz olsun.\n",
        "\n",
        "Fiyat 50 ve üzeri ise ‘çok pahalı’ ,\n",
        "\n",
        "30 (dahil) ile 50 (hariç) arasında ise ‘fiyat normal’;\n",
        "\n",
        "0 (hariç) ile 30 (hariç) arasında ise ‘fiyat çok düşük’ ve\n",
        "\n",
        "Fiyat bu aralıkların dışında bir değer ise ‘Hatalı bir fiyat değeri’\n",
        "\n",
        "metnini ekrana yazdıran fonksiyonu yazınız?"
      ],
      "metadata": {
        "id": "0MpC07TH8nU3"
      }
    },
    {
      "cell_type": "code",
      "source": [
        "def ekrana_yaz(Fiyat):\n",
        "  if Fiyat <= 0 :\n",
        "    print('Hatalı bir fiyat değeri')\n",
        "\n",
        "  return\n",
        "\n",
        "  if Fiyat > 0 and Fiyat < 30:\n",
        "    print('fiyat çok düşük')\n",
        "\n",
        "  elif Fiyat >= 30 and Fiyat  < 50:\n",
        "    print('fiyat normal')\n",
        "\n",
        "  elif Fiyat >= 50 :\n",
        "    print('Çok pahalı')\n",
        "\n"
      ],
      "metadata": {
        "id": "E9HAW79zSIBu"
      },
      "execution_count": null,
      "outputs": []
    },
    {
      "cell_type": "markdown",
      "source": [],
      "metadata": {
        "id": "CNzxBVS8SMaN"
      }
    },
    {
      "cell_type": "markdown",
      "source": [],
      "metadata": {
        "id": "R_FC3BhNSMc9"
      }
    },
    {
      "cell_type": "markdown",
      "source": [],
      "metadata": {
        "id": "LHPkFKXRSMfl"
      }
    },
    {
      "cell_type": "markdown",
      "source": [],
      "metadata": {
        "id": "xxtSZFL1SMiV"
      }
    },
    {
      "cell_type": "markdown",
      "source": [],
      "metadata": {
        "id": "hEErDPhbSMk-"
      }
    },
    {
      "cell_type": "markdown",
      "source": [],
      "metadata": {
        "id": "amgXGObHSMnW"
      }
    },
    {
      "cell_type": "markdown",
      "source": [
        "# iki sayının toplamını veren fonksiyon.\n",
        "# şartlar:\n",
        "  fonksiyon adı = Topla\n",
        "\n",
        "  bir sayının varsayılan değeri =10\n",
        "  \n",
        "  sonuç ekrana yazdırılacak\n",
        "\n",
        "  fonksiyon sonucu geri döndürecek"
      ],
      "metadata": {
        "id": "6BuwVIu5SMpt"
      }
    },
    {
      "cell_type": "code",
      "source": [
        "def Topla(x, y=10 ):\n",
        "  print(x, \" ile \", y, \" sayısının toplamı: \", x + y)\n",
        "  return x + y\n",
        "\n",
        "Topla(11,)"
      ],
      "metadata": {
        "colab": {
          "base_uri": "https://localhost:8080/"
        },
        "id": "GbFlXGSESNDt",
        "outputId": "5063a90a-6542-4bee-bbf5-668f64279af1"
      },
      "execution_count": null,
      "outputs": [
        {
          "output_type": "stream",
          "name": "stdout",
          "text": [
            "11  ile  10  sayısının toplamı:  21\n"
          ]
        },
        {
          "output_type": "execute_result",
          "data": {
            "text/plain": [
              "21"
            ]
          },
          "metadata": {},
          "execution_count": 3
        }
      ]
    },
    {
      "cell_type": "markdown",
      "source": [
        "# Üçgenin alanını veren bir fonksiyon"
      ],
      "metadata": {
        "id": "cIbZhdRsSIGl"
      }
    },
    {
      "cell_type": "code",
      "source": [
        "def ucgen_alani(taban, yukseklik):\n",
        "\n",
        "  print(\"fonksiyon içindeyiz...\\ntaban değişkeninin tipi: \", type(taban), \"\\tyukseklik değişkeninin tipi: \", type(yukseklik))\n",
        "\n",
        "  alan = taban * yukseklik / 2\n",
        "  print('Üçgenin alanı=', str(alan))\n",
        "  return alan\n",
        "\n",
        "t = input('taban değerini veriniz:')\n",
        "y = input('yukseklik değerini veriniz:')\n",
        "\n",
        "t = float(t)\n",
        "y = float(y)\n",
        "\n",
        "print(\"t değişkeninin tipi: \", type(t), \"\\ty değişkeninin tipi: \", type(y))\n",
        "\n",
        "ucgen_alani(yukseklik=y, taban=t)"
      ],
      "metadata": {
        "colab": {
          "base_uri": "https://localhost:8080/"
        },
        "id": "T9UO8DBNUpoL",
        "outputId": "17e1265e-2eb7-49ec-8d17-e96e0bce2085"
      },
      "execution_count": null,
      "outputs": [
        {
          "output_type": "stream",
          "name": "stdout",
          "text": [
            "taban değerini veriniz:4\n",
            "yukseklik değerini veriniz:5\n",
            "t değişkeninin tipi:  <class 'float'> \ty değişkeninin tipi:  <class 'float'>\n",
            "fonksiyon içindeyiz...\n",
            "taban değişkeninin tipi:  <class 'float'> \tyukseklik değişkeninin tipi:  <class 'float'>\n",
            "Üçgenin alanı= 10.0\n"
          ]
        },
        {
          "output_type": "execute_result",
          "data": {
            "text/plain": [
              "10.0"
            ]
          },
          "metadata": {},
          "execution_count": 19
        }
      ]
    },
    {
      "cell_type": "markdown",
      "source": [],
      "metadata": {
        "id": "i3kkz3Ul4X7h"
      }
    },
    {
      "cell_type": "code",
      "source": [],
      "metadata": {
        "id": "X1jGOPe74YAo"
      },
      "execution_count": null,
      "outputs": []
    },
    {
      "cell_type": "markdown",
      "source": [
        "# $ax^2 + y^3 + 8xy^2 - 8bx$ denklemini hesaplayan fonksiyon\n"
      ],
      "metadata": {
        "id": "Zj9v_mCgSdUt"
      }
    },
    {
      "cell_type": "code",
      "source": [
        "def axyxy28bx(a, b, x, y):\n",
        "  return a*x**2 + y**3 + 8*x*y**2 - 8*b*x\n",
        "\n",
        "\n",
        "a, b, x, y  = 11, -11, 34, -5\n",
        "\n",
        "axyxy28bx( x, y, a, b,) # = (4, 5, 1, 3)\n",
        "\n",
        "\n"
      ],
      "metadata": {
        "colab": {
          "base_uri": "https://localhost:8080/",
          "height": 106
        },
        "id": "xIukc7kjhjHU",
        "outputId": "df9f2562-7661-4ad7-8845-8affe7b61ac2"
      },
      "execution_count": null,
      "outputs": [
        {
          "output_type": "error",
          "ename": "IndentationError",
          "evalue": "unindent does not match any outer indentation level (<tokenize>, line 5)",
          "traceback": [
            "\u001b[0;36m  File \u001b[0;32m\"<tokenize>\"\u001b[0;36m, line \u001b[0;32m5\u001b[0m\n\u001b[0;31m    a, b, x, y  = 1, 3, 4, 5\u001b[0m\n\u001b[0m    ^\u001b[0m\n\u001b[0;31mIndentationError\u001b[0m\u001b[0;31m:\u001b[0m unindent does not match any outer indentation level\n"
          ]
        }
      ]
    },
    {
      "cell_type": "markdown",
      "source": [
        "\n",
        "\n",
        "\n",
        "\n",
        "\n",
        "\n",
        "\n"
      ],
      "metadata": {
        "id": "jXBrVVSwSdXV"
      }
    },
    {
      "cell_type": "markdown",
      "source": [],
      "metadata": {
        "id": "ftAdppghSdZ9"
      }
    },
    {
      "cell_type": "code",
      "source": [
        "def tek_cift(sayi):\n",
        "  return sayi % 2 == 0\n",
        "\n",
        "tek_cift(3)"
      ],
      "metadata": {
        "colab": {
          "base_uri": "https://localhost:8080/"
        },
        "id": "_cKRYB4XnYc-",
        "outputId": "569c8074-17ce-4be0-86af-128656f38fb0"
      },
      "execution_count": null,
      "outputs": [
        {
          "output_type": "execute_result",
          "data": {
            "text/plain": [
              "False"
            ]
          },
          "metadata": {},
          "execution_count": 11
        }
      ]
    },
    {
      "cell_type": "code",
      "source": [
        "# verilen sayının tek/çift olduğunu ekrana\n",
        "# yazan fonksiyon\n",
        "def tek_cift(sayi):\n",
        "\n",
        "  if sayi % 2 == 0:\n",
        "    print(\"Sayı Çift\")\n",
        "  else:\n",
        "    print(\"Sayı Tek\")\n",
        "\n",
        "  return sayi % 2 == 0\n",
        "\n",
        "tek_cift(5)"
      ],
      "metadata": {
        "colab": {
          "base_uri": "https://localhost:8080/"
        },
        "id": "uWgUjXinqje5",
        "outputId": "b64f61ec-83cd-4e27-a235-52314cea5cf7"
      },
      "execution_count": null,
      "outputs": [
        {
          "output_type": "stream",
          "name": "stdout",
          "text": [
            "Sayı Tek\n"
          ]
        },
        {
          "output_type": "execute_result",
          "data": {
            "text/plain": [
              "False"
            ]
          },
          "metadata": {},
          "execution_count": 13
        }
      ]
    },
    {
      "cell_type": "markdown",
      "source": [],
      "metadata": {
        "id": "bd8mK4LAd308"
      }
    },
    {
      "cell_type": "markdown",
      "source": [],
      "metadata": {
        "id": "pOVwNMSBd36S"
      }
    },
    {
      "cell_type": "markdown",
      "source": [],
      "metadata": {
        "id": "t8u3CliMd387"
      }
    },
    {
      "cell_type": "markdown",
      "source": [],
      "metadata": {
        "id": "UjBUe_aESKCV"
      }
    },
    {
      "cell_type": "markdown",
      "source": [
        "# $ax^2 + y^3 + 8xy^2 - 8bx$ denklemini hesaplayan fonksiyon\n",
        "\n",
        " 1. fonksiyon adı = axyxy28bx olacak\n",
        " 2. katsayılar ve denklemdeki değişkenler kullanıcıdan alınacak\n",
        " 3. y verilmezse 9.9 olacak\n",
        " 4. fonksiyondan önce VE fonksiyon içinde katsayıların veri tipleri ekranda yazdırılacak\n",
        " 5. fonksiyon, \"ax^2 + y^3 + 8xy^2 - 8bx\" denkleminin < verilen katsayılar yazılacak> katsayıları için hesaplanan değer:<hesaplana değer> şeklinde bir metin ekrana yazacak\n",
        " 6. Fonksiyon hesaplama sonucunu geri döndürerek sonlanacak\n",
        "\n"
      ],
      "metadata": {
        "id": "91QrCrdXSFQm"
      }
    },
    {
      "cell_type": "code",
      "source": [
        "def axyxy28bx(a,b,x,y=9.9):\n",
        "\n",
        "  hesap = a*x**2 + y**3 + 8*x*y**2 - 8*b*x\n",
        "  print(' Fonksiyon içerisindeyiz ',  )\n",
        "  print(\"a'nın veri tipi :\" + str(type(a)))\n",
        "  print(\"b'nin veri tipi :\" + str(type(b)))\n",
        "  print(\"x'in veri tipi :\" + str(type(x)))\n",
        "  print(\"y'nin veri tipi :\" + str(type(y)))\n",
        "\n",
        "  print(\"ax^2 + y^3 + 8xy^2 - 8bx denkleminin a=\",a, \", b=\", b,\n",
        "    \", x=\", x, \", y=\", y, \" katsayıları için sonuç:\", hesap)\n",
        "\n",
        "  return hesap\n",
        "\n",
        "print(' Fonksiyon dışındayız ',  )\n",
        "\n",
        "k = float(input('a değeri: '))\n",
        "l = float(input('b değeri: '))\n",
        "m = float(input('x değeri: '))\n",
        "n = float(input('y değeri: '))\n",
        "\n",
        "print(\"a'nın veri tipi :\" + str(type(k)))\n",
        "print(\"b'nin veri tipi :\" + str(type(l)))\n",
        "print(\"x'in veri tipi :\" + str(type(m)))\n",
        "print(\"y'nin veri tipi :\" + str(type(n)))\n",
        "\n",
        "print(' Fonksiyon çağırılıyor ',  )\n",
        "axyxy28bx(k, l, m, )\n",
        "\n",
        "print(' Fonksiyon dışındayız ',  )"
      ],
      "metadata": {
        "colab": {
          "base_uri": "https://localhost:8080/"
        },
        "id": "sxTJuwPJmF1s",
        "outputId": "1910d7cc-3404-4415-e26b-c9760d050e8a"
      },
      "execution_count": null,
      "outputs": [
        {
          "output_type": "stream",
          "name": "stdout",
          "text": [
            " Fonksiyon dışındayız \n",
            "a değeri: 3\n",
            "b değeri: 4\n",
            "x değeri: 5\n",
            "y değeri: 6\n",
            "a'nın veri tipi :<class 'float'>\n",
            "b'nin veri tipi :<class 'float'>\n",
            "x'in veri tipi :<class 'float'>\n",
            "y'nin veri tipi :<class 'float'>\n",
            " Fonksiyon çağırılıyor \n",
            " Fonksiyon içerisindeyiz \n",
            "a'nın veri tipi :<class 'float'>\n",
            "b'nin veri tipi :<class 'float'>\n",
            "x'in veri tipi :<class 'float'>\n",
            "y'nin veri tipi :<class 'float'>\n",
            "ax^2 + y^3 + 8xy^2 - 8bx denkleminin a= 3.0 , b= 4.0 , x= 5.0 , y= 9.9  katsayıları için sonuç: 4805.6990000000005\n",
            " Fonksiyon dışındayız \n"
          ]
        }
      ]
    },
    {
      "cell_type": "code",
      "source": [
        "def bir_fonksiyon(a, b, *coklu_parametre, **sozluk_paramtre):\n",
        "\n",
        "    print(\"Çoklu Alınan Parametreler:\\n\", \"\\t\", coklu_parametre)\n",
        "\n",
        "    print(\"Sözlük ile Alınan Parametreler:\\n\", \"\\t\", sozluk_paramtre)\n",
        "\n",
        "    print(sozluk_paramtre['f'])\n",
        "\n",
        "    print(coklu_parametre[1])\n",
        "\n",
        "\n",
        "bir_fonksiyon(1,2,3,4,5,6,7,8,9,\"on\",\"onbir\", e=\"oniki\", f=13, d=\"ondört\")"
      ],
      "metadata": {
        "id": "WuFbnHKzar1H",
        "colab": {
          "base_uri": "https://localhost:8080/"
        },
        "outputId": "68781585-6ab6-4cd1-c67b-355f0d49122e"
      },
      "execution_count": null,
      "outputs": [
        {
          "output_type": "stream",
          "name": "stdout",
          "text": [
            "Çoklu Alınan Parametreler:\n",
            " \t (3, 4, 5, 6, 7, 8, 9, 'on', 'onbir')\n",
            "Sözlük ile Alınan Parametreler:\n",
            " \t {'e': 'oniki', 'f': 13, 'd': 'ondört'}\n",
            "13\n",
            "4\n"
          ]
        }
      ]
    },
    {
      "cell_type": "code",
      "source": [
        "isim = \"bir isim\"\n",
        "\n",
        "if 4==4 and len(isim) > 10 or False :\n",
        "  print(\"program buradan devam eder\")\n",
        "  print(\"program buradan devam eder\")\n",
        "  print(\"program buradan devam eder\")\n",
        "  print(\"program buradan devam eder\")\n",
        "  print(\"program buradan devam eder\")\n",
        "\n",
        "else:\n",
        "  print('koşul doğru olmadığında program buradan devam eder')\n",
        "  print('koşul doğru olmadığında program buradan devam eder')\n",
        "  print('koşul doğru olmadığında program buradan devam eder')\n",
        "\n",
        "print('Program if else mekanizmasından sonra bu satırdan devam eder')"
      ],
      "metadata": {
        "colab": {
          "base_uri": "https://localhost:8080/"
        },
        "id": "QxdETVh9vGV3",
        "outputId": "d9e7c255-d856-405d-bc51-2d09729e61a8"
      },
      "execution_count": null,
      "outputs": [
        {
          "output_type": "stream",
          "name": "stdout",
          "text": [
            "koşul doğru olmadığında program buradan devam eder\n",
            "koşul doğru olmadığında program buradan devam eder\n",
            "koşul doğru olmadığında program buradan devam eder\n",
            "Program if else mekanizmasından sonra bu satırdan devam eder\n"
          ]
        }
      ]
    },
    {
      "cell_type": "code",
      "source": [
        "def kucuk_buyuk(k ,l):\n",
        "  \"\"\"\n",
        "  params:\n",
        "    k : k şudur. veri tipi\n",
        "    l : l şudur, şu işe yarar\n",
        "  return:\n",
        "  \"\"\"\n",
        "\n",
        "  if k > l:\n",
        "    print(k, ' ', l, ' den büyüktür' )\n",
        "\n",
        "  if k>l:\n",
        "    print(k, ' ', l, ' den büyüktür' )\n",
        "  elif k==l:\n",
        "    print(k, ' sayısı ile ', l, ' sayısı birbirine eşittir.' )\n",
        "  else:\n",
        "    print(l, ' ', k, ' den büyüktür' )\n",
        "\n",
        "kucuk_buyuk(143,23)\n",
        "\n",
        "print('Program daima bu satırdan devam eder')\n",
        "\n"
      ],
      "metadata": {
        "colab": {
          "base_uri": "https://localhost:8080/"
        },
        "id": "lPqGc4021pVd",
        "outputId": "5b251410-70ee-4e12-d373-022efcbe0be2"
      },
      "execution_count": null,
      "outputs": [
        {
          "output_type": "stream",
          "name": "stdout",
          "text": [
            "143   23  den büyüktür\n",
            "143   23  den büyüktür\n",
            "Program daima bu satırdan devam eder\n"
          ]
        }
      ]
    },
    {
      "cell_type": "code",
      "source": [],
      "metadata": {
        "id": "ZaLZ8VEZ7PJo"
      },
      "execution_count": null,
      "outputs": []
    },
    {
      "cell_type": "markdown",
      "source": [
        "# Verilen üç metni birleştirip geri döndüren bir fonksiyon yaz"
      ],
      "metadata": {
        "id": "x_Twa7YN7Pv1"
      }
    },
    {
      "cell_type": "code",
      "source": [
        "def birlestir(u ,v ,y):\n",
        "  return u + \" \" + v + \" \" + y\n",
        "\n",
        "\n",
        "birlestir(\"bir\", \"iki\", \"üç\")\n"
      ],
      "metadata": {
        "colab": {
          "base_uri": "https://localhost:8080/",
          "height": 36
        },
        "id": "Qq1HUlR49iFj",
        "outputId": "79b2e295-58d2-46ac-fac3-1bcd579d9799"
      },
      "execution_count": null,
      "outputs": [
        {
          "output_type": "execute_result",
          "data": {
            "text/plain": [
              "'bir iki üç'"
            ],
            "application/vnd.google.colaboratory.intrinsic+json": {
              "type": "string"
            }
          },
          "metadata": {},
          "execution_count": 22
        }
      ]
    },
    {
      "cell_type": "code",
      "source": [
        "baslangic = 1\n",
        "bitis = 100 # dahil\n",
        "adim = 1\n",
        "\n",
        "for sayi in range(baslangic, bitis +1, adim ): # 100 dahil\n",
        "  print(sayi**2)\n"
      ],
      "metadata": {
        "colab": {
          "base_uri": "https://localhost:8080/",
          "height": 227
        },
        "id": "Y2MAqkntUw0A",
        "outputId": "7ac0542c-be71-4a00-9f12-3ee600df4c2c"
      },
      "execution_count": null,
      "outputs": [
        {
          "output_type": "error",
          "ename": "TypeError",
          "evalue": "ignored",
          "traceback": [
            "\u001b[0;31m---------------------------------------------------------------------------\u001b[0m",
            "\u001b[0;31mTypeError\u001b[0m                                 Traceback (most recent call last)",
            "\u001b[0;32m<ipython-input-6-13ef6437684b>\u001b[0m in \u001b[0;36m<cell line: 5>\u001b[0;34m()\u001b[0m\n\u001b[1;32m      3\u001b[0m \u001b[0madim\u001b[0m \u001b[0;34m=\u001b[0m \u001b[0;36m1.0\u001b[0m\u001b[0;34m\u001b[0m\u001b[0;34m\u001b[0m\u001b[0m\n\u001b[1;32m      4\u001b[0m \u001b[0;34m\u001b[0m\u001b[0m\n\u001b[0;32m----> 5\u001b[0;31m \u001b[0;32mfor\u001b[0m \u001b[0msayi\u001b[0m \u001b[0;32min\u001b[0m \u001b[0mrange\u001b[0m\u001b[0;34m(\u001b[0m\u001b[0mbaslangic\u001b[0m\u001b[0;34m,\u001b[0m \u001b[0mbitis\u001b[0m \u001b[0;34m+\u001b[0m\u001b[0;36m1\u001b[0m\u001b[0;34m,\u001b[0m \u001b[0madim\u001b[0m \u001b[0;34m)\u001b[0m\u001b[0;34m:\u001b[0m \u001b[0;31m# 100 dahil\u001b[0m\u001b[0;34m\u001b[0m\u001b[0;34m\u001b[0m\u001b[0m\n\u001b[0m\u001b[1;32m      6\u001b[0m   \u001b[0mprint\u001b[0m\u001b[0;34m(\u001b[0m\u001b[0msayi\u001b[0m\u001b[0;34m**\u001b[0m\u001b[0;36m2\u001b[0m\u001b[0;34m)\u001b[0m\u001b[0;34m\u001b[0m\u001b[0;34m\u001b[0m\u001b[0m\n",
            "\u001b[0;31mTypeError\u001b[0m: 'float' object cannot be interpreted as an integer"
          ]
        }
      ]
    },
    {
      "cell_type": "code",
      "source": [
        "# İki string'i birleştiren bir fonksiyon\n",
        "def string_birlestir(str1, str2):\n",
        "  yeni_metin = str1 + str2\n",
        "  return yeni_metin\n",
        "\n",
        "s = string_birlestir(\"aa\" , \"bbb\")"
      ],
      "metadata": {
        "id": "2fWBabqrWnXz"
      },
      "execution_count": null,
      "outputs": []
    },
    {
      "cell_type": "code",
      "source": [],
      "metadata": {
        "id": "DE6-7DslaU_i"
      },
      "execution_count": null,
      "outputs": []
    },
    {
      "cell_type": "code",
      "source": [],
      "metadata": {
        "colab": {
          "base_uri": "https://localhost:8080/",
          "height": 141
        },
        "id": "3mUKbEsnZ7Bm",
        "outputId": "93de72d6-4590-4d0f-cbc9-3b870cc2cc33"
      },
      "execution_count": null,
      "outputs": [
        {
          "output_type": "error",
          "ename": "NameError",
          "evalue": "name 'yeni_metin' is not defined",
          "traceback": [
            "\u001b[0;31m---------------------------------------------------------------------------\u001b[0m",
            "\u001b[0;31mNameError\u001b[0m                                 Traceback (most recent call last)",
            "\u001b[0;32m<ipython-input-6-04ea18c9b22f>\u001b[0m in \u001b[0;36m<cell line: 1>\u001b[0;34m()\u001b[0m\n\u001b[0;32m----> 1\u001b[0;31m \u001b[0myeni_metin\u001b[0m\u001b[0;34m\u001b[0m\u001b[0;34m\u001b[0m\u001b[0m\n\u001b[0m",
            "\u001b[0;31mNameError\u001b[0m: name 'yeni_metin' is not defined"
          ]
        }
      ]
    },
    {
      "cell_type": "code",
      "source": [],
      "metadata": {
        "id": "tBcbc14uWnab"
      },
      "execution_count": null,
      "outputs": []
    },
    {
      "cell_type": "code",
      "source": [],
      "metadata": {
        "id": "aqTmuMnAWnc1"
      },
      "execution_count": null,
      "outputs": []
    },
    {
      "cell_type": "code",
      "source": [],
      "metadata": {
        "id": "gDVuj9b_WnhZ"
      },
      "execution_count": null,
      "outputs": []
    },
    {
      "cell_type": "code",
      "source": [],
      "metadata": {
        "id": "x2lt1XHBWnjs"
      },
      "execution_count": null,
      "outputs": []
    },
    {
      "cell_type": "markdown",
      "source": [
        "2x$^{2}$ + 5x - 64 fonksiyonunu 1-100 (dahil) aralığı için hesaplayan bir fonksiyon yazınız. Fonksiyon hesapladığı tüm değerleri döndürsün"
      ],
      "metadata": {
        "id": "2MFtLSQraxVT"
      }
    },
    {
      "cell_type": "code",
      "source": [
        "def iki_x_kare_arti_5_x_eksi_64(y):\n",
        "    return 2*y**2 + 5*y - 64\n",
        "\n",
        "def denklem():\n",
        "  sonuclar =list()\n",
        "\n",
        "  for x in range(1,100 +1,1):\n",
        "    sonuc = iki_x_kare_arti_5_x_eksi_64(x)\n",
        "\n",
        "    sonuclar.append()\n",
        "\n",
        "  return sonuclar\n",
        "\n",
        "s = denklem()\n"
      ],
      "metadata": {
        "id": "kpzKr5fGbDpr"
      },
      "execution_count": null,
      "outputs": []
    },
    {
      "cell_type": "code",
      "source": [
        "liste = []\n",
        "\n",
        "print('başlangıçta listenin elemanları:')\n",
        "print(liste)\n",
        "\n",
        "liste.append('bir')\n",
        "print('append ardından listenin elemanları:')\n",
        "\n",
        "print(liste)\n",
        "\n",
        "\n",
        "liste.append('iki')\n",
        "print('İkinci append ardından listenin elemanları:')\n",
        "\n",
        "print(liste)"
      ],
      "metadata": {
        "colab": {
          "base_uri": "https://localhost:8080/"
        },
        "id": "ycRSEkWFl1Xg",
        "outputId": "7ba687fb-602b-4545-eb7f-5304708f315c"
      },
      "execution_count": null,
      "outputs": [
        {
          "output_type": "stream",
          "name": "stdout",
          "text": [
            "başlangıçta listenin elemanları:\n",
            "[]\n",
            "append ardından listenin elemanları:\n",
            "['bir']\n",
            "İkinci append ardından listenin elemanları:\n",
            "['bir', 'iki']\n"
          ]
        }
      ]
    },
    {
      "cell_type": "code",
      "source": [
        "def denklem():\n",
        "  sonuclar =list()\n",
        "\n",
        "  for x in range(1,100 +1,1):\n",
        "    sonuclar.append(2*x**2 + 5*x - 64)\n",
        "\n",
        "  return sonuclar\n",
        "\n",
        "s = denklem()\n"
      ],
      "metadata": {
        "id": "-OHpKpTEjg-d"
      },
      "execution_count": null,
      "outputs": []
    },
    {
      "cell_type": "markdown",
      "source": [
        "#### Soru\n",
        "1000'e kadar 7'nin katlarını hesaplayan ve bu sayıların ortalamasını veren programı bu yazınız?"
      ],
      "metadata": {
        "id": "8gjow-63cvWV"
      }
    },
    {
      "cell_type": "code",
      "source": [],
      "metadata": {
        "id": "VtJ_5B87cy6_"
      },
      "execution_count": null,
      "outputs": []
    },
    {
      "cell_type": "markdown",
      "source": [
        "'elma', 'armut', 'karpuz', 'mandalina' meyvelerini bir tuple içerisinde tanımlayınız.\n",
        "\n",
        "'pırasa', 'ıspanak', 'brokoli' sebzelerini de diğer bir listede olacak şekilde tanımlayınız.\n",
        "\n",
        "Ardından, iki dizideki elemanları\n",
        "\n",
        "(<meyvenin bir elemanı>, <sebzenin elemanı>)\n",
        "\n",
        "şeklinde, tüm elemanlar kartezyen çarpım olacak şekilde bir liste içerisine kayıt ediniz? Örnek;\n",
        "\n",
        "('elma', 'pırasa')\n",
        "\n",
        "('elma', 'brokoli')"
      ],
      "metadata": {
        "id": "q_zQKCnrczgk"
      }
    },
    {
      "cell_type": "code",
      "source": [
        "meyveler = ('elma', 'armut', 'karpuz', 'mandalina')\n",
        "sebzeler = ('pırasa', 'ıspanak', 'brokoli')\n",
        "\n",
        "konteyner = list()\n",
        "\n",
        "for meyve in meyveler:\n",
        "  for sebze in sebzeler:\n",
        "    konteyner.append( {meyve: sebze} )\n",
        "\n",
        "print(konteyner[3]['elma'])"
      ],
      "metadata": {
        "colab": {
          "base_uri": "https://localhost:8080/",
          "height": 210
        },
        "id": "gaewlVQFc7U2",
        "outputId": "ab30541e-9098-46ca-a3bf-f35d359c7d2e"
      },
      "execution_count": null,
      "outputs": [
        {
          "output_type": "error",
          "ename": "KeyError",
          "evalue": "ignored",
          "traceback": [
            "\u001b[0;31m---------------------------------------------------------------------------\u001b[0m",
            "\u001b[0;31mKeyError\u001b[0m                                  Traceback (most recent call last)",
            "\u001b[0;32m<ipython-input-27-96175ffb8a0e>\u001b[0m in \u001b[0;36m<cell line: 10>\u001b[0;34m()\u001b[0m\n\u001b[1;32m      8\u001b[0m     \u001b[0mkonteyner\u001b[0m\u001b[0;34m.\u001b[0m\u001b[0mappend\u001b[0m\u001b[0;34m(\u001b[0m \u001b[0;34m{\u001b[0m\u001b[0mmeyve\u001b[0m\u001b[0;34m:\u001b[0m \u001b[0msebze\u001b[0m\u001b[0;34m}\u001b[0m \u001b[0;34m)\u001b[0m\u001b[0;34m\u001b[0m\u001b[0;34m\u001b[0m\u001b[0m\n\u001b[1;32m      9\u001b[0m \u001b[0;34m\u001b[0m\u001b[0m\n\u001b[0;32m---> 10\u001b[0;31m \u001b[0mprint\u001b[0m\u001b[0;34m(\u001b[0m\u001b[0mkonteyner\u001b[0m\u001b[0;34m[\u001b[0m\u001b[0;36m3\u001b[0m\u001b[0;34m]\u001b[0m\u001b[0;34m[\u001b[0m\u001b[0;34m'elma'\u001b[0m\u001b[0;34m]\u001b[0m\u001b[0;34m)\u001b[0m\u001b[0;34m\u001b[0m\u001b[0;34m\u001b[0m\u001b[0m\n\u001b[0m",
            "\u001b[0;31mKeyError\u001b[0m: 'elma'"
          ]
        }
      ]
    },
    {
      "cell_type": "code",
      "source": [
        "konteyner[1]['elma']"
      ],
      "metadata": {
        "colab": {
          "base_uri": "https://localhost:8080/",
          "height": 36
        },
        "id": "A_b56_futlh6",
        "outputId": "de72eeda-fedd-4e75-9524-080c86fae77e"
      },
      "execution_count": null,
      "outputs": [
        {
          "output_type": "execute_result",
          "data": {
            "text/plain": [
              "'ıspanak'"
            ],
            "application/vnd.google.colaboratory.intrinsic+json": {
              "type": "string"
            }
          },
          "metadata": {},
          "execution_count": 24
        }
      ]
    },
    {
      "cell_type": "code",
      "source": [
        "sozluk = {1:2}\n",
        "\n",
        "sozluk[2]\n"
      ],
      "metadata": {
        "colab": {
          "base_uri": "https://localhost:8080/",
          "height": 210
        },
        "id": "Lq6eCgOPunPC",
        "outputId": "911cace8-a7a9-41d3-fd93-86e88fd2485f"
      },
      "execution_count": null,
      "outputs": [
        {
          "output_type": "error",
          "ename": "KeyError",
          "evalue": "ignored",
          "traceback": [
            "\u001b[0;31m---------------------------------------------------------------------------\u001b[0m",
            "\u001b[0;31mKeyError\u001b[0m                                  Traceback (most recent call last)",
            "\u001b[0;32m<ipython-input-30-421d258e712c>\u001b[0m in \u001b[0;36m<cell line: 3>\u001b[0;34m()\u001b[0m\n\u001b[1;32m      1\u001b[0m \u001b[0msozluk\u001b[0m \u001b[0;34m=\u001b[0m \u001b[0;34m{\u001b[0m\u001b[0;36m1\u001b[0m\u001b[0;34m:\u001b[0m\u001b[0;36m2\u001b[0m\u001b[0;34m}\u001b[0m\u001b[0;34m\u001b[0m\u001b[0;34m\u001b[0m\u001b[0m\n\u001b[1;32m      2\u001b[0m \u001b[0;34m\u001b[0m\u001b[0m\n\u001b[0;32m----> 3\u001b[0;31m \u001b[0msozluk\u001b[0m\u001b[0;34m[\u001b[0m\u001b[0;36m2\u001b[0m\u001b[0;34m]\u001b[0m\u001b[0;34m\u001b[0m\u001b[0;34m\u001b[0m\u001b[0m\n\u001b[0m",
            "\u001b[0;31mKeyError\u001b[0m: 2"
          ]
        }
      ]
    },
    {
      "cell_type": "code",
      "source": [
        "\n",
        "\n",
        "\n",
        "\n",
        "\n",
        "\n",
        "\n",
        "\n",
        "\n"
      ],
      "metadata": {
        "id": "Ao3zTAv6V7Of"
      },
      "execution_count": null,
      "outputs": []
    },
    {
      "cell_type": "markdown",
      "source": [
        "Verilen bir harfin verilen metinde kaç defa geçtiğini bulan bir fonksiyon yazınız?"
      ],
      "metadata": {
        "id": "IClNV2vCc6sV"
      }
    },
    {
      "cell_type": "code",
      "source": [
        "\n",
        "def bir_fonksiyon(metin, karakter):\n",
        "\n",
        "  adet = 0\n",
        "\n",
        "  for kar in metin:\n",
        "    if kar == karakter:\n",
        "      adet += 1\n",
        "\n",
        "  return adet\n",
        "\n",
        "\n",
        "met = \"şemsi paşa pasajında sesi büzüşesiceler\"\n",
        "k= \"!\"\n",
        "\n",
        "bir_fonksiyon(met, k)\n",
        "\n",
        "\n"
      ],
      "metadata": {
        "id": "UXrcXWNcVyF5"
      },
      "execution_count": null,
      "outputs": []
    },
    {
      "cell_type": "markdown",
      "source": [
        "Bir metindeki her bir karakterden kaç tane olduğunu veren bir fonksiyon yazınız"
      ],
      "metadata": {
        "id": "jz6ZMtulYExl"
      }
    },
    {
      "cell_type": "code",
      "source": [
        "# aşağıdaki metin örnektir\n",
        "ornek_metin = \"Bir berber bir berbere bire berber gel beraber bir berber dükkânı açalım demiş\"\n",
        "\n",
        "def idx(karakterler, k):\n",
        "  i = 0 # sıra bilgisini sakla\n",
        "\n",
        "  for karakter in karakterler: # listeyi gez\n",
        "    if karakter == k:\n",
        "      return i\n",
        "\n",
        "    i +=1\n",
        "\n",
        "\n",
        "# bir karakter verilen listede var mı?\n",
        "# varsa True yoksa False\n",
        "def listede_var_mi(liste, karakter):\n",
        "  for eleman in liste:\n",
        "    if eleman == karakter:\n",
        "      return True\n",
        "\n",
        "  return False\n",
        "\n",
        "\n",
        "def frekanslar(metin):\n",
        "\n",
        "  karakterler=list() # yegane karakterler\n",
        "\n",
        "  # karakterler listesindeki her elamanın kaç adet olduğu bilgisini tutar\n",
        "  adetler = list()\n",
        "\n",
        "  for k in metin: #\n",
        "    if listede_var_mi(karakterler, k): # k listede varsa\n",
        "\n",
        "      # karakterin adet bilgisini adetlerde güncelle (1 artır)\n",
        "      # karakterin sırası ne?\n",
        "      indeks = idx(karakterler, k)\n",
        "      adetler[indeks] +=1\n",
        "\n",
        "    else: # k listede yoksa\n",
        "      karakterler.append(k) # k ile ilk defa karşılaşıldı. listeye ekle.\n",
        "      adetler.append(1)\n",
        "\n",
        "  return karakterler, adetler\n",
        "\n",
        "\n",
        "klar,alar = frekanslar(ornek_metin)"
      ],
      "metadata": {
        "id": "Dn7wAhoLYFTd"
      },
      "execution_count": null,
      "outputs": []
    },
    {
      "cell_type": "code",
      "source": [
        "list(zip(klar, alar))"
      ],
      "metadata": {
        "colab": {
          "base_uri": "https://localhost:8080/"
        },
        "id": "kw5EzEP-sGR7",
        "outputId": "497b7df5-5114-4ec3-a1db-f03173919618"
      },
      "execution_count": null,
      "outputs": [
        {
          "output_type": "execute_result",
          "data": {
            "text/plain": [
              "[('B', 1),\n",
              " ('i', 5),\n",
              " ('r', 14),\n",
              " (' ', 12),\n",
              " ('b', 13),\n",
              " ('e', 14),\n",
              " ('g', 1),\n",
              " ('l', 2),\n",
              " ('a', 3),\n",
              " ('d', 2),\n",
              " ('ü', 1),\n",
              " ('k', 2),\n",
              " ('â', 1),\n",
              " ('n', 1),\n",
              " ('ı', 2),\n",
              " ('ç', 1),\n",
              " ('m', 2),\n",
              " ('ş', 1)]"
            ]
          },
          "metadata": {},
          "execution_count": 6
        }
      ]
    },
    {
      "cell_type": "code",
      "source": [
        "# listedeki en büyük sayısal değer\n",
        "def en_yuksek_frekans(liste):\n",
        "\n",
        "  temp_sayi = liste[0] # 1\n",
        "  idx =0 # frekansı en yüksek elemanın indeksi\n",
        "  temp_idx=0\n",
        "\n",
        "  for tt in liste:\n",
        "    if tt > temp_sayi:\n",
        "      temp_sayi =tt\n",
        "      idx = temp_idx\n",
        "    temp_idx +=1\n",
        "\n",
        "  return temp_sayi, idx\n",
        "\n",
        "sayi, kar_idx = en_yuksek_frekans(alar)\n",
        "\n",
        "klar[idx]"
      ],
      "metadata": {
        "colab": {
          "base_uri": "https://localhost:8080/"
        },
        "id": "UpWOktgYIcBO",
        "outputId": "45a9d86b-b5e2-498f-e645-121404a5998b"
      },
      "execution_count": null,
      "outputs": [
        {
          "output_type": "execute_result",
          "data": {
            "text/plain": [
              "14"
            ]
          },
          "metadata": {},
          "execution_count": 50
        }
      ]
    },
    {
      "cell_type": "code",
      "source": [
        "alar"
      ],
      "metadata": {
        "colab": {
          "base_uri": "https://localhost:8080/"
        },
        "id": "PRnXgCC9J5aE",
        "outputId": "6a8497b8-5776-4830-88bf-4e32ec1655c2"
      },
      "execution_count": null,
      "outputs": [
        {
          "output_type": "execute_result",
          "data": {
            "text/plain": [
              "[1, 5, 14, 12, 13, 14, 1, 2, 3, 2, 1, 2, 1, 1, 2, 1, 2, 1]"
            ]
          },
          "metadata": {},
          "execution_count": 48
        }
      ]
    },
    {
      "cell_type": "markdown",
      "source": [
        "# Aynı problemi sözlük ile çözen kod"
      ],
      "metadata": {
        "id": "oD-0hcKqyspG"
      }
    },
    {
      "cell_type": "code",
      "source": [
        "def frekanslar(metin):\n",
        "\n",
        "  adetler={} #\n",
        "\n",
        "  for k in metin: #\n",
        "\n",
        "   if k in adetler:\n",
        "    adetler[k] +=1\n",
        "\n",
        "   else: # k listede yoksa\n",
        "      adetler[k] = 1\n",
        "\n",
        "  return adetler\n",
        "\n",
        "counts = frekanslar(ornek_metin)"
      ],
      "metadata": {
        "id": "2GwaiygZwUkj"
      },
      "execution_count": null,
      "outputs": []
    },
    {
      "cell_type": "code",
      "source": [
        "counts"
      ],
      "metadata": {
        "colab": {
          "base_uri": "https://localhost:8080/"
        },
        "id": "DMrGFp7_xAZC",
        "outputId": "85c3d11e-cb6a-4fd0-f136-16fac8407df9"
      },
      "execution_count": null,
      "outputs": [
        {
          "output_type": "execute_result",
          "data": {
            "text/plain": [
              "{'B': 1,\n",
              " 'i': 5,\n",
              " 'r': 14,\n",
              " ' ': 12,\n",
              " 'b': 13,\n",
              " 'e': 14,\n",
              " 'g': 1,\n",
              " 'l': 2,\n",
              " 'a': 3,\n",
              " 'd': 2,\n",
              " 'ü': 1,\n",
              " 'k': 2,\n",
              " 'â': 1,\n",
              " 'n': 1,\n",
              " 'ı': 2,\n",
              " 'ç': 1,\n",
              " 'm': 2,\n",
              " 'ş': 1}"
            ]
          },
          "metadata": {},
          "execution_count": 8
        }
      ]
    },
    {
      "cell_type": "markdown",
      "source": [],
      "metadata": {
        "id": "mPSYZZwp4Zt4"
      }
    },
    {
      "cell_type": "code",
      "source": [
        "\"merhaba DÜNYA!\".lower()\n"
      ],
      "metadata": {
        "colab": {
          "base_uri": "https://localhost:8080/",
          "height": 36
        },
        "id": "5HhO6XSZ4Zyg",
        "outputId": "10f36494-041c-4e31-c18b-36ce55d3958f"
      },
      "execution_count": null,
      "outputs": [
        {
          "output_type": "execute_result",
          "data": {
            "text/plain": [
              "'merhaba dünya!'"
            ],
            "application/vnd.google.colaboratory.intrinsic+json": {
              "type": "string"
            }
          },
          "metadata": {},
          "execution_count": 2
        }
      ]
    },
    {
      "cell_type": "code",
      "source": [
        "\"merhaba DÜNYA!\".isalpha()"
      ],
      "metadata": {
        "colab": {
          "base_uri": "https://localhost:8080/"
        },
        "id": "qv4--95L6a3_",
        "outputId": "0099697e-3b4e-4741-b28b-918a6dd67fdd"
      },
      "execution_count": null,
      "outputs": [
        {
          "output_type": "execute_result",
          "data": {
            "text/plain": [
              "False"
            ]
          },
          "metadata": {},
          "execution_count": 3
        }
      ]
    },
    {
      "cell_type": "code",
      "source": [
        "\"merhaba DÜNYA!\".capitalize()"
      ],
      "metadata": {
        "colab": {
          "base_uri": "https://localhost:8080/",
          "height": 36
        },
        "id": "vPbQQzk46a6m",
        "outputId": "9d29830b-4a0b-4082-873a-93d5a8fd3fbe"
      },
      "execution_count": null,
      "outputs": [
        {
          "output_type": "execute_result",
          "data": {
            "text/plain": [
              "'Merhaba dünya!'"
            ],
            "application/vnd.google.colaboratory.intrinsic+json": {
              "type": "string"
            }
          },
          "metadata": {},
          "execution_count": 4
        }
      ]
    },
    {
      "cell_type": "code",
      "source": [
        "\"Merhaba Dünya!\".ljust(40, \"*\")"
      ],
      "metadata": {
        "colab": {
          "base_uri": "https://localhost:8080/",
          "height": 36
        },
        "id": "8yCyp5pl6a9O",
        "outputId": "85ab4c0a-74ca-4897-be45-3be821c381d0"
      },
      "execution_count": null,
      "outputs": [
        {
          "output_type": "execute_result",
          "data": {
            "text/plain": [
              "'Merhaba Dünya!**************************'"
            ],
            "application/vnd.google.colaboratory.intrinsic+json": {
              "type": "string"
            }
          },
          "metadata": {},
          "execution_count": 9
        }
      ]
    },
    {
      "cell_type": "code",
      "source": [
        "\"Merhaba Dünya!\".rjust(40, \"*\")"
      ],
      "metadata": {
        "colab": {
          "base_uri": "https://localhost:8080/",
          "height": 36
        },
        "id": "h5fSYpfr6a__",
        "outputId": "e7627c95-09a9-440f-f066-dbb75b1a41dd"
      },
      "execution_count": null,
      "outputs": [
        {
          "output_type": "execute_result",
          "data": {
            "text/plain": [
              "'**************************Merhaba Dünya!'"
            ],
            "application/vnd.google.colaboratory.intrinsic+json": {
              "type": "string"
            }
          },
          "metadata": {},
          "execution_count": 10
        }
      ]
    },
    {
      "cell_type": "code",
      "source": [
        "\"10;20;30;40;50\".split(';')"
      ],
      "metadata": {
        "colab": {
          "base_uri": "https://localhost:8080/"
        },
        "id": "bESbikxO6bCX",
        "outputId": "d6ab323e-8605-4c5c-b160-278629db61ab"
      },
      "execution_count": null,
      "outputs": [
        {
          "output_type": "execute_result",
          "data": {
            "text/plain": [
              "['10', '20', '30', '40', '50']"
            ]
          },
          "metadata": {},
          "execution_count": 11
        }
      ]
    },
    {
      "cell_type": "code",
      "source": [
        "\"2001;Ayşe;Temiz;78,5\".split(';')"
      ],
      "metadata": {
        "colab": {
          "base_uri": "https://localhost:8080/"
        },
        "id": "2p7sKhjj4aXv",
        "outputId": "b378af67-b0a9-4be6-8d25-ac57bd9cf334"
      },
      "execution_count": null,
      "outputs": [
        {
          "output_type": "execute_result",
          "data": {
            "text/plain": [
              "['2001', 'Ayşe', 'Temiz', '78,5']"
            ]
          },
          "metadata": {},
          "execution_count": 12
        }
      ]
    },
    {
      "cell_type": "code",
      "source": [
        "str(\"2001;Ayşe;Temiz;78,5\".split(';')[3])"
      ],
      "metadata": {
        "colab": {
          "base_uri": "https://localhost:8080/",
          "height": 36
        },
        "id": "GUgakHxM4aa4",
        "outputId": "3e4bf216-16c8-4b4d-a72e-4400980c4758"
      },
      "execution_count": null,
      "outputs": [
        {
          "output_type": "execute_result",
          "data": {
            "text/plain": [
              "'78,5'"
            ],
            "application/vnd.google.colaboratory.intrinsic+json": {
              "type": "string"
            }
          },
          "metadata": {},
          "execution_count": 16
        }
      ]
    },
    {
      "cell_type": "code",
      "source": [
        "float(str(\"2001;Ayşe;Temiz;78,5\".split(';')[3]).replace(',','.'))"
      ],
      "metadata": {
        "colab": {
          "base_uri": "https://localhost:8080/"
        },
        "id": "fzjG8wjK4Z9w",
        "outputId": "8c00f4f5-eb76-43a1-f266-7c478a898687"
      },
      "execution_count": null,
      "outputs": [
        {
          "output_type": "execute_result",
          "data": {
            "text/plain": [
              "78.5"
            ]
          },
          "metadata": {},
          "execution_count": 19
        }
      ]
    },
    {
      "cell_type": "code",
      "source": [
        "\"adfasdfjkl adfa \".strip()"
      ],
      "metadata": {
        "colab": {
          "base_uri": "https://localhost:8080/",
          "height": 36
        },
        "id": "iVEQO6Sv_T1B",
        "outputId": "aa41f37c-1270-4b2f-9172-4d8b69f645bd"
      },
      "execution_count": null,
      "outputs": [
        {
          "output_type": "execute_result",
          "data": {
            "text/plain": [
              "'adfasdfjkl adfa'"
            ],
            "application/vnd.google.colaboratory.intrinsic+json": {
              "type": "string"
            }
          },
          "metadata": {},
          "execution_count": 23
        }
      ]
    },
    {
      "cell_type": "code",
      "source": [
        "\"aaaaa Ali'nin yeni bir kitabı var!!!.\".strip('a !.kv')"
      ],
      "metadata": {
        "colab": {
          "base_uri": "https://localhost:8080/",
          "height": 36
        },
        "id": "wEa79hhN_T3o",
        "outputId": "cf08f138-ab24-4b20-d650-5541151c76bc"
      },
      "execution_count": null,
      "outputs": [
        {
          "output_type": "execute_result",
          "data": {
            "text/plain": [
              "\"Ali'nin yeni bir kitabı var\""
            ],
            "application/vnd.google.colaboratory.intrinsic+json": {
              "type": "string"
            }
          },
          "metadata": {},
          "execution_count": 27
        }
      ]
    },
    {
      "cell_type": "code",
      "source": [
        "\"3.15\".zfill(10)"
      ],
      "metadata": {
        "colab": {
          "base_uri": "https://localhost:8080/",
          "height": 35
        },
        "id": "OoOGjxmQ_T6P",
        "outputId": "2e7975f4-e046-4ddc-ee6b-e0800b07c8bd"
      },
      "execution_count": null,
      "outputs": [
        {
          "output_type": "execute_result",
          "data": {
            "text/plain": [
              "'0000003.15'"
            ],
            "application/vnd.google.colaboratory.intrinsic+json": {
              "type": "string"
            }
          },
          "metadata": {},
          "execution_count": 1
        }
      ]
    },
    {
      "cell_type": "code",
      "source": [
        "\"Merhaba Dünya!\".center(40, \"*\")"
      ],
      "metadata": {
        "colab": {
          "base_uri": "https://localhost:8080/",
          "height": 36
        },
        "id": "Ws738j9vCSQF",
        "outputId": "d1189643-475a-4828-a3f5-7bb30d68ec62"
      },
      "execution_count": null,
      "outputs": [
        {
          "output_type": "execute_result",
          "data": {
            "text/plain": [
              "'*************Merhaba Dünya!*************'"
            ],
            "application/vnd.google.colaboratory.intrinsic+json": {
              "type": "string"
            }
          },
          "metadata": {},
          "execution_count": 31
        }
      ]
    },
    {
      "cell_type": "code",
      "source": [
        "pi = 3.1415\n",
        "euler = 2.7182\n",
        "ad = \"Zeynep\"\n",
        "\n",
        "print(\"pi sayısı:{pi}, EULER:{euler}, Zeynebin Adı:{ad}\")"
      ],
      "metadata": {
        "colab": {
          "base_uri": "https://localhost:8080/"
        },
        "id": "eaPjpri4CXsc",
        "outputId": "67fb2eac-6e68-4fca-d536-b2752b018a11"
      },
      "execution_count": null,
      "outputs": [
        {
          "output_type": "stream",
          "name": "stdout",
          "text": [
            "pi sayısı:{pi}, EULER:{euler}, Zeynebin Adı:{ad}\n"
          ]
        }
      ]
    },
    {
      "cell_type": "code",
      "source": [
        "print(f\"pi sayısı:{pi}, EULER:{euler}, Zeynebin Adı:{ad}\" )"
      ],
      "metadata": {
        "colab": {
          "base_uri": "https://localhost:8080/"
        },
        "id": "09TjVOM5C1HQ",
        "outputId": "63784937-dc6c-430b-c549-0c8d28971dc6"
      },
      "execution_count": null,
      "outputs": [
        {
          "output_type": "stream",
          "name": "stdout",
          "text": [
            "pi sayısı:3.1415, EULER:2.7182, Zeynebin Adı:Zeynep\n"
          ]
        }
      ]
    },
    {
      "cell_type": "code",
      "source": [
        "print(\"pi sayısı:\", pi, \"EULER:\",euler, \"Zeynebin Adı:\", \"ad\")"
      ],
      "metadata": {
        "id": "VI5Mwju4DDvb"
      },
      "execution_count": null,
      "outputs": []
    },
    {
      "cell_type": "code",
      "source": [
        "print(\"pi sayısı:{1}, EULER:{2}, Zeynebin Adı:{0}\".format(pi, euler, ad) )"
      ],
      "metadata": {
        "colab": {
          "base_uri": "https://localhost:8080/"
        },
        "id": "zr3143GzDW0z",
        "outputId": "16bc0a2b-8e1a-4583-dc5c-747d95483a4f"
      },
      "execution_count": null,
      "outputs": [
        {
          "output_type": "stream",
          "name": "stdout",
          "text": [
            "pi sayısı:2.7182, EULER:Zeynep, Zeynebin Adı:3.1415\n"
          ]
        }
      ]
    },
    {
      "cell_type": "code",
      "source": [
        "print(\"pi sayısı:%f, EULER:%f, Zeynebin Adı:%s.\" % (pi, euler, ad))"
      ],
      "metadata": {
        "colab": {
          "base_uri": "https://localhost:8080/"
        },
        "id": "OpqL1AcjFIN7",
        "outputId": "ce4d16e9-42f4-4af7-9727-9a160411e124"
      },
      "execution_count": null,
      "outputs": [
        {
          "output_type": "stream",
          "name": "stdout",
          "text": [
            "pi sayısı:3.141500, EULER:2.718200, Zeynebin Adı:Zeynep.\n"
          ]
        }
      ]
    },
    {
      "cell_type": "code",
      "source": [
        "kupler=[]\n",
        "for i in range(10): # 10'a kadar sayılar\n",
        "  kupler.append(i**3)\n",
        "kupler"
      ],
      "metadata": {
        "colab": {
          "base_uri": "https://localhost:8080/"
        },
        "id": "PvhX49lIe6RR",
        "outputId": "cb3300bd-8cb9-47c1-8eba-8a196f378301"
      },
      "execution_count": null,
      "outputs": [
        {
          "output_type": "execute_result",
          "data": {
            "text/plain": [
              "[0, 1, 8, 27, 64, 125, 216, 343, 512, 729]"
            ]
          },
          "metadata": {},
          "execution_count": 10
        }
      ]
    },
    {
      "cell_type": "code",
      "source": [
        "dizi = list(range(1,11))"
      ],
      "metadata": {
        "id": "6Q7q3WkTHpMh"
      },
      "execution_count": null,
      "outputs": []
    },
    {
      "cell_type": "code",
      "source": [
        "dizi"
      ],
      "metadata": {
        "colab": {
          "base_uri": "https://localhost:8080/"
        },
        "id": "52db7a55ICpr",
        "outputId": "880cb7bd-2962-49f5-bedc-f0cba77924ae"
      },
      "execution_count": null,
      "outputs": [
        {
          "output_type": "execute_result",
          "data": {
            "text/plain": [
              "[1, 2, 3, 4, 5, 6, 7, 8, 9, 10]"
            ]
          },
          "metadata": {},
          "execution_count": 5
        }
      ]
    },
    {
      "cell_type": "code",
      "source": [
        "def kup(dizi):\n",
        "  sonuc = []\n",
        "  for x in dizi:\n",
        "    sonuc.append(x**3)\n",
        "  return sonuc\n",
        "\n",
        "kup(dizi)"
      ],
      "metadata": {
        "colab": {
          "base_uri": "https://localhost:8080/"
        },
        "id": "vE7nDXeZHBpU",
        "outputId": "6379e451-4b15-47a9-f2f0-1933c45dfaa3"
      },
      "execution_count": null,
      "outputs": [
        {
          "output_type": "execute_result",
          "data": {
            "text/plain": [
              "[1, 8, 27, 64, 125, 216, 343, 512, 729, 1000]"
            ]
          },
          "metadata": {},
          "execution_count": 6
        }
      ]
    },
    {
      "cell_type": "code",
      "source": [
        "def kup_tekil(sayi):\n",
        "  return sayi**3"
      ],
      "metadata": {
        "id": "d4l-l2iRI-Ce"
      },
      "execution_count": null,
      "outputs": []
    },
    {
      "cell_type": "code",
      "source": [
        "[x**3 for x in range(1,11)]"
      ],
      "metadata": {
        "colab": {
          "base_uri": "https://localhost:8080/"
        },
        "id": "RAqMSPfTFVjU",
        "outputId": "774a65c3-3117-440d-b7e0-bc3f6c6c5abe"
      },
      "execution_count": null,
      "outputs": [
        {
          "output_type": "execute_result",
          "data": {
            "text/plain": [
              "[1, 8, 27, 64, 125, 216, 343, 512, 729, 1000]"
            ]
          },
          "metadata": {},
          "execution_count": 9
        }
      ]
    },
    {
      "cell_type": "code",
      "source": [
        "[kup_tekil(x) for x in range(1,11)]"
      ],
      "metadata": {
        "colab": {
          "base_uri": "https://localhost:8080/"
        },
        "id": "Em0j8AnWI3Rp",
        "outputId": "5b32e7a9-a0dc-4106-cea6-09b7ab731598"
      },
      "execution_count": null,
      "outputs": [
        {
          "output_type": "execute_result",
          "data": {
            "text/plain": [
              "[1, 8, 27, 64, 125, 216, 343, 512, 729, 1000]"
            ]
          },
          "metadata": {},
          "execution_count": 15
        }
      ]
    },
    {
      "cell_type": "code",
      "source": [
        "m = \"Şu yoğurdu sarımsaklasak da mı saklasak, sarımsaklamasak da mı saklasak?\"\n",
        "sesliler = [\"a\", \"e\", \"ı\", \"i\", \"o\", \"ö\", \"u\", \"ü\" ] # \"aeıioöuü\"\n",
        "\n",
        "def metinde_var_mi(metin, karakter):\n",
        "  for k in metin:\n",
        "    if k == karakter:\n",
        "      return True\n",
        "  return False"
      ],
      "metadata": {
        "id": "iVNl7AXyFVl1"
      },
      "execution_count": null,
      "outputs": []
    },
    {
      "cell_type": "code",
      "source": [
        "harfler = ('a','b', 'c', 'd', 'e')\n",
        "[x.upper() + x for x in harfler]"
      ],
      "metadata": {
        "colab": {
          "base_uri": "https://localhost:8080/"
        },
        "id": "E0v_S0Q5FVob",
        "outputId": "cac57092-821d-4f9f-9c27-6a52fb7763a6"
      },
      "execution_count": null,
      "outputs": [
        {
          "output_type": "execute_result",
          "data": {
            "text/plain": [
              "['Aa', 'Bb', 'Cc', 'Dd', 'Ee']"
            ]
          },
          "metadata": {},
          "execution_count": 18
        }
      ]
    },
    {
      "cell_type": "code",
      "source": [
        "def upper(harfler):\n",
        "  l = []\n",
        "  for x in harfler:\n",
        "    l.append(x.upper())\n",
        "  return l"
      ],
      "metadata": {
        "id": "ubskyfhkFVrQ"
      },
      "execution_count": null,
      "outputs": []
    },
    {
      "cell_type": "code",
      "source": [
        "[x**3 for x in range(1,11) if x % 2 != 0]\n"
      ],
      "metadata": {
        "colab": {
          "base_uri": "https://localhost:8080/"
        },
        "id": "poSXd9SZFVs8",
        "outputId": "078006e4-673a-4333-c920-fe06042c3de6"
      },
      "execution_count": null,
      "outputs": [
        {
          "output_type": "execute_result",
          "data": {
            "text/plain": [
              "<generator object <genexpr> at 0x7a9bf3717ed0>"
            ]
          },
          "metadata": {},
          "execution_count": 22
        }
      ]
    },
    {
      "cell_type": "code",
      "source": [
        "[x**3 for x in range(1,11) if x % 2 != 0]"
      ],
      "metadata": {
        "colab": {
          "base_uri": "https://localhost:8080/"
        },
        "id": "viE3hByJMxHP",
        "outputId": "154e8e43-7cda-498c-cc03-79f4f3719945"
      },
      "execution_count": null,
      "outputs": [
        {
          "output_type": "execute_result",
          "data": {
            "text/plain": [
              "[1, 27, 125, 343, 729]"
            ]
          },
          "metadata": {},
          "execution_count": 23
        }
      ]
    },
    {
      "cell_type": "code",
      "source": [],
      "metadata": {
        "id": "QGITQqwbFVvP"
      },
      "execution_count": null,
      "outputs": []
    },
    {
      "cell_type": "code",
      "source": [
        "[x**3 for x in range(10)]"
      ],
      "metadata": {
        "colab": {
          "base_uri": "https://localhost:8080/"
        },
        "id": "zeUTGqfqfQpQ",
        "outputId": "b80966b0-79ce-40e8-c560-14bb30c925da"
      },
      "execution_count": null,
      "outputs": [
        {
          "output_type": "execute_result",
          "data": {
            "text/plain": [
              "[0, 1, 8, 27, 64, 125, 216, 343, 512, 729]"
            ]
          },
          "metadata": {},
          "execution_count": 11
        }
      ]
    },
    {
      "cell_type": "code",
      "source": [
        "[print('Merhaba ' * x) for x in range(10)]"
      ],
      "metadata": {
        "id": "uwEbJWfohmGH"
      },
      "execution_count": null,
      "outputs": []
    },
    {
      "cell_type": "code",
      "source": [
        "harfler = ('a','b', 'c', 'd', 'e')\n",
        "[x.upper() + x for x in harfler]"
      ],
      "metadata": {
        "colab": {
          "base_uri": "https://localhost:8080/"
        },
        "id": "ZK9yB1wzfeId",
        "outputId": "b75d68b0-e7de-4ece-cedc-d4ace9b3f71d"
      },
      "execution_count": null,
      "outputs": [
        {
          "output_type": "execute_result",
          "data": {
            "text/plain": [
              "['Aa', 'Bb', 'Cc', 'Dd', 'Ee']"
            ]
          },
          "metadata": {},
          "execution_count": 20
        }
      ]
    },
    {
      "cell_type": "code",
      "source": [
        "[(x.upper() + \" \" + x) for x in harfler if x <= 'c']"
      ],
      "metadata": {
        "colab": {
          "base_uri": "https://localhost:8080/"
        },
        "id": "UEnVxefAkUN3",
        "outputId": "32e6a314-376e-42b7-f36c-097dd7d98bf7"
      },
      "execution_count": null,
      "outputs": [
        {
          "output_type": "execute_result",
          "data": {
            "text/plain": [
              "['A a', 'B b', 'C c']"
            ]
          },
          "metadata": {},
          "execution_count": 28
        }
      ]
    },
    {
      "cell_type": "code",
      "source": [
        "def upper(harfler):\n",
        "  Lst = []\n",
        "  for x in harfler:\n",
        "    Lst.append(x.upper())\n",
        "  return Lst"
      ],
      "metadata": {
        "id": "PCqOcAjyQ7V2"
      },
      "execution_count": null,
      "outputs": []
    },
    {
      "cell_type": "code",
      "source": [
        "harfler = ('a','b', 'c', 'd', 'e')\n",
        "\n",
        "list(map(lambda v: v.upper(), harfler))"
      ],
      "metadata": {
        "colab": {
          "base_uri": "https://localhost:8080/"
        },
        "id": "MZRVuzakO4ih",
        "outputId": "97a89592-f89a-459f-c908-92287929e41f"
      },
      "execution_count": null,
      "outputs": [
        {
          "output_type": "execute_result",
          "data": {
            "text/plain": [
              "['A', 'B', 'C', 'D', 'E']"
            ]
          },
          "metadata": {},
          "execution_count": 38
        }
      ]
    },
    {
      "cell_type": "code",
      "source": [
        "lower = lambda y: y.lower()\n",
        "list(map(kup_tekil, range(1,11)))"
      ],
      "metadata": {
        "colab": {
          "base_uri": "https://localhost:8080/"
        },
        "id": "vHy-O_1ORriC",
        "outputId": "5d0b096d-4621-458d-f9d5-44f4f7900c1d"
      },
      "execution_count": null,
      "outputs": [
        {
          "output_type": "execute_result",
          "data": {
            "text/plain": [
              "[1, 8, 27, 64, 125, 216, 343, 512, 729, 1000]"
            ]
          },
          "metadata": {},
          "execution_count": 45
        }
      ]
    },
    {
      "cell_type": "code",
      "source": [
        "l = lambda y: y.upper()"
      ],
      "metadata": {
        "id": "E2UaGU5LRWnB"
      },
      "execution_count": null,
      "outputs": []
    },
    {
      "cell_type": "code",
      "source": [
        "harfler.upper()"
      ],
      "metadata": {
        "id": "e4EfoqnhQuC1"
      },
      "execution_count": null,
      "outputs": []
    },
    {
      "cell_type": "code",
      "source": [],
      "metadata": {
        "id": "77WqBphGP8qJ"
      },
      "execution_count": null,
      "outputs": []
    },
    {
      "cell_type": "code",
      "source": [
        "Lst"
      ],
      "metadata": {
        "colab": {
          "base_uri": "https://localhost:8080/"
        },
        "id": "iVTn1UZsQYK-",
        "outputId": "0289c315-e90c-425d-a2fe-2bb2a3a68afd"
      },
      "execution_count": null,
      "outputs": [
        {
          "output_type": "execute_result",
          "data": {
            "text/plain": [
              "['A', 'B', 'C', 'D', 'E']"
            ]
          },
          "metadata": {},
          "execution_count": 37
        }
      ]
    },
    {
      "cell_type": "code",
      "source": [
        "[x for x in range(10)  if x %2== 0]\n",
        "[yapılacak_ifade for işlem_yapılacak_eleman in elemanlar_koleksiyonu]"
      ],
      "metadata": {
        "colab": {
          "base_uri": "https://localhost:8080/"
        },
        "id": "uQL40nK-jITm",
        "outputId": "2101a5c8-5897-4709-be92-1f294cab7294"
      },
      "execution_count": null,
      "outputs": [
        {
          "output_type": "execute_result",
          "data": {
            "text/plain": [
              "[0, 1, 2, 3, 4, 5, 6, 7, 8, 9]"
            ]
          },
          "metadata": {},
          "execution_count": 24
        }
      ]
    },
    {
      "cell_type": "code",
      "source": [
        "ciftler=[]\n",
        "for x in range(10):\n",
        "  if x %2==0 :\n",
        "    ciftler.append(x)\n",
        "ciftler"
      ],
      "metadata": {
        "colab": {
          "base_uri": "https://localhost:8080/"
        },
        "id": "TI8tmIA3jTmg",
        "outputId": "222e5c61-5ec9-4098-be5f-08c258e73282"
      },
      "execution_count": null,
      "outputs": [
        {
          "output_type": "execute_result",
          "data": {
            "text/plain": [
              "[0, 2, 4, 6, 8]"
            ]
          },
          "metadata": {},
          "execution_count": 23
        }
      ]
    },
    {
      "cell_type": "code",
      "source": [
        "(x**4 for x in zip(kupler, kupler))"
      ],
      "metadata": {
        "colab": {
          "base_uri": "https://localhost:8080/"
        },
        "id": "Od7jpI3tfyVe",
        "outputId": "7393b0d6-deb4-430b-8afe-77514c1c7adc"
      },
      "execution_count": null,
      "outputs": [
        {
          "output_type": "execute_result",
          "data": {
            "text/plain": [
              "<generator object <genexpr> at 0x7d42cd102180>"
            ]
          },
          "metadata": {},
          "execution_count": 6
        }
      ]
    },
    {
      "cell_type": "code",
      "source": [
        "kucuk_harfler = ('a','b', 'c', 'd', 'e')\n",
        "buyuk_harfler = [x.upper() for x in kucuk_harfler]\n",
        "[x.lower()*3 + y.upper()*2 for x,y in zip(buyuk_harfler, kucuk_harfler)]"
      ],
      "metadata": {
        "colab": {
          "base_uri": "https://localhost:8080/"
        },
        "id": "vItTzTatm2cR",
        "outputId": "767dcb87-821f-47e4-de2a-a47a3aeb3307"
      },
      "execution_count": null,
      "outputs": [
        {
          "output_type": "execute_result",
          "data": {
            "text/plain": [
              "['aA', 'bB', 'cC', 'dD', 'eE']"
            ]
          },
          "metadata": {},
          "execution_count": 33
        }
      ]
    },
    {
      "cell_type": "code",
      "source": [
        "for y in bu:\n",
        "  for x in kuuck:\n",
        "    fasdf\n",
        "    afdasdf"
      ],
      "metadata": {
        "id": "ncGiMAgbpDIP"
      },
      "execution_count": null,
      "outputs": []
    },
    {
      "cell_type": "code",
      "source": [
        "[(x, y) for x in buyuk_harfler for y in kucuk_harfler]"
      ],
      "metadata": {
        "colab": {
          "base_uri": "https://localhost:8080/"
        },
        "id": "BP2oeabjoQbX",
        "outputId": "56b13cc3-44de-4651-f9b5-d865d7a1b7a0"
      },
      "execution_count": null,
      "outputs": [
        {
          "output_type": "execute_result",
          "data": {
            "text/plain": [
              "[('A', 'a'),\n",
              " ('A', 'b'),\n",
              " ('A', 'c'),\n",
              " ('A', 'd'),\n",
              " ('A', 'e'),\n",
              " ('B', 'a'),\n",
              " ('B', 'b'),\n",
              " ('B', 'c'),\n",
              " ('B', 'd'),\n",
              " ('B', 'e'),\n",
              " ('C', 'a'),\n",
              " ('C', 'b'),\n",
              " ('C', 'c'),\n",
              " ('C', 'd'),\n",
              " ('C', 'e'),\n",
              " ('D', 'a'),\n",
              " ('D', 'b'),\n",
              " ('D', 'c'),\n",
              " ('D', 'd'),\n",
              " ('D', 'e'),\n",
              " ('E', 'a'),\n",
              " ('E', 'b'),\n",
              " ('E', 'c'),\n",
              " ('E', 'd'),\n",
              " ('E', 'e')]"
            ]
          },
          "metadata": {},
          "execution_count": 39
        }
      ]
    },
    {
      "cell_type": "code",
      "source": [
        "list(zip(buyuk_harfler, kucuk_harfler))"
      ],
      "metadata": {
        "colab": {
          "base_uri": "https://localhost:8080/"
        },
        "id": "qU1MnyMjnVd3",
        "outputId": "413e0809-00ad-4207-e091-322ae964d4cf"
      },
      "execution_count": null,
      "outputs": [
        {
          "output_type": "execute_result",
          "data": {
            "text/plain": [
              "[('A', 'a'), ('B', 'b'), ('C', 'c'), ('D', 'd'), ('E', 'e')]"
            ]
          },
          "metadata": {},
          "execution_count": 31
        }
      ]
    },
    {
      "cell_type": "code",
      "source": [
        "kare = lambda x: x**2\n",
        "kare(3)"
      ],
      "metadata": {
        "colab": {
          "base_uri": "https://localhost:8080/"
        },
        "id": "t9gmxn9Tp9wY",
        "outputId": "bc0c9d42-b0b8-496d-d604-324ddb53a408"
      },
      "execution_count": null,
      "outputs": [
        {
          "output_type": "execute_result",
          "data": {
            "text/plain": [
              "9"
            ]
          },
          "metadata": {},
          "execution_count": 40
        }
      ]
    },
    {
      "cell_type": "code",
      "source": [
        "kup = lambda v: v**3\n",
        "kup(4)"
      ],
      "metadata": {
        "colab": {
          "base_uri": "https://localhost:8080/"
        },
        "id": "viy30ZlqNlk5",
        "outputId": "8defd47a-5cc1-4466-a4bf-c9a07f862561"
      },
      "execution_count": null,
      "outputs": [
        {
          "output_type": "execute_result",
          "data": {
            "text/plain": [
              "64"
            ]
          },
          "metadata": {},
          "execution_count": 24
        }
      ]
    },
    {
      "cell_type": "code",
      "source": [
        "kup(11)"
      ],
      "metadata": {
        "colab": {
          "base_uri": "https://localhost:8080/"
        },
        "id": "ahUd413zNuHK",
        "outputId": "2e086638-bc1b-4277-e05f-47e5a9684da4"
      },
      "execution_count": null,
      "outputs": [
        {
          "output_type": "execute_result",
          "data": {
            "text/plain": [
              "1331"
            ]
          },
          "metadata": {},
          "execution_count": 25
        }
      ]
    },
    {
      "cell_type": "code",
      "source": [
        "[kup(y) for y in range(1,11)]"
      ],
      "metadata": {
        "colab": {
          "base_uri": "https://localhost:8080/"
        },
        "id": "pfgAi5PaNwbH",
        "outputId": "6294ae58-da2c-49f7-a484-a06c468acd6b"
      },
      "execution_count": null,
      "outputs": [
        {
          "output_type": "execute_result",
          "data": {
            "text/plain": [
              "[1, 8, 27, 64, 125, 216, 343, 512, 729, 1000]"
            ]
          },
          "metadata": {},
          "execution_count": 29
        }
      ]
    },
    {
      "cell_type": "code",
      "source": [
        "upper = lambda x, y: x.upper() + y.upper()\n",
        "\n",
        "upper(\"a\", \"B\")"
      ],
      "metadata": {
        "colab": {
          "base_uri": "https://localhost:8080/",
          "height": 35
        },
        "id": "J-TCd_ruOJcF",
        "outputId": "ec803ec3-00cf-4933-9773-7672cc69c43e"
      },
      "execution_count": null,
      "outputs": [
        {
          "output_type": "execute_result",
          "data": {
            "text/plain": [
              "'AB'"
            ],
            "application/vnd.google.colaboratory.intrinsic+json": {
              "type": "string"
            }
          },
          "metadata": {},
          "execution_count": 31
        }
      ]
    },
    {
      "cell_type": "code",
      "source": [],
      "metadata": {
        "id": "q6a_BOwqOqWb"
      },
      "execution_count": null,
      "outputs": []
    },
    {
      "cell_type": "code",
      "source": [
        "fonk = lambda x,y: x.upper() + \" \" + y.lower()\n",
        "\n",
        "[fonk(x,y) for x in buyuk_harfler for y in kucuk_harfler]"
      ],
      "metadata": {
        "colab": {
          "base_uri": "https://localhost:8080/"
        },
        "id": "eJXx1ZO-qh7A",
        "outputId": "2cabb356-048c-467e-f3ca-31b2648b5645"
      },
      "execution_count": null,
      "outputs": [
        {
          "output_type": "execute_result",
          "data": {
            "text/plain": [
              "['A a',\n",
              " 'A b',\n",
              " 'A c',\n",
              " 'A d',\n",
              " 'A e',\n",
              " 'B a',\n",
              " 'B b',\n",
              " 'B c',\n",
              " 'B d',\n",
              " 'B e',\n",
              " 'C a',\n",
              " 'C b',\n",
              " 'C c',\n",
              " 'C d',\n",
              " 'C e',\n",
              " 'D a',\n",
              " 'D b',\n",
              " 'D c',\n",
              " 'D d',\n",
              " 'D e',\n",
              " 'E a',\n",
              " 'E b',\n",
              " 'E c',\n",
              " 'E d',\n",
              " 'E e']"
            ]
          },
          "metadata": {},
          "execution_count": 43
        }
      ]
    },
    {
      "cell_type": "code",
      "source": [
        "tuple(map(fonk, harfler, harfler))"
      ],
      "metadata": {
        "colab": {
          "base_uri": "https://localhost:8080/"
        },
        "id": "erewwLZKq80H",
        "outputId": "66258629-0ff5-4dad-9a2d-57bd0a7de02e"
      },
      "execution_count": null,
      "outputs": [
        {
          "output_type": "execute_result",
          "data": {
            "text/plain": [
              "('A a', 'B b', 'C c', 'D d', 'E e')"
            ]
          },
          "metadata": {},
          "execution_count": 51
        }
      ]
    },
    {
      "cell_type": "code",
      "source": [
        "list(map(lambda t:t**4, range(10) ))\n"
      ],
      "metadata": {
        "id": "AdJ4tLNfrs3H"
      },
      "execution_count": null,
      "outputs": []
    },
    {
      "cell_type": "code",
      "source": [
        "ornek_metin = \"Bir berber bir berbere bire berber gel beraber bir berber dükkânı açalım demiş\"\n",
        "\n",
        "metin=\"Merhaba dünya,dünya çok güzel\"\n",
        "aranan=\"dünya\"\n",
        "def bul(metin,aranan):\n",
        "  konumlar =[]\n",
        "  for i in range(len(metin)-len(aranan)):# ana stringin karakterlerini gez, i=1\n",
        "    buldum= False\n",
        "    for j in range(len(aranan)): # aranan stringin karakterlerini gez\n",
        "      if metin[i+j] != aranan[j]: # j = 0\n",
        "        buldum = False\n",
        "        break\n",
        "      buldum = True\n",
        "    if buldum:\n",
        "      konumlar.append(i)\n",
        "\n",
        "  return konumlar\n",
        "\n",
        "k = bul(metin,aranan)\n",
        "[(x, len(\"dünya\") + x) for x in k]"
      ],
      "metadata": {
        "colab": {
          "base_uri": "https://localhost:8080/"
        },
        "id": "34kLuYRSVb6q",
        "outputId": "b0e8e054-b194-4a7a-b17e-ff6a75884e06"
      },
      "execution_count": null,
      "outputs": [
        {
          "output_type": "execute_result",
          "data": {
            "text/plain": [
              "[(8, 13), (14, 19)]"
            ]
          },
          "metadata": {},
          "execution_count": 53
        }
      ]
    },
    {
      "cell_type": "code",
      "source": [
        "metin[0:8] + \"Mars\"\n"
      ],
      "metadata": {
        "colab": {
          "base_uri": "https://localhost:8080/",
          "height": 35
        },
        "id": "HVwB-Bfpetel",
        "outputId": "8fb93786-97a0-4ab1-f698-d3ed964cf05d"
      },
      "execution_count": null,
      "outputs": [
        {
          "output_type": "execute_result",
          "data": {
            "text/plain": [
              "'Merhaba Mars'"
            ],
            "application/vnd.google.colaboratory.intrinsic+json": {
              "type": "string"
            }
          },
          "metadata": {},
          "execution_count": 54
        }
      ]
    },
    {
      "cell_type": "code",
      "source": [
        "def lam(t):\n",
        "  return t**4\n",
        "\n",
        "list(map(lam, range(10)))\n"
      ],
      "metadata": {
        "colab": {
          "base_uri": "https://localhost:8080/"
        },
        "id": "myLfKC3ysbFo",
        "outputId": "402ae62c-3e5a-4933-ea74-5008599b0cd8"
      },
      "execution_count": null,
      "outputs": [
        {
          "output_type": "execute_result",
          "data": {
            "text/plain": [
              "[0, 1, 16, 81, 256, 625, 1296, 2401, 4096, 6561]"
            ]
          },
          "metadata": {},
          "execution_count": 54
        }
      ]
    },
    {
      "cell_type": "code",
      "source": [
        "sayilar = range(10,20)\n",
        "list(filter(lambda x: x % 2 !=0, range(10,20)))"
      ],
      "metadata": {
        "colab": {
          "base_uri": "https://localhost:8080/"
        },
        "id": "MQ2Z9kFqz6mq",
        "outputId": "523fb202-863c-45ec-a87c-6ff28e185788"
      },
      "execution_count": null,
      "outputs": [
        {
          "output_type": "execute_result",
          "data": {
            "text/plain": [
              "[11, 13, 15, 17, 19]"
            ]
          },
          "metadata": {},
          "execution_count": 59
        }
      ]
    },
    {
      "cell_type": "code",
      "source": [
        "((x) for x in range(10,20) if x % 2 !=0)"
      ],
      "metadata": {
        "colab": {
          "base_uri": "https://localhost:8080/"
        },
        "id": "SdRClE6m0XIh",
        "outputId": "677a9b76-e4e4-4434-cfd0-4b1a28be714f"
      },
      "execution_count": null,
      "outputs": [
        {
          "output_type": "execute_result",
          "data": {
            "text/plain": [
              "<generator object <genexpr> at 0x7d42b33dd150>"
            ]
          },
          "metadata": {},
          "execution_count": 66
        }
      ]
    },
    {
      "cell_type": "code",
      "source": [],
      "metadata": {
        "id": "O1S71H0ez6pJ"
      },
      "execution_count": null,
      "outputs": []
    },
    {
      "cell_type": "code",
      "source": [
        "\"\"\"\n",
        "hesap.py\n",
        "\"\"\"\n",
        "from sys import argv\n",
        "\n",
        "def kare(x):\n",
        "   return x**2\n",
        "\n",
        "def kup(x):\n",
        "   return x**3\n",
        "\n",
        "# dosya doğrudan, komutisteminden çağırılırsa\n",
        "# şunları yap\n",
        "# bu modül import edildiğinde aşağıdakilere bakılmaz\n",
        "if __name__ == \"__main__\":\n",
        "\n",
        "   x = argv[2]\n",
        "   print(\"argv içeriği\", argv)\n",
        "   print(x, ' değerini girdiniz')\n",
        "   print('Karesi şudur: ', kare(float(x)))\n"
      ],
      "metadata": {
        "id": "e1x1ERXE8YdZ"
      },
      "execution_count": null,
      "outputs": []
    },
    {
      "cell_type": "code",
      "source": [
        "\"\"\"\n",
        "Komut isteminden çalıştırma\n",
        "\"\"\"\n",
        "python kare.py 100 200 ad soyad not ve diğer"
      ],
      "metadata": {
        "id": "73LudfHw8hZL"
      },
      "execution_count": null,
      "outputs": []
    },
    {
      "cell_type": "markdown",
      "source": [
        "# while"
      ],
      "metadata": {
        "id": "v7vBYwhogLMW"
      }
    },
    {
      "cell_type": "code",
      "source": [
        "\n",
        "# sayilar = list(range(100))\n",
        "\n",
        "i = 0\n",
        "\n",
        "while i < 100 : # len(sayilar) = 100\n",
        "  print(f\"yineleme devam ediyor...{i}\")\n",
        "  i +=1\n",
        "  if i == 50 :\n",
        "    continue\n",
        "\n",
        "  print(\"50 den sonraki satır\")"
      ],
      "metadata": {
        "colab": {
          "base_uri": "https://localhost:8080/"
        },
        "id": "F3LpZalHgLTX",
        "outputId": "8af4b0b4-34df-4e9a-ea2a-059a632ca488"
      },
      "execution_count": null,
      "outputs": [
        {
          "output_type": "stream",
          "name": "stdout",
          "text": [
            "yineleme devam ediyor...0\n",
            "50 den sonraki satır\n",
            "yineleme devam ediyor...1\n",
            "50 den sonraki satır\n",
            "yineleme devam ediyor...2\n",
            "50 den sonraki satır\n",
            "yineleme devam ediyor...3\n",
            "50 den sonraki satır\n",
            "yineleme devam ediyor...4\n",
            "50 den sonraki satır\n",
            "yineleme devam ediyor...5\n",
            "50 den sonraki satır\n",
            "yineleme devam ediyor...6\n",
            "50 den sonraki satır\n",
            "yineleme devam ediyor...7\n",
            "50 den sonraki satır\n",
            "yineleme devam ediyor...8\n",
            "50 den sonraki satır\n",
            "yineleme devam ediyor...9\n",
            "50 den sonraki satır\n",
            "yineleme devam ediyor...10\n",
            "50 den sonraki satır\n",
            "yineleme devam ediyor...11\n",
            "50 den sonraki satır\n",
            "yineleme devam ediyor...12\n",
            "50 den sonraki satır\n",
            "yineleme devam ediyor...13\n",
            "50 den sonraki satır\n",
            "yineleme devam ediyor...14\n",
            "50 den sonraki satır\n",
            "yineleme devam ediyor...15\n",
            "50 den sonraki satır\n",
            "yineleme devam ediyor...16\n",
            "50 den sonraki satır\n",
            "yineleme devam ediyor...17\n",
            "50 den sonraki satır\n",
            "yineleme devam ediyor...18\n",
            "50 den sonraki satır\n",
            "yineleme devam ediyor...19\n",
            "50 den sonraki satır\n",
            "yineleme devam ediyor...20\n",
            "50 den sonraki satır\n",
            "yineleme devam ediyor...21\n",
            "50 den sonraki satır\n",
            "yineleme devam ediyor...22\n",
            "50 den sonraki satır\n",
            "yineleme devam ediyor...23\n",
            "50 den sonraki satır\n",
            "yineleme devam ediyor...24\n",
            "50 den sonraki satır\n",
            "yineleme devam ediyor...25\n",
            "50 den sonraki satır\n",
            "yineleme devam ediyor...26\n",
            "50 den sonraki satır\n",
            "yineleme devam ediyor...27\n",
            "50 den sonraki satır\n",
            "yineleme devam ediyor...28\n",
            "50 den sonraki satır\n",
            "yineleme devam ediyor...29\n",
            "50 den sonraki satır\n",
            "yineleme devam ediyor...30\n",
            "50 den sonraki satır\n",
            "yineleme devam ediyor...31\n",
            "50 den sonraki satır\n",
            "yineleme devam ediyor...32\n",
            "50 den sonraki satır\n",
            "yineleme devam ediyor...33\n",
            "50 den sonraki satır\n",
            "yineleme devam ediyor...34\n",
            "50 den sonraki satır\n",
            "yineleme devam ediyor...35\n",
            "50 den sonraki satır\n",
            "yineleme devam ediyor...36\n",
            "50 den sonraki satır\n",
            "yineleme devam ediyor...37\n",
            "50 den sonraki satır\n",
            "yineleme devam ediyor...38\n",
            "50 den sonraki satır\n",
            "yineleme devam ediyor...39\n",
            "50 den sonraki satır\n",
            "yineleme devam ediyor...40\n",
            "50 den sonraki satır\n",
            "yineleme devam ediyor...41\n",
            "50 den sonraki satır\n",
            "yineleme devam ediyor...42\n",
            "50 den sonraki satır\n",
            "yineleme devam ediyor...43\n",
            "50 den sonraki satır\n",
            "yineleme devam ediyor...44\n",
            "50 den sonraki satır\n",
            "yineleme devam ediyor...45\n",
            "50 den sonraki satır\n",
            "yineleme devam ediyor...46\n",
            "50 den sonraki satır\n",
            "yineleme devam ediyor...47\n",
            "50 den sonraki satır\n",
            "yineleme devam ediyor...48\n",
            "50 den sonraki satır\n",
            "yineleme devam ediyor...49\n",
            "yineleme devam ediyor...50\n",
            "50 den sonraki satır\n",
            "yineleme devam ediyor...51\n",
            "50 den sonraki satır\n",
            "yineleme devam ediyor...52\n",
            "50 den sonraki satır\n",
            "yineleme devam ediyor...53\n",
            "50 den sonraki satır\n",
            "yineleme devam ediyor...54\n",
            "50 den sonraki satır\n",
            "yineleme devam ediyor...55\n",
            "50 den sonraki satır\n",
            "yineleme devam ediyor...56\n",
            "50 den sonraki satır\n",
            "yineleme devam ediyor...57\n",
            "50 den sonraki satır\n",
            "yineleme devam ediyor...58\n",
            "50 den sonraki satır\n",
            "yineleme devam ediyor...59\n",
            "50 den sonraki satır\n",
            "yineleme devam ediyor...60\n",
            "50 den sonraki satır\n",
            "yineleme devam ediyor...61\n",
            "50 den sonraki satır\n",
            "yineleme devam ediyor...62\n",
            "50 den sonraki satır\n",
            "yineleme devam ediyor...63\n",
            "50 den sonraki satır\n",
            "yineleme devam ediyor...64\n",
            "50 den sonraki satır\n",
            "yineleme devam ediyor...65\n",
            "50 den sonraki satır\n",
            "yineleme devam ediyor...66\n",
            "50 den sonraki satır\n",
            "yineleme devam ediyor...67\n",
            "50 den sonraki satır\n",
            "yineleme devam ediyor...68\n",
            "50 den sonraki satır\n",
            "yineleme devam ediyor...69\n",
            "50 den sonraki satır\n",
            "yineleme devam ediyor...70\n",
            "50 den sonraki satır\n",
            "yineleme devam ediyor...71\n",
            "50 den sonraki satır\n",
            "yineleme devam ediyor...72\n",
            "50 den sonraki satır\n",
            "yineleme devam ediyor...73\n",
            "50 den sonraki satır\n",
            "yineleme devam ediyor...74\n",
            "50 den sonraki satır\n",
            "yineleme devam ediyor...75\n",
            "50 den sonraki satır\n",
            "yineleme devam ediyor...76\n",
            "50 den sonraki satır\n",
            "yineleme devam ediyor...77\n",
            "50 den sonraki satır\n",
            "yineleme devam ediyor...78\n",
            "50 den sonraki satır\n",
            "yineleme devam ediyor...79\n",
            "50 den sonraki satır\n",
            "yineleme devam ediyor...80\n",
            "50 den sonraki satır\n",
            "yineleme devam ediyor...81\n",
            "50 den sonraki satır\n",
            "yineleme devam ediyor...82\n",
            "50 den sonraki satır\n",
            "yineleme devam ediyor...83\n",
            "50 den sonraki satır\n",
            "yineleme devam ediyor...84\n",
            "50 den sonraki satır\n",
            "yineleme devam ediyor...85\n",
            "50 den sonraki satır\n",
            "yineleme devam ediyor...86\n",
            "50 den sonraki satır\n",
            "yineleme devam ediyor...87\n",
            "50 den sonraki satır\n",
            "yineleme devam ediyor...88\n",
            "50 den sonraki satır\n",
            "yineleme devam ediyor...89\n",
            "50 den sonraki satır\n",
            "yineleme devam ediyor...90\n",
            "50 den sonraki satır\n",
            "yineleme devam ediyor...91\n",
            "50 den sonraki satır\n",
            "yineleme devam ediyor...92\n",
            "50 den sonraki satır\n",
            "yineleme devam ediyor...93\n",
            "50 den sonraki satır\n",
            "yineleme devam ediyor...94\n",
            "50 den sonraki satır\n",
            "yineleme devam ediyor...95\n",
            "50 den sonraki satır\n",
            "yineleme devam ediyor...96\n",
            "50 den sonraki satır\n",
            "yineleme devam ediyor...97\n",
            "50 den sonraki satır\n",
            "yineleme devam ediyor...98\n",
            "50 den sonraki satır\n",
            "yineleme devam ediyor...99\n",
            "50 den sonraki satır\n"
          ]
        }
      ]
    },
    {
      "cell_type": "markdown",
      "source": [],
      "metadata": {
        "id": "7JNWxAl7gLd1"
      }
    },
    {
      "cell_type": "markdown",
      "source": [],
      "metadata": {
        "id": "w-7kTlYogLmn"
      }
    },
    {
      "cell_type": "code",
      "source": [
        "i =0\n",
        "while True:\n",
        "  i +=1\n",
        "  if i ==10:\n",
        "    break\n",
        "  print(f\"yineleme devam ediyor...{i}\")"
      ],
      "metadata": {
        "colab": {
          "base_uri": "https://localhost:8080/"
        },
        "id": "SBJi7uILgLqe",
        "outputId": "eafbb2a1-ce36-42cb-eea3-93682e8d7a18"
      },
      "execution_count": null,
      "outputs": [
        {
          "output_type": "stream",
          "name": "stdout",
          "text": [
            "yineleme devam ediyor...1\n",
            "yineleme devam ediyor...2\n",
            "yineleme devam ediyor...3\n",
            "yineleme devam ediyor...4\n",
            "yineleme devam ediyor...5\n",
            "yineleme devam ediyor...6\n",
            "yineleme devam ediyor...7\n",
            "yineleme devam ediyor...8\n",
            "yineleme devam ediyor...9\n"
          ]
        }
      ]
    },
    {
      "cell_type": "code",
      "source": [
        "i =0\n",
        "b = True\n",
        "while b:\n",
        "  i +=1\n",
        "  if i ==3:\n",
        "    b=False\n",
        "    continue\n",
        "  print(f\"yineleme devam ediyor...{i}\")\n",
        "  print(f\"yineleme devam ediyor...{i}\")\n",
        "  print(f\"yineleme devam ediyor...{i}\")\n",
        "  print(f\"yineleme devam ediyor...{i}\")\n",
        "  print(f\"yineleme devam ediyor...{i}\")\n",
        "  print(f\"yineleme devam ediyor...{i}\")\n",
        "  print(f\"yineleme devam ediyor...{i}\")\n"
      ],
      "metadata": {
        "id": "hlSVwFF2gLxT"
      },
      "execution_count": null,
      "outputs": []
    },
    {
      "cell_type": "markdown",
      "source": [
        "#0'dan itibaren, verilen n sayısına kadar sayıların toplamını hesaplayan kodu while ile yazınız.\n",
        "#Sonlandırma için bayrak kullanınız"
      ],
      "metadata": {
        "id": "Cik1xW8_oQPD"
      }
    },
    {
      "cell_type": "code",
      "source": [
        "# tek sayıların toplamı\n",
        "n =100\n",
        "i =1\n",
        "toplam =0\n",
        "durum = True\n",
        "while durum:\n",
        "\n",
        "  if i == n:\n",
        "    durum= False\n",
        "    continue\n",
        "\n",
        "  if i % 2 != 0:\n",
        "    toplam  +=i\n",
        "\n",
        "  i +=1\n"
      ],
      "metadata": {
        "id": "zuAu6QzFoPoU"
      },
      "execution_count": null,
      "outputs": []
    },
    {
      "cell_type": "code",
      "source": [
        "strng = \"abcdef\"\n",
        "i = len(strng)-1\n",
        "ns=\"\"\n",
        "while i > -1:\n",
        "  ns +=strng[i]\n",
        "  i -=1\n"
      ],
      "metadata": {
        "colab": {
          "base_uri": "https://localhost:8080/",
          "height": 35
        },
        "id": "zCWGetAuu2Hs",
        "outputId": "820b7e2f-9fd0-41cd-8376-bf15fdce231a"
      },
      "execution_count": null,
      "outputs": [
        {
          "output_type": "execute_result",
          "data": {
            "text/plain": [
              "'fedcb'"
            ],
            "application/vnd.google.colaboratory.intrinsic+json": {
              "type": "string"
            }
          },
          "metadata": {},
          "execution_count": 8
        }
      ]
    },
    {
      "cell_type": "code",
      "source": [
        "strng = \"abcdef\"\n",
        "i = len(strng)-1\n",
        "ns=\"\"\n",
        "b=True\n",
        "while b:\n",
        "  ns +=strng[i]\n",
        "  i -=1\n",
        "  if i ==-1:\n",
        "    b=False\n",
        "ns"
      ],
      "metadata": {
        "colab": {
          "base_uri": "https://localhost:8080/",
          "height": 35
        },
        "id": "-mEwxInLu2Sq",
        "outputId": "e39afc19-194c-4234-f509-240d507a813b"
      },
      "execution_count": null,
      "outputs": [
        {
          "output_type": "execute_result",
          "data": {
            "text/plain": [
              "'fedcba'"
            ],
            "application/vnd.google.colaboratory.intrinsic+json": {
              "type": "string"
            }
          },
          "metadata": {},
          "execution_count": 12
        }
      ]
    },
    {
      "cell_type": "code",
      "source": [],
      "metadata": {
        "id": "mN_CKcVDErXi"
      },
      "execution_count": null,
      "outputs": []
    },
    {
      "cell_type": "markdown",
      "source": [
        "#### Soru\n",
        "Kullanıcı klavyeden **\"x\"** değerini girmediği sürece, girilen sayının karesini alan fonksiyonu **while** döngüsü ile yazınız?"
      ],
      "metadata": {
        "id": "-k3i5ykvBgPI"
      }
    },
    {
      "cell_type": "code",
      "source": [
        "while True:\n",
        "  g = input(\"Karesi alınacak sayı? (Çıkış için X): \")\n",
        "  print(\"G:\", g, \" None mı?\" , g is None, \"g==''?\", g==\"\")\n",
        "  g = g.strip()\n",
        "  if  g is None or g ==\"\":\n",
        "    print(\"Continue denilecek.\")\n",
        "    continue\n",
        "  if g == \"x\" or g== \"X\":\n",
        "    break\n",
        "\n",
        "  g = float(g)\n",
        "\n",
        "  print(f\"{g} sayısının karesi {g**2} 'dir.\")\n"
      ],
      "metadata": {
        "colab": {
          "base_uri": "https://localhost:8080/"
        },
        "id": "0pwpFBD6BgVA",
        "outputId": "57230219-9456-4619-adf9-a17f2f141c93"
      },
      "execution_count": null,
      "outputs": [
        {
          "output_type": "stream",
          "name": "stdout",
          "text": [
            "Karesi alınacak sayı? (Çıkış için X): \n",
            "G:   None mı? False g==''? True\n",
            "Karesi alınacak sayı? (Çıkış için X): x\n",
            "G: x  None mı? False g==''? False\n"
          ]
        }
      ]
    },
    {
      "cell_type": "markdown",
      "source": [
        "#### Soru\n",
        "Bir metnin içinde bir karakterin var olduğu indeksleri veren bir fonksiyon yazınız. Karakter hiç yoksa fonksiyon None değeri versin."
      ],
      "metadata": {
        "id": "gNFTL3ydBgbQ"
      }
    },
    {
      "cell_type": "code",
      "source": [
        "met, k = \"asdfasdfasdfasdf\" ,\"a\"\n",
        "def f(metin ,kar):\n",
        "  indeks =0\n",
        "  liste =list() # indekler\n",
        "  while indeks < len(metin):\n",
        "    if kar == metin[indeks]:\n",
        "      liste.append(indeks)\n",
        "\n",
        "    indeks +=1\n",
        "\n",
        "  if len(liste) < 1:\n",
        "    return None\n",
        "  else:\n",
        "    return liste\n",
        "\n",
        "f(met, k)"
      ],
      "metadata": {
        "colab": {
          "base_uri": "https://localhost:8080/"
        },
        "id": "ijarPp8UBgiv",
        "outputId": "c5f4541b-74ba-47bb-ba87-36566a839cea"
      },
      "execution_count": null,
      "outputs": [
        {
          "output_type": "execute_result",
          "data": {
            "text/plain": [
              "[0, 4, 8, 12]"
            ]
          },
          "metadata": {},
          "execution_count": 4
        }
      ]
    },
    {
      "cell_type": "code",
      "source": [
        "met, k = \"asdfasdfasdfasdf\" ,\"a\"\n",
        "def f(metin ,kar):\n",
        "  indeks =0\n",
        "  liste =list() # indekler\n",
        "  while True:\n",
        "    if indeks == len(metin):\n",
        "      break\n",
        "\n",
        "    if kar == metin[indeks]:\n",
        "      liste.append(indeks)\n",
        "\n",
        "    indeks +=1\n",
        "\n",
        "  if len(liste) < 1:\n",
        "    return None\n",
        "  else:\n",
        "    return liste\n",
        "\n",
        "f(met, k)"
      ],
      "metadata": {
        "colab": {
          "base_uri": "https://localhost:8080/"
        },
        "id": "jrNWDYHqT-G1",
        "outputId": "fbf5ab20-82dc-4ed5-851e-91a060661a31"
      },
      "execution_count": null,
      "outputs": [
        {
          "output_type": "execute_result",
          "data": {
            "text/plain": [
              "[0, 4, 8, 12]"
            ]
          },
          "metadata": {},
          "execution_count": 5
        }
      ]
    },
    {
      "cell_type": "code",
      "source": [
        "met, k = \"asdfasdfasdfasdf\" ,\"a\"\n",
        "def f(metin ,kar):\n",
        "  indeks =0\n",
        "  liste =list() # indekler\n",
        "  bayrak =True\n",
        "\n",
        "  while bayrak:\n",
        "    if indeks == len(metin) -1:\n",
        "      bayrak=False\n",
        "\n",
        "    if kar == metin[indeks]:\n",
        "      liste.append(indeks)\n",
        "\n",
        "    indeks +=1\n",
        "\n",
        "  if len(liste) < 1:\n",
        "    return None\n",
        "  else:\n",
        "    return liste\n",
        "\n",
        "f(met, k)"
      ],
      "metadata": {
        "colab": {
          "base_uri": "https://localhost:8080/"
        },
        "id": "hgB35ysOVd95",
        "outputId": "7f065c61-2fd0-48c8-bd16-6a3763aa111a"
      },
      "execution_count": null,
      "outputs": [
        {
          "output_type": "execute_result",
          "data": {
            "text/plain": [
              "[0, 4, 8, 12]"
            ]
          },
          "metadata": {},
          "execution_count": 8
        }
      ]
    },
    {
      "cell_type": "code",
      "source": [
        "\"123\"[len(\"123\")-1]"
      ],
      "metadata": {
        "colab": {
          "base_uri": "https://localhost:8080/",
          "height": 35
        },
        "id": "cBHlI7jVV2ZC",
        "outputId": "4efd3e58-abb3-4b80-99ed-c07cf372c940"
      },
      "execution_count": null,
      "outputs": [
        {
          "output_type": "execute_result",
          "data": {
            "text/plain": [
              "'3'"
            ],
            "application/vnd.google.colaboratory.intrinsic+json": {
              "type": "string"
            }
          },
          "metadata": {},
          "execution_count": 2
        }
      ]
    },
    {
      "cell_type": "code",
      "source": [
        "def f(a, b):\n",
        "    print(f\"{a} / {b} = {a/b}\")\n",
        "    return a / b\n"
      ],
      "metadata": {
        "id": "CqFdPMDwtdBD"
      },
      "execution_count": null,
      "outputs": []
    },
    {
      "cell_type": "code",
      "source": [
        "sonuc =[]\n",
        "bolenler = [2, 1, 0, 10]\n",
        "sayi = 200\n",
        "\n",
        "def hesapla(sayi):\n",
        "  for i in bolenler:\n",
        "    try:\n",
        "      sonuc.append(sayi / i)\n",
        "    except ZeroDivisionError as e:\n",
        "      sonuc.append(sayi / (i + 1e-12))\n",
        "  return sonuc"
      ],
      "metadata": {
        "id": "QZ8DK1yMNH_P"
      },
      "execution_count": null,
      "outputs": []
    },
    {
      "cell_type": "code",
      "source": [
        "sonuc = hesapla(sayi)"
      ],
      "metadata": {
        "id": "nI8tzlfyNQ7G"
      },
      "execution_count": null,
      "outputs": []
    },
    {
      "cell_type": "code",
      "source": [
        "sonuc"
      ],
      "metadata": {
        "colab": {
          "base_uri": "https://localhost:8080/"
        },
        "id": "YfW3yA-rP1K0",
        "outputId": "1cc16f46-a3a8-4a24-e8d2-d50b3368e888"
      },
      "execution_count": null,
      "outputs": [
        {
          "output_type": "execute_result",
          "data": {
            "text/plain": [
              "[100.0, 200.0, 200000000000000.0, 20.0]"
            ]
          },
          "metadata": {},
          "execution_count": 34
        }
      ]
    },
    {
      "cell_type": "code",
      "source": [
        "while True:\n",
        "  try:\n",
        "    x = int(float(input('Bir sayı giriniz: '))) # kullanıcıdan bir sayı girmesi isteniyor\n",
        "    print(\"Girdiğiniz sayının karesi :\", x**2)\n",
        "    break\n",
        "  except ValueError: # değer hatası alınırsa\n",
        "    print('Lütfen geçerli bir sayı giriniz! Tekrar deneyiniz...')"
      ],
      "metadata": {
        "colab": {
          "base_uri": "https://localhost:8080/"
        },
        "id": "af8eOJeqSjAe",
        "outputId": "72e70cb0-2e0a-490d-a8b2-4ec066ebc634"
      },
      "execution_count": null,
      "outputs": [
        {
          "output_type": "stream",
          "name": "stdout",
          "text": [
            "Bir sayı giriniz: 34.4\n",
            "Girdiğiniz sayının karesi : 1156\n"
          ]
        }
      ]
    },
    {
      "cell_type": "code",
      "source": [
        "int(34.4)"
      ],
      "metadata": {
        "colab": {
          "base_uri": "https://localhost:8080/"
        },
        "id": "r_vdgBF9UgFk",
        "outputId": "d8cee022-e09b-4b17-d8aa-f47ad3285efd"
      },
      "execution_count": null,
      "outputs": [
        {
          "output_type": "execute_result",
          "data": {
            "text/plain": [
              "34"
            ]
          },
          "metadata": {},
          "execution_count": 38
        }
      ]
    },
    {
      "cell_type": "code",
      "source": [
        "l = list(range(1,101))\n",
        "\n",
        "sonuc =[]\n",
        "try:\n",
        "  for i in [2, 1, 0]:\n",
        "    sonuc = 100 / i\n",
        "\n",
        "except ZeroDivisionError as e:\n",
        "  print(\"hata şu\", e)\n",
        "\n",
        "finally:\n",
        "  print(\"finally bloku\")\n"
      ],
      "metadata": {
        "colab": {
          "base_uri": "https://localhost:8080/"
        },
        "id": "fG8eKnhLIlF_",
        "outputId": "40921a6d-1cb5-4653-96ea-706c09dfdbac"
      },
      "execution_count": null,
      "outputs": [
        {
          "output_type": "stream",
          "name": "stdout",
          "text": [
            "50.0\n",
            "100.0\n",
            "hata şu division by zero\n",
            "finally bloku\n"
          ]
        }
      ]
    },
    {
      "cell_type": "code",
      "source": [
        "10 / 0.0"
      ],
      "metadata": {
        "colab": {
          "base_uri": "https://localhost:8080/",
          "height": 176
        },
        "id": "kC_E949mtdD5",
        "outputId": "502b940b-dab4-403c-cf2e-6fc9ec29e978"
      },
      "execution_count": null,
      "outputs": [
        {
          "output_type": "error",
          "ename": "ZeroDivisionError",
          "evalue": "ignored",
          "traceback": [
            "\u001b[0;31m---------------------------------------------------------------------------\u001b[0m",
            "\u001b[0;31mZeroDivisionError\u001b[0m                         Traceback (most recent call last)",
            "\u001b[0;32m<ipython-input-3-6b9eafcaf187>\u001b[0m in \u001b[0;36m<cell line: 1>\u001b[0;34m()\u001b[0m\n\u001b[0;32m----> 1\u001b[0;31m \u001b[0;36m10\u001b[0m \u001b[0;34m/\u001b[0m \u001b[0;36m0.0\u001b[0m\u001b[0;34m\u001b[0m\u001b[0;34m\u001b[0m\u001b[0m\n\u001b[0m",
            "\u001b[0;31mZeroDivisionError\u001b[0m: float division by zero"
          ]
        }
      ]
    },
    {
      "cell_type": "code",
      "source": [
        "def f(a, b):\n",
        "    eklenen= 0\n",
        "    if b ==0:\n",
        "        eklenen = 1E-5\n",
        "    try:\n",
        "        print(f\"Try içerisindeyiz: {a} / {b} = {a/b}\")\n",
        "        return a / b\n",
        "    except Exception as e:\n",
        "        # hata ile karşılaşınca yapılmasını istediğimiz şeyler\n",
        "        print(\"Şu hatayla karşılşıldı: \", e, \"\\nb'nin değeri 1E-5 alındı.\")\n",
        "        print(f\"Except içerisindeyiz : {a} / {b + eklenen} = {a / (b + eklenen)}\")\n",
        "        return a / (b + 1E-5)\n",
        "    finally:\n",
        "        print(f\"Finally blokundayız: {a} / {(b + eklenen)} = {a / (b + eklenen)}\")\n",
        "\n",
        "for i in range(2,-5,-1):\n",
        "    f(10, i)\n"
      ],
      "metadata": {
        "id": "XWB2okQGtdGD",
        "colab": {
          "base_uri": "https://localhost:8080/"
        },
        "outputId": "30003424-06dd-489b-e481-674fe53ff958"
      },
      "execution_count": null,
      "outputs": [
        {
          "output_type": "stream",
          "name": "stdout",
          "text": [
            "Try içerisindeyiz: 10 / 2 = 5.0\n",
            "Finally blokundayız: 10 / 2 = 5.0\n",
            "Try içerisindeyiz: 10 / 1 = 10.0\n",
            "Finally blokundayız: 10 / 1 = 10.0\n",
            "Şu hatayla karşılşıldı:  division by zero \n",
            "b'nin değeri 1E-5 alındı.\n",
            "Except içerisindeyiz : 10 / 1e-05 = 999999.9999999999\n",
            "Finally blokundayız: 10 / 1e-05 = 999999.9999999999\n",
            "Try içerisindeyiz: 10 / -1 = -10.0\n",
            "Finally blokundayız: 10 / -1 = -10.0\n",
            "Try içerisindeyiz: 10 / -2 = -5.0\n",
            "Finally blokundayız: 10 / -2 = -5.0\n",
            "Try içerisindeyiz: 10 / -3 = -3.3333333333333335\n",
            "Finally blokundayız: 10 / -3 = -3.3333333333333335\n",
            "Try içerisindeyiz: 10 / -4 = -2.5\n",
            "Finally blokundayız: 10 / -4 = -2.5\n"
          ]
        }
      ]
    },
    {
      "cell_type": "code",
      "source": [
        "def f(a, b):\n",
        "    try:\n",
        "      print(a + b + c)\n",
        "    except Exception as e:\n",
        "      print('şu hata ile karşılaşıldı: ', type(e))\n",
        "      print('c diye bir değer yok. c=5 değeri verildi.')\n",
        "      c = 5\n",
        "      try:\n",
        "        print(a + b + c)\n",
        "      except:\n",
        "        print('Beklenmeyen bir hata oluştu')\n",
        "        return None\n",
        "\n",
        "for i in range(1,-2,-1):\n",
        "    f(10, i)\n"
      ],
      "metadata": {
        "colab": {
          "base_uri": "https://localhost:8080/"
        },
        "id": "qV4CTs845AVL",
        "outputId": "e0d6f140-33ff-45f8-aff6-e6d33321b54f"
      },
      "execution_count": null,
      "outputs": [
        {
          "output_type": "stream",
          "name": "stdout",
          "text": [
            "şu hata ile karşılaşıldı:  <class 'UnboundLocalError'>\n",
            "c diye bir değer yok. c=5 değeri verildi.\n",
            "16\n",
            "şu hata ile karşılaşıldı:  <class 'UnboundLocalError'>\n",
            "c diye bir değer yok. c=5 değeri verildi.\n",
            "15\n",
            "şu hata ile karşılaşıldı:  <class 'UnboundLocalError'>\n",
            "c diye bir değer yok. c=5 değeri verildi.\n",
            "14\n"
          ]
        }
      ]
    },
    {
      "cell_type": "code",
      "source": [
        "toplam = 0\n",
        "while True:\n",
        "  veri = input('Bir sayı giriniz (çıkış x): ')\n",
        "  if veri == \"x\": # kullanıcıdan bir sayı girmesi isteniyor\n",
        "    print(\"Toplam:\" , toplam )\n",
        "    break\n",
        "  x = int(veri)\n",
        "  toplam +=x"
      ],
      "metadata": {
        "colab": {
          "base_uri": "https://localhost:8080/",
          "height": 280
        },
        "id": "2hchYL8c66Vf",
        "outputId": "118ec05f-be8e-4a17-d781-a846380a71e8"
      },
      "execution_count": null,
      "outputs": [
        {
          "name": "stdout",
          "output_type": "stream",
          "text": [
            "Bir sayı giriniz (çıkış x): 435\n",
            "Bir sayı giriniz (çıkış x): 9\n",
            "Bir sayı giriniz (çıkış x): 49*\n"
          ]
        },
        {
          "output_type": "error",
          "ename": "ValueError",
          "evalue": "ignored",
          "traceback": [
            "\u001b[0;31m---------------------------------------------------------------------------\u001b[0m",
            "\u001b[0;31mValueError\u001b[0m                                Traceback (most recent call last)",
            "\u001b[0;32m<ipython-input-18-d1a381867f86>\u001b[0m in \u001b[0;36m<cell line: 2>\u001b[0;34m()\u001b[0m\n\u001b[1;32m      5\u001b[0m     \u001b[0mprint\u001b[0m\u001b[0;34m(\u001b[0m\u001b[0;34m\"Toplam:\"\u001b[0m \u001b[0;34m,\u001b[0m \u001b[0mtoplam\u001b[0m \u001b[0;34m)\u001b[0m\u001b[0;34m\u001b[0m\u001b[0;34m\u001b[0m\u001b[0m\n\u001b[1;32m      6\u001b[0m     \u001b[0;32mbreak\u001b[0m\u001b[0;34m\u001b[0m\u001b[0;34m\u001b[0m\u001b[0m\n\u001b[0;32m----> 7\u001b[0;31m   \u001b[0mx\u001b[0m \u001b[0;34m=\u001b[0m \u001b[0mint\u001b[0m\u001b[0;34m(\u001b[0m\u001b[0mveri\u001b[0m\u001b[0;34m)\u001b[0m\u001b[0;34m\u001b[0m\u001b[0;34m\u001b[0m\u001b[0m\n\u001b[0m\u001b[1;32m      8\u001b[0m   \u001b[0mtoplam\u001b[0m \u001b[0;34m+=\u001b[0m\u001b[0mx\u001b[0m\u001b[0;34m\u001b[0m\u001b[0;34m\u001b[0m\u001b[0m\n",
            "\u001b[0;31mValueError\u001b[0m: invalid literal for int() with base 10: '49*'"
          ]
        }
      ]
    },
    {
      "cell_type": "code",
      "source": [
        "toplam = 0\n",
        "while True:\n",
        "  veri = input('Bir sayı giriniz (çıkış x): ')\n",
        "  if veri == \"x\": # kullanıcıdan bir sayı girmesi isteniyor\n",
        "    print(\"Toplam:\" , toplam )\n",
        "    break\n",
        "  try:\n",
        "    x = int(veri)\n",
        "    toplam +=x\n",
        "    import numpy\n",
        "  except:\n",
        "\n",
        "    print('Lütfen bir sayı girdiğinizden emin olunuz.')\n"
      ],
      "metadata": {
        "colab": {
          "base_uri": "https://localhost:8080/"
        },
        "id": "IddKnXqr65cu",
        "outputId": "b49423b6-2f63-49fe-c28d-37a39b7756ec"
      },
      "execution_count": null,
      "outputs": [
        {
          "output_type": "stream",
          "name": "stdout",
          "text": [
            "Bir sayı giriniz (çıkış x): h\n",
            "Lütfen bir sayı girdiğinizden emin olunuz.\n",
            "Bir sayı giriniz (çıkış x): x\n",
            "Toplam: 0\n"
          ]
        }
      ]
    },
    {
      "cell_type": "code",
      "source": [
        "y = 8\n",
        "print(f\"fonksiyon öncesinde y'nin değeri {y}: \") #\n",
        "\n",
        "sozluk = dict({'isim': \"Zekiye\"}) # referans veri tipi\n",
        "liste = [1,2,3] # referans veri tipi\n",
        "\n",
        "def bir_fonksiyon():\n",
        "    global y\n",
        "    x = 100\n",
        "    y= 10\n",
        "    print(\"fonksiyon içerisinde x ile y'nin toplamı: \", x + y) #\n",
        "\n",
        "    # referans veri tiplerinde global demeye gerek yok.\n",
        "    # değişiklikler doğrudan değişken üzerinde gerçekleşir.\n",
        "    liste.append(4)\n",
        "    sozluk['soyisim'] = 'Sevimli'\n",
        "\n",
        "bir_fonksiyon()\n",
        "print(\"fonksiyon sonlandıktan sonra y'nin değeri\", y)\n",
        "y = 50\n",
        "print(\"fonksiyon dışında, değiştirildikten sonra y'nin değeri\", y)\n",
        "print(\"fonksiyon dışında liste\", liste)\n",
        "print(\"fonksiyon dışında sözlük\", sozluk)"
      ],
      "metadata": {
        "colab": {
          "base_uri": "https://localhost:8080/"
        },
        "id": "c7nJeSUmpuH3",
        "outputId": "2025406e-85ec-435a-ae53-440efd262056"
      },
      "execution_count": null,
      "outputs": [
        {
          "output_type": "stream",
          "name": "stdout",
          "text": [
            "fonksiyon öncesinde y'nin değeri 8: \n",
            "fonksiyon içerisinde x ile y'nin toplamı:  110\n",
            "fonksiyon sonlandıktan sonra y'nin değeri 10\n",
            "fonksiyon dışında, değiştirildikten sonra y'nin değeri 50\n",
            "fonksiyon dışında liste [1, 2, 3, 4]\n",
            "fonksiyon dışında sözlük {'isim': 'Zekiye', 'soyisim': 'Sevimli'}\n"
          ]
        }
      ]
    },
    {
      "cell_type": "code",
      "source": [],
      "metadata": {
        "id": "qWXZkAloGEgH"
      },
      "execution_count": null,
      "outputs": []
    },
    {
      "cell_type": "markdown",
      "source": [
        "p ve q pozitif tam sayılar olmak üzere,  $1^{p}+2^{p}+⋯+q^{p}$  dizisinin terimleri toplamını veren fonksiyonu while döngüsüyle yazınız? Kodu python modülü olarak kayıt ediniz ve komut isteminden çalıştırarak; sonucun komut istemi ekranda yazdırılmasını sağlayınız?\n",
        "\n",
        "Modül, p ve q değerlerini komut isteminden argüman olarak alsın?\n",
        "\n",
        "Örnek;\n",
        "```\n",
        "python.exe bir_modul.py 3 100\n",
        "```\n",
        "şeklinde yazılınca p=3 ve q=100 kabul edilsin"
      ],
      "metadata": {
        "id": "p4KtN5tIpwXu"
      }
    },
    {
      "cell_type": "code",
      "source": [
        "from google.colab import drive\n",
        "drive.mount('/content/drive')\n"
      ],
      "metadata": {
        "colab": {
          "base_uri": "https://localhost:8080/"
        },
        "id": "NqeeZkSVIhDZ",
        "outputId": "6de5f21f-a805-4a47-ff2e-9e7f57089b85"
      },
      "execution_count": null,
      "outputs": [
        {
          "output_type": "stream",
          "name": "stdout",
          "text": [
            "Mounted at /content/drive\n"
          ]
        }
      ]
    },
    {
      "cell_type": "code",
      "source": [
        "def sum_series(q_sayi, p_us):\n",
        "  toplam = 0\n",
        "  sayi =1\n",
        "  while sayi <= q_sayi:\n",
        "    toplam += sayi ** p_us\n",
        "    sayi +=1\n",
        "  return toplam\n",
        "\n",
        "# /sum_series(10,5)\n",
        "\n",
        "if __name__ == \"__main__\":\n",
        "    from sys import argv\n",
        "    args_sayisi = len(argv)\n",
        "\n",
        "    if args_sayisi <3:\n",
        "        print(\"\\nLütfen p ve q değerlerini giriniz! Önce q, sonra p.\\n\")\n",
        "    try:\n",
        "        q = int(argv[1])\n",
        "    except Exception as e:\n",
        "        print(\"\\n\\nq değeri fadfa daffa . dönş\\n\\n\")\n",
        "    try:\n",
        "        p = int(argv[2])\n",
        "    except Exception as e:\n",
        "        print(\"\\n\\nq değeri fadfa daffa . dönş\\n\\n\")\n",
        "\n",
        "    print(\"Serinin Toplamı: \", sum_series(q, p))"
      ],
      "metadata": {
        "id": "kLD1laKip5ev"
      },
      "execution_count": null,
      "outputs": []
    },
    {
      "cell_type": "markdown",
      "source": [
        "Komut isteminden girilen bir metin içerisindeki sesli harfleri metinden atan bir Python modülü yazınız?\n",
        "\n",
        "Modül içerisinde, sesli harflerin atılması işlemi bir fonksiyon içerisinde icra edilsin?"
      ],
      "metadata": {
        "id": "sE5TlIHdp5a3"
      }
    },
    {
      "cell_type": "code",
      "source": [
        " # belge.txt dosyasını yazmak için aç. Dosya var ise olanın üzerine yaz.\n",
        "# f = open(r'c:\\users\\MUH-LAB-101-OGR\\desktop\\belge.txt', 'w')\n",
        "#\n",
        "f = open('belge.txt', 'w', encoding='utf-8')\n",
        "f.write('Bu metin dosyanın içeriğidir.\\n')\n",
        "f.close() # dosyayı artık kapatalım\n",
        "#\n",
        "# with open('belge2.txt', 'a') as f: # belge.txt bulunamazsa hata verir.\n",
        "#     for i in range(200,1000):\n",
        "#       f.write('Belgedeki ' + str(i+1) + '. satır.\\n') # satırı yaz\n",
        "#\n",
        "\n"
      ],
      "metadata": {
        "id": "2Ppa5bNt8rtm"
      },
      "execution_count": null,
      "outputs": []
    },
    {
      "cell_type": "code",
      "source": [],
      "metadata": {
        "id": "XQsWPvt4JVQP"
      },
      "execution_count": null,
      "outputs": []
    },
    {
      "cell_type": "code",
      "source": [
        "# with bloku ile açılan dosyaların close() fonksiyonu ile kapatılmasına\n",
        "# gerek yoktur.\n",
        "with open('belge.txt', 'r', encoding='utf-8') as f:  # belge.txt bulunamazsa hata verir.\n",
        "    read_data = f.read()  # dosyayı sonua dek oku\n",
        "    print(read_data)  # dosya içeriğini ekrana yazdır\n",
        "\n",
        "f.closed # dosya kapatıldı mı? (True)"
      ],
      "metadata": {
        "id": "D5KAc4B_DKsp"
      },
      "execution_count": null,
      "outputs": []
    },
    {
      "cell_type": "code",
      "source": [],
      "metadata": {
        "id": "Uloh2IguDKvI"
      },
      "execution_count": null,
      "outputs": []
    },
    {
      "cell_type": "code",
      "source": [],
      "metadata": {
        "id": "Rg1naHuTDK0g"
      },
      "execution_count": null,
      "outputs": []
    },
    {
      "cell_type": "code",
      "source": [],
      "metadata": {
        "id": "5_bv-895iePe"
      },
      "execution_count": null,
      "outputs": []
    },
    {
      "cell_type": "markdown",
      "source": [],
      "metadata": {
        "id": "T1XrhQ1cp5z3"
      }
    },
    {
      "cell_type": "code",
      "source": [
        "# with open('belge2.txt', 'r', encoding='utf-8') as f:\n",
        "with open('belge2.txt', 'r', ) as f:\n",
        "  while f:\n",
        "    satir = f.readline() # bir satır oku.\n",
        "    print(satir, end=\"\") # okunan satırı yazdır\n",
        "    if satir ==\"\": # belge sonuna gelindi\n",
        "      break # döngüyü sonlandır"
      ],
      "metadata": {
        "id": "BrKCyCAQp56R"
      },
      "execution_count": null,
      "outputs": []
    },
    {
      "cell_type": "code",
      "source": [
        "\n",
        "\n",
        "\n",
        "\n",
        "\n",
        "\n",
        "\n"
      ],
      "metadata": {
        "id": "oGruIAO6KEJo"
      },
      "execution_count": null,
      "outputs": []
    },
    {
      "cell_type": "markdown",
      "source": [
        "### &#x3010;13&#x3011;Geometrik ortalama ${\\displaystyle \\sqrt[n]{\\prod_{i=1}^{n} x_{i}}}$ formülü ile hesaplanır. Bir koleksiyondaki sayısal değerlerin geometrik ortalamasını hesaplayan fonksiyonu yazınız?"
      ],
      "metadata": {
        "id": "FNinazTrzdQk"
      }
    },
    {
      "cell_type": "code",
      "source": [],
      "metadata": {
        "id": "IqqT1P9PIRv1"
      },
      "execution_count": null,
      "outputs": []
    },
    {
      "cell_type": "markdown",
      "source": [
        "Verilen bir sayının, verilen bir listedeki bir katı olan ilk sayının indeksini veren fonksiyon?"
      ],
      "metadata": {
        "id": "QGgP7PBlIsUR"
      }
    },
    {
      "cell_type": "code",
      "source": [
        "# 1001 -> [3, 8, 121, 343, 12, 9234, 45, 16]\n",
        "\n",
        "\"\"\"\n",
        "1. listeyi tek tek gez\n",
        "2. her elemana bak -> eleman sayının katı mı?\n",
        "   EVET - > Katı ise bu elemanın indeksini ver (return) ve 4 'e git\n",
        "   HAYIR -> 2 'ye geri dön\n",
        "3. Katı olan bir eleman (sayı) yoktur. Return False\n",
        "4. SON\n",
        "\"\"\"\n",
        "def _len(liste):\n",
        "  sayi = 0\n",
        "  for k in liste:\n",
        "    sayi += 1\n",
        "  return sayi\n",
        "\n",
        "def kat_index(sayi, liste):\n",
        "  idx = 0\n",
        "  for k in liste:\n",
        "    if k % sayi == 0:\n",
        "      return idx # indeks /dizin\n",
        "    idx += 1\n",
        "\n",
        "  return -1\n",
        "\n",
        "L = [3, 8, 121, 343, 12, 9234, 45, 16]\n",
        "\n",
        "kat_index(6, L )"
      ],
      "metadata": {
        "colab": {
          "base_uri": "https://localhost:8080/"
        },
        "id": "kFlVZ-RvI0q6",
        "outputId": "df0e11f7-baca-4096-c5e2-c2e0a81a5271"
      },
      "execution_count": null,
      "outputs": [
        {
          "output_type": "execute_result",
          "data": {
            "text/plain": [
              "4"
            ]
          },
          "metadata": {},
          "execution_count": 10
        }
      ]
    },
    {
      "cell_type": "code",
      "source": [
        "def kat_index(sayi, liste):\n",
        "  for idx in range(_len(liste)):\n",
        "    if liste[idx] % sayi == 0:\n",
        "      return idx # indeks /dizin\n",
        "  return -1\n",
        "\n",
        "kat_index(88, [3, 8, 121, 343, 12, 9234, 45, 16])"
      ],
      "metadata": {
        "colab": {
          "base_uri": "https://localhost:8080/"
        },
        "id": "eTICN_i8Qvd-",
        "outputId": "4a078d14-cae2-4e12-dbc5-f9889d65a3d7"
      },
      "execution_count": null,
      "outputs": [
        {
          "output_type": "execute_result",
          "data": {
            "text/plain": [
              "-1"
            ]
          },
          "metadata": {},
          "execution_count": 9
        }
      ]
    },
    {
      "cell_type": "code",
      "source": [
        "def tum_kat_index(sayi, liste):\n",
        "  \"\"\"verilen sayının, verilen listedeki tüm\n",
        "   katlarını veren bir fonksiyon\n",
        "  \"\"\"\n",
        "  katlar_idx = []\n",
        "  for idx in range(_len(liste)):\n",
        "    if liste[idx] % sayi == 0: # katı mı değil mi?\n",
        "      katlar_idx.append(idx)\n",
        "  return katlar_idx\n",
        "\n",
        "L = [3, 8, 121, 343, 12, 9234, 45, 16]\n",
        "sayi = 3\n",
        "tum_kat_index(sayi, L)"
      ],
      "metadata": {
        "colab": {
          "base_uri": "https://localhost:8080/"
        },
        "id": "JmoT7p7TTecu",
        "outputId": "b3d2d365-571b-4909-8363-2f8ff4aa24a7"
      },
      "execution_count": null,
      "outputs": [
        {
          "output_type": "execute_result",
          "data": {
            "text/plain": [
              "[0, 4, 5, 6]"
            ]
          },
          "metadata": {},
          "execution_count": 16
        }
      ]
    },
    {
      "cell_type": "code",
      "source": [
        "dizinler = tum_kat_index(sayi, L)\n",
        "degerler = []\n",
        "\n",
        "for k in dizinler:\n",
        "  degerler.append(L[k])"
      ],
      "metadata": {
        "id": "rnTeJgXkVIXG"
      },
      "execution_count": null,
      "outputs": []
    },
    {
      "cell_type": "code",
      "source": [
        "degerler"
      ],
      "metadata": {
        "colab": {
          "base_uri": "https://localhost:8080/"
        },
        "id": "bTi25K95V_Ge",
        "outputId": "7d21df91-f135-49ed-95c0-db957cfbd01b"
      },
      "execution_count": null,
      "outputs": [
        {
          "output_type": "execute_result",
          "data": {
            "text/plain": [
              "[3, 12, 9234, 45]"
            ]
          },
          "metadata": {},
          "execution_count": 24
        }
      ]
    },
    {
      "cell_type": "code",
      "source": [
        "def tum_katlar(sayi, liste):\n",
        "  \"\"\"verilen sayının, verilen listedeki tüm\n",
        "   katlarını (değerlerini) veren bir fonksiyon\n",
        "  \"\"\""
      ],
      "metadata": {
        "id": "t8XSvrgVWl5u"
      },
      "execution_count": null,
      "outputs": []
    },
    {
      "cell_type": "markdown",
      "source": [
        "bir karakterin metinde olup olmadığını bulan (varsa True; yoksa False) veren bir fonksiyon yazınız?"
      ],
      "metadata": {
        "id": "T5cb6KJfhJ3J"
      }
    },
    {
      "cell_type": "code",
      "source": [
        "def metinde_var_mi(metin, karakter):\n",
        "  for k in metin:\n",
        "    if k == karakter:\n",
        "      return True\n",
        "  return False"
      ],
      "metadata": {
        "id": "fN23yEiThTBp"
      },
      "execution_count": null,
      "outputs": []
    },
    {
      "cell_type": "markdown",
      "source": [
        "verilen metindeki sesli harflerin konumlarını bulan bir fonksiyon yazınız"
      ],
      "metadata": {
        "id": "_rTuSeIAghX6"
      }
    },
    {
      "cell_type": "code",
      "source": [],
      "metadata": {
        "id": "-enXKheVl3qY"
      },
      "execution_count": null,
      "outputs": []
    },
    {
      "cell_type": "code",
      "source": [
        "m = \"Şu yoğurdu sarımsaklasak da mı saklasak, sarımsaklamasak da mı saklasak?\"\n",
        "sesliler = [\"a\", \"e\", \"ı\", \"i\", \"o\", \"ö\", \"u\", \"ü\" ] # \"aeıioöuü\"\n",
        "\n",
        "def sesli_harf_konum(metin):\n",
        "  konumlar = []\n",
        "\n",
        "  for i in range(len(metin)):\n",
        "    if metinde_var_mi(sesliler, metin[i]):\n",
        "      konumlar.append(i)\n",
        "  return konumlar\n",
        "\n",
        "indeksler = sesli_harf_konum(m)"
      ],
      "metadata": {
        "id": "xIemVpMagnuy"
      },
      "execution_count": null,
      "outputs": []
    },
    {
      "cell_type": "code",
      "source": [
        "metinde_var_mi([\"a\", \"e\", \"ı\", \"i\", \"o\", \"ö\", \"u\", \"ü\" ], \"a\")"
      ],
      "metadata": {
        "colab": {
          "base_uri": "https://localhost:8080/"
        },
        "id": "i9re5Bc3nh-k",
        "outputId": "b5879caa-3361-4e36-d175-8d0a2bb9c0b3"
      },
      "execution_count": null,
      "outputs": [
        {
          "output_type": "execute_result",
          "data": {
            "text/plain": [
              "True"
            ]
          },
          "metadata": {},
          "execution_count": 32
        }
      ]
    },
    {
      "cell_type": "code",
      "source": [
        "# verilen metindeki sesli harflerin konumlarını (dizin) veren\n",
        "# fonksiyon\n",
        "def sesli_harf_konum(metin):\n",
        "  konumlar = []\n",
        "\n",
        "  for i in range(len(metin)):# ana döngü (ana metni gezer)\n",
        "    ana_karakter = metin[i]\n",
        "    for sesli_karakter in sesliler: # iç/alt döngü (sesliler listesini gezer)\n",
        "      if ana_karakter == sesli_karakter:\n",
        "        konumlar.append(i)\n",
        "\n",
        "  return konumlar"
      ],
      "metadata": {
        "colab": {
          "base_uri": "https://localhost:8080/"
        },
        "id": "4T-25YOgDyJw",
        "outputId": "e7aaece2-5b9c-4819-c485-6b1f38e69243"
      },
      "execution_count": null,
      "outputs": [
        {
          "output_type": "execute_result",
          "data": {
            "text/plain": [
              "[1,\n",
              " 4,\n",
              " 6,\n",
              " 9,\n",
              " 12,\n",
              " 14,\n",
              " 17,\n",
              " 20,\n",
              " 22,\n",
              " 26,\n",
              " 29,\n",
              " 32,\n",
              " 35,\n",
              " 37,\n",
              " 42,\n",
              " 44,\n",
              " 47,\n",
              " 50,\n",
              " 52,\n",
              " 54,\n",
              " 58,\n",
              " 61,\n",
              " 64,\n",
              " 67,\n",
              " 69]"
            ]
          },
          "metadata": {},
          "execution_count": 3
        }
      ]
    },
    {
      "cell_type": "code",
      "source": [
        "for i in indeksler:\n",
        "  print(metin[i])"
      ],
      "metadata": {
        "colab": {
          "base_uri": "https://localhost:8080/"
        },
        "id": "BaWbi-slnKeT",
        "outputId": "2e972ccb-4f1f-4677-ce67-9bf4e15f7e25"
      },
      "execution_count": null,
      "outputs": [
        {
          "output_type": "stream",
          "name": "stdout",
          "text": [
            "u\n",
            "o\n",
            "u\n",
            "u\n",
            "a\n",
            "ı\n",
            "a\n",
            "a\n",
            "a\n",
            "a\n",
            "ı\n",
            "a\n",
            "a\n",
            "a\n",
            "a\n",
            "ı\n",
            "a\n",
            "a\n",
            "a\n",
            "a\n",
            "a\n",
            "ı\n",
            "a\n",
            "a\n",
            "a\n"
          ]
        }
      ]
    },
    {
      "cell_type": "markdown",
      "source": [],
      "metadata": {
        "id": "y9N8B5plUtyl"
      }
    },
    {
      "cell_type": "code",
      "source": [
        "# 0'dan başlayarak, 10'un ilk katına gelince döngü dursun\n",
        "for i in range(1,1000):\n",
        "  if i  % 10 == 0:\n",
        "    break\n",
        "  else:\n",
        "    print(i)"
      ],
      "metadata": {
        "colab": {
          "base_uri": "https://localhost:8080/"
        },
        "id": "b7rGEd1uUwU6",
        "outputId": "8276bb04-9ab9-4346-b5d3-1d326cf3f314"
      },
      "execution_count": null,
      "outputs": [
        {
          "output_type": "stream",
          "name": "stdout",
          "text": [
            "1\n",
            "2\n",
            "3\n",
            "4\n",
            "5\n",
            "6\n",
            "7\n",
            "8\n",
            "9\n"
          ]
        }
      ]
    },
    {
      "cell_type": "code",
      "source": [
        "# sadece tek sayıları yazdır\n",
        "for i in range(1, 10):\n",
        "  if i % 2 == 0:\n",
        "    break\n",
        "    print(i)\n",
        "  else:\n",
        "    print(i)"
      ],
      "metadata": {
        "colab": {
          "base_uri": "https://localhost:8080/"
        },
        "id": "BKRqePPmVrLG",
        "outputId": "bca92a7e-eb6d-4d7a-b014-61378955bee6"
      },
      "execution_count": null,
      "outputs": [
        {
          "output_type": "stream",
          "name": "stdout",
          "text": [
            "1\n"
          ]
        }
      ]
    },
    {
      "cell_type": "code",
      "source": [
        "while True:\n",
        "  pass"
      ],
      "metadata": {
        "colab": {
          "base_uri": "https://localhost:8080/",
          "height": 159
        },
        "id": "ls0DFMO5WsUd",
        "outputId": "fbc204c1-07ce-4e29-c596-c2fd6e5c1e7f"
      },
      "execution_count": null,
      "outputs": [
        {
          "output_type": "error",
          "ename": "KeyboardInterrupt",
          "evalue": "",
          "traceback": [
            "\u001b[0;31m---------------------------------------------------------------------------\u001b[0m",
            "\u001b[0;31mKeyboardInterrupt\u001b[0m                         Traceback (most recent call last)",
            "\u001b[0;32m<ipython-input-12-648a2bab0435>\u001b[0m in \u001b[0;36m<cell line: 1>\u001b[0;34m()\u001b[0m\n\u001b[0;32m----> 1\u001b[0;31m \u001b[0;32mwhile\u001b[0m \u001b[0;32mTrue\u001b[0m\u001b[0;34m:\u001b[0m\u001b[0;34m\u001b[0m\u001b[0;34m\u001b[0m\u001b[0m\n\u001b[0m\u001b[1;32m      2\u001b[0m   \u001b[0;32mpass\u001b[0m\u001b[0;34m\u001b[0m\u001b[0;34m\u001b[0m\u001b[0m\n",
            "\u001b[0;31mKeyboardInterrupt\u001b[0m: "
          ]
        }
      ]
    },
    {
      "cell_type": "code",
      "source": [],
      "metadata": {
        "id": "aQZwLXpjpCrJ"
      },
      "execution_count": null,
      "outputs": []
    },
    {
      "cell_type": "markdown",
      "source": [],
      "metadata": {
        "id": "Y7680HUZnDy_"
      }
    },
    {
      "cell_type": "code",
      "source": [
        "def f():\n",
        "  pass"
      ],
      "metadata": {
        "id": "Rf2DcqjCXLm1"
      },
      "execution_count": null,
      "outputs": []
    },
    {
      "cell_type": "code",
      "source": [
        "def a():\n",
        "  f()"
      ],
      "metadata": {
        "id": "Ptwq9-dIXP8r"
      },
      "execution_count": null,
      "outputs": []
    },
    {
      "cell_type": "code",
      "source": [
        "# bir metindeki tüm karakterlerin kaç adet bulunduğunu veren fonksiyon?\n",
        "metin = \"Şu yoğurdu sarımsaklasak da mı saklasak, sarımsaklamasak da mı saklasak?\"\n",
        "def karakter_sayilari(metin):\n",
        "  karakter_adetler = dict()\n",
        "  for k in metin:\n",
        "    if k == \" \":\n",
        "      continue\n",
        "    if k in karakter_adetler: #\n",
        "      karakter_adetler[k] += 1\n",
        "    else:\n",
        "      karakter_adetler[k] = 1 # ilk defa karşılaşıldı\n",
        "  return karakter_adetler\n",
        "s = karakter_sayilari(metin)\n"
      ],
      "metadata": {
        "id": "VyrKJatdXxfk"
      },
      "execution_count": null,
      "outputs": []
    },
    {
      "cell_type": "code",
      "source": [
        "s"
      ],
      "metadata": {
        "colab": {
          "base_uri": "https://localhost:8080/"
        },
        "id": "ljt5YNt2bkzC",
        "outputId": "04a2ee2d-94b1-41a6-ee2e-b429b9bcd28d"
      },
      "execution_count": null,
      "outputs": [
        {
          "output_type": "execute_result",
          "data": {
            "text/plain": [
              "{'Ş': 1,\n",
              " 'u': 3,\n",
              " 'y': 1,\n",
              " 'o': 1,\n",
              " 'ğ': 1,\n",
              " 'r': 3,\n",
              " 'd': 3,\n",
              " 's': 10,\n",
              " 'a': 17,\n",
              " 'ı': 4,\n",
              " 'm': 5,\n",
              " 'k': 8,\n",
              " 'l': 4,\n",
              " ',': 1,\n",
              " '?': 1}"
            ]
          },
          "metadata": {},
          "execution_count": 18
        }
      ]
    },
    {
      "cell_type": "code",
      "source": [
        "def metinde_var_mi(metin, karakter):\n",
        "  for k in metin:\n",
        "    if k == karakter:\n",
        "      return True\n",
        "  return False"
      ],
      "metadata": {
        "id": "VKjmay-hpZoW"
      },
      "execution_count": null,
      "outputs": []
    },
    {
      "cell_type": "code",
      "source": [
        "def metinde_var_mi(metin, karakter):\n",
        "  sayac = 0\n",
        "  buldum = False\n",
        "  metin_uzunluk = len(metin)\n",
        "  while sayac < metin_uzunluk and not buldum:\n",
        "    if metin[sayac]  == karakter:\n",
        "      buldum = True\n",
        "    sayac += 1\n",
        "  return buldum\n",
        "\n",
        "metinde_var_mi(\"abcdef\", \"b\")"
      ],
      "metadata": {
        "id": "v4T_NKcUpd4I"
      },
      "execution_count": null,
      "outputs": []
    },
    {
      "cell_type": "code",
      "source": [
        "# bir metindeki tüm karakterlerin kaç adet bulunduğunu veren fonksiyon?\n",
        "metin = \"Şu yoğurdu sarımsaklasak da mı saklasak, sarımsaklamasak da mı saklasak?\"\n",
        "def karakter_sayilari(metin):\n",
        "  karakter_adetler = dict()\n",
        "  for k in metin:\n",
        "    if k == \" \":\n",
        "      continue\n",
        "    if k in karakter_adetler: #\n",
        "      karakter_adetler[k] += 1\n",
        "    else:\n",
        "      karakter_adetler[k] = 1 # ilk defa karşılaşıldı\n",
        "  return karakter_adetler\n",
        "s = karakter_sayilari(metin)"
      ],
      "metadata": {
        "id": "I0nkBxhMwDly"
      },
      "execution_count": null,
      "outputs": []
    },
    {
      "cell_type": "code",
      "source": [
        "# bir string içerisinde diğer bir string'i bulan fonksiyon?\n",
        "# varsa bulunduğu indeksi versin\n",
        "\"Şu yoğurdu sarımsaklasak da mı saklasak, sarımsaklamasak da mı saklasak?\"\n",
        "aranan = \"sarımsak\"\n",
        "def alt_metin_bul(ana_metin, aranan_metin):\n",
        "\n",
        "  for i in range(len(ana_metin)): # i = 2\n",
        "\n",
        "    for j in range(aranan): # j = 0, = 1, =2\n",
        "        ana_metin[i + j] == aranan_metin[j]\n"
      ],
      "metadata": {
        "id": "R1CB037Uzi0j"
      },
      "execution_count": null,
      "outputs": []
    },
    {
      "cell_type": "code",
      "source": [
        "# replace fonksiyonu?\n"
      ],
      "metadata": {
        "id": "o2RB17n0yDNL"
      },
      "execution_count": null,
      "outputs": []
    },
    {
      "cell_type": "code",
      "source": [
        "ornek_metin = \"Bir berber bir berbere bire berber gel beraber bir berber dükkânı açalım demiş\"\n",
        "\n",
        "metin=\"Merhaba dünya,dünya çok güzel\"\n",
        "aranan=\"berber\"\n",
        "def alt_metin_bul(metin,aranan):\n",
        "  if len(aranan) > len(metin):\n",
        "    return []\n",
        "\n",
        "  konumlar =[]\n",
        "\n",
        "  for i in range(len(metin)-len(aranan)):# ana stringin karakterlerini gez, i=1\n",
        "    buldum= False\n",
        "    for j in range(len(aranan)): # aranan stringin karakterlerini gez\n",
        "      if metin[i+j] != aranan[j]: # j = 0\n",
        "        buldum = False\n",
        "        break\n",
        "      buldum = True\n",
        "    if buldum:\n",
        "      konumlar.append(i)\n",
        "\n",
        "  return konumlar\n",
        "\n",
        "k = alt_metin_bul(ornek_metin,aranan)\n",
        "# [(x, len(\"berber\") + x) for x in k]"
      ],
      "metadata": {
        "id": "Cctlm0f8orA5"
      },
      "execution_count": null,
      "outputs": []
    },
    {
      "cell_type": "code",
      "source": [
        "k"
      ],
      "metadata": {
        "colab": {
          "base_uri": "https://localhost:8080/"
        },
        "id": "hXyomsBzp5Ra",
        "outputId": "3cb9ca48-faff-4e5e-f059-bc8190ecaec2"
      },
      "execution_count": null,
      "outputs": [
        {
          "output_type": "execute_result",
          "data": {
            "text/plain": [
              "[4, 15, 28, 51]"
            ]
          },
          "metadata": {},
          "execution_count": 3
        }
      ]
    },
    {
      "cell_type": "code",
      "source": [
        "def replace(main_string, substring, replacement):\n",
        "  idxs = alt_metin_bul(main_string, aranan)\n",
        "  if len(idxs) == 0:\n",
        "    return main_string\n",
        "\n",
        "  length = len(substring)\n",
        "  new_string = \"\"\n",
        "  start = 0\n",
        "  for idx in idxs:\n",
        "      new_string += main_string[start:idx]\n",
        "      new_string += replacement\n",
        "      start  = idx + length\n",
        "\n",
        "  new_string += main_string[start:]\n",
        "  return new_string\n",
        "\n",
        "replace(ornek_metin, aranan, \"estetik merkezi\")"
      ],
      "metadata": {
        "colab": {
          "base_uri": "https://localhost:8080/",
          "height": 35
        },
        "id": "ks00RrQLo2qX",
        "outputId": "2e1442f4-bc93-4a2c-e587-ac50a99c6d8a"
      },
      "execution_count": null,
      "outputs": [
        {
          "output_type": "execute_result",
          "data": {
            "text/plain": [
              "'Bir estetik merkezi bir estetik merkezie bire estetik merkezi gel beraber bir estetik merkezi dükkânı açalım demiş'"
            ],
            "application/vnd.google.colaboratory.intrinsic+json": {
              "type": "string"
            }
          },
          "metadata": {},
          "execution_count": 7
        }
      ]
    },
    {
      "cell_type": "code",
      "source": [
        "random.choice(secenekler), random.choice(secenekler)"
      ],
      "metadata": {
        "colab": {
          "base_uri": "https://localhost:8080/"
        },
        "id": "3uGlj1IajY9x",
        "outputId": "b2edaf53-1463-4dc2-cb41-64e5073defe9"
      },
      "execution_count": null,
      "outputs": [
        {
          "output_type": "execute_result",
          "data": {
            "text/plain": [
              "(2, 1)"
            ]
          },
          "metadata": {},
          "execution_count": 16
        }
      ]
    },
    {
      "cell_type": "code",
      "source": [
        "import random\n",
        "\n",
        "secenekler = [1,2,3]\n",
        "\n",
        "el__sayisi = 10000000\n",
        "kazandi = 0\n",
        "# yarışmacı kapıda ısrarcı olursa; olasılık ?\n",
        "for _ in range(el__sayisi):\n",
        "  yarismaci_secimi = random.choice(secenekler) # yarışmacının seçtiği kapı\n",
        "  kapi_araba = random.choice(secenekler) # araba gerçekte bu kapıda\n",
        "  if kapi_araba == yarismaci_secimi:\n",
        "    kazandi += 1\n",
        "\n",
        "kazandi  /= el__sayisi\n",
        "\n",
        "print(\"Yarışmacının kazanma olaslığı:\", kazandi * 100)"
      ],
      "metadata": {
        "colab": {
          "base_uri": "https://localhost:8080/"
        },
        "id": "jlo6WjKPiqAf",
        "outputId": "33ef64f1-2e3c-44d6-8aec-3b38b913d360"
      },
      "execution_count": null,
      "outputs": [
        {
          "output_type": "stream",
          "name": "stdout",
          "text": [
            "Yarışmacının kazanma olaslığı: 33.298610000000004\n"
          ]
        }
      ]
    },
    {
      "cell_type": "code",
      "source": [
        "import random"
      ],
      "metadata": {
        "id": "496UX3zXiz91"
      },
      "execution_count": null,
      "outputs": []
    },
    {
      "cell_type": "code",
      "source": [
        "\n",
        "random.choice(tas_kagit_makas)\n",
        "\n",
        "\n",
        "bilgisayar_a['taş'] += 1\n",
        "bilgisayar_a['makas'] += 1\n",
        "bilgisayar_a['kağıt'] += 1"
      ],
      "metadata": {
        "colab": {
          "base_uri": "https://localhost:8080/"
        },
        "id": "xSayDK5_i6EU",
        "outputId": "fbd87ed8-6ea2-4d42-f22c-fae9f126b9d9"
      },
      "execution_count": null,
      "outputs": [
        {
          "output_type": "execute_result",
          "data": {
            "text/plain": [
              "3"
            ]
          },
          "metadata": {},
          "execution_count": 2
        }
      ]
    },
    {
      "cell_type": "markdown",
      "source": [
        "## ADAM ASMACA"
      ],
      "metadata": {
        "id": "a8j0_9evMUC9"
      }
    },
    {
      "cell_type": "code",
      "source": [
        "import numpy as np\n",
        "\n",
        "# bu kelimlelerden biri otomatik seçilecek\n",
        "kelimeler = [\"eğitim\", \"avusturalyalı\", \"rengarenk\", \"serpiştirmek\", \"lüleburgaz\"]\n",
        "kelime = np.random.choice(kelimeler) # rastgele bir kelime seçtik\n",
        "\n",
        "isim = input(\"Lütfen adınızı giriniz: \")\n",
        "print(\"Merhaba, \" + isim, \". Hadi Adam Asmaca Oynayalım!\")\n",
        "print(\"Lütfen bir karakter tahmin ediniz?\")\n",
        "\n",
        "\n",
        "# kullanıcının tahmin ettiği karakterleri saklayacak\n",
        "tahminler = ''\n",
        "\n",
        "hak = 10 # toplam tahmin etme hakkı\n",
        "\n",
        "print(kelime)\n",
        "\n",
        "# deneme hakkı 0'dan fazla ise\n",
        "while hak > 0:\n",
        "\n",
        "    basarisiz = 0  # başarısız tahminlerin sayısını tutar.\n",
        "\n",
        "    # kelime içerisindeki her bir karakterin doğru tahmin edilip edilmediğini\n",
        "    # bu döngüde kontrol edelim.\n",
        "    for karakter in kelime:\n",
        "\n",
        "    # tahmin edilen karakter kelimede var mı?\n",
        "        if karakter in tahminler:  # doğru tahmin edilmişse karakteri yazdır\n",
        "          print(karakter, ' ', end='')\n",
        "        else:\n",
        "           # yok ise bir alt çizgi yazdır.\n",
        "            print(\"_ \",  end='')\n",
        "\n",
        "            basarisiz += 1 # ve başarısız tahminlerin sayısını artır.\n",
        "\n",
        "    # başarısız tahmin edilen bir karakter yoksa, tüm kelime bulunmuş olur.\n",
        "    if basarisiz == 0: # kullanıcı kazanmıştır.\n",
        "        print(\"Tebrikler, Kazandınız!\")\n",
        "        break   # Döngüyü sonlandır\n",
        "\n",
        "    # kullanıcıdan bir karakter tahmin etmesini iste\n",
        "    tahmin = input(\"\\nBir karakter tahmin ediniz:\")\n",
        "\n",
        "    # bu tahmini kullanıcının tahminlerine ekle\n",
        "    tahminler += tahmin\n",
        "\n",
        "    # tahmin edilen karakter kelime içerisinde yok ise\n",
        "    if tahmin not in kelime:\n",
        "\n",
        "     # kullanıcının hakkını 1 azalt\n",
        "        hak -= 1\n",
        "        print(\"Yanlış Tahmin!\")\n",
        "\n",
        "    # kaç hakkı kaldı?\n",
        "        print(\"Toplam \", + hak, ' hakkınız kaldı.')\n",
        "    # hak=0 ise, kullanıcının hiç hakkı kalmadı. Döngüyü sonlandırmalı.\n",
        "        if hak == 0:\n",
        "            print (\"Maalesef Kaybettiniz!\")\n",
        "            break"
      ],
      "metadata": {
        "colab": {
          "base_uri": "https://localhost:8080/"
        },
        "id": "1V4JWcazMRpu",
        "outputId": "79fa48df-dd1b-4490-c066-fcc936d89ba3"
      },
      "execution_count": null,
      "outputs": [
        {
          "output_type": "stream",
          "name": "stdout",
          "text": [
            "Lütfen adınızı giriniz: HAKAN\n",
            "Merhaba, HAKAN . Hadi Adam Asmaca Oynayalım!\n",
            "Lütfen bir karakter tahmin ediniz?\n",
            "lüleburgaz\n",
            "_ _ _ _ _ _ _ _ _ _ \n",
            "Bir karakter tahmin ediniz:L\n",
            "Yanlış Tahmin!\n",
            "Toplam  9  hakkınız kaldı.\n",
            "_ _ _ _ _ _ _ _ _ _ \n",
            "Bir karakter tahmin ediniz:l\n",
            "l  _ l  _ _ _ _ _ _ _ \n",
            "Bir karakter tahmin ediniz:t\n",
            "Yanlış Tahmin!\n",
            "Toplam  8  hakkınız kaldı.\n",
            "l  _ l  _ _ _ _ _ _ _ \n",
            "Bir karakter tahmin ediniz:5\n",
            "Yanlış Tahmin!\n",
            "Toplam  7  hakkınız kaldı.\n",
            "l  _ l  _ _ _ _ _ _ _ \n",
            "Bir karakter tahmin ediniz:e\n",
            "l  _ l  e  _ _ _ _ _ _ \n",
            "Bir karakter tahmin ediniz:a\n",
            "l  _ l  e  _ _ _ _ a  _ \n",
            "Bir karakter tahmin ediniz:b\n",
            "l  _ l  e  b  _ _ _ a  _ "
          ]
        }
      ]
    },
    {
      "cell_type": "code",
      "source": [],
      "metadata": {
        "id": "tc_pTk3tROF_"
      },
      "execution_count": null,
      "outputs": []
    }
  ]
}